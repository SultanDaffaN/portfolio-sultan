{
  "nbformat": 4,
  "nbformat_minor": 0,
  "metadata": {
    "colab": {
      "provenance": [],
      "toc_visible": true,
      "mount_file_id": "1_gvR-We2U3YJLc-ZfPbvg7C4YbK_zXVf",
      "authorship_tag": "ABX9TyP7oEoF8Tl34ahtiqXN21St",
      "include_colab_link": true
    },
    "kernelspec": {
      "name": "python3",
      "display_name": "Python 3"
    },
    "language_info": {
      "name": "python"
    }
  },
  "cells": [
    {
      "cell_type": "markdown",
      "metadata": {
        "id": "view-in-github",
        "colab_type": "text"
      },
      "source": [
        "<a href=\"https://colab.research.google.com/github/SultanDaffaN/portfolio-sultan/blob/main/House_price_predictions.ipynb\" target=\"_parent\"><img src=\"https://colab.research.google.com/assets/colab-badge.svg\" alt=\"Open In Colab\"/></a>"
      ]
    },
    {
      "cell_type": "markdown",
      "source": [
        "# Importing Libraries"
      ],
      "metadata": {
        "id": "GISUFlF3BTLY"
      }
    },
    {
      "cell_type": "code",
      "execution_count": 1,
      "metadata": {
        "id": "2ha1HsTEBBrV"
      },
      "outputs": [],
      "source": [
        "# import libraries needed\n",
        "from scipy import stats\n",
        "import pandas as pd\n",
        "import numpy as np\n",
        "import matplotlib.pyplot as plt\n",
        "import seaborn as sns"
      ]
    },
    {
      "cell_type": "markdown",
      "source": [
        "# Reading the Data"
      ],
      "metadata": {
        "id": "QZrIWB-mBXN0"
      }
    },
    {
      "cell_type": "code",
      "source": [
        "house_df = pd.read_csv('/content/drive/MyDrive/Portfolio/Portfolio 3/dataset_harga_rumah.csv',low_memory = False)"
      ],
      "metadata": {
        "id": "AhMBGpiGBUU_"
      },
      "execution_count": 2,
      "outputs": []
    },
    {
      "cell_type": "markdown",
      "source": [
        "# EDA"
      ],
      "metadata": {
        "id": "MmY-7AwKBqT6"
      }
    },
    {
      "cell_type": "code",
      "source": [
        "# get first view about data\n",
        "house_df.head()"
      ],
      "metadata": {
        "colab": {
          "base_uri": "https://localhost:8080/",
          "height": 322
        },
        "id": "zZMHX7o2Be0J",
        "outputId": "1d222062-5e58-4b43-8ab5-255a8079b23f"
      },
      "execution_count": 3,
      "outputs": [
        {
          "output_type": "execute_result",
          "data": {
            "text/plain": [
              "  diposting_oleh  sedang_pembangunan  disetujui_pemerintah  total_ruangan  \\\n",
              "0          Owner                 0.0                     0            2.0   \n",
              "1         Dealer                 0.0                     0            2.0   \n",
              "2          Owner                 0.0                     0            2.0   \n",
              "3          Owner                 0.0                     1            2.0   \n",
              "4         Dealer                 1.0                     0            2.0   \n",
              "\n",
              "  tipe_a_atau_b kaki_persegi siap_pindah dijual_kembali  \\\n",
              "0        tipe_a  1300.236407           1              1   \n",
              "1        tipe_a       1275.0           1              1   \n",
              "2        tipe_a  933.1597222           1              1   \n",
              "3        tipe_a  929.9211427           1              1   \n",
              "4        tipe_a   999.009247           0              1   \n",
              "\n",
              "                        alamat  longitude   latitude  harga  \n",
              "0        Ksfc Layout,Bangalore  12.969910  77.597960   55.0  \n",
              "1    Vishweshwara Nagar,Mysore  12.274538  76.644605   51.0  \n",
              "2             Jigani,Bangalore  12.778033  77.632191   43.0  \n",
              "3  Sector-1 Vaishali,Ghaziabad  28.642300  77.344500   62.5  \n",
              "4             New Town,Kolkata  22.592200  88.484911   60.5  "
            ],
            "text/html": [
              "\n",
              "  <div id=\"df-9c985651-19a6-4b8d-aff6-84cfd899e44a\">\n",
              "    <div class=\"colab-df-container\">\n",
              "      <div>\n",
              "<style scoped>\n",
              "    .dataframe tbody tr th:only-of-type {\n",
              "        vertical-align: middle;\n",
              "    }\n",
              "\n",
              "    .dataframe tbody tr th {\n",
              "        vertical-align: top;\n",
              "    }\n",
              "\n",
              "    .dataframe thead th {\n",
              "        text-align: right;\n",
              "    }\n",
              "</style>\n",
              "<table border=\"1\" class=\"dataframe\">\n",
              "  <thead>\n",
              "    <tr style=\"text-align: right;\">\n",
              "      <th></th>\n",
              "      <th>diposting_oleh</th>\n",
              "      <th>sedang_pembangunan</th>\n",
              "      <th>disetujui_pemerintah</th>\n",
              "      <th>total_ruangan</th>\n",
              "      <th>tipe_a_atau_b</th>\n",
              "      <th>kaki_persegi</th>\n",
              "      <th>siap_pindah</th>\n",
              "      <th>dijual_kembali</th>\n",
              "      <th>alamat</th>\n",
              "      <th>longitude</th>\n",
              "      <th>latitude</th>\n",
              "      <th>harga</th>\n",
              "    </tr>\n",
              "  </thead>\n",
              "  <tbody>\n",
              "    <tr>\n",
              "      <th>0</th>\n",
              "      <td>Owner</td>\n",
              "      <td>0.0</td>\n",
              "      <td>0</td>\n",
              "      <td>2.0</td>\n",
              "      <td>tipe_a</td>\n",
              "      <td>1300.236407</td>\n",
              "      <td>1</td>\n",
              "      <td>1</td>\n",
              "      <td>Ksfc Layout,Bangalore</td>\n",
              "      <td>12.969910</td>\n",
              "      <td>77.597960</td>\n",
              "      <td>55.0</td>\n",
              "    </tr>\n",
              "    <tr>\n",
              "      <th>1</th>\n",
              "      <td>Dealer</td>\n",
              "      <td>0.0</td>\n",
              "      <td>0</td>\n",
              "      <td>2.0</td>\n",
              "      <td>tipe_a</td>\n",
              "      <td>1275.0</td>\n",
              "      <td>1</td>\n",
              "      <td>1</td>\n",
              "      <td>Vishweshwara Nagar,Mysore</td>\n",
              "      <td>12.274538</td>\n",
              "      <td>76.644605</td>\n",
              "      <td>51.0</td>\n",
              "    </tr>\n",
              "    <tr>\n",
              "      <th>2</th>\n",
              "      <td>Owner</td>\n",
              "      <td>0.0</td>\n",
              "      <td>0</td>\n",
              "      <td>2.0</td>\n",
              "      <td>tipe_a</td>\n",
              "      <td>933.1597222</td>\n",
              "      <td>1</td>\n",
              "      <td>1</td>\n",
              "      <td>Jigani,Bangalore</td>\n",
              "      <td>12.778033</td>\n",
              "      <td>77.632191</td>\n",
              "      <td>43.0</td>\n",
              "    </tr>\n",
              "    <tr>\n",
              "      <th>3</th>\n",
              "      <td>Owner</td>\n",
              "      <td>0.0</td>\n",
              "      <td>1</td>\n",
              "      <td>2.0</td>\n",
              "      <td>tipe_a</td>\n",
              "      <td>929.9211427</td>\n",
              "      <td>1</td>\n",
              "      <td>1</td>\n",
              "      <td>Sector-1 Vaishali,Ghaziabad</td>\n",
              "      <td>28.642300</td>\n",
              "      <td>77.344500</td>\n",
              "      <td>62.5</td>\n",
              "    </tr>\n",
              "    <tr>\n",
              "      <th>4</th>\n",
              "      <td>Dealer</td>\n",
              "      <td>1.0</td>\n",
              "      <td>0</td>\n",
              "      <td>2.0</td>\n",
              "      <td>tipe_a</td>\n",
              "      <td>999.009247</td>\n",
              "      <td>0</td>\n",
              "      <td>1</td>\n",
              "      <td>New Town,Kolkata</td>\n",
              "      <td>22.592200</td>\n",
              "      <td>88.484911</td>\n",
              "      <td>60.5</td>\n",
              "    </tr>\n",
              "  </tbody>\n",
              "</table>\n",
              "</div>\n",
              "      <button class=\"colab-df-convert\" onclick=\"convertToInteractive('df-9c985651-19a6-4b8d-aff6-84cfd899e44a')\"\n",
              "              title=\"Convert this dataframe to an interactive table.\"\n",
              "              style=\"display:none;\">\n",
              "        \n",
              "  <svg xmlns=\"http://www.w3.org/2000/svg\" height=\"24px\"viewBox=\"0 0 24 24\"\n",
              "       width=\"24px\">\n",
              "    <path d=\"M0 0h24v24H0V0z\" fill=\"none\"/>\n",
              "    <path d=\"M18.56 5.44l.94 2.06.94-2.06 2.06-.94-2.06-.94-.94-2.06-.94 2.06-2.06.94zm-11 1L8.5 8.5l.94-2.06 2.06-.94-2.06-.94L8.5 2.5l-.94 2.06-2.06.94zm10 10l.94 2.06.94-2.06 2.06-.94-2.06-.94-.94-2.06-.94 2.06-2.06.94z\"/><path d=\"M17.41 7.96l-1.37-1.37c-.4-.4-.92-.59-1.43-.59-.52 0-1.04.2-1.43.59L10.3 9.45l-7.72 7.72c-.78.78-.78 2.05 0 2.83L4 21.41c.39.39.9.59 1.41.59.51 0 1.02-.2 1.41-.59l7.78-7.78 2.81-2.81c.8-.78.8-2.07 0-2.86zM5.41 20L4 18.59l7.72-7.72 1.47 1.35L5.41 20z\"/>\n",
              "  </svg>\n",
              "      </button>\n",
              "      \n",
              "  <style>\n",
              "    .colab-df-container {\n",
              "      display:flex;\n",
              "      flex-wrap:wrap;\n",
              "      gap: 12px;\n",
              "    }\n",
              "\n",
              "    .colab-df-convert {\n",
              "      background-color: #E8F0FE;\n",
              "      border: none;\n",
              "      border-radius: 50%;\n",
              "      cursor: pointer;\n",
              "      display: none;\n",
              "      fill: #1967D2;\n",
              "      height: 32px;\n",
              "      padding: 0 0 0 0;\n",
              "      width: 32px;\n",
              "    }\n",
              "\n",
              "    .colab-df-convert:hover {\n",
              "      background-color: #E2EBFA;\n",
              "      box-shadow: 0px 1px 2px rgba(60, 64, 67, 0.3), 0px 1px 3px 1px rgba(60, 64, 67, 0.15);\n",
              "      fill: #174EA6;\n",
              "    }\n",
              "\n",
              "    [theme=dark] .colab-df-convert {\n",
              "      background-color: #3B4455;\n",
              "      fill: #D2E3FC;\n",
              "    }\n",
              "\n",
              "    [theme=dark] .colab-df-convert:hover {\n",
              "      background-color: #434B5C;\n",
              "      box-shadow: 0px 1px 3px 1px rgba(0, 0, 0, 0.15);\n",
              "      filter: drop-shadow(0px 1px 2px rgba(0, 0, 0, 0.3));\n",
              "      fill: #FFFFFF;\n",
              "    }\n",
              "  </style>\n",
              "\n",
              "      <script>\n",
              "        const buttonEl =\n",
              "          document.querySelector('#df-9c985651-19a6-4b8d-aff6-84cfd899e44a button.colab-df-convert');\n",
              "        buttonEl.style.display =\n",
              "          google.colab.kernel.accessAllowed ? 'block' : 'none';\n",
              "\n",
              "        async function convertToInteractive(key) {\n",
              "          const element = document.querySelector('#df-9c985651-19a6-4b8d-aff6-84cfd899e44a');\n",
              "          const dataTable =\n",
              "            await google.colab.kernel.invokeFunction('convertToInteractive',\n",
              "                                                     [key], {});\n",
              "          if (!dataTable) return;\n",
              "\n",
              "          const docLinkHtml = 'Like what you see? Visit the ' +\n",
              "            '<a target=\"_blank\" href=https://colab.research.google.com/notebooks/data_table.ipynb>data table notebook</a>'\n",
              "            + ' to learn more about interactive tables.';\n",
              "          element.innerHTML = '';\n",
              "          dataTable['output_type'] = 'display_data';\n",
              "          await google.colab.output.renderOutput(dataTable, element);\n",
              "          const docLink = document.createElement('div');\n",
              "          docLink.innerHTML = docLinkHtml;\n",
              "          element.appendChild(docLink);\n",
              "        }\n",
              "      </script>\n",
              "    </div>\n",
              "  </div>\n",
              "  "
            ]
          },
          "metadata": {},
          "execution_count": 3
        }
      ]
    },
    {
      "cell_type": "code",
      "source": [
        "house_df.tail()"
      ],
      "metadata": {
        "colab": {
          "base_uri": "https://localhost:8080/",
          "height": 305
        },
        "id": "W6VRLy2FBtha",
        "outputId": "9a667d5e-8e69-4283-9ee5-6eea8108542a"
      },
      "execution_count": 4,
      "outputs": [
        {
          "output_type": "execute_result",
          "data": {
            "text/plain": [
              "      diposting_oleh  sedang_pembangunan  disetujui_pemerintah  total_ruangan  \\\n",
              "29446          Owner                 0.0                     0            3.0   \n",
              "29447          Owner                 0.0                     0            2.0   \n",
              "29448         Dealer                 0.0                     0            2.0   \n",
              "29449          Owner                 0.0                     0            2.0   \n",
              "29450         Dealer                 0.0                     1            2.0   \n",
              "\n",
              "      tipe_a_atau_b kaki_persegi siap_pindah dijual_kembali  \\\n",
              "29446        tipe_a       2500.0           1              1   \n",
              "29447        tipe_a  769.2307692           1              1   \n",
              "29448        tipe_a  1022.641509           1              1   \n",
              "29449        tipe_a  927.0790093           1              1   \n",
              "29450        tipe_a  896.7741935           1              1   \n",
              "\n",
              "                                  alamat  longitude   latitude  harga  \n",
              "29446               Shamshabad Road,Agra  27.140626  78.043277   45.0  \n",
              "29447  E3-108, Lake View Recidency,,Vapi  39.945409 -86.150721   16.0  \n",
              "29448                  Ajmer Road,Jaipur  26.928785  75.828002   27.1  \n",
              "29449             Sholinganallur,Chennai  12.900150  80.227910   67.0  \n",
              "29450                   Jagatpura,Jaipur  26.832353  75.841749   27.8  "
            ],
            "text/html": [
              "\n",
              "  <div id=\"df-b0dffea5-d98d-42d6-8a4a-2f3598a9b4d8\">\n",
              "    <div class=\"colab-df-container\">\n",
              "      <div>\n",
              "<style scoped>\n",
              "    .dataframe tbody tr th:only-of-type {\n",
              "        vertical-align: middle;\n",
              "    }\n",
              "\n",
              "    .dataframe tbody tr th {\n",
              "        vertical-align: top;\n",
              "    }\n",
              "\n",
              "    .dataframe thead th {\n",
              "        text-align: right;\n",
              "    }\n",
              "</style>\n",
              "<table border=\"1\" class=\"dataframe\">\n",
              "  <thead>\n",
              "    <tr style=\"text-align: right;\">\n",
              "      <th></th>\n",
              "      <th>diposting_oleh</th>\n",
              "      <th>sedang_pembangunan</th>\n",
              "      <th>disetujui_pemerintah</th>\n",
              "      <th>total_ruangan</th>\n",
              "      <th>tipe_a_atau_b</th>\n",
              "      <th>kaki_persegi</th>\n",
              "      <th>siap_pindah</th>\n",
              "      <th>dijual_kembali</th>\n",
              "      <th>alamat</th>\n",
              "      <th>longitude</th>\n",
              "      <th>latitude</th>\n",
              "      <th>harga</th>\n",
              "    </tr>\n",
              "  </thead>\n",
              "  <tbody>\n",
              "    <tr>\n",
              "      <th>29446</th>\n",
              "      <td>Owner</td>\n",
              "      <td>0.0</td>\n",
              "      <td>0</td>\n",
              "      <td>3.0</td>\n",
              "      <td>tipe_a</td>\n",
              "      <td>2500.0</td>\n",
              "      <td>1</td>\n",
              "      <td>1</td>\n",
              "      <td>Shamshabad Road,Agra</td>\n",
              "      <td>27.140626</td>\n",
              "      <td>78.043277</td>\n",
              "      <td>45.0</td>\n",
              "    </tr>\n",
              "    <tr>\n",
              "      <th>29447</th>\n",
              "      <td>Owner</td>\n",
              "      <td>0.0</td>\n",
              "      <td>0</td>\n",
              "      <td>2.0</td>\n",
              "      <td>tipe_a</td>\n",
              "      <td>769.2307692</td>\n",
              "      <td>1</td>\n",
              "      <td>1</td>\n",
              "      <td>E3-108, Lake View Recidency,,Vapi</td>\n",
              "      <td>39.945409</td>\n",
              "      <td>-86.150721</td>\n",
              "      <td>16.0</td>\n",
              "    </tr>\n",
              "    <tr>\n",
              "      <th>29448</th>\n",
              "      <td>Dealer</td>\n",
              "      <td>0.0</td>\n",
              "      <td>0</td>\n",
              "      <td>2.0</td>\n",
              "      <td>tipe_a</td>\n",
              "      <td>1022.641509</td>\n",
              "      <td>1</td>\n",
              "      <td>1</td>\n",
              "      <td>Ajmer Road,Jaipur</td>\n",
              "      <td>26.928785</td>\n",
              "      <td>75.828002</td>\n",
              "      <td>27.1</td>\n",
              "    </tr>\n",
              "    <tr>\n",
              "      <th>29449</th>\n",
              "      <td>Owner</td>\n",
              "      <td>0.0</td>\n",
              "      <td>0</td>\n",
              "      <td>2.0</td>\n",
              "      <td>tipe_a</td>\n",
              "      <td>927.0790093</td>\n",
              "      <td>1</td>\n",
              "      <td>1</td>\n",
              "      <td>Sholinganallur,Chennai</td>\n",
              "      <td>12.900150</td>\n",
              "      <td>80.227910</td>\n",
              "      <td>67.0</td>\n",
              "    </tr>\n",
              "    <tr>\n",
              "      <th>29450</th>\n",
              "      <td>Dealer</td>\n",
              "      <td>0.0</td>\n",
              "      <td>1</td>\n",
              "      <td>2.0</td>\n",
              "      <td>tipe_a</td>\n",
              "      <td>896.7741935</td>\n",
              "      <td>1</td>\n",
              "      <td>1</td>\n",
              "      <td>Jagatpura,Jaipur</td>\n",
              "      <td>26.832353</td>\n",
              "      <td>75.841749</td>\n",
              "      <td>27.8</td>\n",
              "    </tr>\n",
              "  </tbody>\n",
              "</table>\n",
              "</div>\n",
              "      <button class=\"colab-df-convert\" onclick=\"convertToInteractive('df-b0dffea5-d98d-42d6-8a4a-2f3598a9b4d8')\"\n",
              "              title=\"Convert this dataframe to an interactive table.\"\n",
              "              style=\"display:none;\">\n",
              "        \n",
              "  <svg xmlns=\"http://www.w3.org/2000/svg\" height=\"24px\"viewBox=\"0 0 24 24\"\n",
              "       width=\"24px\">\n",
              "    <path d=\"M0 0h24v24H0V0z\" fill=\"none\"/>\n",
              "    <path d=\"M18.56 5.44l.94 2.06.94-2.06 2.06-.94-2.06-.94-.94-2.06-.94 2.06-2.06.94zm-11 1L8.5 8.5l.94-2.06 2.06-.94-2.06-.94L8.5 2.5l-.94 2.06-2.06.94zm10 10l.94 2.06.94-2.06 2.06-.94-2.06-.94-.94-2.06-.94 2.06-2.06.94z\"/><path d=\"M17.41 7.96l-1.37-1.37c-.4-.4-.92-.59-1.43-.59-.52 0-1.04.2-1.43.59L10.3 9.45l-7.72 7.72c-.78.78-.78 2.05 0 2.83L4 21.41c.39.39.9.59 1.41.59.51 0 1.02-.2 1.41-.59l7.78-7.78 2.81-2.81c.8-.78.8-2.07 0-2.86zM5.41 20L4 18.59l7.72-7.72 1.47 1.35L5.41 20z\"/>\n",
              "  </svg>\n",
              "      </button>\n",
              "      \n",
              "  <style>\n",
              "    .colab-df-container {\n",
              "      display:flex;\n",
              "      flex-wrap:wrap;\n",
              "      gap: 12px;\n",
              "    }\n",
              "\n",
              "    .colab-df-convert {\n",
              "      background-color: #E8F0FE;\n",
              "      border: none;\n",
              "      border-radius: 50%;\n",
              "      cursor: pointer;\n",
              "      display: none;\n",
              "      fill: #1967D2;\n",
              "      height: 32px;\n",
              "      padding: 0 0 0 0;\n",
              "      width: 32px;\n",
              "    }\n",
              "\n",
              "    .colab-df-convert:hover {\n",
              "      background-color: #E2EBFA;\n",
              "      box-shadow: 0px 1px 2px rgba(60, 64, 67, 0.3), 0px 1px 3px 1px rgba(60, 64, 67, 0.15);\n",
              "      fill: #174EA6;\n",
              "    }\n",
              "\n",
              "    [theme=dark] .colab-df-convert {\n",
              "      background-color: #3B4455;\n",
              "      fill: #D2E3FC;\n",
              "    }\n",
              "\n",
              "    [theme=dark] .colab-df-convert:hover {\n",
              "      background-color: #434B5C;\n",
              "      box-shadow: 0px 1px 3px 1px rgba(0, 0, 0, 0.15);\n",
              "      filter: drop-shadow(0px 1px 2px rgba(0, 0, 0, 0.3));\n",
              "      fill: #FFFFFF;\n",
              "    }\n",
              "  </style>\n",
              "\n",
              "      <script>\n",
              "        const buttonEl =\n",
              "          document.querySelector('#df-b0dffea5-d98d-42d6-8a4a-2f3598a9b4d8 button.colab-df-convert');\n",
              "        buttonEl.style.display =\n",
              "          google.colab.kernel.accessAllowed ? 'block' : 'none';\n",
              "\n",
              "        async function convertToInteractive(key) {\n",
              "          const element = document.querySelector('#df-b0dffea5-d98d-42d6-8a4a-2f3598a9b4d8');\n",
              "          const dataTable =\n",
              "            await google.colab.kernel.invokeFunction('convertToInteractive',\n",
              "                                                     [key], {});\n",
              "          if (!dataTable) return;\n",
              "\n",
              "          const docLinkHtml = 'Like what you see? Visit the ' +\n",
              "            '<a target=\"_blank\" href=https://colab.research.google.com/notebooks/data_table.ipynb>data table notebook</a>'\n",
              "            + ' to learn more about interactive tables.';\n",
              "          element.innerHTML = '';\n",
              "          dataTable['output_type'] = 'display_data';\n",
              "          await google.colab.output.renderOutput(dataTable, element);\n",
              "          const docLink = document.createElement('div');\n",
              "          docLink.innerHTML = docLinkHtml;\n",
              "          element.appendChild(docLink);\n",
              "        }\n",
              "      </script>\n",
              "    </div>\n",
              "  </div>\n",
              "  "
            ]
          },
          "metadata": {},
          "execution_count": 4
        }
      ]
    },
    {
      "cell_type": "code",
      "source": [
        "house_df.info()"
      ],
      "metadata": {
        "colab": {
          "base_uri": "https://localhost:8080/"
        },
        "id": "KVWsjrSsByc_",
        "outputId": "7865605c-1af4-48a4-e4ef-be45807cf6ed"
      },
      "execution_count": 5,
      "outputs": [
        {
          "output_type": "stream",
          "name": "stdout",
          "text": [
            "<class 'pandas.core.frame.DataFrame'>\n",
            "RangeIndex: 29451 entries, 0 to 29450\n",
            "Data columns (total 12 columns):\n",
            " #   Column                Non-Null Count  Dtype  \n",
            "---  ------                --------------  -----  \n",
            " 0   diposting_oleh        29451 non-null  object \n",
            " 1   sedang_pembangunan    27476 non-null  float64\n",
            " 2   disetujui_pemerintah  29451 non-null  int64  \n",
            " 3   total_ruangan         28071 non-null  float64\n",
            " 4   tipe_a_atau_b         29451 non-null  object \n",
            " 5   kaki_persegi          27765 non-null  object \n",
            " 6   siap_pindah           29451 non-null  object \n",
            " 7   dijual_kembali        29451 non-null  object \n",
            " 8   alamat                27436 non-null  object \n",
            " 9   longitude             29451 non-null  float64\n",
            " 10  latitude              26008 non-null  float64\n",
            " 11  harga                 29451 non-null  float64\n",
            "dtypes: float64(5), int64(1), object(6)\n",
            "memory usage: 2.7+ MB\n"
          ]
        }
      ]
    },
    {
      "cell_type": "code",
      "source": [
        "house_df.describe().T"
      ],
      "metadata": {
        "colab": {
          "base_uri": "https://localhost:8080/",
          "height": 237
        },
        "id": "j6Tii3QtB1lW",
        "outputId": "c7c334fd-3157-467b-9327-836b2b3e39e7"
      },
      "execution_count": 6,
      "outputs": [
        {
          "output_type": "execute_result",
          "data": {
            "text/plain": [
              "                        count        mean         std         min        25%  \\\n",
              "sedang_pembangunan    27476.0    0.179684    0.383931    0.000000   0.000000   \n",
              "disetujui_pemerintah  29451.0    0.317918    0.465675    0.000000   0.000000   \n",
              "total_ruangan         28071.0    2.392220    0.882229    1.000000   2.000000   \n",
              "longitude             29451.0   21.300255    6.205306  -37.713008  18.452663   \n",
              "latitude              26008.0   76.820157   10.697823 -121.761248  73.798100   \n",
              "harga                 29451.0  142.898746  656.880713    0.250000  38.000000   \n",
              "\n",
              "                           50%         75%           max  \n",
              "sedang_pembangunan     0.00000    0.000000      1.000000  \n",
              "disetujui_pemerintah   0.00000    1.000000      1.000000  \n",
              "total_ruangan          2.00000    3.000000     20.000000  \n",
              "longitude             20.75000   26.900926     59.912884  \n",
              "latitude              77.32633   77.943705    152.962676  \n",
              "harga                 62.00000  100.000000  30000.000000  "
            ],
            "text/html": [
              "\n",
              "  <div id=\"df-55808cf8-be90-4c11-a8f2-e41454698ebc\">\n",
              "    <div class=\"colab-df-container\">\n",
              "      <div>\n",
              "<style scoped>\n",
              "    .dataframe tbody tr th:only-of-type {\n",
              "        vertical-align: middle;\n",
              "    }\n",
              "\n",
              "    .dataframe tbody tr th {\n",
              "        vertical-align: top;\n",
              "    }\n",
              "\n",
              "    .dataframe thead th {\n",
              "        text-align: right;\n",
              "    }\n",
              "</style>\n",
              "<table border=\"1\" class=\"dataframe\">\n",
              "  <thead>\n",
              "    <tr style=\"text-align: right;\">\n",
              "      <th></th>\n",
              "      <th>count</th>\n",
              "      <th>mean</th>\n",
              "      <th>std</th>\n",
              "      <th>min</th>\n",
              "      <th>25%</th>\n",
              "      <th>50%</th>\n",
              "      <th>75%</th>\n",
              "      <th>max</th>\n",
              "    </tr>\n",
              "  </thead>\n",
              "  <tbody>\n",
              "    <tr>\n",
              "      <th>sedang_pembangunan</th>\n",
              "      <td>27476.0</td>\n",
              "      <td>0.179684</td>\n",
              "      <td>0.383931</td>\n",
              "      <td>0.000000</td>\n",
              "      <td>0.000000</td>\n",
              "      <td>0.00000</td>\n",
              "      <td>0.000000</td>\n",
              "      <td>1.000000</td>\n",
              "    </tr>\n",
              "    <tr>\n",
              "      <th>disetujui_pemerintah</th>\n",
              "      <td>29451.0</td>\n",
              "      <td>0.317918</td>\n",
              "      <td>0.465675</td>\n",
              "      <td>0.000000</td>\n",
              "      <td>0.000000</td>\n",
              "      <td>0.00000</td>\n",
              "      <td>1.000000</td>\n",
              "      <td>1.000000</td>\n",
              "    </tr>\n",
              "    <tr>\n",
              "      <th>total_ruangan</th>\n",
              "      <td>28071.0</td>\n",
              "      <td>2.392220</td>\n",
              "      <td>0.882229</td>\n",
              "      <td>1.000000</td>\n",
              "      <td>2.000000</td>\n",
              "      <td>2.00000</td>\n",
              "      <td>3.000000</td>\n",
              "      <td>20.000000</td>\n",
              "    </tr>\n",
              "    <tr>\n",
              "      <th>longitude</th>\n",
              "      <td>29451.0</td>\n",
              "      <td>21.300255</td>\n",
              "      <td>6.205306</td>\n",
              "      <td>-37.713008</td>\n",
              "      <td>18.452663</td>\n",
              "      <td>20.75000</td>\n",
              "      <td>26.900926</td>\n",
              "      <td>59.912884</td>\n",
              "    </tr>\n",
              "    <tr>\n",
              "      <th>latitude</th>\n",
              "      <td>26008.0</td>\n",
              "      <td>76.820157</td>\n",
              "      <td>10.697823</td>\n",
              "      <td>-121.761248</td>\n",
              "      <td>73.798100</td>\n",
              "      <td>77.32633</td>\n",
              "      <td>77.943705</td>\n",
              "      <td>152.962676</td>\n",
              "    </tr>\n",
              "    <tr>\n",
              "      <th>harga</th>\n",
              "      <td>29451.0</td>\n",
              "      <td>142.898746</td>\n",
              "      <td>656.880713</td>\n",
              "      <td>0.250000</td>\n",
              "      <td>38.000000</td>\n",
              "      <td>62.00000</td>\n",
              "      <td>100.000000</td>\n",
              "      <td>30000.000000</td>\n",
              "    </tr>\n",
              "  </tbody>\n",
              "</table>\n",
              "</div>\n",
              "      <button class=\"colab-df-convert\" onclick=\"convertToInteractive('df-55808cf8-be90-4c11-a8f2-e41454698ebc')\"\n",
              "              title=\"Convert this dataframe to an interactive table.\"\n",
              "              style=\"display:none;\">\n",
              "        \n",
              "  <svg xmlns=\"http://www.w3.org/2000/svg\" height=\"24px\"viewBox=\"0 0 24 24\"\n",
              "       width=\"24px\">\n",
              "    <path d=\"M0 0h24v24H0V0z\" fill=\"none\"/>\n",
              "    <path d=\"M18.56 5.44l.94 2.06.94-2.06 2.06-.94-2.06-.94-.94-2.06-.94 2.06-2.06.94zm-11 1L8.5 8.5l.94-2.06 2.06-.94-2.06-.94L8.5 2.5l-.94 2.06-2.06.94zm10 10l.94 2.06.94-2.06 2.06-.94-2.06-.94-.94-2.06-.94 2.06-2.06.94z\"/><path d=\"M17.41 7.96l-1.37-1.37c-.4-.4-.92-.59-1.43-.59-.52 0-1.04.2-1.43.59L10.3 9.45l-7.72 7.72c-.78.78-.78 2.05 0 2.83L4 21.41c.39.39.9.59 1.41.59.51 0 1.02-.2 1.41-.59l7.78-7.78 2.81-2.81c.8-.78.8-2.07 0-2.86zM5.41 20L4 18.59l7.72-7.72 1.47 1.35L5.41 20z\"/>\n",
              "  </svg>\n",
              "      </button>\n",
              "      \n",
              "  <style>\n",
              "    .colab-df-container {\n",
              "      display:flex;\n",
              "      flex-wrap:wrap;\n",
              "      gap: 12px;\n",
              "    }\n",
              "\n",
              "    .colab-df-convert {\n",
              "      background-color: #E8F0FE;\n",
              "      border: none;\n",
              "      border-radius: 50%;\n",
              "      cursor: pointer;\n",
              "      display: none;\n",
              "      fill: #1967D2;\n",
              "      height: 32px;\n",
              "      padding: 0 0 0 0;\n",
              "      width: 32px;\n",
              "    }\n",
              "\n",
              "    .colab-df-convert:hover {\n",
              "      background-color: #E2EBFA;\n",
              "      box-shadow: 0px 1px 2px rgba(60, 64, 67, 0.3), 0px 1px 3px 1px rgba(60, 64, 67, 0.15);\n",
              "      fill: #174EA6;\n",
              "    }\n",
              "\n",
              "    [theme=dark] .colab-df-convert {\n",
              "      background-color: #3B4455;\n",
              "      fill: #D2E3FC;\n",
              "    }\n",
              "\n",
              "    [theme=dark] .colab-df-convert:hover {\n",
              "      background-color: #434B5C;\n",
              "      box-shadow: 0px 1px 3px 1px rgba(0, 0, 0, 0.15);\n",
              "      filter: drop-shadow(0px 1px 2px rgba(0, 0, 0, 0.3));\n",
              "      fill: #FFFFFF;\n",
              "    }\n",
              "  </style>\n",
              "\n",
              "      <script>\n",
              "        const buttonEl =\n",
              "          document.querySelector('#df-55808cf8-be90-4c11-a8f2-e41454698ebc button.colab-df-convert');\n",
              "        buttonEl.style.display =\n",
              "          google.colab.kernel.accessAllowed ? 'block' : 'none';\n",
              "\n",
              "        async function convertToInteractive(key) {\n",
              "          const element = document.querySelector('#df-55808cf8-be90-4c11-a8f2-e41454698ebc');\n",
              "          const dataTable =\n",
              "            await google.colab.kernel.invokeFunction('convertToInteractive',\n",
              "                                                     [key], {});\n",
              "          if (!dataTable) return;\n",
              "\n",
              "          const docLinkHtml = 'Like what you see? Visit the ' +\n",
              "            '<a target=\"_blank\" href=https://colab.research.google.com/notebooks/data_table.ipynb>data table notebook</a>'\n",
              "            + ' to learn more about interactive tables.';\n",
              "          element.innerHTML = '';\n",
              "          dataTable['output_type'] = 'display_data';\n",
              "          await google.colab.output.renderOutput(dataTable, element);\n",
              "          const docLink = document.createElement('div');\n",
              "          docLink.innerHTML = docLinkHtml;\n",
              "          element.appendChild(docLink);\n",
              "        }\n",
              "      </script>\n",
              "    </div>\n",
              "  </div>\n",
              "  "
            ]
          },
          "metadata": {},
          "execution_count": 6
        }
      ]
    },
    {
      "cell_type": "code",
      "source": [
        "house_df.describe(include=object)"
      ],
      "metadata": {
        "colab": {
          "base_uri": "https://localhost:8080/",
          "height": 175
        },
        "id": "dxnc7eDbB3xz",
        "outputId": "a5c3c0d8-835d-427f-8697-d366c6b2cc9e"
      },
      "execution_count": 7,
      "outputs": [
        {
          "output_type": "execute_result",
          "data": {
            "text/plain": [
              "       diposting_oleh tipe_a_atau_b kaki_persegi siap_pindah dijual_kembali  \\\n",
              "count           29451         29451        27765       29451          29451   \n",
              "unique              3             2        18115           9              5   \n",
              "top            Dealer        tipe_a       1000.0           1              1   \n",
              "freq            18291         29427          446       21363          23610   \n",
              "\n",
              "                     alamat  \n",
              "count                 27436  \n",
              "unique                 6648  \n",
              "top     Zirakpur,Chandigarh  \n",
              "freq                    473  "
            ],
            "text/html": [
              "\n",
              "  <div id=\"df-fb80a9a7-8aa1-4817-abbb-fdd3b591c2eb\">\n",
              "    <div class=\"colab-df-container\">\n",
              "      <div>\n",
              "<style scoped>\n",
              "    .dataframe tbody tr th:only-of-type {\n",
              "        vertical-align: middle;\n",
              "    }\n",
              "\n",
              "    .dataframe tbody tr th {\n",
              "        vertical-align: top;\n",
              "    }\n",
              "\n",
              "    .dataframe thead th {\n",
              "        text-align: right;\n",
              "    }\n",
              "</style>\n",
              "<table border=\"1\" class=\"dataframe\">\n",
              "  <thead>\n",
              "    <tr style=\"text-align: right;\">\n",
              "      <th></th>\n",
              "      <th>diposting_oleh</th>\n",
              "      <th>tipe_a_atau_b</th>\n",
              "      <th>kaki_persegi</th>\n",
              "      <th>siap_pindah</th>\n",
              "      <th>dijual_kembali</th>\n",
              "      <th>alamat</th>\n",
              "    </tr>\n",
              "  </thead>\n",
              "  <tbody>\n",
              "    <tr>\n",
              "      <th>count</th>\n",
              "      <td>29451</td>\n",
              "      <td>29451</td>\n",
              "      <td>27765</td>\n",
              "      <td>29451</td>\n",
              "      <td>29451</td>\n",
              "      <td>27436</td>\n",
              "    </tr>\n",
              "    <tr>\n",
              "      <th>unique</th>\n",
              "      <td>3</td>\n",
              "      <td>2</td>\n",
              "      <td>18115</td>\n",
              "      <td>9</td>\n",
              "      <td>5</td>\n",
              "      <td>6648</td>\n",
              "    </tr>\n",
              "    <tr>\n",
              "      <th>top</th>\n",
              "      <td>Dealer</td>\n",
              "      <td>tipe_a</td>\n",
              "      <td>1000.0</td>\n",
              "      <td>1</td>\n",
              "      <td>1</td>\n",
              "      <td>Zirakpur,Chandigarh</td>\n",
              "    </tr>\n",
              "    <tr>\n",
              "      <th>freq</th>\n",
              "      <td>18291</td>\n",
              "      <td>29427</td>\n",
              "      <td>446</td>\n",
              "      <td>21363</td>\n",
              "      <td>23610</td>\n",
              "      <td>473</td>\n",
              "    </tr>\n",
              "  </tbody>\n",
              "</table>\n",
              "</div>\n",
              "      <button class=\"colab-df-convert\" onclick=\"convertToInteractive('df-fb80a9a7-8aa1-4817-abbb-fdd3b591c2eb')\"\n",
              "              title=\"Convert this dataframe to an interactive table.\"\n",
              "              style=\"display:none;\">\n",
              "        \n",
              "  <svg xmlns=\"http://www.w3.org/2000/svg\" height=\"24px\"viewBox=\"0 0 24 24\"\n",
              "       width=\"24px\">\n",
              "    <path d=\"M0 0h24v24H0V0z\" fill=\"none\"/>\n",
              "    <path d=\"M18.56 5.44l.94 2.06.94-2.06 2.06-.94-2.06-.94-.94-2.06-.94 2.06-2.06.94zm-11 1L8.5 8.5l.94-2.06 2.06-.94-2.06-.94L8.5 2.5l-.94 2.06-2.06.94zm10 10l.94 2.06.94-2.06 2.06-.94-2.06-.94-.94-2.06-.94 2.06-2.06.94z\"/><path d=\"M17.41 7.96l-1.37-1.37c-.4-.4-.92-.59-1.43-.59-.52 0-1.04.2-1.43.59L10.3 9.45l-7.72 7.72c-.78.78-.78 2.05 0 2.83L4 21.41c.39.39.9.59 1.41.59.51 0 1.02-.2 1.41-.59l7.78-7.78 2.81-2.81c.8-.78.8-2.07 0-2.86zM5.41 20L4 18.59l7.72-7.72 1.47 1.35L5.41 20z\"/>\n",
              "  </svg>\n",
              "      </button>\n",
              "      \n",
              "  <style>\n",
              "    .colab-df-container {\n",
              "      display:flex;\n",
              "      flex-wrap:wrap;\n",
              "      gap: 12px;\n",
              "    }\n",
              "\n",
              "    .colab-df-convert {\n",
              "      background-color: #E8F0FE;\n",
              "      border: none;\n",
              "      border-radius: 50%;\n",
              "      cursor: pointer;\n",
              "      display: none;\n",
              "      fill: #1967D2;\n",
              "      height: 32px;\n",
              "      padding: 0 0 0 0;\n",
              "      width: 32px;\n",
              "    }\n",
              "\n",
              "    .colab-df-convert:hover {\n",
              "      background-color: #E2EBFA;\n",
              "      box-shadow: 0px 1px 2px rgba(60, 64, 67, 0.3), 0px 1px 3px 1px rgba(60, 64, 67, 0.15);\n",
              "      fill: #174EA6;\n",
              "    }\n",
              "\n",
              "    [theme=dark] .colab-df-convert {\n",
              "      background-color: #3B4455;\n",
              "      fill: #D2E3FC;\n",
              "    }\n",
              "\n",
              "    [theme=dark] .colab-df-convert:hover {\n",
              "      background-color: #434B5C;\n",
              "      box-shadow: 0px 1px 3px 1px rgba(0, 0, 0, 0.15);\n",
              "      filter: drop-shadow(0px 1px 2px rgba(0, 0, 0, 0.3));\n",
              "      fill: #FFFFFF;\n",
              "    }\n",
              "  </style>\n",
              "\n",
              "      <script>\n",
              "        const buttonEl =\n",
              "          document.querySelector('#df-fb80a9a7-8aa1-4817-abbb-fdd3b591c2eb button.colab-df-convert');\n",
              "        buttonEl.style.display =\n",
              "          google.colab.kernel.accessAllowed ? 'block' : 'none';\n",
              "\n",
              "        async function convertToInteractive(key) {\n",
              "          const element = document.querySelector('#df-fb80a9a7-8aa1-4817-abbb-fdd3b591c2eb');\n",
              "          const dataTable =\n",
              "            await google.colab.kernel.invokeFunction('convertToInteractive',\n",
              "                                                     [key], {});\n",
              "          if (!dataTable) return;\n",
              "\n",
              "          const docLinkHtml = 'Like what you see? Visit the ' +\n",
              "            '<a target=\"_blank\" href=https://colab.research.google.com/notebooks/data_table.ipynb>data table notebook</a>'\n",
              "            + ' to learn more about interactive tables.';\n",
              "          element.innerHTML = '';\n",
              "          dataTable['output_type'] = 'display_data';\n",
              "          await google.colab.output.renderOutput(dataTable, element);\n",
              "          const docLink = document.createElement('div');\n",
              "          docLink.innerHTML = docLinkHtml;\n",
              "          element.appendChild(docLink);\n",
              "        }\n",
              "      </script>\n",
              "    </div>\n",
              "  </div>\n",
              "  "
            ]
          },
          "metadata": {},
          "execution_count": 7
        }
      ]
    },
    {
      "cell_type": "code",
      "source": [
        "# Shape of the dataset\n",
        "print('Dataset has', house_df.shape[0], 'rows and', house_df.shape[1], 'columns')"
      ],
      "metadata": {
        "colab": {
          "base_uri": "https://localhost:8080/"
        },
        "id": "4AJv49uiK2yr",
        "outputId": "566b2f04-ebe7-48ab-9f6c-1a170c818f79"
      },
      "execution_count": 10,
      "outputs": [
        {
          "output_type": "stream",
          "name": "stdout",
          "text": [
            "Dataset has 29451 rows and 12 columns\n"
          ]
        }
      ]
    },
    {
      "cell_type": "code",
      "source": [
        "house_df.shape"
      ],
      "metadata": {
        "colab": {
          "base_uri": "https://localhost:8080/"
        },
        "id": "tu5f3S_PLHlN",
        "outputId": "26a603a0-bfe9-452e-a6c6-95f410271f57"
      },
      "execution_count": 11,
      "outputs": [
        {
          "output_type": "execute_result",
          "data": {
            "text/plain": [
              "(29451, 12)"
            ]
          },
          "metadata": {},
          "execution_count": 11
        }
      ]
    },
    {
      "cell_type": "markdown",
      "source": [
        "# Data Cleansing"
      ],
      "metadata": {
        "id": "7gjBNeXGKlNe"
      }
    },
    {
      "cell_type": "markdown",
      "source": [
        "## Handling Duplicates"
      ],
      "metadata": {
        "id": "Q1v7rD2qKpx_"
      }
    },
    {
      "cell_type": "code",
      "source": [
        "# Check Duplicated data\n",
        "print('Duplicated data:', house_df.duplicated().sum())"
      ],
      "metadata": {
        "id": "siheFHHfCHPW",
        "colab": {
          "base_uri": "https://localhost:8080/"
        },
        "outputId": "3c6d0677-b51b-427d-e499-31aa556904a2"
      },
      "execution_count": 14,
      "outputs": [
        {
          "output_type": "stream",
          "name": "stdout",
          "text": [
            "Duplicated data: 120\n"
          ]
        }
      ]
    },
    {
      "cell_type": "code",
      "source": [
        "# Drop Duplicated Data\n",
        "house_df.drop_duplicates(keep=False, inplace=True)"
      ],
      "metadata": {
        "id": "t34k6ATFLaB9"
      },
      "execution_count": 15,
      "outputs": []
    },
    {
      "cell_type": "code",
      "source": [
        "# Check Duplicated data\n",
        "print('Duplicated data:', house_df.duplicated().sum())"
      ],
      "metadata": {
        "colab": {
          "base_uri": "https://localhost:8080/"
        },
        "id": "VxWPLeYILmm7",
        "outputId": "e246fab4-a314-44e6-dcce-bb79b7a61005"
      },
      "execution_count": 16,
      "outputs": [
        {
          "output_type": "stream",
          "name": "stdout",
          "text": [
            "Duplicated data: 0\n"
          ]
        }
      ]
    },
    {
      "cell_type": "markdown",
      "source": [
        "## Handling Wrong Values"
      ],
      "metadata": {
        "id": "Fwn0C0EZLoqL"
      }
    },
    {
      "cell_type": "markdown",
      "source": [
        "### diposting_oleh"
      ],
      "metadata": {
        "id": "ZCCV5LUeL9OE"
      }
    },
    {
      "cell_type": "code",
      "source": [
        "# Counts Unique Values\n",
        "house_df['diposting_oleh'].value_counts()"
      ],
      "metadata": {
        "colab": {
          "base_uri": "https://localhost:8080/"
        },
        "id": "UbAMmsFBLnrJ",
        "outputId": "0cad7d23-570c-48ca-d3a6-3d11484cffc5"
      },
      "execution_count": 18,
      "outputs": [
        {
          "output_type": "execute_result",
          "data": {
            "text/plain": [
              "Dealer     18102\n",
              "Owner      10496\n",
              "Builder      618\n",
              "Name: diposting_oleh, dtype: int64"
            ]
          },
          "metadata": {},
          "execution_count": 18
        }
      ]
    },
    {
      "cell_type": "markdown",
      "source": [
        "There are no wrong values in this column"
      ],
      "metadata": {
        "id": "fkIJOUp1MGtp"
      }
    },
    {
      "cell_type": "markdown",
      "source": [
        "### sedang_pembangunan"
      ],
      "metadata": {
        "id": "tQA4_N3fMPpk"
      }
    },
    {
      "cell_type": "code",
      "source": [
        "# Counts Unique Values\n",
        "house_df['sedang_pembangunan'].value_counts()"
      ],
      "metadata": {
        "colab": {
          "base_uri": "https://localhost:8080/"
        },
        "id": "YuSVBpPEMSxO",
        "outputId": "3b0b54b4-ca6a-4e1f-a2fa-bc6e1381ee3d"
      },
      "execution_count": 21,
      "outputs": [
        {
          "output_type": "execute_result",
          "data": {
            "text/plain": [
              "0.0    22358\n",
              "1.0     4885\n",
              "Name: sedang_pembangunan, dtype: int64"
            ]
          },
          "metadata": {},
          "execution_count": 21
        }
      ]
    },
    {
      "cell_type": "markdown",
      "source": [
        "There are no wrong values in this column"
      ],
      "metadata": {
        "id": "_9dbAPGQMbBt"
      }
    },
    {
      "cell_type": "markdown",
      "source": [
        "### disetujui_pemerintah"
      ],
      "metadata": {
        "id": "L9dqrY9aMbwZ"
      }
    },
    {
      "cell_type": "code",
      "source": [
        "# Counts Unique Values\n",
        "house_df['disetujui_pemerintah'].value_counts()"
      ],
      "metadata": {
        "colab": {
          "base_uri": "https://localhost:8080/"
        },
        "id": "SsXRKcbjMUCz",
        "outputId": "ffb2b2bb-a1c4-4aa0-e6c3-d2f07e911eed"
      },
      "execution_count": 22,
      "outputs": [
        {
          "output_type": "execute_result",
          "data": {
            "text/plain": [
              "0    19953\n",
              "1     9263\n",
              "Name: disetujui_pemerintah, dtype: int64"
            ]
          },
          "metadata": {},
          "execution_count": 22
        }
      ]
    },
    {
      "cell_type": "markdown",
      "source": [
        "There are no wrong values in this column"
      ],
      "metadata": {
        "id": "ed6Ka85tM39V"
      }
    },
    {
      "cell_type": "markdown",
      "source": [
        "### total_ruangan"
      ],
      "metadata": {
        "id": "FJIlsrS_M4fb"
      }
    },
    {
      "cell_type": "code",
      "source": [
        "# Counts Unique Values\n",
        "house_df['total_ruangan'].value_counts()"
      ],
      "metadata": {
        "colab": {
          "base_uri": "https://localhost:8080/"
        },
        "id": "UfD3WloYM2aH",
        "outputId": "756c8838-7a98-404a-9349-0545969cd547"
      },
      "execution_count": 23,
      "outputs": [
        {
          "output_type": "execute_result",
          "data": {
            "text/plain": [
              "2.0     12585\n",
              "3.0      9967\n",
              "1.0      3389\n",
              "4.0      1624\n",
              "5.0       181\n",
              "6.0        48\n",
              "7.0        11\n",
              "8.0        10\n",
              "20.0        4\n",
              "10.0        4\n",
              "15.0        4\n",
              "12.0        3\n",
              "9.0         3\n",
              "13.0        1\n",
              "17.0        1\n",
              "11.0        1\n",
              "Name: total_ruangan, dtype: int64"
            ]
          },
          "metadata": {},
          "execution_count": 23
        }
      ]
    },
    {
      "cell_type": "markdown",
      "source": [
        "There are no wrong values in this column"
      ],
      "metadata": {
        "id": "GbBnwL53NBbD"
      }
    },
    {
      "cell_type": "markdown",
      "source": [
        "### tipe_a_atau_b"
      ],
      "metadata": {
        "id": "mbmjxp-iNHSk"
      }
    },
    {
      "cell_type": "code",
      "source": [
        "# Counts Unique Values\n",
        "house_df['tipe_a_atau_b'].value_counts()"
      ],
      "metadata": {
        "colab": {
          "base_uri": "https://localhost:8080/"
        },
        "outputId": "ac4c68e5-fd21-4a8c-999c-15845b14c287",
        "id": "up_0Lfv1NHSk"
      },
      "execution_count": 24,
      "outputs": [
        {
          "output_type": "execute_result",
          "data": {
            "text/plain": [
              "tipe_a    29192\n",
              "tipe_b       24\n",
              "Name: tipe_a_atau_b, dtype: int64"
            ]
          },
          "metadata": {},
          "execution_count": 24
        }
      ]
    },
    {
      "cell_type": "markdown",
      "source": [
        "There are no wrong values in this column"
      ],
      "metadata": {
        "id": "9HZ5-09mNHSl"
      }
    },
    {
      "cell_type": "markdown",
      "source": [
        "### kaki_persegi"
      ],
      "metadata": {
        "id": "HqUN-Ox6NHeX"
      }
    },
    {
      "cell_type": "code",
      "source": [
        "# Counts Unique Values\n",
        "house_df['kaki_persegi'].value_counts()"
      ],
      "metadata": {
        "colab": {
          "base_uri": "https://localhost:8080/"
        },
        "outputId": "0472fd82-a367-43df-d7ef-5a834cadb127",
        "id": "9f_diYkINHeY"
      },
      "execution_count": 25,
      "outputs": [
        {
          "output_type": "execute_result",
          "data": {
            "text/plain": [
              "1000.0               438\n",
              "1250.0               262\n",
              "800.0                188\n",
              "1200.0               164\n",
              "testes               161\n",
              "                    ... \n",
              "639.9250819            1\n",
              "932.0905459            1\n",
              "762.9616785000001      1\n",
              "1684.956947            1\n",
              "896.7741935            1\n",
              "Name: kaki_persegi, Length: 18056, dtype: int64"
            ]
          },
          "metadata": {},
          "execution_count": 25
        }
      ]
    },
    {
      "cell_type": "markdown",
      "source": [
        "There are some wrong values in this column for example 'testes'. The values in this column should contain only numbers. To handle this issue, I will convert all non-numerical values to null values."
      ],
      "metadata": {
        "id": "EfjNlRG8NHeY"
      }
    },
    {
      "cell_type": "code",
      "source": [
        "# Convert wrong values to null values\n",
        "house_df['kaki_persegi'] = house_df['kaki_persegi'].apply(pd.to_numeric, args=('coerce',))"
      ],
      "metadata": {
        "id": "F-bHdvAbN6Y-"
      },
      "execution_count": 26,
      "outputs": []
    },
    {
      "cell_type": "code",
      "source": [
        "# Counts Unique Values\n",
        "house_df['kaki_persegi'].value_counts()"
      ],
      "metadata": {
        "colab": {
          "base_uri": "https://localhost:8080/"
        },
        "id": "9LH2OeobOJEU",
        "outputId": "cfe011f8-ef24-427d-946a-763bc98d0a25"
      },
      "execution_count": 27,
      "outputs": [
        {
          "output_type": "execute_result",
          "data": {
            "text/plain": [
              "1000.000000    438\n",
              "1250.000000    262\n",
              "800.000000     188\n",
              "1200.000000    164\n",
              "1600.000000    113\n",
              "              ... \n",
              "1099.585062      1\n",
              "1750.171585      1\n",
              "1334.141904      1\n",
              "1754.470759      1\n",
              "896.774194       1\n",
              "Name: kaki_persegi, Length: 18049, dtype: int64"
            ]
          },
          "metadata": {},
          "execution_count": 27
        }
      ]
    },
    {
      "cell_type": "markdown",
      "source": [
        "### siap_pindah"
      ],
      "metadata": {
        "id": "QQ24d0erNHoe"
      }
    },
    {
      "cell_type": "code",
      "source": [
        "# Counts Unique Values\n",
        "house_df['siap_pindah'].value_counts()"
      ],
      "metadata": {
        "colab": {
          "base_uri": "https://localhost:8080/"
        },
        "outputId": "3525e9e0-6d10-4414-a991-7d2e5dcb37c7",
        "id": "JachZMhCNHof"
      },
      "execution_count": 28,
      "outputs": [
        {
          "output_type": "execute_result",
          "data": {
            "text/plain": [
              "1         21182\n",
              "0          4656\n",
              "1-1-1-      522\n",
              "testes      493\n",
              "awa         484\n",
              "a           478\n",
              "salah       473\n",
              "benar       469\n",
              "asik        459\n",
              "Name: siap_pindah, dtype: int64"
            ]
          },
          "metadata": {},
          "execution_count": 28
        }
      ]
    },
    {
      "cell_type": "markdown",
      "source": [
        "The values in this column must contain either 1 or 0. But there are some values that are neither 1 nor 0. Therefore, I'll fix the wrong values."
      ],
      "metadata": {
        "id": "TKos5rQXNHof"
      }
    },
    {
      "cell_type": "code",
      "source": [
        "# Rename for value: [1-1-1-, benar, salah]\n",
        "house_df['siap_pindah'] = house_df['siap_pindah'].replace('1-1-1-', '1')\n",
        "house_df['siap_pindah'] = house_df['siap_pindah'].replace('benar', '1')\n",
        "house_df['siap_pindah'] = house_df['siap_pindah'].replace('salah', '0')\n",
        "\n",
        "house_df['siap_pindah'].value_counts()"
      ],
      "metadata": {
        "colab": {
          "base_uri": "https://localhost:8080/"
        },
        "id": "eMtVLAtqPBHj",
        "outputId": "c4933647-670d-4889-deec-c33f647b9035"
      },
      "execution_count": 29,
      "outputs": [
        {
          "output_type": "execute_result",
          "data": {
            "text/plain": [
              "1         22173\n",
              "0          5129\n",
              "testes      493\n",
              "awa         484\n",
              "a           478\n",
              "asik        459\n",
              "Name: siap_pindah, dtype: int64"
            ]
          },
          "metadata": {},
          "execution_count": 29
        }
      ]
    },
    {
      "cell_type": "markdown",
      "source": [
        "In this case, I am assuming that the value '1-1-1-' is a typo of '1' and I am also assuming that 'benar' should be '1' and 'salah' should be '0'."
      ],
      "metadata": {
        "id": "pgN4Kn3tPG-9"
      }
    },
    {
      "cell_type": "code",
      "source": [
        "# Fixing other wrong values using mode\n",
        "house_df['siap_pindah'] = house_df['siap_pindah'].replace('testes', '1')\n",
        "house_df['siap_pindah'] = house_df['siap_pindah'].replace('awa', '1')\n",
        "house_df['siap_pindah'] = house_df['siap_pindah'].replace('a', '1')\n",
        "house_df['siap_pindah'] = house_df['siap_pindah'].replace('asik', '1')\n",
        "\n",
        "house_df['siap_pindah'].value_counts()"
      ],
      "metadata": {
        "colab": {
          "base_uri": "https://localhost:8080/"
        },
        "id": "o6IrwE8iPPSX",
        "outputId": "ac986612-7f51-4707-c13f-682d8ac85560"
      },
      "execution_count": 30,
      "outputs": [
        {
          "output_type": "execute_result",
          "data": {
            "text/plain": [
              "1    24087\n",
              "0     5129\n",
              "Name: siap_pindah, dtype: int64"
            ]
          },
          "metadata": {},
          "execution_count": 30
        }
      ]
    },
    {
      "cell_type": "markdown",
      "source": [
        "After that, I replace the other data with wrong values using the mode values from the data."
      ],
      "metadata": {
        "id": "sTzxl_4iPTo0"
      }
    },
    {
      "cell_type": "markdown",
      "source": [
        "### dijual_kembali"
      ],
      "metadata": {
        "id": "IxASGlX5NH0D"
      }
    },
    {
      "cell_type": "code",
      "source": [
        "# Counts Unique Values\n",
        "house_df['dijual_kembali'].value_counts()"
      ],
      "metadata": {
        "colab": {
          "base_uri": "https://localhost:8080/"
        },
        "outputId": "9b6dbfd1-7b96-4b48-d875-053400d08ba6",
        "id": "yM3KhF7LNH0D"
      },
      "execution_count": 31,
      "outputs": [
        {
          "output_type": "execute_result",
          "data": {
            "text/plain": [
              "1                   23407\n",
              "0                    1776\n",
              "SALAH                1360\n",
              "Semangat Dek         1359\n",
              "Aku paling benar     1314\n",
              "Name: dijual_kembali, dtype: int64"
            ]
          },
          "metadata": {},
          "execution_count": 31
        }
      ]
    },
    {
      "cell_type": "markdown",
      "source": [
        "The values in this column must contain either 1 or 0. But there are some values that are neither 1 nor 0. Therefore, I'll fix the wrong values."
      ],
      "metadata": {
        "id": "hvw3xlQWNH0D"
      }
    },
    {
      "cell_type": "code",
      "source": [
        "# Fixing wrong values\n",
        "house_df['dijual_kembali'] = house_df['dijual_kembali'].replace('SALAH', '0')\n",
        "house_df['dijual_kembali'] = house_df['dijual_kembali'].replace('Semangat Dek', '1')\n",
        "house_df['dijual_kembali'] = house_df['siap_pindah'].replace('Aku paling benar', '1')\n",
        "\n",
        "house_df['dijual_kembali'].value_counts()"
      ],
      "metadata": {
        "colab": {
          "base_uri": "https://localhost:8080/"
        },
        "id": "u9JEvVugPrR4",
        "outputId": "c350ba3a-8d36-4f06-b59d-96967b19909c"
      },
      "execution_count": 32,
      "outputs": [
        {
          "output_type": "execute_result",
          "data": {
            "text/plain": [
              "1    24087\n",
              "0     5129\n",
              "Name: dijual_kembali, dtype: int64"
            ]
          },
          "metadata": {},
          "execution_count": 32
        }
      ]
    },
    {
      "cell_type": "markdown",
      "source": [
        "Same as siap_pindah, there are many wrong values in the data. I'm assuming that 'SALAH' should be '0'. As for the other values, I changed them using the mode value from the data, which is '1'."
      ],
      "metadata": {
        "id": "xiTvJVJKPubj"
      }
    },
    {
      "cell_type": "markdown",
      "source": [
        "### longitude, latitude, harga"
      ],
      "metadata": {
        "id": "PVyiRuapQng6"
      }
    },
    {
      "cell_type": "code",
      "source": [
        "house_df.info()"
      ],
      "metadata": {
        "colab": {
          "base_uri": "https://localhost:8080/"
        },
        "id": "LMWs4vLFQxhw",
        "outputId": "59c935a3-43c6-4768-8e86-b2a56b3ce4f2"
      },
      "execution_count": 37,
      "outputs": [
        {
          "output_type": "stream",
          "name": "stdout",
          "text": [
            "<class 'pandas.core.frame.DataFrame'>\n",
            "Int64Index: 29216 entries, 0 to 29450\n",
            "Data columns (total 12 columns):\n",
            " #   Column                Non-Null Count  Dtype  \n",
            "---  ------                --------------  -----  \n",
            " 0   diposting_oleh        29216 non-null  object \n",
            " 1   sedang_pembangunan    27243 non-null  float64\n",
            " 2   disetujui_pemerintah  29216 non-null  int64  \n",
            " 3   total_ruangan         27836 non-null  float64\n",
            " 4   tipe_a_atau_b         29216 non-null  object \n",
            " 5   kaki_persegi          26534 non-null  float64\n",
            " 6   siap_pindah           29216 non-null  object \n",
            " 7   dijual_kembali        29216 non-null  object \n",
            " 8   alamat                27203 non-null  object \n",
            " 9   longitude             29216 non-null  float64\n",
            " 10  latitude              25775 non-null  float64\n",
            " 11  harga                 29216 non-null  float64\n",
            "dtypes: float64(6), int64(1), object(5)\n",
            "memory usage: 2.9+ MB\n"
          ]
        }
      ]
    },
    {
      "cell_type": "markdown",
      "source": [
        "There are no wrong values in longitude, latitude, and harga. As we can see, the data type of those columns are float."
      ],
      "metadata": {
        "id": "SdlCyiOWQIi7"
      }
    },
    {
      "cell_type": "markdown",
      "source": [
        "## Handling Null Values"
      ],
      "metadata": {
        "id": "coe_WFBwRZG5"
      }
    },
    {
      "cell_type": "code",
      "source": [
        "# Checking null values\n",
        "house_df.isnull().sum(axis = 0)"
      ],
      "metadata": {
        "colab": {
          "base_uri": "https://localhost:8080/"
        },
        "id": "YaToqtFFRbAh",
        "outputId": "0526cd10-4560-4758-f300-c92bf66af4e9"
      },
      "execution_count": 39,
      "outputs": [
        {
          "output_type": "execute_result",
          "data": {
            "text/plain": [
              "diposting_oleh             0\n",
              "sedang_pembangunan      1973\n",
              "disetujui_pemerintah       0\n",
              "total_ruangan           1380\n",
              "tipe_a_atau_b              0\n",
              "kaki_persegi            2682\n",
              "siap_pindah                0\n",
              "dijual_kembali             0\n",
              "alamat                  2013\n",
              "longitude                  0\n",
              "latitude                3441\n",
              "harga                      0\n",
              "dtype: int64"
            ]
          },
          "metadata": {},
          "execution_count": 39
        }
      ]
    },
    {
      "cell_type": "markdown",
      "source": [
        "There are null values in sedang_pembangunan, total_ruangan, kaki_persegi, alamat, and latitude."
      ],
      "metadata": {
        "id": "v70fahOrRjWv"
      }
    },
    {
      "cell_type": "markdown",
      "source": [
        "### sedang_pembangunan"
      ],
      "metadata": {
        "id": "2SMrFbSGRtQg"
      }
    },
    {
      "cell_type": "code",
      "source": [
        "# Imputing Missing values with mode\n",
        "house_df['sedang_pembangunan'] = house_df['sedang_pembangunan'].fillna(0)"
      ],
      "metadata": {
        "id": "-dbIASIMRfsj"
      },
      "execution_count": 40,
      "outputs": []
    },
    {
      "cell_type": "markdown",
      "source": [
        "Because this column is a categorical variable, I imputed it using the mode value from the data."
      ],
      "metadata": {
        "id": "7A86b86qR1-P"
      }
    },
    {
      "cell_type": "code",
      "source": [
        "# Checking null values\n",
        "print('Null values in sedang_pembangunan:',house_df['sedang_pembangunan'].isnull().sum(axis = 0))"
      ],
      "metadata": {
        "colab": {
          "base_uri": "https://localhost:8080/"
        },
        "id": "k4GMzmnfR9tr",
        "outputId": "1354895f-4887-41af-a49d-a4e89641ead6"
      },
      "execution_count": 42,
      "outputs": [
        {
          "output_type": "stream",
          "name": "stdout",
          "text": [
            "Null values in sedang_pembangunan: 0\n"
          ]
        }
      ]
    },
    {
      "cell_type": "markdown",
      "source": [
        "### total_ruangan"
      ],
      "metadata": {
        "id": "xqxgBC_DSIm8"
      }
    },
    {
      "cell_type": "code",
      "source": [
        "sns.histplot(data=house_df, x=\"total_ruangan\", kde=True)"
      ],
      "metadata": {
        "colab": {
          "base_uri": "https://localhost:8080/",
          "height": 298
        },
        "id": "BbFJLBftR_8V",
        "outputId": "7a42a832-4b7c-47c8-905e-5ac82e5193fc"
      },
      "execution_count": 44,
      "outputs": [
        {
          "output_type": "execute_result",
          "data": {
            "text/plain": [
              "<matplotlib.axes._subplots.AxesSubplot at 0x7f034db96f90>"
            ]
          },
          "metadata": {},
          "execution_count": 44
        },
        {
          "output_type": "display_data",
          "data": {
            "text/plain": [
              "<Figure size 432x288 with 1 Axes>"
            ],
            "image/png": "[encoded data removed]"
          },
          "metadata": {
            "needs_background": "light"
          }
        }
      ]
    },
    {
      "cell_type": "markdown",
      "source": [
        "I will imputate the total_ruangan data. In determining imputation, I need to look at the distribution of the data. It can be seen here that the total_ruangan data is not normally distributed. So, I'll impute this data using the mode of the data"
      ],
      "metadata": {
        "id": "lRJ0tZI6STiu"
      }
    },
    {
      "cell_type": "code",
      "source": [
        "house_df['total_ruangan'] = house_df['total_ruangan'].fillna(house_df['total_ruangan'].median())"
      ],
      "metadata": {
        "id": "d5qrQfuZSTIX"
      },
      "execution_count": 45,
      "outputs": []
    },
    {
      "cell_type": "code",
      "source": [
        "# Checking null values\n",
        "print('Null values in total_ruangan:',house_df['total_ruangan'].isnull().sum(axis = 0))"
      ],
      "metadata": {
        "colab": {
          "base_uri": "https://localhost:8080/"
        },
        "id": "HOdzhN_RSj11",
        "outputId": "7c0f5757-789e-43d5-c39b-aaf6354c69b4"
      },
      "execution_count": 46,
      "outputs": [
        {
          "output_type": "stream",
          "name": "stdout",
          "text": [
            "Null values in total_ruangan: 0\n"
          ]
        }
      ]
    },
    {
      "cell_type": "markdown",
      "source": [
        "### kaki_persegi"
      ],
      "metadata": {
        "id": "nW7w2wJhSnFC"
      }
    },
    {
      "cell_type": "code",
      "source": [
        "print('Mean kolom kaki_persegi:', house_df['kaki_persegi'].mean())\n",
        "print('Median kolom kaki_persegi:', house_df['kaki_persegi'].median())\n",
        "print('Mode kolom kaki_persegi:', house_df['kaki_persegi'].mode())"
      ],
      "metadata": {
        "colab": {
          "base_uri": "https://localhost:8080/"
        },
        "id": "4kqVCkBrTEKn",
        "outputId": "07079080-4e04-4e8e-a828-746a0ffa9874"
      },
      "execution_count": 51,
      "outputs": [
        {
          "output_type": "stream",
          "name": "stdout",
          "text": [
            "Mean kolom kaki_persegi: 12172.323594319627\n",
            "Median kolom kaki_persegi: 1175.3625935\n",
            "Mode kolom kaki_persegi: 0    1000.0\n",
            "dtype: float64\n"
          ]
        }
      ]
    },
    {
      "cell_type": "markdown",
      "source": [
        "Just like before, I have to look at the data distribution first before imputing the data. In the calculation above, it can be seen that the mode < median < mean. This shows that the distribution of data on kaki_persegi is a positive skew. Because the data is not normally distributed, I imputed it with the median value."
      ],
      "metadata": {
        "id": "xY9Wx7m2TpOc"
      }
    },
    {
      "cell_type": "code",
      "source": [
        "# Imputing missing values using median\n",
        "house_df['kaki_persegi'] = house_df['kaki_persegi'].fillna(house_df['kaki_persegi'].median())"
      ],
      "metadata": {
        "id": "afq8f3VfTKwx"
      },
      "execution_count": 52,
      "outputs": []
    },
    {
      "cell_type": "code",
      "source": [
        "# Checking null values\n",
        "print('Null values in kaki_persegi:',house_df['kaki_persegi'].isnull().sum(axis = 0))"
      ],
      "metadata": {
        "colab": {
          "base_uri": "https://localhost:8080/"
        },
        "id": "4sKqZx14T4kb",
        "outputId": "e266e4e9-d1a2-4214-c596-f4feb228a1c3"
      },
      "execution_count": 54,
      "outputs": [
        {
          "output_type": "stream",
          "name": "stdout",
          "text": [
            "Null values in kaki_persegi: 0\n"
          ]
        }
      ]
    },
    {
      "cell_type": "markdown",
      "source": [
        "### alamat"
      ],
      "metadata": {
        "id": "c-r3XcSXT8Nl"
      }
    },
    {
      "cell_type": "markdown",
      "source": [
        "In imputing data for the alamat column, I use the geoPy library. But before that, I found that the latitude and longitude columns are reversed."
      ],
      "metadata": {
        "id": "e_rbUKC-UEoT"
      }
    },
    {
      "cell_type": "code",
      "source": [
        "# Check the first value from alamat, longitude, and latitude\n",
        "house_df[['alamat', 'longitude', 'latitude']].iloc[0]"
      ],
      "metadata": {
        "colab": {
          "base_uri": "https://localhost:8080/"
        },
        "id": "-s4IhHV7U3Cg",
        "outputId": "0388a476-e53b-4216-d725-93386e38fea7"
      },
      "execution_count": 62,
      "outputs": [
        {
          "output_type": "execute_result",
          "data": {
            "text/plain": [
              "alamat       Ksfc Layout,Bangalore\n",
              "longitude                 12.96991\n",
              "latitude                  77.59796\n",
              "Name: 0, dtype: object"
            ]
          },
          "metadata": {},
          "execution_count": 62
        }
      ]
    },
    {
      "cell_type": "code",
      "source": [
        "# Checking the longitude and latitude\n",
        "from geopy.geocoders import Nominatim\n",
        "from geopy.point import Point\n",
        "\n",
        "geolocator = Nominatim(user_agent=\"sultan\")\n",
        "\n",
        "alamat = house_df['alamat'].iloc[0]\n",
        "\n",
        "location = geolocator.geocode(alamat)\n",
        "print('alamat:', alamat)\n",
        "print('longitude:', location.longitude)\n",
        "print('latitude:', location.latitude)"
      ],
      "metadata": {
        "colab": {
          "base_uri": "https://localhost:8080/"
        },
        "id": "_7cU6gx2T5mK",
        "outputId": "43984642-5541-4806-9524-794241f74f48"
      },
      "execution_count": 63,
      "outputs": [
        {
          "output_type": "stream",
          "name": "stdout",
          "text": [
            "alamat: Ksfc Layout,Bangalore\n",
            "longitude: 77.6344298\n",
            "latitude: 13.0164987\n"
          ]
        }
      ]
    },
    {
      "cell_type": "markdown",
      "source": [
        "We can see that longitude and latitude are reversed. So, I need to fix that first"
      ],
      "metadata": {
        "id": "k1j0idCtV4-j"
      }
    },
    {
      "cell_type": "code",
      "source": [
        "# Changing the column name between longitude and latitude\n",
        "house_df.rename(columns = {'latitude':'old_latitude'}, inplace=True)\n",
        "house_df.rename(columns = {'longitude':'latitude'}, inplace=True)\n",
        "house_df.rename(columns = {'old_latitude':'longitude'}, inplace=True)\n",
        "house_df[['alamat', 'longitude', 'latitude']].head()"
      ],
      "metadata": {
        "colab": {
          "base_uri": "https://localhost:8080/",
          "height": 206
        },
        "id": "euNPo-WbVgCK",
        "outputId": "8f1551c9-0dc8-4e7e-ce0a-e84039683ae2"
      },
      "execution_count": 64,
      "outputs": [
        {
          "output_type": "execute_result",
          "data": {
            "text/plain": [
              "                        alamat  longitude   latitude\n",
              "0        Ksfc Layout,Bangalore  77.597960  12.969910\n",
              "1    Vishweshwara Nagar,Mysore  76.644605  12.274538\n",
              "2             Jigani,Bangalore  77.632191  12.778033\n",
              "3  Sector-1 Vaishali,Ghaziabad  77.344500  28.642300\n",
              "4             New Town,Kolkata  88.484911  22.592200"
            ],
            "text/html": [
              "\n",
              "  <div id=\"df-90a6b25a-d078-4e0c-a9a7-ac0d3fb0d01b\">\n",
              "    <div class=\"colab-df-container\">\n",
              "      <div>\n",
              "<style scoped>\n",
              "    .dataframe tbody tr th:only-of-type {\n",
              "        vertical-align: middle;\n",
              "    }\n",
              "\n",
              "    .dataframe tbody tr th {\n",
              "        vertical-align: top;\n",
              "    }\n",
              "\n",
              "    .dataframe thead th {\n",
              "        text-align: right;\n",
              "    }\n",
              "</style>\n",
              "<table border=\"1\" class=\"dataframe\">\n",
              "  <thead>\n",
              "    <tr style=\"text-align: right;\">\n",
              "      <th></th>\n",
              "      <th>alamat</th>\n",
              "      <th>longitude</th>\n",
              "      <th>latitude</th>\n",
              "    </tr>\n",
              "  </thead>\n",
              "  <tbody>\n",
              "    <tr>\n",
              "      <th>0</th>\n",
              "      <td>Ksfc Layout,Bangalore</td>\n",
              "      <td>77.597960</td>\n",
              "      <td>12.969910</td>\n",
              "    </tr>\n",
              "    <tr>\n",
              "      <th>1</th>\n",
              "      <td>Vishweshwara Nagar,Mysore</td>\n",
              "      <td>76.644605</td>\n",
              "      <td>12.274538</td>\n",
              "    </tr>\n",
              "    <tr>\n",
              "      <th>2</th>\n",
              "      <td>Jigani,Bangalore</td>\n",
              "      <td>77.632191</td>\n",
              "      <td>12.778033</td>\n",
              "    </tr>\n",
              "    <tr>\n",
              "      <th>3</th>\n",
              "      <td>Sector-1 Vaishali,Ghaziabad</td>\n",
              "      <td>77.344500</td>\n",
              "      <td>28.642300</td>\n",
              "    </tr>\n",
              "    <tr>\n",
              "      <th>4</th>\n",
              "      <td>New Town,Kolkata</td>\n",
              "      <td>88.484911</td>\n",
              "      <td>22.592200</td>\n",
              "    </tr>\n",
              "  </tbody>\n",
              "</table>\n",
              "</div>\n",
              "      <button class=\"colab-df-convert\" onclick=\"convertToInteractive('df-90a6b25a-d078-4e0c-a9a7-ac0d3fb0d01b')\"\n",
              "              title=\"Convert this dataframe to an interactive table.\"\n",
              "              style=\"display:none;\">\n",
              "        \n",
              "  <svg xmlns=\"http://www.w3.org/2000/svg\" height=\"24px\"viewBox=\"0 0 24 24\"\n",
              "       width=\"24px\">\n",
              "    <path d=\"M0 0h24v24H0V0z\" fill=\"none\"/>\n",
              "    <path d=\"M18.56 5.44l.94 2.06.94-2.06 2.06-.94-2.06-.94-.94-2.06-.94 2.06-2.06.94zm-11 1L8.5 8.5l.94-2.06 2.06-.94-2.06-.94L8.5 2.5l-.94 2.06-2.06.94zm10 10l.94 2.06.94-2.06 2.06-.94-2.06-.94-.94-2.06-.94 2.06-2.06.94z\"/><path d=\"M17.41 7.96l-1.37-1.37c-.4-.4-.92-.59-1.43-.59-.52 0-1.04.2-1.43.59L10.3 9.45l-7.72 7.72c-.78.78-.78 2.05 0 2.83L4 21.41c.39.39.9.59 1.41.59.51 0 1.02-.2 1.41-.59l7.78-7.78 2.81-2.81c.8-.78.8-2.07 0-2.86zM5.41 20L4 18.59l7.72-7.72 1.47 1.35L5.41 20z\"/>\n",
              "  </svg>\n",
              "      </button>\n",
              "      \n",
              "  <style>\n",
              "    .colab-df-container {\n",
              "      display:flex;\n",
              "      flex-wrap:wrap;\n",
              "      gap: 12px;\n",
              "    }\n",
              "\n",
              "    .colab-df-convert {\n",
              "      background-color: #E8F0FE;\n",
              "      border: none;\n",
              "      border-radius: 50%;\n",
              "      cursor: pointer;\n",
              "      display: none;\n",
              "      fill: #1967D2;\n",
              "      height: 32px;\n",
              "      padding: 0 0 0 0;\n",
              "      width: 32px;\n",
              "    }\n",
              "\n",
              "    .colab-df-convert:hover {\n",
              "      background-color: #E2EBFA;\n",
              "      box-shadow: 0px 1px 2px rgba(60, 64, 67, 0.3), 0px 1px 3px 1px rgba(60, 64, 67, 0.15);\n",
              "      fill: #174EA6;\n",
              "    }\n",
              "\n",
              "    [theme=dark] .colab-df-convert {\n",
              "      background-color: #3B4455;\n",
              "      fill: #D2E3FC;\n",
              "    }\n",
              "\n",
              "    [theme=dark] .colab-df-convert:hover {\n",
              "      background-color: #434B5C;\n",
              "      box-shadow: 0px 1px 3px 1px rgba(0, 0, 0, 0.15);\n",
              "      filter: drop-shadow(0px 1px 2px rgba(0, 0, 0, 0.3));\n",
              "      fill: #FFFFFF;\n",
              "    }\n",
              "  </style>\n",
              "\n",
              "      <script>\n",
              "        const buttonEl =\n",
              "          document.querySelector('#df-90a6b25a-d078-4e0c-a9a7-ac0d3fb0d01b button.colab-df-convert');\n",
              "        buttonEl.style.display =\n",
              "          google.colab.kernel.accessAllowed ? 'block' : 'none';\n",
              "\n",
              "        async function convertToInteractive(key) {\n",
              "          const element = document.querySelector('#df-90a6b25a-d078-4e0c-a9a7-ac0d3fb0d01b');\n",
              "          const dataTable =\n",
              "            await google.colab.kernel.invokeFunction('convertToInteractive',\n",
              "                                                     [key], {});\n",
              "          if (!dataTable) return;\n",
              "\n",
              "          const docLinkHtml = 'Like what you see? Visit the ' +\n",
              "            '<a target=\"_blank\" href=https://colab.research.google.com/notebooks/data_table.ipynb>data table notebook</a>'\n",
              "            + ' to learn more about interactive tables.';\n",
              "          element.innerHTML = '';\n",
              "          dataTable['output_type'] = 'display_data';\n",
              "          await google.colab.output.renderOutput(dataTable, element);\n",
              "          const docLink = document.createElement('div');\n",
              "          docLink.innerHTML = docLinkHtml;\n",
              "          element.appendChild(docLink);\n",
              "        }\n",
              "      </script>\n",
              "    </div>\n",
              "  </div>\n",
              "  "
            ]
          },
          "metadata": {},
          "execution_count": 64
        }
      ]
    },
    {
      "cell_type": "markdown",
      "source": [
        "After that, I'll impute alamat using geoPy."
      ],
      "metadata": {
        "id": "zC-boOm6WbrK"
      }
    },
    {
      "cell_type": "code",
      "source": [
        "# Function for imputing alamat\n",
        "from geopy.geocoders import Nominatim\n",
        "from geopy.point import Point\n",
        "\n",
        "geolocator = Nominatim(user_agent=\"sultan\")\n",
        "\n",
        "def imputing_alamat(row):\n",
        "  address = geolocator.reverse(Point(row['latitude'], row['longitude']), timeout=10000)\n",
        "  return ','.join(str(address).split(',')[:2])"
      ],
      "metadata": {
        "id": "HwSCstxdWFKk"
      },
      "execution_count": 65,
      "outputs": []
    },
    {
      "cell_type": "code",
      "source": [
        "# Imputing alamat based on longitude and latitude\n",
        "house_df['alamat'] = house_df.apply(\n",
        "                                      lambda row: imputing_alamat(row) if pd.isna(row['alamat']) and pd.notna(row['longitude']) else row['alamat'],\n",
        "                                      axis=1\n",
        "                                    )"
      ],
      "metadata": {
        "id": "2YdPDWegWhGZ"
      },
      "execution_count": 66,
      "outputs": []
    },
    {
      "cell_type": "code",
      "source": [
        "# Checking null values\n",
        "print('Null values in alamat:',house_df['alamat'].isnull().sum(axis = 0))"
      ],
      "metadata": {
        "colab": {
          "base_uri": "https://localhost:8080/"
        },
        "id": "Ln4FgBQgWmNN",
        "outputId": "5a984ab5-b0bf-436a-9131-a11ee26732e6"
      },
      "execution_count": 67,
      "outputs": [
        {
          "output_type": "stream",
          "name": "stdout",
          "text": [
            "Null values in alamat: 229\n"
          ]
        }
      ]
    },
    {
      "cell_type": "markdown",
      "source": [
        "It can be seen here that the null values have been reduced leaving rows which have null values in the address column as well as the longitude."
      ],
      "metadata": {
        "id": "BjT4509OWlqz"
      }
    },
    {
      "cell_type": "markdown",
      "source": [
        "### longitude"
      ],
      "metadata": {
        "id": "D2QNSAyHW-0B"
      }
    },
    {
      "cell_type": "code",
      "source": [
        "# Function for imputing longitude\n",
        "geolocator = Nominatim(user_agent=\"sultan\")\n",
        "\n",
        "def imputing_longitude(row):\n",
        "  location = geolocator.geocode(row['alamat'], timeout=10000)\n",
        "  if location is not None:\n",
        "    return location.longitude\n",
        "  return row['longitude']"
      ],
      "metadata": {
        "id": "iXEMNt_DW-Ai"
      },
      "execution_count": 68,
      "outputs": []
    },
    {
      "cell_type": "code",
      "source": [
        "# Imputing longitude based on alamat column\n",
        "house_df['longitude'] = house_df.apply(\n",
        "                                      lambda row: imputing_longitude(row) if pd.isna(row['longitude']) and pd.notna(row['alamat']) else row['longitude'],\n",
        "                                      axis=1\n",
        "                                    )"
      ],
      "metadata": {
        "id": "RwRwqmBmXEGI"
      },
      "execution_count": 69,
      "outputs": []
    },
    {
      "cell_type": "code",
      "source": [
        "# Checking null values\n",
        "print('Null values in longitude:',house_df['longitude'].isnull().sum(axis = 0))"
      ],
      "metadata": {
        "colab": {
          "base_uri": "https://localhost:8080/"
        },
        "id": "W-N4RwErXGwQ",
        "outputId": "8de69ba3-b1c4-4ac9-f671-2d1f340fc10b"
      },
      "execution_count": 70,
      "outputs": [
        {
          "output_type": "stream",
          "name": "stdout",
          "text": [
            "Null values in longitude: 1225\n"
          ]
        }
      ]
    },
    {
      "cell_type": "markdown",
      "source": [
        "You can see here that the null values have been greatly reduced leaving rows which have null values in the address & longitude fields (which geoPy can no longer handle) and null values which geoPy cannot find (not all addresses in this data can be found by geoPy)"
      ],
      "metadata": {
        "id": "xzzJ7Y1FXOFQ"
      }
    },
    {
      "cell_type": "code",
      "source": [
        "# Checking null values\n",
        "house_df.isnull().sum(axis = 0)"
      ],
      "metadata": {
        "colab": {
          "base_uri": "https://localhost:8080/"
        },
        "id": "QSko8OPAXj00",
        "outputId": "3e3d9f9d-e3aa-462d-f11c-a7b3da6fde41"
      },
      "execution_count": 71,
      "outputs": [
        {
          "output_type": "execute_result",
          "data": {
            "text/plain": [
              "diposting_oleh             0\n",
              "sedang_pembangunan         0\n",
              "disetujui_pemerintah       0\n",
              "total_ruangan              0\n",
              "tipe_a_atau_b              0\n",
              "kaki_persegi               0\n",
              "siap_pindah                0\n",
              "dijual_kembali             0\n",
              "alamat                   229\n",
              "latitude                   0\n",
              "longitude               1225\n",
              "harga                      0\n",
              "dtype: int64"
            ]
          },
          "metadata": {},
          "execution_count": 71
        }
      ]
    },
    {
      "cell_type": "markdown",
      "source": [
        "There are only a few missing values in this data and I want to see the percentage of missing values here to account for dropping the missing values."
      ],
      "metadata": {
        "id": "SkTW5SE1XkPu"
      }
    },
    {
      "cell_type": "code",
      "source": [
        "# Checking percentage of current missing values \n",
        "row_missing_values = sum([True for idx,row in house_df.iterrows() if any(row.isnull())])\n",
        "missing_values_percentage = row_missing_values/len(house_df)*100\n",
        "\n",
        "print('The percentage of missing values is {:.2f}% of the total data rows'.format(missing_values_percentage))"
      ],
      "metadata": {
        "colab": {
          "base_uri": "https://localhost:8080/"
        },
        "id": "9FtWU1puXqTi",
        "outputId": "da397b4d-ca6b-4542-ea6b-378a00f6568d"
      },
      "execution_count": 72,
      "outputs": [
        {
          "output_type": "stream",
          "name": "stdout",
          "text": [
            "The percentage of missing values is 4.19% of the total data rows\n"
          ]
        }
      ]
    },
    {
      "cell_type": "markdown",
      "source": [
        "It can be seen here that the missing values are only 4.19% of the total data (and this is relatively small). That way, I'll be dropping the remaining missing values."
      ],
      "metadata": {
        "id": "72vtvCp2X3Da"
      }
    },
    {
      "cell_type": "code",
      "source": [
        "# Drop remaining missing values\n",
        "house_df = house_df.dropna()"
      ],
      "metadata": {
        "id": "QiWebKBZX465"
      },
      "execution_count": 73,
      "outputs": []
    },
    {
      "cell_type": "code",
      "source": [
        "# Checking null values\n",
        "house_df.isnull().sum(axis = 0)"
      ],
      "metadata": {
        "colab": {
          "base_uri": "https://localhost:8080/"
        },
        "id": "HrXsZCxqYEP4",
        "outputId": "12c7c9f1-c39e-4d4f-8d6e-16e43ec815ac"
      },
      "execution_count": 74,
      "outputs": [
        {
          "output_type": "execute_result",
          "data": {
            "text/plain": [
              "diposting_oleh          0\n",
              "sedang_pembangunan      0\n",
              "disetujui_pemerintah    0\n",
              "total_ruangan           0\n",
              "tipe_a_atau_b           0\n",
              "kaki_persegi            0\n",
              "siap_pindah             0\n",
              "dijual_kembali          0\n",
              "alamat                  0\n",
              "latitude                0\n",
              "longitude               0\n",
              "harga                   0\n",
              "dtype: int64"
            ]
          },
          "metadata": {},
          "execution_count": 74
        }
      ]
    },
    {
      "cell_type": "code",
      "source": [
        "house_df.shape"
      ],
      "metadata": {
        "colab": {
          "base_uri": "https://localhost:8080/"
        },
        "id": "DBQAn5hbhGbg",
        "outputId": "314e712d-54c0-4214-9cd8-9d587c87dd8d"
      },
      "execution_count": 76,
      "outputs": [
        {
          "output_type": "execute_result",
          "data": {
            "text/plain": [
              "(27991, 12)"
            ]
          },
          "metadata": {},
          "execution_count": 76
        }
      ]
    },
    {
      "cell_type": "markdown",
      "source": [
        "## Handling Outliers"
      ],
      "metadata": {
        "id": "Eh0kpLuVb1nQ"
      }
    },
    {
      "cell_type": "code",
      "source": [
        "# Viewing outliers in the dataset using IQR\n",
        "\n",
        "# stores numerical columns\n",
        "cols_num = ['total_ruangan', 'kaki_persegi', 'longitude', 'latitude', 'harga']\n",
        "\n",
        "# Q1 and !3\n",
        "Q1 = house_df.quantile(0.25)\n",
        "Q3 = house_df.quantile(0.75)\n",
        "\n",
        "# Calculates RUB and RLB\n",
        "IQR = Q3 - Q1\n",
        "lower_limit = Q1 - 1.5*IQR\n",
        "upper_limit = Q3 + 1.5*IQR\n",
        "\n",
        "# Menampilkan banyaknya outlier pada atribut\n",
        "outliers = (house_df < lower_limit) | (house_df > upper_limit)\n",
        "print (\"Outliers in each column:\")\n",
        "print(outliers.sum())"
      ],
      "metadata": {
        "colab": {
          "base_uri": "https://localhost:8080/"
        },
        "id": "pa2_6VaDb_T7",
        "outputId": "01d35023-78f0-42b3-8c1e-91d20d0a05d8"
      },
      "execution_count": 75,
      "outputs": [
        {
          "output_type": "stream",
          "name": "stdout",
          "text": [
            "Outliers in each column:\n",
            "alamat                     0\n",
            "dijual_kembali             0\n",
            "diposting_oleh             0\n",
            "disetujui_pemerintah       0\n",
            "harga                   2938\n",
            "kaki_persegi            1854\n",
            "latitude                 138\n",
            "longitude               2797\n",
            "sedang_pembangunan      4674\n",
            "siap_pindah                0\n",
            "tipe_a_atau_b              0\n",
            "total_ruangan            253\n",
            "dtype: int64\n"
          ]
        },
        {
          "output_type": "stream",
          "name": "stderr",
          "text": [
            "/usr/local/lib/python3.7/dist-packages/ipykernel_launcher.py:16: FutureWarning: Automatic reindexing on DataFrame vs Series comparisons is deprecated and will raise ValueError in a future version.  Do `left, right = left.align(right, axis=1, copy=False)` before e.g. `left == right`\n",
            "  app.launch_new_instance()\n"
          ]
        }
      ]
    },
    {
      "cell_type": "markdown",
      "source": [
        "In this case, I will remove all outliers to get the best result for my machine learning model"
      ],
      "metadata": {
        "id": "2O6a223eg1kB"
      }
    },
    {
      "cell_type": "code",
      "source": [
        "# Removing Outliers\n",
        "house_df = house_df[~((house_df[cols_num] < lower_limit) | (house_df[cols_num] > upper_limit)).any(axis=1)]\n",
        "\n",
        "house_df.shape"
      ],
      "metadata": {
        "colab": {
          "base_uri": "https://localhost:8080/"
        },
        "id": "iPlrlyUUgzi_",
        "outputId": "b54c8192-ca8b-4025-c617-1885eaf4a0fc"
      },
      "execution_count": 77,
      "outputs": [
        {
          "output_type": "stream",
          "name": "stderr",
          "text": [
            "/usr/local/lib/python3.7/dist-packages/ipykernel_launcher.py:2: FutureWarning: Automatic reindexing on DataFrame vs Series comparisons is deprecated and will raise ValueError in a future version.  Do `left, right = left.align(right, axis=1, copy=False)` before e.g. `left == right`\n",
            "  \n"
          ]
        },
        {
          "output_type": "execute_result",
          "data": {
            "text/plain": [
              "(21698, 12)"
            ]
          },
          "metadata": {},
          "execution_count": 77
        }
      ]
    },
    {
      "cell_type": "markdown",
      "source": [
        "## Fixing data type "
      ],
      "metadata": {
        "id": "IOgRdTtnhLSZ"
      }
    },
    {
      "cell_type": "code",
      "source": [
        "house_df.head()"
      ],
      "metadata": {
        "colab": {
          "base_uri": "https://localhost:8080/",
          "height": 339
        },
        "id": "qfgzSKGohpqK",
        "outputId": "9edeb0ba-8ea3-45a4-ec0c-198f45a25be8"
      },
      "execution_count": 80,
      "outputs": [
        {
          "output_type": "execute_result",
          "data": {
            "text/plain": [
              "  diposting_oleh  sedang_pembangunan  disetujui_pemerintah  total_ruangan  \\\n",
              "0          Owner                 0.0                     0            2.0   \n",
              "1         Dealer                 0.0                     0            2.0   \n",
              "2          Owner                 0.0                     0            2.0   \n",
              "3          Owner                 0.0                     1            2.0   \n",
              "5          Owner                 0.0                     0            3.0   \n",
              "\n",
              "  tipe_a_atau_b  kaki_persegi siap_pindah dijual_kembali  \\\n",
              "0        tipe_a   1300.236407           1              1   \n",
              "1        tipe_a   1275.000000           1              1   \n",
              "2        tipe_a    933.159722           1              1   \n",
              "3        tipe_a    929.921143           1              1   \n",
              "5        tipe_a   1250.000000           1              1   \n",
              "\n",
              "                        alamat   latitude  longitude  harga  \n",
              "0        Ksfc Layout,Bangalore  12.969910  77.597960   55.0  \n",
              "1    Vishweshwara Nagar,Mysore  12.274538  76.644605   51.0  \n",
              "2             Jigani,Bangalore  12.778033  77.632191   43.0  \n",
              "3  Sector-1 Vaishali,Ghaziabad  28.642300  77.344500   62.5  \n",
              "5         South Chittoor,Kochi  10.033280  76.282571   42.0  "
            ],
            "text/html": [
              "\n",
              "  <div id=\"df-506a3d1d-c875-4011-a983-25703584beb0\">\n",
              "    <div class=\"colab-df-container\">\n",
              "      <div>\n",
              "<style scoped>\n",
              "    .dataframe tbody tr th:only-of-type {\n",
              "        vertical-align: middle;\n",
              "    }\n",
              "\n",
              "    .dataframe tbody tr th {\n",
              "        vertical-align: top;\n",
              "    }\n",
              "\n",
              "    .dataframe thead th {\n",
              "        text-align: right;\n",
              "    }\n",
              "</style>\n",
              "<table border=\"1\" class=\"dataframe\">\n",
              "  <thead>\n",
              "    <tr style=\"text-align: right;\">\n",
              "      <th></th>\n",
              "      <th>diposting_oleh</th>\n",
              "      <th>sedang_pembangunan</th>\n",
              "      <th>disetujui_pemerintah</th>\n",
              "      <th>total_ruangan</th>\n",
              "      <th>tipe_a_atau_b</th>\n",
              "      <th>kaki_persegi</th>\n",
              "      <th>siap_pindah</th>\n",
              "      <th>dijual_kembali</th>\n",
              "      <th>alamat</th>\n",
              "      <th>latitude</th>\n",
              "      <th>longitude</th>\n",
              "      <th>harga</th>\n",
              "    </tr>\n",
              "  </thead>\n",
              "  <tbody>\n",
              "    <tr>\n",
              "      <th>0</th>\n",
              "      <td>Owner</td>\n",
              "      <td>0.0</td>\n",
              "      <td>0</td>\n",
              "      <td>2.0</td>\n",
              "      <td>tipe_a</td>\n",
              "      <td>1300.236407</td>\n",
              "      <td>1</td>\n",
              "      <td>1</td>\n",
              "      <td>Ksfc Layout,Bangalore</td>\n",
              "      <td>12.969910</td>\n",
              "      <td>77.597960</td>\n",
              "      <td>55.0</td>\n",
              "    </tr>\n",
              "    <tr>\n",
              "      <th>1</th>\n",
              "      <td>Dealer</td>\n",
              "      <td>0.0</td>\n",
              "      <td>0</td>\n",
              "      <td>2.0</td>\n",
              "      <td>tipe_a</td>\n",
              "      <td>1275.000000</td>\n",
              "      <td>1</td>\n",
              "      <td>1</td>\n",
              "      <td>Vishweshwara Nagar,Mysore</td>\n",
              "      <td>12.274538</td>\n",
              "      <td>76.644605</td>\n",
              "      <td>51.0</td>\n",
              "    </tr>\n",
              "    <tr>\n",
              "      <th>2</th>\n",
              "      <td>Owner</td>\n",
              "      <td>0.0</td>\n",
              "      <td>0</td>\n",
              "      <td>2.0</td>\n",
              "      <td>tipe_a</td>\n",
              "      <td>933.159722</td>\n",
              "      <td>1</td>\n",
              "      <td>1</td>\n",
              "      <td>Jigani,Bangalore</td>\n",
              "      <td>12.778033</td>\n",
              "      <td>77.632191</td>\n",
              "      <td>43.0</td>\n",
              "    </tr>\n",
              "    <tr>\n",
              "      <th>3</th>\n",
              "      <td>Owner</td>\n",
              "      <td>0.0</td>\n",
              "      <td>1</td>\n",
              "      <td>2.0</td>\n",
              "      <td>tipe_a</td>\n",
              "      <td>929.921143</td>\n",
              "      <td>1</td>\n",
              "      <td>1</td>\n",
              "      <td>Sector-1 Vaishali,Ghaziabad</td>\n",
              "      <td>28.642300</td>\n",
              "      <td>77.344500</td>\n",
              "      <td>62.5</td>\n",
              "    </tr>\n",
              "    <tr>\n",
              "      <th>5</th>\n",
              "      <td>Owner</td>\n",
              "      <td>0.0</td>\n",
              "      <td>0</td>\n",
              "      <td>3.0</td>\n",
              "      <td>tipe_a</td>\n",
              "      <td>1250.000000</td>\n",
              "      <td>1</td>\n",
              "      <td>1</td>\n",
              "      <td>South Chittoor,Kochi</td>\n",
              "      <td>10.033280</td>\n",
              "      <td>76.282571</td>\n",
              "      <td>42.0</td>\n",
              "    </tr>\n",
              "  </tbody>\n",
              "</table>\n",
              "</div>\n",
              "      <button class=\"colab-df-convert\" onclick=\"convertToInteractive('df-506a3d1d-c875-4011-a983-25703584beb0')\"\n",
              "              title=\"Convert this dataframe to an interactive table.\"\n",
              "              style=\"display:none;\">\n",
              "        \n",
              "  <svg xmlns=\"http://www.w3.org/2000/svg\" height=\"24px\"viewBox=\"0 0 24 24\"\n",
              "       width=\"24px\">\n",
              "    <path d=\"M0 0h24v24H0V0z\" fill=\"none\"/>\n",
              "    <path d=\"M18.56 5.44l.94 2.06.94-2.06 2.06-.94-2.06-.94-.94-2.06-.94 2.06-2.06.94zm-11 1L8.5 8.5l.94-2.06 2.06-.94-2.06-.94L8.5 2.5l-.94 2.06-2.06.94zm10 10l.94 2.06.94-2.06 2.06-.94-2.06-.94-.94-2.06-.94 2.06-2.06.94z\"/><path d=\"M17.41 7.96l-1.37-1.37c-.4-.4-.92-.59-1.43-.59-.52 0-1.04.2-1.43.59L10.3 9.45l-7.72 7.72c-.78.78-.78 2.05 0 2.83L4 21.41c.39.39.9.59 1.41.59.51 0 1.02-.2 1.41-.59l7.78-7.78 2.81-2.81c.8-.78.8-2.07 0-2.86zM5.41 20L4 18.59l7.72-7.72 1.47 1.35L5.41 20z\"/>\n",
              "  </svg>\n",
              "      </button>\n",
              "      \n",
              "  <style>\n",
              "    .colab-df-container {\n",
              "      display:flex;\n",
              "      flex-wrap:wrap;\n",
              "      gap: 12px;\n",
              "    }\n",
              "\n",
              "    .colab-df-convert {\n",
              "      background-color: #E8F0FE;\n",
              "      border: none;\n",
              "      border-radius: 50%;\n",
              "      cursor: pointer;\n",
              "      display: none;\n",
              "      fill: #1967D2;\n",
              "      height: 32px;\n",
              "      padding: 0 0 0 0;\n",
              "      width: 32px;\n",
              "    }\n",
              "\n",
              "    .colab-df-convert:hover {\n",
              "      background-color: #E2EBFA;\n",
              "      box-shadow: 0px 1px 2px rgba(60, 64, 67, 0.3), 0px 1px 3px 1px rgba(60, 64, 67, 0.15);\n",
              "      fill: #174EA6;\n",
              "    }\n",
              "\n",
              "    [theme=dark] .colab-df-convert {\n",
              "      background-color: #3B4455;\n",
              "      fill: #D2E3FC;\n",
              "    }\n",
              "\n",
              "    [theme=dark] .colab-df-convert:hover {\n",
              "      background-color: #434B5C;\n",
              "      box-shadow: 0px 1px 3px 1px rgba(0, 0, 0, 0.15);\n",
              "      filter: drop-shadow(0px 1px 2px rgba(0, 0, 0, 0.3));\n",
              "      fill: #FFFFFF;\n",
              "    }\n",
              "  </style>\n",
              "\n",
              "      <script>\n",
              "        const buttonEl =\n",
              "          document.querySelector('#df-506a3d1d-c875-4011-a983-25703584beb0 button.colab-df-convert');\n",
              "        buttonEl.style.display =\n",
              "          google.colab.kernel.accessAllowed ? 'block' : 'none';\n",
              "\n",
              "        async function convertToInteractive(key) {\n",
              "          const element = document.querySelector('#df-506a3d1d-c875-4011-a983-25703584beb0');\n",
              "          const dataTable =\n",
              "            await google.colab.kernel.invokeFunction('convertToInteractive',\n",
              "                                                     [key], {});\n",
              "          if (!dataTable) return;\n",
              "\n",
              "          const docLinkHtml = 'Like what you see? Visit the ' +\n",
              "            '<a target=\"_blank\" href=https://colab.research.google.com/notebooks/data_table.ipynb>data table notebook</a>'\n",
              "            + ' to learn more about interactive tables.';\n",
              "          element.innerHTML = '';\n",
              "          dataTable['output_type'] = 'display_data';\n",
              "          await google.colab.output.renderOutput(dataTable, element);\n",
              "          const docLink = document.createElement('div');\n",
              "          docLink.innerHTML = docLinkHtml;\n",
              "          element.appendChild(docLink);\n",
              "        }\n",
              "      </script>\n",
              "    </div>\n",
              "  </div>\n",
              "  "
            ]
          },
          "metadata": {},
          "execution_count": 80
        }
      ]
    },
    {
      "cell_type": "code",
      "source": [
        "house_df.dtypes"
      ],
      "metadata": {
        "colab": {
          "base_uri": "https://localhost:8080/"
        },
        "id": "CQTMV9JZhKLz",
        "outputId": "ba603ac9-646d-4c6e-b6fc-06eafa6d2aec"
      },
      "execution_count": 79,
      "outputs": [
        {
          "output_type": "execute_result",
          "data": {
            "text/plain": [
              "diposting_oleh           object\n",
              "sedang_pembangunan      float64\n",
              "disetujui_pemerintah      int64\n",
              "total_ruangan           float64\n",
              "tipe_a_atau_b            object\n",
              "kaki_persegi            float64\n",
              "siap_pindah              object\n",
              "dijual_kembali           object\n",
              "alamat                   object\n",
              "latitude                float64\n",
              "longitude               float64\n",
              "harga                   float64\n",
              "dtype: object"
            ]
          },
          "metadata": {},
          "execution_count": 79
        }
      ]
    },
    {
      "cell_type": "markdown",
      "source": [
        "In this case, I will convert the columns that have binary values to integers because it's more appropriate. I also convert the total_ruangan type to an integer since there is no chance that total_ruangan has a decimal number."
      ],
      "metadata": {
        "id": "arHS2Zq3hyiV"
      }
    },
    {
      "cell_type": "code",
      "source": [
        "# Convert to integer\n",
        "col_to_int = ['sedang_pembangunan', 'total_ruangan', 'siap_pindah', 'dijual_kembali']\n",
        "\n",
        "house_df[col_to_int] = house_df[col_to_int].astype(int)"
      ],
      "metadata": {
        "id": "VjVtFpDnhge_"
      },
      "execution_count": 81,
      "outputs": []
    },
    {
      "cell_type": "code",
      "source": [
        "house_df.head()"
      ],
      "metadata": {
        "colab": {
          "base_uri": "https://localhost:8080/",
          "height": 339
        },
        "id": "1EXN-C84iebu",
        "outputId": "5c726cc9-f53d-4d00-d5b3-66b3da8c522a"
      },
      "execution_count": 82,
      "outputs": [
        {
          "output_type": "execute_result",
          "data": {
            "text/plain": [
              "  diposting_oleh  sedang_pembangunan  disetujui_pemerintah  total_ruangan  \\\n",
              "0          Owner                   0                     0              2   \n",
              "1         Dealer                   0                     0              2   \n",
              "2          Owner                   0                     0              2   \n",
              "3          Owner                   0                     1              2   \n",
              "5          Owner                   0                     0              3   \n",
              "\n",
              "  tipe_a_atau_b  kaki_persegi  siap_pindah  dijual_kembali  \\\n",
              "0        tipe_a   1300.236407            1               1   \n",
              "1        tipe_a   1275.000000            1               1   \n",
              "2        tipe_a    933.159722            1               1   \n",
              "3        tipe_a    929.921143            1               1   \n",
              "5        tipe_a   1250.000000            1               1   \n",
              "\n",
              "                        alamat   latitude  longitude  harga  \n",
              "0        Ksfc Layout,Bangalore  12.969910  77.597960   55.0  \n",
              "1    Vishweshwara Nagar,Mysore  12.274538  76.644605   51.0  \n",
              "2             Jigani,Bangalore  12.778033  77.632191   43.0  \n",
              "3  Sector-1 Vaishali,Ghaziabad  28.642300  77.344500   62.5  \n",
              "5         South Chittoor,Kochi  10.033280  76.282571   42.0  "
            ],
            "text/html": [
              "\n",
              "  <div id=\"df-cadd6d86-1d17-43c2-beea-6a25682b969b\">\n",
              "    <div class=\"colab-df-container\">\n",
              "      <div>\n",
              "<style scoped>\n",
              "    .dataframe tbody tr th:only-of-type {\n",
              "        vertical-align: middle;\n",
              "    }\n",
              "\n",
              "    .dataframe tbody tr th {\n",
              "        vertical-align: top;\n",
              "    }\n",
              "\n",
              "    .dataframe thead th {\n",
              "        text-align: right;\n",
              "    }\n",
              "</style>\n",
              "<table border=\"1\" class=\"dataframe\">\n",
              "  <thead>\n",
              "    <tr style=\"text-align: right;\">\n",
              "      <th></th>\n",
              "      <th>diposting_oleh</th>\n",
              "      <th>sedang_pembangunan</th>\n",
              "      <th>disetujui_pemerintah</th>\n",
              "      <th>total_ruangan</th>\n",
              "      <th>tipe_a_atau_b</th>\n",
              "      <th>kaki_persegi</th>\n",
              "      <th>siap_pindah</th>\n",
              "      <th>dijual_kembali</th>\n",
              "      <th>alamat</th>\n",
              "      <th>latitude</th>\n",
              "      <th>longitude</th>\n",
              "      <th>harga</th>\n",
              "    </tr>\n",
              "  </thead>\n",
              "  <tbody>\n",
              "    <tr>\n",
              "      <th>0</th>\n",
              "      <td>Owner</td>\n",
              "      <td>0</td>\n",
              "      <td>0</td>\n",
              "      <td>2</td>\n",
              "      <td>tipe_a</td>\n",
              "      <td>1300.236407</td>\n",
              "      <td>1</td>\n",
              "      <td>1</td>\n",
              "      <td>Ksfc Layout,Bangalore</td>\n",
              "      <td>12.969910</td>\n",
              "      <td>77.597960</td>\n",
              "      <td>55.0</td>\n",
              "    </tr>\n",
              "    <tr>\n",
              "      <th>1</th>\n",
              "      <td>Dealer</td>\n",
              "      <td>0</td>\n",
              "      <td>0</td>\n",
              "      <td>2</td>\n",
              "      <td>tipe_a</td>\n",
              "      <td>1275.000000</td>\n",
              "      <td>1</td>\n",
              "      <td>1</td>\n",
              "      <td>Vishweshwara Nagar,Mysore</td>\n",
              "      <td>12.274538</td>\n",
              "      <td>76.644605</td>\n",
              "      <td>51.0</td>\n",
              "    </tr>\n",
              "    <tr>\n",
              "      <th>2</th>\n",
              "      <td>Owner</td>\n",
              "      <td>0</td>\n",
              "      <td>0</td>\n",
              "      <td>2</td>\n",
              "      <td>tipe_a</td>\n",
              "      <td>933.159722</td>\n",
              "      <td>1</td>\n",
              "      <td>1</td>\n",
              "      <td>Jigani,Bangalore</td>\n",
              "      <td>12.778033</td>\n",
              "      <td>77.632191</td>\n",
              "      <td>43.0</td>\n",
              "    </tr>\n",
              "    <tr>\n",
              "      <th>3</th>\n",
              "      <td>Owner</td>\n",
              "      <td>0</td>\n",
              "      <td>1</td>\n",
              "      <td>2</td>\n",
              "      <td>tipe_a</td>\n",
              "      <td>929.921143</td>\n",
              "      <td>1</td>\n",
              "      <td>1</td>\n",
              "      <td>Sector-1 Vaishali,Ghaziabad</td>\n",
              "      <td>28.642300</td>\n",
              "      <td>77.344500</td>\n",
              "      <td>62.5</td>\n",
              "    </tr>\n",
              "    <tr>\n",
              "      <th>5</th>\n",
              "      <td>Owner</td>\n",
              "      <td>0</td>\n",
              "      <td>0</td>\n",
              "      <td>3</td>\n",
              "      <td>tipe_a</td>\n",
              "      <td>1250.000000</td>\n",
              "      <td>1</td>\n",
              "      <td>1</td>\n",
              "      <td>South Chittoor,Kochi</td>\n",
              "      <td>10.033280</td>\n",
              "      <td>76.282571</td>\n",
              "      <td>42.0</td>\n",
              "    </tr>\n",
              "  </tbody>\n",
              "</table>\n",
              "</div>\n",
              "      <button class=\"colab-df-convert\" onclick=\"convertToInteractive('df-cadd6d86-1d17-43c2-beea-6a25682b969b')\"\n",
              "              title=\"Convert this dataframe to an interactive table.\"\n",
              "              style=\"display:none;\">\n",
              "        \n",
              "  <svg xmlns=\"http://www.w3.org/2000/svg\" height=\"24px\"viewBox=\"0 0 24 24\"\n",
              "       width=\"24px\">\n",
              "    <path d=\"M0 0h24v24H0V0z\" fill=\"none\"/>\n",
              "    <path d=\"M18.56 5.44l.94 2.06.94-2.06 2.06-.94-2.06-.94-.94-2.06-.94 2.06-2.06.94zm-11 1L8.5 8.5l.94-2.06 2.06-.94-2.06-.94L8.5 2.5l-.94 2.06-2.06.94zm10 10l.94 2.06.94-2.06 2.06-.94-2.06-.94-.94-2.06-.94 2.06-2.06.94z\"/><path d=\"M17.41 7.96l-1.37-1.37c-.4-.4-.92-.59-1.43-.59-.52 0-1.04.2-1.43.59L10.3 9.45l-7.72 7.72c-.78.78-.78 2.05 0 2.83L4 21.41c.39.39.9.59 1.41.59.51 0 1.02-.2 1.41-.59l7.78-7.78 2.81-2.81c.8-.78.8-2.07 0-2.86zM5.41 20L4 18.59l7.72-7.72 1.47 1.35L5.41 20z\"/>\n",
              "  </svg>\n",
              "      </button>\n",
              "      \n",
              "  <style>\n",
              "    .colab-df-container {\n",
              "      display:flex;\n",
              "      flex-wrap:wrap;\n",
              "      gap: 12px;\n",
              "    }\n",
              "\n",
              "    .colab-df-convert {\n",
              "      background-color: #E8F0FE;\n",
              "      border: none;\n",
              "      border-radius: 50%;\n",
              "      cursor: pointer;\n",
              "      display: none;\n",
              "      fill: #1967D2;\n",
              "      height: 32px;\n",
              "      padding: 0 0 0 0;\n",
              "      width: 32px;\n",
              "    }\n",
              "\n",
              "    .colab-df-convert:hover {\n",
              "      background-color: #E2EBFA;\n",
              "      box-shadow: 0px 1px 2px rgba(60, 64, 67, 0.3), 0px 1px 3px 1px rgba(60, 64, 67, 0.15);\n",
              "      fill: #174EA6;\n",
              "    }\n",
              "\n",
              "    [theme=dark] .colab-df-convert {\n",
              "      background-color: #3B4455;\n",
              "      fill: #D2E3FC;\n",
              "    }\n",
              "\n",
              "    [theme=dark] .colab-df-convert:hover {\n",
              "      background-color: #434B5C;\n",
              "      box-shadow: 0px 1px 3px 1px rgba(0, 0, 0, 0.15);\n",
              "      filter: drop-shadow(0px 1px 2px rgba(0, 0, 0, 0.3));\n",
              "      fill: #FFFFFF;\n",
              "    }\n",
              "  </style>\n",
              "\n",
              "      <script>\n",
              "        const buttonEl =\n",
              "          document.querySelector('#df-cadd6d86-1d17-43c2-beea-6a25682b969b button.colab-df-convert');\n",
              "        buttonEl.style.display =\n",
              "          google.colab.kernel.accessAllowed ? 'block' : 'none';\n",
              "\n",
              "        async function convertToInteractive(key) {\n",
              "          const element = document.querySelector('#df-cadd6d86-1d17-43c2-beea-6a25682b969b');\n",
              "          const dataTable =\n",
              "            await google.colab.kernel.invokeFunction('convertToInteractive',\n",
              "                                                     [key], {});\n",
              "          if (!dataTable) return;\n",
              "\n",
              "          const docLinkHtml = 'Like what you see? Visit the ' +\n",
              "            '<a target=\"_blank\" href=https://colab.research.google.com/notebooks/data_table.ipynb>data table notebook</a>'\n",
              "            + ' to learn more about interactive tables.';\n",
              "          element.innerHTML = '';\n",
              "          dataTable['output_type'] = 'display_data';\n",
              "          await google.colab.output.renderOutput(dataTable, element);\n",
              "          const docLink = document.createElement('div');\n",
              "          docLink.innerHTML = docLinkHtml;\n",
              "          element.appendChild(docLink);\n",
              "        }\n",
              "      </script>\n",
              "    </div>\n",
              "  </div>\n",
              "  "
            ]
          },
          "metadata": {},
          "execution_count": 82
        }
      ]
    },
    {
      "cell_type": "code",
      "source": [
        "house_df.dtypes"
      ],
      "metadata": {
        "colab": {
          "base_uri": "https://localhost:8080/"
        },
        "id": "-Lo7VK1Jiipy",
        "outputId": "5b429adc-1de9-41cf-8c57-c5735dd6867b"
      },
      "execution_count": 83,
      "outputs": [
        {
          "output_type": "execute_result",
          "data": {
            "text/plain": [
              "diposting_oleh           object\n",
              "sedang_pembangunan        int64\n",
              "disetujui_pemerintah      int64\n",
              "total_ruangan             int64\n",
              "tipe_a_atau_b            object\n",
              "kaki_persegi            float64\n",
              "siap_pindah               int64\n",
              "dijual_kembali            int64\n",
              "alamat                   object\n",
              "latitude                float64\n",
              "longitude               float64\n",
              "harga                   float64\n",
              "dtype: object"
            ]
          },
          "metadata": {},
          "execution_count": 83
        }
      ]
    },
    {
      "cell_type": "markdown",
      "source": [
        "# Data Preprocessing"
      ],
      "metadata": {
        "id": "rQ8LsYdCio9A"
      }
    },
    {
      "cell_type": "markdown",
      "source": [
        "## Feature Selection"
      ],
      "metadata": {
        "id": "a80DaA8bi3_K"
      }
    },
    {
      "cell_type": "markdown",
      "source": [
        "Before building the ML model, there are several processes that we need to do, including dividing the column into features and targets and selecting features. We decide that the columns to feature are all columns except the alamat column. This is because the alamat feature has been represented by the longitude and latitude columns so that if we use the alamat column, redundant information occurs. Our target column is the harga column. This is because we want to make price predictions using the information in the other columns."
      ],
      "metadata": {
        "id": "Ib5OBllyjJyu"
      }
    },
    {
      "cell_type": "code",
      "source": [
        "# Split feature and target columns\n",
        "X = house_df.drop(['harga', 'alamat'], axis=1)\n",
        "y = house_df['harga']"
      ],
      "metadata": {
        "id": "Z-9inJOqil0B"
      },
      "execution_count": 84,
      "outputs": []
    },
    {
      "cell_type": "markdown",
      "source": [
        "## One-Hot Encoding for Categorical columns"
      ],
      "metadata": {
        "id": "FZZjnmCujjWh"
      }
    },
    {
      "cell_type": "code",
      "source": [
        "# one-hot encoding for diposting_oleh and tipe_a_atau_b\n",
        "X = pd.get_dummies(X, drop_first=True)\n",
        "X.head()"
      ],
      "metadata": {
        "colab": {
          "base_uri": "https://localhost:8080/",
          "height": 270
        },
        "id": "Z65jtAeVjgYo",
        "outputId": "454f5e33-ff71-4e2b-f457-f00a927c0432"
      },
      "execution_count": 85,
      "outputs": [
        {
          "output_type": "execute_result",
          "data": {
            "text/plain": [
              "   sedang_pembangunan  disetujui_pemerintah  total_ruangan  kaki_persegi  \\\n",
              "0                   0                     0              2   1300.236407   \n",
              "1                   0                     0              2   1275.000000   \n",
              "2                   0                     0              2    933.159722   \n",
              "3                   0                     1              2    929.921143   \n",
              "5                   0                     0              3   1250.000000   \n",
              "\n",
              "   siap_pindah  dijual_kembali   latitude  longitude  diposting_oleh_Dealer  \\\n",
              "0            1               1  12.969910  77.597960                      0   \n",
              "1            1               1  12.274538  76.644605                      1   \n",
              "2            1               1  12.778033  77.632191                      0   \n",
              "3            1               1  28.642300  77.344500                      0   \n",
              "5            1               1  10.033280  76.282571                      0   \n",
              "\n",
              "   diposting_oleh_Owner  tipe_a_atau_b_tipe_b  \n",
              "0                     1                     0  \n",
              "1                     0                     0  \n",
              "2                     1                     0  \n",
              "3                     1                     0  \n",
              "5                     1                     0  "
            ],
            "text/html": [
              "\n",
              "  <div id=\"df-293092e1-efe5-4c9e-b70f-880c871d747c\">\n",
              "    <div class=\"colab-df-container\">\n",
              "      <div>\n",
              "<style scoped>\n",
              "    .dataframe tbody tr th:only-of-type {\n",
              "        vertical-align: middle;\n",
              "    }\n",
              "\n",
              "    .dataframe tbody tr th {\n",
              "        vertical-align: top;\n",
              "    }\n",
              "\n",
              "    .dataframe thead th {\n",
              "        text-align: right;\n",
              "    }\n",
              "</style>\n",
              "<table border=\"1\" class=\"dataframe\">\n",
              "  <thead>\n",
              "    <tr style=\"text-align: right;\">\n",
              "      <th></th>\n",
              "      <th>sedang_pembangunan</th>\n",
              "      <th>disetujui_pemerintah</th>\n",
              "      <th>total_ruangan</th>\n",
              "      <th>kaki_persegi</th>\n",
              "      <th>siap_pindah</th>\n",
              "      <th>dijual_kembali</th>\n",
              "      <th>latitude</th>\n",
              "      <th>longitude</th>\n",
              "      <th>diposting_oleh_Dealer</th>\n",
              "      <th>diposting_oleh_Owner</th>\n",
              "      <th>tipe_a_atau_b_tipe_b</th>\n",
              "    </tr>\n",
              "  </thead>\n",
              "  <tbody>\n",
              "    <tr>\n",
              "      <th>0</th>\n",
              "      <td>0</td>\n",
              "      <td>0</td>\n",
              "      <td>2</td>\n",
              "      <td>1300.236407</td>\n",
              "      <td>1</td>\n",
              "      <td>1</td>\n",
              "      <td>12.969910</td>\n",
              "      <td>77.597960</td>\n",
              "      <td>0</td>\n",
              "      <td>1</td>\n",
              "      <td>0</td>\n",
              "    </tr>\n",
              "    <tr>\n",
              "      <th>1</th>\n",
              "      <td>0</td>\n",
              "      <td>0</td>\n",
              "      <td>2</td>\n",
              "      <td>1275.000000</td>\n",
              "      <td>1</td>\n",
              "      <td>1</td>\n",
              "      <td>12.274538</td>\n",
              "      <td>76.644605</td>\n",
              "      <td>1</td>\n",
              "      <td>0</td>\n",
              "      <td>0</td>\n",
              "    </tr>\n",
              "    <tr>\n",
              "      <th>2</th>\n",
              "      <td>0</td>\n",
              "      <td>0</td>\n",
              "      <td>2</td>\n",
              "      <td>933.159722</td>\n",
              "      <td>1</td>\n",
              "      <td>1</td>\n",
              "      <td>12.778033</td>\n",
              "      <td>77.632191</td>\n",
              "      <td>0</td>\n",
              "      <td>1</td>\n",
              "      <td>0</td>\n",
              "    </tr>\n",
              "    <tr>\n",
              "      <th>3</th>\n",
              "      <td>0</td>\n",
              "      <td>1</td>\n",
              "      <td>2</td>\n",
              "      <td>929.921143</td>\n",
              "      <td>1</td>\n",
              "      <td>1</td>\n",
              "      <td>28.642300</td>\n",
              "      <td>77.344500</td>\n",
              "      <td>0</td>\n",
              "      <td>1</td>\n",
              "      <td>0</td>\n",
              "    </tr>\n",
              "    <tr>\n",
              "      <th>5</th>\n",
              "      <td>0</td>\n",
              "      <td>0</td>\n",
              "      <td>3</td>\n",
              "      <td>1250.000000</td>\n",
              "      <td>1</td>\n",
              "      <td>1</td>\n",
              "      <td>10.033280</td>\n",
              "      <td>76.282571</td>\n",
              "      <td>0</td>\n",
              "      <td>1</td>\n",
              "      <td>0</td>\n",
              "    </tr>\n",
              "  </tbody>\n",
              "</table>\n",
              "</div>\n",
              "      <button class=\"colab-df-convert\" onclick=\"convertToInteractive('df-293092e1-efe5-4c9e-b70f-880c871d747c')\"\n",
              "              title=\"Convert this dataframe to an interactive table.\"\n",
              "              style=\"display:none;\">\n",
              "        \n",
              "  <svg xmlns=\"http://www.w3.org/2000/svg\" height=\"24px\"viewBox=\"0 0 24 24\"\n",
              "       width=\"24px\">\n",
              "    <path d=\"M0 0h24v24H0V0z\" fill=\"none\"/>\n",
              "    <path d=\"M18.56 5.44l.94 2.06.94-2.06 2.06-.94-2.06-.94-.94-2.06-.94 2.06-2.06.94zm-11 1L8.5 8.5l.94-2.06 2.06-.94-2.06-.94L8.5 2.5l-.94 2.06-2.06.94zm10 10l.94 2.06.94-2.06 2.06-.94-2.06-.94-.94-2.06-.94 2.06-2.06.94z\"/><path d=\"M17.41 7.96l-1.37-1.37c-.4-.4-.92-.59-1.43-.59-.52 0-1.04.2-1.43.59L10.3 9.45l-7.72 7.72c-.78.78-.78 2.05 0 2.83L4 21.41c.39.39.9.59 1.41.59.51 0 1.02-.2 1.41-.59l7.78-7.78 2.81-2.81c.8-.78.8-2.07 0-2.86zM5.41 20L4 18.59l7.72-7.72 1.47 1.35L5.41 20z\"/>\n",
              "  </svg>\n",
              "      </button>\n",
              "      \n",
              "  <style>\n",
              "    .colab-df-container {\n",
              "      display:flex;\n",
              "      flex-wrap:wrap;\n",
              "      gap: 12px;\n",
              "    }\n",
              "\n",
              "    .colab-df-convert {\n",
              "      background-color: #E8F0FE;\n",
              "      border: none;\n",
              "      border-radius: 50%;\n",
              "      cursor: pointer;\n",
              "      display: none;\n",
              "      fill: #1967D2;\n",
              "      height: 32px;\n",
              "      padding: 0 0 0 0;\n",
              "      width: 32px;\n",
              "    }\n",
              "\n",
              "    .colab-df-convert:hover {\n",
              "      background-color: #E2EBFA;\n",
              "      box-shadow: 0px 1px 2px rgba(60, 64, 67, 0.3), 0px 1px 3px 1px rgba(60, 64, 67, 0.15);\n",
              "      fill: #174EA6;\n",
              "    }\n",
              "\n",
              "    [theme=dark] .colab-df-convert {\n",
              "      background-color: #3B4455;\n",
              "      fill: #D2E3FC;\n",
              "    }\n",
              "\n",
              "    [theme=dark] .colab-df-convert:hover {\n",
              "      background-color: #434B5C;\n",
              "      box-shadow: 0px 1px 3px 1px rgba(0, 0, 0, 0.15);\n",
              "      filter: drop-shadow(0px 1px 2px rgba(0, 0, 0, 0.3));\n",
              "      fill: #FFFFFF;\n",
              "    }\n",
              "  </style>\n",
              "\n",
              "      <script>\n",
              "        const buttonEl =\n",
              "          document.querySelector('#df-293092e1-efe5-4c9e-b70f-880c871d747c button.colab-df-convert');\n",
              "        buttonEl.style.display =\n",
              "          google.colab.kernel.accessAllowed ? 'block' : 'none';\n",
              "\n",
              "        async function convertToInteractive(key) {\n",
              "          const element = document.querySelector('#df-293092e1-efe5-4c9e-b70f-880c871d747c');\n",
              "          const dataTable =\n",
              "            await google.colab.kernel.invokeFunction('convertToInteractive',\n",
              "                                                     [key], {});\n",
              "          if (!dataTable) return;\n",
              "\n",
              "          const docLinkHtml = 'Like what you see? Visit the ' +\n",
              "            '<a target=\"_blank\" href=https://colab.research.google.com/notebooks/data_table.ipynb>data table notebook</a>'\n",
              "            + ' to learn more about interactive tables.';\n",
              "          element.innerHTML = '';\n",
              "          dataTable['output_type'] = 'display_data';\n",
              "          await google.colab.output.renderOutput(dataTable, element);\n",
              "          const docLink = document.createElement('div');\n",
              "          docLink.innerHTML = docLinkHtml;\n",
              "          element.appendChild(docLink);\n",
              "        }\n",
              "      </script>\n",
              "    </div>\n",
              "  </div>\n",
              "  "
            ]
          },
          "metadata": {},
          "execution_count": 85
        }
      ]
    },
    {
      "cell_type": "markdown",
      "source": [
        "## Standardization for Numerical columns"
      ],
      "metadata": {
        "id": "p8OvjckOjwYL"
      }
    },
    {
      "cell_type": "code",
      "source": [
        "from sklearn.preprocessing import StandardScaler\n",
        "\n",
        "cols = ['kaki_persegi', 'latitude', 'longitude']\n",
        "\n",
        "# Standardization for kaki_persegi, latitude, and longitude\n",
        "scaler = StandardScaler()\n",
        "scaler.fit(X[cols])\n",
        "\n",
        "# Standardization\n",
        "X[cols] = scaler.transform(X[cols])\n",
        "\n",
        "X.head()"
      ],
      "metadata": {
        "colab": {
          "base_uri": "https://localhost:8080/",
          "height": 270
        },
        "id": "mDdwzUX-juZT",
        "outputId": "2d8306e3-ae64-492a-9bb0-8a8edb4202d8"
      },
      "execution_count": 86,
      "outputs": [
        {
          "output_type": "execute_result",
          "data": {
            "text/plain": [
              "   sedang_pembangunan  disetujui_pemerintah  total_ruangan  kaki_persegi  \\\n",
              "0                   0                     0              2      0.361788   \n",
              "1                   0                     0              2      0.298306   \n",
              "2                   0                     0              2     -0.561593   \n",
              "3                   0                     1              2     -0.569740   \n",
              "5                   0                     0              3      0.235418   \n",
              "\n",
              "   siap_pindah  dijual_kembali  latitude  longitude  diposting_oleh_Dealer  \\\n",
              "0            1               1 -1.291784   0.520099                      0   \n",
              "1            1               1 -1.403301   0.132232                      1   \n",
              "2            1               1 -1.322556   0.534025                      0   \n",
              "3            1               1  1.221591   0.416980                      0   \n",
              "5            1               1 -1.762731  -0.015059                      0   \n",
              "\n",
              "   diposting_oleh_Owner  tipe_a_atau_b_tipe_b  \n",
              "0                     1                     0  \n",
              "1                     0                     0  \n",
              "2                     1                     0  \n",
              "3                     1                     0  \n",
              "5                     1                     0  "
            ],
            "text/html": [
              "\n",
              "  <div id=\"df-6deb3464-b8f4-461f-b147-bc45a0c51e67\">\n",
              "    <div class=\"colab-df-container\">\n",
              "      <div>\n",
              "<style scoped>\n",
              "    .dataframe tbody tr th:only-of-type {\n",
              "        vertical-align: middle;\n",
              "    }\n",
              "\n",
              "    .dataframe tbody tr th {\n",
              "        vertical-align: top;\n",
              "    }\n",
              "\n",
              "    .dataframe thead th {\n",
              "        text-align: right;\n",
              "    }\n",
              "</style>\n",
              "<table border=\"1\" class=\"dataframe\">\n",
              "  <thead>\n",
              "    <tr style=\"text-align: right;\">\n",
              "      <th></th>\n",
              "      <th>sedang_pembangunan</th>\n",
              "      <th>disetujui_pemerintah</th>\n",
              "      <th>total_ruangan</th>\n",
              "      <th>kaki_persegi</th>\n",
              "      <th>siap_pindah</th>\n",
              "      <th>dijual_kembali</th>\n",
              "      <th>latitude</th>\n",
              "      <th>longitude</th>\n",
              "      <th>diposting_oleh_Dealer</th>\n",
              "      <th>diposting_oleh_Owner</th>\n",
              "      <th>tipe_a_atau_b_tipe_b</th>\n",
              "    </tr>\n",
              "  </thead>\n",
              "  <tbody>\n",
              "    <tr>\n",
              "      <th>0</th>\n",
              "      <td>0</td>\n",
              "      <td>0</td>\n",
              "      <td>2</td>\n",
              "      <td>0.361788</td>\n",
              "      <td>1</td>\n",
              "      <td>1</td>\n",
              "      <td>-1.291784</td>\n",
              "      <td>0.520099</td>\n",
              "      <td>0</td>\n",
              "      <td>1</td>\n",
              "      <td>0</td>\n",
              "    </tr>\n",
              "    <tr>\n",
              "      <th>1</th>\n",
              "      <td>0</td>\n",
              "      <td>0</td>\n",
              "      <td>2</td>\n",
              "      <td>0.298306</td>\n",
              "      <td>1</td>\n",
              "      <td>1</td>\n",
              "      <td>-1.403301</td>\n",
              "      <td>0.132232</td>\n",
              "      <td>1</td>\n",
              "      <td>0</td>\n",
              "      <td>0</td>\n",
              "    </tr>\n",
              "    <tr>\n",
              "      <th>2</th>\n",
              "      <td>0</td>\n",
              "      <td>0</td>\n",
              "      <td>2</td>\n",
              "      <td>-0.561593</td>\n",
              "      <td>1</td>\n",
              "      <td>1</td>\n",
              "      <td>-1.322556</td>\n",
              "      <td>0.534025</td>\n",
              "      <td>0</td>\n",
              "      <td>1</td>\n",
              "      <td>0</td>\n",
              "    </tr>\n",
              "    <tr>\n",
              "      <th>3</th>\n",
              "      <td>0</td>\n",
              "      <td>1</td>\n",
              "      <td>2</td>\n",
              "      <td>-0.569740</td>\n",
              "      <td>1</td>\n",
              "      <td>1</td>\n",
              "      <td>1.221591</td>\n",
              "      <td>0.416980</td>\n",
              "      <td>0</td>\n",
              "      <td>1</td>\n",
              "      <td>0</td>\n",
              "    </tr>\n",
              "    <tr>\n",
              "      <th>5</th>\n",
              "      <td>0</td>\n",
              "      <td>0</td>\n",
              "      <td>3</td>\n",
              "      <td>0.235418</td>\n",
              "      <td>1</td>\n",
              "      <td>1</td>\n",
              "      <td>-1.762731</td>\n",
              "      <td>-0.015059</td>\n",
              "      <td>0</td>\n",
              "      <td>1</td>\n",
              "      <td>0</td>\n",
              "    </tr>\n",
              "  </tbody>\n",
              "</table>\n",
              "</div>\n",
              "      <button class=\"colab-df-convert\" onclick=\"convertToInteractive('df-6deb3464-b8f4-461f-b147-bc45a0c51e67')\"\n",
              "              title=\"Convert this dataframe to an interactive table.\"\n",
              "              style=\"display:none;\">\n",
              "        \n",
              "  <svg xmlns=\"http://www.w3.org/2000/svg\" height=\"24px\"viewBox=\"0 0 24 24\"\n",
              "       width=\"24px\">\n",
              "    <path d=\"M0 0h24v24H0V0z\" fill=\"none\"/>\n",
              "    <path d=\"M18.56 5.44l.94 2.06.94-2.06 2.06-.94-2.06-.94-.94-2.06-.94 2.06-2.06.94zm-11 1L8.5 8.5l.94-2.06 2.06-.94-2.06-.94L8.5 2.5l-.94 2.06-2.06.94zm10 10l.94 2.06.94-2.06 2.06-.94-2.06-.94-.94-2.06-.94 2.06-2.06.94z\"/><path d=\"M17.41 7.96l-1.37-1.37c-.4-.4-.92-.59-1.43-.59-.52 0-1.04.2-1.43.59L10.3 9.45l-7.72 7.72c-.78.78-.78 2.05 0 2.83L4 21.41c.39.39.9.59 1.41.59.51 0 1.02-.2 1.41-.59l7.78-7.78 2.81-2.81c.8-.78.8-2.07 0-2.86zM5.41 20L4 18.59l7.72-7.72 1.47 1.35L5.41 20z\"/>\n",
              "  </svg>\n",
              "      </button>\n",
              "      \n",
              "  <style>\n",
              "    .colab-df-container {\n",
              "      display:flex;\n",
              "      flex-wrap:wrap;\n",
              "      gap: 12px;\n",
              "    }\n",
              "\n",
              "    .colab-df-convert {\n",
              "      background-color: #E8F0FE;\n",
              "      border: none;\n",
              "      border-radius: 50%;\n",
              "      cursor: pointer;\n",
              "      display: none;\n",
              "      fill: #1967D2;\n",
              "      height: 32px;\n",
              "      padding: 0 0 0 0;\n",
              "      width: 32px;\n",
              "    }\n",
              "\n",
              "    .colab-df-convert:hover {\n",
              "      background-color: #E2EBFA;\n",
              "      box-shadow: 0px 1px 2px rgba(60, 64, 67, 0.3), 0px 1px 3px 1px rgba(60, 64, 67, 0.15);\n",
              "      fill: #174EA6;\n",
              "    }\n",
              "\n",
              "    [theme=dark] .colab-df-convert {\n",
              "      background-color: #3B4455;\n",
              "      fill: #D2E3FC;\n",
              "    }\n",
              "\n",
              "    [theme=dark] .colab-df-convert:hover {\n",
              "      background-color: #434B5C;\n",
              "      box-shadow: 0px 1px 3px 1px rgba(0, 0, 0, 0.15);\n",
              "      filter: drop-shadow(0px 1px 2px rgba(0, 0, 0, 0.3));\n",
              "      fill: #FFFFFF;\n",
              "    }\n",
              "  </style>\n",
              "\n",
              "      <script>\n",
              "        const buttonEl =\n",
              "          document.querySelector('#df-6deb3464-b8f4-461f-b147-bc45a0c51e67 button.colab-df-convert');\n",
              "        buttonEl.style.display =\n",
              "          google.colab.kernel.accessAllowed ? 'block' : 'none';\n",
              "\n",
              "        async function convertToInteractive(key) {\n",
              "          const element = document.querySelector('#df-6deb3464-b8f4-461f-b147-bc45a0c51e67');\n",
              "          const dataTable =\n",
              "            await google.colab.kernel.invokeFunction('convertToInteractive',\n",
              "                                                     [key], {});\n",
              "          if (!dataTable) return;\n",
              "\n",
              "          const docLinkHtml = 'Like what you see? Visit the ' +\n",
              "            '<a target=\"_blank\" href=https://colab.research.google.com/notebooks/data_table.ipynb>data table notebook</a>'\n",
              "            + ' to learn more about interactive tables.';\n",
              "          element.innerHTML = '';\n",
              "          dataTable['output_type'] = 'display_data';\n",
              "          await google.colab.output.renderOutput(dataTable, element);\n",
              "          const docLink = document.createElement('div');\n",
              "          docLink.innerHTML = docLinkHtml;\n",
              "          element.appendChild(docLink);\n",
              "        }\n",
              "      </script>\n",
              "    </div>\n",
              "  </div>\n",
              "  "
            ]
          },
          "metadata": {},
          "execution_count": 86
        }
      ]
    },
    {
      "cell_type": "markdown",
      "source": [
        "## Split Train Test Data"
      ],
      "metadata": {
        "id": "hGKWH01Lk0Q_"
      }
    },
    {
      "cell_type": "code",
      "source": [
        "from sklearn.model_selection import train_test_split\n",
        "\n",
        "# Split training dan validation set\n",
        "X_train, X_val, y_train, y_val = train_test_split(X, y, test_size=.25, random_state=101)"
      ],
      "metadata": {
        "id": "_8nSA43pkv8e"
      },
      "execution_count": 87,
      "outputs": []
    },
    {
      "cell_type": "markdown",
      "source": [
        "# ML Model"
      ],
      "metadata": {
        "id": "UWaW3rozlCd-"
      }
    },
    {
      "cell_type": "markdown",
      "source": [
        "## Random Forest Regressor"
      ],
      "metadata": {
        "id": "XLONEvFUlHnn"
      }
    },
    {
      "cell_type": "code",
      "source": [
        "from sklearn.ensemble import RandomForestRegressor\n",
        "\n",
        "# Training model using random forest regressor\n",
        "rfr = RandomForestRegressor(verbose=1)\n",
        "rfr.fit(X_train, y_train)"
      ],
      "metadata": {
        "colab": {
          "base_uri": "https://localhost:8080/"
        },
        "id": "_CwiXUAJlAUh",
        "outputId": "135112dd-1f41-4dc2-e4ec-451a370baf29"
      },
      "execution_count": 97,
      "outputs": [
        {
          "output_type": "stream",
          "name": "stderr",
          "text": [
            "[Parallel(n_jobs=1)]: Using backend SequentialBackend with 1 concurrent workers.\n",
            "[Parallel(n_jobs=1)]: Done 100 out of 100 | elapsed:    5.7s finished\n"
          ]
        },
        {
          "output_type": "execute_result",
          "data": {
            "text/plain": [
              "RandomForestRegressor(verbose=1)"
            ]
          },
          "metadata": {},
          "execution_count": 97
        }
      ]
    },
    {
      "cell_type": "code",
      "source": [
        "# Predicting validation set\n",
        "y_predict = rfr.predict(X_val)"
      ],
      "metadata": {
        "colab": {
          "base_uri": "https://localhost:8080/"
        },
        "id": "5DvFDI7IlPo9",
        "outputId": "5247367d-9af2-4624-b330-ae4637702ae0"
      },
      "execution_count": 98,
      "outputs": [
        {
          "output_type": "stream",
          "name": "stderr",
          "text": [
            "[Parallel(n_jobs=1)]: Using backend SequentialBackend with 1 concurrent workers.\n",
            "[Parallel(n_jobs=1)]: Done 100 out of 100 | elapsed:    0.2s finished\n"
          ]
        }
      ]
    },
    {
      "cell_type": "code",
      "source": [
        "# Evaluating the Model\n",
        "\n",
        "import math \n",
        "from sklearn import metrics\n",
        "\n",
        "# Nilai MSE, MAE, RMSE, dan R2 Square\n",
        "print(\"MSE:\", metrics.mean_squared_error(y_val, y_predict))\n",
        "print(\"MAE:\", metrics.mean_absolute_error(y_val, y_predict))\n",
        "print(\"RMSE: \", math.sqrt(metrics.mean_squared_error(y_val, y_predict))) \n",
        "print(\"R-squared:\", metrics.r2_score(y_val, y_predict))"
      ],
      "metadata": {
        "colab": {
          "base_uri": "https://localhost:8080/"
        },
        "id": "FeWoayiYlSuz",
        "outputId": "59eb0e55-e606-4002-a542-cd6d65692052"
      },
      "execution_count": 99,
      "outputs": [
        {
          "output_type": "stream",
          "name": "stdout",
          "text": [
            "MSE: 469.4480031566668\n",
            "MAE: 14.234663842401343\n",
            "RMSE:  21.666748790639236\n",
            "R-squared: 0.7028020138278996\n"
          ]
        }
      ]
    },
    {
      "cell_type": "code",
      "source": [
        "rfr.feature_importances_"
      ],
      "metadata": {
        "colab": {
          "base_uri": "https://localhost:8080/"
        },
        "id": "7-efkh5kmkb5",
        "outputId": "a29f7e20-dd6a-4861-8768-46029f548cda"
      },
      "execution_count": 100,
      "outputs": [
        {
          "output_type": "execute_result",
          "data": {
            "text/plain": [
              "array([6.99392684e-03, 1.27938497e-02, 8.37706111e-02, 3.20182479e-01,\n",
              "       4.32799698e-03, 4.25497644e-03, 2.46145348e-01, 2.02568909e-01,\n",
              "       1.17891385e-01, 9.31002205e-04, 1.39516077e-04])"
            ]
          },
          "metadata": {},
          "execution_count": 100
        }
      ]
    },
    {
      "cell_type": "code",
      "source": [
        "# view the feature scores\n",
        "\n",
        "feature_scores = pd.Series(rfr.feature_importances_, index=X_train.columns) \\\n",
        "                           .sort_values(ascending=False)\n",
        "\n",
        "feature_scores"
      ],
      "metadata": {
        "colab": {
          "base_uri": "https://localhost:8080/"
        },
        "id": "jNhPqbVVmnI3",
        "outputId": "80797ac2-1456-4ddd-fe22-3026fe4a882f"
      },
      "execution_count": 101,
      "outputs": [
        {
          "output_type": "execute_result",
          "data": {
            "text/plain": [
              "kaki_persegi             0.320182\n",
              "latitude                 0.246145\n",
              "longitude                0.202569\n",
              "diposting_oleh_Dealer    0.117891\n",
              "total_ruangan            0.083771\n",
              "disetujui_pemerintah     0.012794\n",
              "sedang_pembangunan       0.006994\n",
              "siap_pindah              0.004328\n",
              "dijual_kembali           0.004255\n",
              "diposting_oleh_Owner     0.000931\n",
              "tipe_a_atau_b_tipe_b     0.000140\n",
              "dtype: float64"
            ]
          },
          "metadata": {},
          "execution_count": 101
        }
      ]
    },
    {
      "cell_type": "code",
      "source": [
        "# Visualize the feature scores\n",
        "\n",
        "fig, ax = plt.subplots(figsize=(12, 5))\n",
        "ax = sns.barplot(x=feature_scores, y=feature_scores.index, data=house_df)\n",
        "ax.set_title(\"Visualize feature scores of the features\")\n",
        "ax.set_yticklabels(feature_scores.index)\n",
        "ax.set_xlabel(\"Feature importance score\")\n",
        "ax.set_ylabel(\"Features\")"
      ],
      "metadata": {
        "colab": {
          "base_uri": "https://localhost:8080/",
          "height": 368
        },
        "id": "VAvndFommpF0",
        "outputId": "722e1f1d-9f08-41eb-d7c1-e1eed08d147e"
      },
      "execution_count": 102,
      "outputs": [
        {
          "output_type": "execute_result",
          "data": {
            "text/plain": [
              "Text(0, 0.5, 'Features')"
            ]
          },
          "metadata": {},
          "execution_count": 102
        },
        {
          "output_type": "display_data",
          "data": {
            "text/plain": [
              "<Figure size 864x360 with 1 Axes>"
            ],
            "image/png": "[encoded data removed]"
          },
          "metadata": {
            "needs_background": "light"
          }
        }
      ]
    },
    {
      "cell_type": "markdown",
      "source": [
        "## KNN Regressor"
      ],
      "metadata": {
        "id": "oSpkbR80lWS7"
      }
    },
    {
      "cell_type": "code",
      "source": [
        "from sklearn.neighbors import KNeighborsRegressor\n",
        "\n",
        "# training model using KNN Regressor\n",
        "knn = KNeighborsRegressor(n_neighbors=3)\n",
        "knn.fit(X_train, y_train)"
      ],
      "metadata": {
        "colab": {
          "base_uri": "https://localhost:8080/"
        },
        "id": "X5JwcmC3la5x",
        "outputId": "cbf5691f-df49-4aed-de0d-3a60d4ff5782"
      },
      "execution_count": 91,
      "outputs": [
        {
          "output_type": "execute_result",
          "data": {
            "text/plain": [
              "KNeighborsRegressor(n_neighbors=3)"
            ]
          },
          "metadata": {},
          "execution_count": 91
        }
      ]
    },
    {
      "cell_type": "code",
      "source": [
        "# predicting validation set\n",
        "y_predict = knn.predict(X_val)"
      ],
      "metadata": {
        "id": "9S3yGjrZldov"
      },
      "execution_count": 92,
      "outputs": []
    },
    {
      "cell_type": "code",
      "source": [
        "# Evaluating the model\n",
        "\n",
        "import math \n",
        "from sklearn import metrics\n",
        "\n",
        "# Nilai MSE, MAE, RMSE, dan R2 Square\n",
        "print(\"MSE:\", metrics.mean_squared_error(y_val, y_predict))\n",
        "print(\"MAE:\", metrics.mean_absolute_error(y_val, y_predict))\n",
        "print(\"RMSE: \", math.sqrt(metrics.mean_squared_error(y_val, y_predict))) \n",
        "print(\"R-squared:\", metrics.r2_score(y_val, y_predict))"
      ],
      "metadata": {
        "colab": {
          "base_uri": "https://localhost:8080/"
        },
        "id": "rpfx71HZlhFN",
        "outputId": "6d04f4c5-0054-47cf-f16d-e2c97635ae68"
      },
      "execution_count": 93,
      "outputs": [
        {
          "output_type": "stream",
          "name": "stdout",
          "text": [
            "MSE: 741.1353632114696\n",
            "MAE: 18.76150291858679\n",
            "RMSE:  27.223801410006455\n",
            "R-squared: 0.5308022700144084\n"
          ]
        }
      ]
    },
    {
      "cell_type": "markdown",
      "source": [
        "## Neural Network Regressor"
      ],
      "metadata": {
        "id": "T3OuLxR-llH0"
      }
    },
    {
      "cell_type": "code",
      "source": [
        "from sklearn.neural_network import MLPRegressor\n",
        "\n",
        "# training model using Neural Network Regressor\n",
        "mlp = MLPRegressor(random_state=1, max_iter=500)\n",
        "mlp.fit(X_train, y_train)"
      ],
      "metadata": {
        "colab": {
          "base_uri": "https://localhost:8080/"
        },
        "id": "UhhwwakOlj8v",
        "outputId": "3806f1c8-fa88-40e2-d5ef-23f5f7737b10"
      },
      "execution_count": 94,
      "outputs": [
        {
          "output_type": "stream",
          "name": "stderr",
          "text": [
            "/usr/local/lib/python3.7/dist-packages/sklearn/neural_network/_multilayer_perceptron.py:696: ConvergenceWarning: Stochastic Optimizer: Maximum iterations (500) reached and the optimization hasn't converged yet.\n",
            "  ConvergenceWarning,\n"
          ]
        },
        {
          "output_type": "execute_result",
          "data": {
            "text/plain": [
              "MLPRegressor(max_iter=500, random_state=1)"
            ]
          },
          "metadata": {},
          "execution_count": 94
        }
      ]
    },
    {
      "cell_type": "code",
      "source": [
        "# predicting validation set\n",
        "y_predict = mlp.predict(X_val)"
      ],
      "metadata": {
        "id": "33AgdsvdltTy"
      },
      "execution_count": 95,
      "outputs": []
    },
    {
      "cell_type": "code",
      "source": [
        "# Evaluating the model\n",
        "\n",
        "import math \n",
        "from sklearn import metrics\n",
        "\n",
        "# Nilai MSE, MAE, RMSE, dan R2 Square\n",
        "print(\"MSE:\", metrics.mean_squared_error(y_val, y_predict))\n",
        "print(\"MAE:\", metrics.mean_absolute_error(y_val, y_predict))\n",
        "print(\"RMSE: \", math.sqrt(metrics.mean_squared_error(y_val, y_predict))) \n",
        "print(\"R-squared:\", metrics.r2_score(y_val, y_predict))"
      ],
      "metadata": {
        "colab": {
          "base_uri": "https://localhost:8080/"
        },
        "id": "tvzBLW3alvVe",
        "outputId": "11d2c4c5-dded-4c7f-b22f-9556105bb2cc"
      },
      "execution_count": 96,
      "outputs": [
        {
          "output_type": "stream",
          "name": "stdout",
          "text": [
            "MSE: 748.320961282155\n",
            "MAE: 19.81670231023775\n",
            "RMSE:  27.355455786408587\n",
            "R-squared: 0.5262532139705228\n"
          ]
        }
      ]
    },
    {
      "cell_type": "markdown",
      "source": [
        "# Conclusions"
      ],
      "metadata": {
        "id": "vWRCHyEKlz0T"
      }
    },
    {
      "cell_type": "markdown",
      "source": [
        "After building several machine learning models, I get that the best model is Random Forest Regressor with the lowest MSE, MAE, and RMSE. Random Forest Regressor model also get the highest R-squared, **0.7**"
      ],
      "metadata": {
        "id": "uCHXs9TWl3l6"
      }
    }
  ]
}