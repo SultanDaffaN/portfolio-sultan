{
  "cells": [
    {
      "cell_type": "markdown",
      "metadata": {
        "id": "view-in-github",
        "colab_type": "text"
      },
      "source": [
        "<a href=\"https://colab.research.google.com/github/SultanDaffaN/portfolio-sultan/blob/main/Tweets%20about%20Flood%20in%20Indonesia/Tweets_about_Flood_in_Indonesia.ipynb\" target=\"_parent\"><img src=\"https://colab.research.google.com/assets/colab-badge.svg\" alt=\"Open In Colab\"/></a>"
      ]
    },
    {
      "cell_type": "markdown",
      "metadata": {
        "id": "RIoHRoQFIzm1"
      },
      "source": [
        "# **Import Libraries**"
      ]
    },
    {
      "cell_type": "code",
      "execution_count": null,
      "metadata": {
        "colab": {
          "base_uri": "https://localhost:8080/"
        },
        "id": "l9JivUuNIqtj",
        "outputId": "3f4801c4-f376-4006-dd89-fb15821398dd"
      },
      "outputs": [
        {
          "output_type": "stream",
          "name": "stderr",
          "text": [
            "[nltk_data] Downloading package stopwords to /root/nltk_data...\n",
            "[nltk_data]   Package stopwords is already up-to-date!\n"
          ]
        }
      ],
      "source": [
        "import numpy as np \n",
        "import pandas as pd \n",
        "\n",
        "import seaborn as sns\n",
        "import matplotlib.pyplot as plt\n",
        "from tensorflow.keras.preprocessing.text import Tokenizer\n",
        "from tensorflow.keras.preprocessing.sequence import pad_sequences\n",
        "import tensorflow as tf\n",
        "import time \n",
        "from wordcloud import WordCloud, STOPWORDS\n",
        "import matplotlib.pyplot as plt\n",
        "import plotly.express as px\n",
        "import re\n",
        "import random\n",
        "\n",
        "# Natural Language Tool Kit \n",
        "import nltk  \n",
        "nltk.download('stopwords') \n",
        "from nltk.corpus import stopwords \n",
        "from nltk.stem.porter import PorterStemmer "
      ]
    },
    {
      "cell_type": "markdown",
      "metadata": {
        "id": "ApHf8ek6I7hE"
      },
      "source": [
        "# **Reading Dataset**"
      ]
    },
    {
      "cell_type": "code",
      "source": [
        "local_path = '/content/drive/MyDrive/Datathon/ristek-datathon'"
      ],
      "metadata": {
        "id": "rYpn48pqgCXK"
      },
      "execution_count": null,
      "outputs": []
    },
    {
      "cell_type": "code",
      "execution_count": null,
      "metadata": {
        "id": "ig-tBm2fI2i4"
      },
      "outputs": [],
      "source": [
        "train = pd.read_csv(f'{local_path}/train.csv')\n",
        "test = pd.read_csv(f'{local_path}/test.csv')"
      ]
    },
    {
      "cell_type": "code",
      "execution_count": null,
      "metadata": {
        "colab": {
          "base_uri": "https://localhost:8080/",
          "height": 513
        },
        "id": "WK2FRnnlJLcH",
        "outputId": "c58acad2-8590-4ac9-d1e2-bff56267c0f5"
      },
      "outputs": [
        {
          "output_type": "execute_result",
          "data": {
            "text/plain": [
              "                  created_at                   id     user_id  \\\n",
              "0  2020-02-23 04:06:39+00:00  1231430140824973313   133931409   \n",
              "1  2020-01-05 01:46:46+00:00  1213637932411580417   253063316   \n",
              "2  2020-01-18 06:22:09+00:00  1218418277946396673    64318803   \n",
              "3  2020-02-22 23:38:00+00:00  1231362534717837313    17383917   \n",
              "4  2019-12-17 10:54:31+00:00  1206890412574568449  3102973556   \n",
              "\n",
              "                       user_name  \\\n",
              "0               r0b1 sur1a (黄玉春)   \n",
              "1  Beradaptasi di Era Pandemi ☀️   \n",
              "2                          rywyu   \n",
              "3                      ICALIZERS   \n",
              "4                             AN   \n",
              "\n",
              "                                                 url  \\\n",
              "0  https://twitter.com/R0b1Sur1a/status/123143014...   \n",
              "1  https://twitter.com/MarikaRahman_/status/12136...   \n",
              "2  https://twitter.com/rywyu/status/1218418277946...   \n",
              "3  https://twitter.com/icalizers/status/123136253...   \n",
              "4  https://twitter.com/lokbin103/status/120689041...   \n",
              "\n",
              "                                                text                media  \\\n",
              "0  Akhirnya sampai juga setelah menerobos banjir....  ERbrKgFU4AAnADb.jpg   \n",
              "1  Kemekes RI, IDI Banten, IBI Banten dan PPNI Ba...  ENe1HUVUEAANLFT.jpg   \n",
              "2  Dikarenakan cikini rada2 banjir tdi pagi hingg...  EOiw80RU0AcJ4CI.jpg   \n",
              "3  #sperma TT dikala warga jakarta sedang prihati...  ERatrt9UYAAtLMI.jpg   \n",
              "4  KUIS!\\n\\nJakarta banjir parah hari ini, pertan...  EL-8Z-vUcAIiIlV.jpg   \n",
              "\n",
              "   label  \n",
              "0      0  \n",
              "1      0  \n",
              "2      0  \n",
              "3      0  \n",
              "4      0  "
            ],
            "text/html": [
              "\n",
              "  <div id=\"df-f434a531-0ae1-4233-be03-8927b29fff60\">\n",
              "    <div class=\"colab-df-container\">\n",
              "      <div>\n",
              "<style scoped>\n",
              "    .dataframe tbody tr th:only-of-type {\n",
              "        vertical-align: middle;\n",
              "    }\n",
              "\n",
              "    .dataframe tbody tr th {\n",
              "        vertical-align: top;\n",
              "    }\n",
              "\n",
              "    .dataframe thead th {\n",
              "        text-align: right;\n",
              "    }\n",
              "</style>\n",
              "<table border=\"1\" class=\"dataframe\">\n",
              "  <thead>\n",
              "    <tr style=\"text-align: right;\">\n",
              "      <th></th>\n",
              "      <th>created_at</th>\n",
              "      <th>id</th>\n",
              "      <th>user_id</th>\n",
              "      <th>user_name</th>\n",
              "      <th>url</th>\n",
              "      <th>text</th>\n",
              "      <th>media</th>\n",
              "      <th>label</th>\n",
              "    </tr>\n",
              "  </thead>\n",
              "  <tbody>\n",
              "    <tr>\n",
              "      <th>0</th>\n",
              "      <td>2020-02-23 04:06:39+00:00</td>\n",
              "      <td>1231430140824973313</td>\n",
              "      <td>133931409</td>\n",
              "      <td>r0b1 sur1a (黄玉春)</td>\n",
              "      <td>https://twitter.com/R0b1Sur1a/status/123143014...</td>\n",
              "      <td>Akhirnya sampai juga setelah menerobos banjir....</td>\n",
              "      <td>ERbrKgFU4AAnADb.jpg</td>\n",
              "      <td>0</td>\n",
              "    </tr>\n",
              "    <tr>\n",
              "      <th>1</th>\n",
              "      <td>2020-01-05 01:46:46+00:00</td>\n",
              "      <td>1213637932411580417</td>\n",
              "      <td>253063316</td>\n",
              "      <td>Beradaptasi di Era Pandemi ☀️</td>\n",
              "      <td>https://twitter.com/MarikaRahman_/status/12136...</td>\n",
              "      <td>Kemekes RI, IDI Banten, IBI Banten dan PPNI Ba...</td>\n",
              "      <td>ENe1HUVUEAANLFT.jpg</td>\n",
              "      <td>0</td>\n",
              "    </tr>\n",
              "    <tr>\n",
              "      <th>2</th>\n",
              "      <td>2020-01-18 06:22:09+00:00</td>\n",
              "      <td>1218418277946396673</td>\n",
              "      <td>64318803</td>\n",
              "      <td>rywyu</td>\n",
              "      <td>https://twitter.com/rywyu/status/1218418277946...</td>\n",
              "      <td>Dikarenakan cikini rada2 banjir tdi pagi hingg...</td>\n",
              "      <td>EOiw80RU0AcJ4CI.jpg</td>\n",
              "      <td>0</td>\n",
              "    </tr>\n",
              "    <tr>\n",
              "      <th>3</th>\n",
              "      <td>2020-02-22 23:38:00+00:00</td>\n",
              "      <td>1231362534717837313</td>\n",
              "      <td>17383917</td>\n",
              "      <td>ICALIZERS</td>\n",
              "      <td>https://twitter.com/icalizers/status/123136253...</td>\n",
              "      <td>#sperma TT dikala warga jakarta sedang prihati...</td>\n",
              "      <td>ERatrt9UYAAtLMI.jpg</td>\n",
              "      <td>0</td>\n",
              "    </tr>\n",
              "    <tr>\n",
              "      <th>4</th>\n",
              "      <td>2019-12-17 10:54:31+00:00</td>\n",
              "      <td>1206890412574568449</td>\n",
              "      <td>3102973556</td>\n",
              "      <td>AN</td>\n",
              "      <td>https://twitter.com/lokbin103/status/120689041...</td>\n",
              "      <td>KUIS!\\n\\nJakarta banjir parah hari ini, pertan...</td>\n",
              "      <td>EL-8Z-vUcAIiIlV.jpg</td>\n",
              "      <td>0</td>\n",
              "    </tr>\n",
              "  </tbody>\n",
              "</table>\n",
              "</div>\n",
              "      <button class=\"colab-df-convert\" onclick=\"convertToInteractive('df-f434a531-0ae1-4233-be03-8927b29fff60')\"\n",
              "              title=\"Convert this dataframe to an interactive table.\"\n",
              "              style=\"display:none;\">\n",
              "        \n",
              "  <svg xmlns=\"http://www.w3.org/2000/svg\" height=\"24px\"viewBox=\"0 0 24 24\"\n",
              "       width=\"24px\">\n",
              "    <path d=\"M0 0h24v24H0V0z\" fill=\"none\"/>\n",
              "    <path d=\"M18.56 5.44l.94 2.06.94-2.06 2.06-.94-2.06-.94-.94-2.06-.94 2.06-2.06.94zm-11 1L8.5 8.5l.94-2.06 2.06-.94-2.06-.94L8.5 2.5l-.94 2.06-2.06.94zm10 10l.94 2.06.94-2.06 2.06-.94-2.06-.94-.94-2.06-.94 2.06-2.06.94z\"/><path d=\"M17.41 7.96l-1.37-1.37c-.4-.4-.92-.59-1.43-.59-.52 0-1.04.2-1.43.59L10.3 9.45l-7.72 7.72c-.78.78-.78 2.05 0 2.83L4 21.41c.39.39.9.59 1.41.59.51 0 1.02-.2 1.41-.59l7.78-7.78 2.81-2.81c.8-.78.8-2.07 0-2.86zM5.41 20L4 18.59l7.72-7.72 1.47 1.35L5.41 20z\"/>\n",
              "  </svg>\n",
              "      </button>\n",
              "      \n",
              "  <style>\n",
              "    .colab-df-container {\n",
              "      display:flex;\n",
              "      flex-wrap:wrap;\n",
              "      gap: 12px;\n",
              "    }\n",
              "\n",
              "    .colab-df-convert {\n",
              "      background-color: #E8F0FE;\n",
              "      border: none;\n",
              "      border-radius: 50%;\n",
              "      cursor: pointer;\n",
              "      display: none;\n",
              "      fill: #1967D2;\n",
              "      height: 32px;\n",
              "      padding: 0 0 0 0;\n",
              "      width: 32px;\n",
              "    }\n",
              "\n",
              "    .colab-df-convert:hover {\n",
              "      background-color: #E2EBFA;\n",
              "      box-shadow: 0px 1px 2px rgba(60, 64, 67, 0.3), 0px 1px 3px 1px rgba(60, 64, 67, 0.15);\n",
              "      fill: #174EA6;\n",
              "    }\n",
              "\n",
              "    [theme=dark] .colab-df-convert {\n",
              "      background-color: #3B4455;\n",
              "      fill: #D2E3FC;\n",
              "    }\n",
              "\n",
              "    [theme=dark] .colab-df-convert:hover {\n",
              "      background-color: #434B5C;\n",
              "      box-shadow: 0px 1px 3px 1px rgba(0, 0, 0, 0.15);\n",
              "      filter: drop-shadow(0px 1px 2px rgba(0, 0, 0, 0.3));\n",
              "      fill: #FFFFFF;\n",
              "    }\n",
              "  </style>\n",
              "\n",
              "      <script>\n",
              "        const buttonEl =\n",
              "          document.querySelector('#df-f434a531-0ae1-4233-be03-8927b29fff60 button.colab-df-convert');\n",
              "        buttonEl.style.display =\n",
              "          google.colab.kernel.accessAllowed ? 'block' : 'none';\n",
              "\n",
              "        async function convertToInteractive(key) {\n",
              "          const element = document.querySelector('#df-f434a531-0ae1-4233-be03-8927b29fff60');\n",
              "          const dataTable =\n",
              "            await google.colab.kernel.invokeFunction('convertToInteractive',\n",
              "                                                     [key], {});\n",
              "          if (!dataTable) return;\n",
              "\n",
              "          const docLinkHtml = 'Like what you see? Visit the ' +\n",
              "            '<a target=\"_blank\" href=https://colab.research.google.com/notebooks/data_table.ipynb>data table notebook</a>'\n",
              "            + ' to learn more about interactive tables.';\n",
              "          element.innerHTML = '';\n",
              "          dataTable['output_type'] = 'display_data';\n",
              "          await google.colab.output.renderOutput(dataTable, element);\n",
              "          const docLink = document.createElement('div');\n",
              "          docLink.innerHTML = docLinkHtml;\n",
              "          element.appendChild(docLink);\n",
              "        }\n",
              "      </script>\n",
              "    </div>\n",
              "  </div>\n",
              "  "
            ]
          },
          "metadata": {},
          "execution_count": 629
        }
      ],
      "source": [
        "train.head()"
      ]
    },
    {
      "cell_type": "code",
      "execution_count": null,
      "metadata": {
        "colab": {
          "base_uri": "https://localhost:8080/",
          "height": 547
        },
        "id": "D7jDUwVgJMml",
        "outputId": "63cc5679-f22b-4542-e783-3cf17f5c06f7"
      },
      "outputs": [
        {
          "output_type": "execute_result",
          "data": {
            "text/plain": [
              "                  created_at                   id              user_id  \\\n",
              "0  2020-01-04 04:01:24+00:00  1213309429254250496           3278019654   \n",
              "1  2020-01-12 03:14:24+00:00  1216196702647939072  1110443183379382272   \n",
              "2  2020-01-12 09:51:05+00:00  1216296533735309312            335900262   \n",
              "3  2020-03-02 07:48:31+00:00  1234385081482956800           3278019654   \n",
              "4  2020-01-08 10:15:55+00:00  1214853229567041537  1186660471580921856   \n",
              "\n",
              "            user_name                                                url  \\\n",
              "0     Dinas LH Cakung  https://twitter.com/DinsihCakung/status/121330...   \n",
              "1     Nunung Iskandar  https://twitter.com/IskandarNunung/status/1216...   \n",
              "2  🇲🇾.N i e s a a .🇲🇾  https://twitter.com/Cik_AnaaNiesaa/status/1216...   \n",
              "3     Dinas LH Cakung  https://twitter.com/DinsihCakung/status/123438...   \n",
              "4    BEM STMIK WIDURI  https://twitter.com/bem_stmikwiduri/status/121...   \n",
              "\n",
              "                                                text                media  \n",
              "0  Giat pengangkutan sampah pasca banjir Rw 02 Ke...  ENaKfJ8VUAIUjb2.jpg  \n",
              "1  Giat gotong-royong membersihkan jalan te kena ...  EODMcc8UEAA-7g_.jpg  \n",
              "2  Terima kasih, tuan hamba. Tetap di sisi hamba ...  EOEnPtTUcAEsJXb.jpg  \n",
              "3  pengambilan toilet portable tuntas pasca banji...  ESFqrKNU8AAip-t.jpg  \n",
              "4  [PRESS RELEASE]\\nPra Kampus Widuri Peduli Benc...  ENwGelmUEAEa6Kq.jpg  "
            ],
            "text/html": [
              "\n",
              "  <div id=\"df-44513348-f05b-402f-8584-133050378822\">\n",
              "    <div class=\"colab-df-container\">\n",
              "      <div>\n",
              "<style scoped>\n",
              "    .dataframe tbody tr th:only-of-type {\n",
              "        vertical-align: middle;\n",
              "    }\n",
              "\n",
              "    .dataframe tbody tr th {\n",
              "        vertical-align: top;\n",
              "    }\n",
              "\n",
              "    .dataframe thead th {\n",
              "        text-align: right;\n",
              "    }\n",
              "</style>\n",
              "<table border=\"1\" class=\"dataframe\">\n",
              "  <thead>\n",
              "    <tr style=\"text-align: right;\">\n",
              "      <th></th>\n",
              "      <th>created_at</th>\n",
              "      <th>id</th>\n",
              "      <th>user_id</th>\n",
              "      <th>user_name</th>\n",
              "      <th>url</th>\n",
              "      <th>text</th>\n",
              "      <th>media</th>\n",
              "    </tr>\n",
              "  </thead>\n",
              "  <tbody>\n",
              "    <tr>\n",
              "      <th>0</th>\n",
              "      <td>2020-01-04 04:01:24+00:00</td>\n",
              "      <td>1213309429254250496</td>\n",
              "      <td>3278019654</td>\n",
              "      <td>Dinas LH Cakung</td>\n",
              "      <td>https://twitter.com/DinsihCakung/status/121330...</td>\n",
              "      <td>Giat pengangkutan sampah pasca banjir Rw 02 Ke...</td>\n",
              "      <td>ENaKfJ8VUAIUjb2.jpg</td>\n",
              "    </tr>\n",
              "    <tr>\n",
              "      <th>1</th>\n",
              "      <td>2020-01-12 03:14:24+00:00</td>\n",
              "      <td>1216196702647939072</td>\n",
              "      <td>1110443183379382272</td>\n",
              "      <td>Nunung Iskandar</td>\n",
              "      <td>https://twitter.com/IskandarNunung/status/1216...</td>\n",
              "      <td>Giat gotong-royong membersihkan jalan te kena ...</td>\n",
              "      <td>EODMcc8UEAA-7g_.jpg</td>\n",
              "    </tr>\n",
              "    <tr>\n",
              "      <th>2</th>\n",
              "      <td>2020-01-12 09:51:05+00:00</td>\n",
              "      <td>1216296533735309312</td>\n",
              "      <td>335900262</td>\n",
              "      <td>🇲🇾.N i e s a a .🇲🇾</td>\n",
              "      <td>https://twitter.com/Cik_AnaaNiesaa/status/1216...</td>\n",
              "      <td>Terima kasih, tuan hamba. Tetap di sisi hamba ...</td>\n",
              "      <td>EOEnPtTUcAEsJXb.jpg</td>\n",
              "    </tr>\n",
              "    <tr>\n",
              "      <th>3</th>\n",
              "      <td>2020-03-02 07:48:31+00:00</td>\n",
              "      <td>1234385081482956800</td>\n",
              "      <td>3278019654</td>\n",
              "      <td>Dinas LH Cakung</td>\n",
              "      <td>https://twitter.com/DinsihCakung/status/123438...</td>\n",
              "      <td>pengambilan toilet portable tuntas pasca banji...</td>\n",
              "      <td>ESFqrKNU8AAip-t.jpg</td>\n",
              "    </tr>\n",
              "    <tr>\n",
              "      <th>4</th>\n",
              "      <td>2020-01-08 10:15:55+00:00</td>\n",
              "      <td>1214853229567041537</td>\n",
              "      <td>1186660471580921856</td>\n",
              "      <td>BEM STMIK WIDURI</td>\n",
              "      <td>https://twitter.com/bem_stmikwiduri/status/121...</td>\n",
              "      <td>[PRESS RELEASE]\\nPra Kampus Widuri Peduli Benc...</td>\n",
              "      <td>ENwGelmUEAEa6Kq.jpg</td>\n",
              "    </tr>\n",
              "  </tbody>\n",
              "</table>\n",
              "</div>\n",
              "      <button class=\"colab-df-convert\" onclick=\"convertToInteractive('df-44513348-f05b-402f-8584-133050378822')\"\n",
              "              title=\"Convert this dataframe to an interactive table.\"\n",
              "              style=\"display:none;\">\n",
              "        \n",
              "  <svg xmlns=\"http://www.w3.org/2000/svg\" height=\"24px\"viewBox=\"0 0 24 24\"\n",
              "       width=\"24px\">\n",
              "    <path d=\"M0 0h24v24H0V0z\" fill=\"none\"/>\n",
              "    <path d=\"M18.56 5.44l.94 2.06.94-2.06 2.06-.94-2.06-.94-.94-2.06-.94 2.06-2.06.94zm-11 1L8.5 8.5l.94-2.06 2.06-.94-2.06-.94L8.5 2.5l-.94 2.06-2.06.94zm10 10l.94 2.06.94-2.06 2.06-.94-2.06-.94-.94-2.06-.94 2.06-2.06.94z\"/><path d=\"M17.41 7.96l-1.37-1.37c-.4-.4-.92-.59-1.43-.59-.52 0-1.04.2-1.43.59L10.3 9.45l-7.72 7.72c-.78.78-.78 2.05 0 2.83L4 21.41c.39.39.9.59 1.41.59.51 0 1.02-.2 1.41-.59l7.78-7.78 2.81-2.81c.8-.78.8-2.07 0-2.86zM5.41 20L4 18.59l7.72-7.72 1.47 1.35L5.41 20z\"/>\n",
              "  </svg>\n",
              "      </button>\n",
              "      \n",
              "  <style>\n",
              "    .colab-df-container {\n",
              "      display:flex;\n",
              "      flex-wrap:wrap;\n",
              "      gap: 12px;\n",
              "    }\n",
              "\n",
              "    .colab-df-convert {\n",
              "      background-color: #E8F0FE;\n",
              "      border: none;\n",
              "      border-radius: 50%;\n",
              "      cursor: pointer;\n",
              "      display: none;\n",
              "      fill: #1967D2;\n",
              "      height: 32px;\n",
              "      padding: 0 0 0 0;\n",
              "      width: 32px;\n",
              "    }\n",
              "\n",
              "    .colab-df-convert:hover {\n",
              "      background-color: #E2EBFA;\n",
              "      box-shadow: 0px 1px 2px rgba(60, 64, 67, 0.3), 0px 1px 3px 1px rgba(60, 64, 67, 0.15);\n",
              "      fill: #174EA6;\n",
              "    }\n",
              "\n",
              "    [theme=dark] .colab-df-convert {\n",
              "      background-color: #3B4455;\n",
              "      fill: #D2E3FC;\n",
              "    }\n",
              "\n",
              "    [theme=dark] .colab-df-convert:hover {\n",
              "      background-color: #434B5C;\n",
              "      box-shadow: 0px 1px 3px 1px rgba(0, 0, 0, 0.15);\n",
              "      filter: drop-shadow(0px 1px 2px rgba(0, 0, 0, 0.3));\n",
              "      fill: #FFFFFF;\n",
              "    }\n",
              "  </style>\n",
              "\n",
              "      <script>\n",
              "        const buttonEl =\n",
              "          document.querySelector('#df-44513348-f05b-402f-8584-133050378822 button.colab-df-convert');\n",
              "        buttonEl.style.display =\n",
              "          google.colab.kernel.accessAllowed ? 'block' : 'none';\n",
              "\n",
              "        async function convertToInteractive(key) {\n",
              "          const element = document.querySelector('#df-44513348-f05b-402f-8584-133050378822');\n",
              "          const dataTable =\n",
              "            await google.colab.kernel.invokeFunction('convertToInteractive',\n",
              "                                                     [key], {});\n",
              "          if (!dataTable) return;\n",
              "\n",
              "          const docLinkHtml = 'Like what you see? Visit the ' +\n",
              "            '<a target=\"_blank\" href=https://colab.research.google.com/notebooks/data_table.ipynb>data table notebook</a>'\n",
              "            + ' to learn more about interactive tables.';\n",
              "          element.innerHTML = '';\n",
              "          dataTable['output_type'] = 'display_data';\n",
              "          await google.colab.output.renderOutput(dataTable, element);\n",
              "          const docLink = document.createElement('div');\n",
              "          docLink.innerHTML = docLinkHtml;\n",
              "          element.appendChild(docLink);\n",
              "        }\n",
              "      </script>\n",
              "    </div>\n",
              "  </div>\n",
              "  "
            ]
          },
          "metadata": {},
          "execution_count": 630
        }
      ],
      "source": [
        "test.head()"
      ]
    },
    {
      "cell_type": "markdown",
      "metadata": {
        "id": "SzgQJAivJmCp"
      },
      "source": [
        "# EDA"
      ]
    },
    {
      "cell_type": "code",
      "execution_count": null,
      "metadata": {
        "colab": {
          "base_uri": "https://localhost:8080/"
        },
        "id": "IZ4AoD-LJO42",
        "outputId": "47d9163d-838a-4163-d848-792226da758f"
      },
      "outputs": [
        {
          "output_type": "execute_result",
          "data": {
            "text/plain": [
              "0    1192\n",
              "1     326\n",
              "Name: label, dtype: int64"
            ]
          },
          "metadata": {},
          "execution_count": 631
        }
      ],
      "source": [
        "train['label'].value_counts()"
      ]
    },
    {
      "cell_type": "code",
      "execution_count": null,
      "metadata": {
        "colab": {
          "base_uri": "https://localhost:8080/"
        },
        "id": "VKixjhEXJRd4",
        "outputId": "ec3669d6-4179-4881-9715-de15b56fdbae"
      },
      "outputs": [
        {
          "output_type": "stream",
          "name": "stdout",
          "text": [
            "Dataset size: (1518, 8)\n",
            "Columns are: Index(['created_at', 'id', 'user_id', 'user_name', 'url', 'text', 'media',\n",
            "       'label'],\n",
            "      dtype='object')\n"
          ]
        }
      ],
      "source": [
        "print('Dataset size:',train.shape)\n",
        "print('Columns are:',train.columns)"
      ]
    },
    {
      "cell_type": "code",
      "execution_count": null,
      "metadata": {
        "colab": {
          "base_uri": "https://localhost:8080/"
        },
        "id": "qkuY0xUFJTJF",
        "outputId": "f6a331e5-8a6e-4eab-9838-d57d7dcec023"
      },
      "outputs": [
        {
          "output_type": "stream",
          "name": "stdout",
          "text": [
            "<class 'pandas.core.frame.DataFrame'>\n",
            "RangeIndex: 1518 entries, 0 to 1517\n",
            "Data columns (total 8 columns):\n",
            " #   Column      Non-Null Count  Dtype \n",
            "---  ------      --------------  ----- \n",
            " 0   created_at  1518 non-null   object\n",
            " 1   id          1518 non-null   int64 \n",
            " 2   user_id     1518 non-null   int64 \n",
            " 3   user_name   1518 non-null   object\n",
            " 4   url         1518 non-null   object\n",
            " 5   text        1518 non-null   object\n",
            " 6   media       1518 non-null   object\n",
            " 7   label       1518 non-null   int64 \n",
            "dtypes: int64(3), object(5)\n",
            "memory usage: 95.0+ KB\n"
          ]
        }
      ],
      "source": [
        "train.info()"
      ]
    },
    {
      "cell_type": "code",
      "execution_count": null,
      "metadata": {
        "colab": {
          "base_uri": "https://localhost:8080/",
          "height": 318
        },
        "id": "GEyUnZohJoO2",
        "outputId": "bc282f04-b1fe-414e-ae3a-759cb133794a"
      },
      "outputs": [
        {
          "output_type": "execute_result",
          "data": {
            "text/plain": [
              "Text(0, 0.5, '')"
            ]
          },
          "metadata": {},
          "execution_count": 634
        },
        {
          "output_type": "display_data",
          "data": {
            "text/plain": [
              "<Figure size 432x288 with 1 Axes>"
            ],
            "image/png": "[encoded data removed]"
          },
          "metadata": {}
        }
      ],
      "source": [
        "sns.set_theme(style=\"whitegrid\")\n",
        "sns.countplot(x='label', data=train)\n",
        "plt.title('Comparing Tweet has no actionable intelligence (0) or otherwise (1)')\n",
        "plt.ylabel('')"
      ]
    },
    {
      "cell_type": "code",
      "execution_count": null,
      "metadata": {
        "colab": {
          "base_uri": "https://localhost:8080/",
          "height": 417
        },
        "id": "JwQgn2_UJqwd",
        "outputId": "37d3f0b7-c8bd-4463-d762-9ec1b41fb76f"
      },
      "outputs": [
        {
          "output_type": "display_data",
          "data": {
            "text/html": [
              "<html>\n",
              "<head><meta charset=\"utf-8\" /></head>\n",
              "<body>\n",
              "    <div>            <script src=\"https://cdnjs.cloudflare.com/ajax/libs/mathjax/2.7.5/MathJax.js?config=TeX-AMS-MML_SVG\"></script><script type=\"text/javascript\">if (window.MathJax) {MathJax.Hub.Config({SVG: {font: \"STIX-Web\"}});}</script>                <script type=\"text/javascript\">window.PlotlyConfig = {MathJaxConfig: 'local'};</script>\n",
              "        <script src=\"https://cdn.plot.ly/plotly-2.8.3.min.js\"></script>                <div id=\"523bfe0e-4776-4a1e-ae30-c9309975a156\" class=\"plotly-graph-div\" style=\"height:400px; width:400px;\"></div>            <script type=\"text/javascript\">                                    window.PLOTLYENV=window.PLOTLYENV || {};                                    if (document.getElementById(\"523bfe0e-4776-4a1e-ae30-c9309975a156\")) {                    Plotly.newPlot(                        \"523bfe0e-4776-4a1e-ae30-c9309975a156\",                        [{\"domain\":{\"x\":[0.0,1.0],\"y\":[0.0,1.0]},\"hovertemplate\":\"label=%{label}<extra></extra>\",\"labels\":[0,0,0,0,0,1,1,0,0,1,0,0,0,0,0,0,0,0,1,0,0,0,0,0,1,0,0,0,0,0,0,0,0,1,1,0,0,0,0,1,1,0,0,1,0,0,0,0,0,0,0,0,0,0,0,0,1,0,0,0,0,0,0,1,0,0,0,1,1,0,1,0,0,0,0,1,1,1,0,0,0,0,0,0,0,0,0,1,0,0,0,0,0,1,0,1,1,0,1,0,0,0,0,0,1,0,0,0,0,0,0,1,0,0,0,0,1,0,0,0,1,0,0,0,0,0,0,0,0,0,1,0,0,0,1,0,1,0,0,0,0,0,0,0,0,1,1,1,0,0,0,0,0,0,0,1,0,1,1,0,0,1,1,0,1,0,1,0,0,0,1,0,0,1,1,0,0,1,0,1,0,0,0,1,0,0,0,0,0,0,0,0,1,0,0,1,0,0,0,0,0,0,0,0,0,1,0,0,0,0,0,0,0,0,0,0,0,0,1,1,0,0,0,0,1,1,0,0,0,1,0,0,0,0,1,0,1,0,0,1,0,0,0,0,0,0,0,1,1,0,0,1,0,0,1,0,1,0,0,1,0,0,0,0,0,0,0,0,0,0,0,0,0,1,1,1,0,0,1,0,0,0,0,0,0,0,0,0,1,0,1,0,0,1,0,0,0,1,0,0,1,1,0,1,0,0,0,0,0,1,0,0,1,1,0,0,1,1,1,0,0,0,1,0,1,0,0,1,0,1,0,1,0,1,0,0,0,0,0,0,0,0,0,0,0,0,0,0,0,0,0,0,0,0,0,0,0,0,0,0,0,0,0,1,0,0,0,0,0,0,0,1,0,0,0,0,0,0,0,1,1,0,0,1,0,1,0,1,1,0,0,0,1,0,1,0,0,0,0,0,0,0,0,1,0,0,0,1,0,0,0,0,1,0,0,0,0,0,0,0,0,0,0,0,0,0,0,0,0,0,0,0,1,0,0,0,1,0,0,0,1,0,0,0,0,0,1,1,1,0,1,0,1,0,0,0,1,0,0,0,0,1,0,0,1,0,0,0,0,0,0,1,1,0,0,1,0,0,0,0,0,0,0,0,0,1,0,1,0,0,0,1,1,0,0,0,0,0,0,1,0,0,0,0,0,1,1,1,1,0,0,0,0,0,0,0,0,1,0,1,0,1,1,0,0,0,0,0,0,0,0,0,0,1,0,0,0,0,0,0,0,0,0,0,0,0,0,0,0,0,0,0,0,1,0,0,0,0,0,0,1,0,1,0,0,1,0,0,0,0,0,0,1,0,0,0,0,0,0,0,0,1,0,0,0,0,0,0,0,0,1,0,0,0,0,0,1,0,0,0,0,1,0,0,0,1,0,0,0,1,0,0,0,0,0,0,1,0,0,0,0,0,0,1,0,1,0,0,0,0,0,0,0,0,0,0,0,0,0,0,0,0,0,0,0,1,1,1,0,0,0,0,0,0,0,0,0,1,0,0,0,0,0,0,1,0,0,0,0,1,0,0,0,0,0,0,0,1,0,1,0,0,0,0,1,0,0,0,0,0,1,0,1,0,0,1,0,0,0,0,0,0,0,0,0,0,0,0,0,0,0,0,0,0,0,0,0,0,0,1,0,0,0,0,0,0,0,0,0,0,0,1,0,1,0,0,1,1,0,0,0,0,1,0,0,0,0,0,1,0,1,0,0,0,0,1,0,0,0,0,0,1,0,1,0,1,0,0,0,0,0,1,0,0,1,0,1,1,0,1,0,0,0,1,1,1,0,0,0,0,0,1,0,0,1,0,0,0,1,1,0,0,0,1,0,1,0,1,0,0,0,1,0,0,0,1,0,0,0,1,0,0,0,0,0,0,1,1,0,0,0,0,1,1,0,0,0,0,0,0,0,0,0,0,1,0,0,0,0,0,0,0,0,0,0,0,0,1,0,0,0,0,0,1,0,0,0,0,0,0,0,0,0,0,1,0,0,0,0,0,1,1,0,0,0,0,0,1,1,0,0,0,0,0,0,0,0,0,0,0,0,0,1,1,0,0,0,0,0,0,1,1,0,0,0,1,1,0,0,0,0,0,0,0,0,0,0,1,0,0,0,0,1,0,0,0,0,1,0,0,1,0,1,0,0,0,0,0,0,0,1,0,0,0,1,0,1,0,0,0,0,0,0,0,1,1,0,0,1,0,1,0,0,0,0,0,0,0,1,0,0,1,0,0,0,0,1,1,1,0,0,0,0,0,0,0,1,0,0,0,0,0,1,0,0,0,0,0,0,0,0,0,0,0,0,0,0,0,0,0,0,0,0,0,0,0,0,0,0,0,1,0,0,0,0,0,0,0,0,0,1,0,0,0,0,1,0,0,0,0,1,0,0,0,1,0,0,0,0,0,0,0,0,0,0,1,1,0,0,1,0,0,0,0,0,1,0,0,0,1,1,0,0,0,0,0,0,0,0,0,0,0,0,0,1,0,1,0,0,0,0,0,0,0,0,1,0,0,0,1,0,0,0,0,0,1,0,0,0,0,0,1,0,0,0,0,0,0,0,0,1,1,1,0,0,0,0,0,1,0,0,0,0,1,0,0,1,1,1,0,0,1,0,0,0,0,0,0,0,0,0,1,1,0,0,0,0,0,0,0,1,0,0,1,0,1,1,0,0,1,0,1,0,0,0,0,0,0,0,0,1,0,0,0,0,1,0,1,0,0,0,0,0,0,0,0,0,1,1,0,0,0,1,0,0,0,0,0,0,0,0,0,0,1,0,1,1,1,0,0,0,0,1,0,1,1,1,0,0,0,0,0,1,0,0,1,1,0,0,1,0,0,0,0,0,0,0,0,0,0,0,0,0,1,0,1,0,0,1,0,0,0,0,0,1,0,1,0,1,0,0,0,0,0,1,0,0,0,0,0,0,0,1,0,0,0,0,1,0,0,0,1,0,0,0,1,0,0,0,1,0,1,0,0,1,0,0,0,0,0,0,0,1,0,0,0,0,1,0,1,0,0,0,0,0,0,0,0,0,0,0,0,0,0,1,0,0,0,0,0,0,0,0,0,1,0,1,0,1,0,1,0,1,1,0,0,0,0,0,0,1,0,0,0,0,0,0,0,0,0,1,0,0,1,0,0,1,0,0,0,0,0,0,0,0,0,0,1,0,0,0,0,0,0,1,1,0,0,0,1,1,1,1,1,0,0,0,0,0,0,0,1,0,1,0,0,0,1,0,0,0,1,0,0,0,0,0,0,0,0,0,0,0,0,0,0,0,1,0,0,0,0,0,0,0,0,0,1,0,0,1,1,1,0,0,0,1,0,1,1,0,0,1,0,0,1,0,0,0,0,0,0,0,0,0,0,0,0,0,0,1,0,0,0,0,0,0,0,0,0,0,0,0,1,0,1,0,0,0,0,0,0,0,0,0,0,1,0],\"legendgroup\":\"\",\"name\":\"\",\"showlegend\":true,\"type\":\"pie\"}],                        {\"template\":{\"data\":{\"bar\":[{\"error_x\":{\"color\":\"#2a3f5f\"},\"error_y\":{\"color\":\"#2a3f5f\"},\"marker\":{\"line\":{\"color\":\"#E5ECF6\",\"width\":0.5},\"pattern\":{\"fillmode\":\"overlay\",\"size\":10,\"solidity\":0.2}},\"type\":\"bar\"}],\"barpolar\":[{\"marker\":{\"line\":{\"color\":\"#E5ECF6\",\"width\":0.5},\"pattern\":{\"fillmode\":\"overlay\",\"size\":10,\"solidity\":0.2}},\"type\":\"barpolar\"}],\"carpet\":[{\"aaxis\":{\"endlinecolor\":\"#2a3f5f\",\"gridcolor\":\"white\",\"linecolor\":\"white\",\"minorgridcolor\":\"white\",\"startlinecolor\":\"#2a3f5f\"},\"baxis\":{\"endlinecolor\":\"#2a3f5f\",\"gridcolor\":\"white\",\"linecolor\":\"white\",\"minorgridcolor\":\"white\",\"startlinecolor\":\"#2a3f5f\"},\"type\":\"carpet\"}],\"choropleth\":[{\"colorbar\":{\"outlinewidth\":0,\"ticks\":\"\"},\"type\":\"choropleth\"}],\"contour\":[{\"colorbar\":{\"outlinewidth\":0,\"ticks\":\"\"},\"colorscale\":[[0.0,\"#0d0887\"],[0.1111111111111111,\"#46039f\"],[0.2222222222222222,\"#7201a8\"],[0.3333333333333333,\"#9c179e\"],[0.4444444444444444,\"#bd3786\"],[0.5555555555555556,\"#d8576b\"],[0.6666666666666666,\"#ed7953\"],[0.7777777777777778,\"#fb9f3a\"],[0.8888888888888888,\"#fdca26\"],[1.0,\"#f0f921\"]],\"type\":\"contour\"}],\"contourcarpet\":[{\"colorbar\":{\"outlinewidth\":0,\"ticks\":\"\"},\"type\":\"contourcarpet\"}],\"heatmap\":[{\"colorbar\":{\"outlinewidth\":0,\"ticks\":\"\"},\"colorscale\":[[0.0,\"#0d0887\"],[0.1111111111111111,\"#46039f\"],[0.2222222222222222,\"#7201a8\"],[0.3333333333333333,\"#9c179e\"],[0.4444444444444444,\"#bd3786\"],[0.5555555555555556,\"#d8576b\"],[0.6666666666666666,\"#ed7953\"],[0.7777777777777778,\"#fb9f3a\"],[0.8888888888888888,\"#fdca26\"],[1.0,\"#f0f921\"]],\"type\":\"heatmap\"}],\"heatmapgl\":[{\"colorbar\":{\"outlinewidth\":0,\"ticks\":\"\"},\"colorscale\":[[0.0,\"#0d0887\"],[0.1111111111111111,\"#46039f\"],[0.2222222222222222,\"#7201a8\"],[0.3333333333333333,\"#9c179e\"],[0.4444444444444444,\"#bd3786\"],[0.5555555555555556,\"#d8576b\"],[0.6666666666666666,\"#ed7953\"],[0.7777777777777778,\"#fb9f3a\"],[0.8888888888888888,\"#fdca26\"],[1.0,\"#f0f921\"]],\"type\":\"heatmapgl\"}],\"histogram\":[{\"marker\":{\"pattern\":{\"fillmode\":\"overlay\",\"size\":10,\"solidity\":0.2}},\"type\":\"histogram\"}],\"histogram2d\":[{\"colorbar\":{\"outlinewidth\":0,\"ticks\":\"\"},\"colorscale\":[[0.0,\"#0d0887\"],[0.1111111111111111,\"#46039f\"],[0.2222222222222222,\"#7201a8\"],[0.3333333333333333,\"#9c179e\"],[0.4444444444444444,\"#bd3786\"],[0.5555555555555556,\"#d8576b\"],[0.6666666666666666,\"#ed7953\"],[0.7777777777777778,\"#fb9f3a\"],[0.8888888888888888,\"#fdca26\"],[1.0,\"#f0f921\"]],\"type\":\"histogram2d\"}],\"histogram2dcontour\":[{\"colorbar\":{\"outlinewidth\":0,\"ticks\":\"\"},\"colorscale\":[[0.0,\"#0d0887\"],[0.1111111111111111,\"#46039f\"],[0.2222222222222222,\"#7201a8\"],[0.3333333333333333,\"#9c179e\"],[0.4444444444444444,\"#bd3786\"],[0.5555555555555556,\"#d8576b\"],[0.6666666666666666,\"#ed7953\"],[0.7777777777777778,\"#fb9f3a\"],[0.8888888888888888,\"#fdca26\"],[1.0,\"#f0f921\"]],\"type\":\"histogram2dcontour\"}],\"mesh3d\":[{\"colorbar\":{\"outlinewidth\":0,\"ticks\":\"\"},\"type\":\"mesh3d\"}],\"parcoords\":[{\"line\":{\"colorbar\":{\"outlinewidth\":0,\"ticks\":\"\"}},\"type\":\"parcoords\"}],\"pie\":[{\"automargin\":true,\"type\":\"pie\"}],\"scatter\":[{\"marker\":{\"colorbar\":{\"outlinewidth\":0,\"ticks\":\"\"}},\"type\":\"scatter\"}],\"scatter3d\":[{\"line\":{\"colorbar\":{\"outlinewidth\":0,\"ticks\":\"\"}},\"marker\":{\"colorbar\":{\"outlinewidth\":0,\"ticks\":\"\"}},\"type\":\"scatter3d\"}],\"scattercarpet\":[{\"marker\":{\"colorbar\":{\"outlinewidth\":0,\"ticks\":\"\"}},\"type\":\"scattercarpet\"}],\"scattergeo\":[{\"marker\":{\"colorbar\":{\"outlinewidth\":0,\"ticks\":\"\"}},\"type\":\"scattergeo\"}],\"scattergl\":[{\"marker\":{\"colorbar\":{\"outlinewidth\":0,\"ticks\":\"\"}},\"type\":\"scattergl\"}],\"scattermapbox\":[{\"marker\":{\"colorbar\":{\"outlinewidth\":0,\"ticks\":\"\"}},\"type\":\"scattermapbox\"}],\"scatterpolar\":[{\"marker\":{\"colorbar\":{\"outlinewidth\":0,\"ticks\":\"\"}},\"type\":\"scatterpolar\"}],\"scatterpolargl\":[{\"marker\":{\"colorbar\":{\"outlinewidth\":0,\"ticks\":\"\"}},\"type\":\"scatterpolargl\"}],\"scatterternary\":[{\"marker\":{\"colorbar\":{\"outlinewidth\":0,\"ticks\":\"\"}},\"type\":\"scatterternary\"}],\"surface\":[{\"colorbar\":{\"outlinewidth\":0,\"ticks\":\"\"},\"colorscale\":[[0.0,\"#0d0887\"],[0.1111111111111111,\"#46039f\"],[0.2222222222222222,\"#7201a8\"],[0.3333333333333333,\"#9c179e\"],[0.4444444444444444,\"#bd3786\"],[0.5555555555555556,\"#d8576b\"],[0.6666666666666666,\"#ed7953\"],[0.7777777777777778,\"#fb9f3a\"],[0.8888888888888888,\"#fdca26\"],[1.0,\"#f0f921\"]],\"type\":\"surface\"}],\"table\":[{\"cells\":{\"fill\":{\"color\":\"#EBF0F8\"},\"line\":{\"color\":\"white\"}},\"header\":{\"fill\":{\"color\":\"#C8D4E3\"},\"line\":{\"color\":\"white\"}},\"type\":\"table\"}]},\"layout\":{\"annotationdefaults\":{\"arrowcolor\":\"#2a3f5f\",\"arrowhead\":0,\"arrowwidth\":1},\"autotypenumbers\":\"strict\",\"coloraxis\":{\"colorbar\":{\"outlinewidth\":0,\"ticks\":\"\"}},\"colorscale\":{\"diverging\":[[0,\"#8e0152\"],[0.1,\"#c51b7d\"],[0.2,\"#de77ae\"],[0.3,\"#f1b6da\"],[0.4,\"#fde0ef\"],[0.5,\"#f7f7f7\"],[0.6,\"#e6f5d0\"],[0.7,\"#b8e186\"],[0.8,\"#7fbc41\"],[0.9,\"#4d9221\"],[1,\"#276419\"]],\"sequential\":[[0.0,\"#0d0887\"],[0.1111111111111111,\"#46039f\"],[0.2222222222222222,\"#7201a8\"],[0.3333333333333333,\"#9c179e\"],[0.4444444444444444,\"#bd3786\"],[0.5555555555555556,\"#d8576b\"],[0.6666666666666666,\"#ed7953\"],[0.7777777777777778,\"#fb9f3a\"],[0.8888888888888888,\"#fdca26\"],[1.0,\"#f0f921\"]],\"sequentialminus\":[[0.0,\"#0d0887\"],[0.1111111111111111,\"#46039f\"],[0.2222222222222222,\"#7201a8\"],[0.3333333333333333,\"#9c179e\"],[0.4444444444444444,\"#bd3786\"],[0.5555555555555556,\"#d8576b\"],[0.6666666666666666,\"#ed7953\"],[0.7777777777777778,\"#fb9f3a\"],[0.8888888888888888,\"#fdca26\"],[1.0,\"#f0f921\"]]},\"colorway\":[\"#636efa\",\"#EF553B\",\"#00cc96\",\"#ab63fa\",\"#FFA15A\",\"#19d3f3\",\"#FF6692\",\"#B6E880\",\"#FF97FF\",\"#FECB52\"],\"font\":{\"color\":\"#2a3f5f\"},\"geo\":{\"bgcolor\":\"white\",\"lakecolor\":\"white\",\"landcolor\":\"#E5ECF6\",\"showlakes\":true,\"showland\":true,\"subunitcolor\":\"white\"},\"hoverlabel\":{\"align\":\"left\"},\"hovermode\":\"closest\",\"mapbox\":{\"style\":\"light\"},\"paper_bgcolor\":\"white\",\"plot_bgcolor\":\"#E5ECF6\",\"polar\":{\"angularaxis\":{\"gridcolor\":\"white\",\"linecolor\":\"white\",\"ticks\":\"\"},\"bgcolor\":\"#E5ECF6\",\"radialaxis\":{\"gridcolor\":\"white\",\"linecolor\":\"white\",\"ticks\":\"\"}},\"scene\":{\"xaxis\":{\"backgroundcolor\":\"#E5ECF6\",\"gridcolor\":\"white\",\"gridwidth\":2,\"linecolor\":\"white\",\"showbackground\":true,\"ticks\":\"\",\"zerolinecolor\":\"white\"},\"yaxis\":{\"backgroundcolor\":\"#E5ECF6\",\"gridcolor\":\"white\",\"gridwidth\":2,\"linecolor\":\"white\",\"showbackground\":true,\"ticks\":\"\",\"zerolinecolor\":\"white\"},\"zaxis\":{\"backgroundcolor\":\"#E5ECF6\",\"gridcolor\":\"white\",\"gridwidth\":2,\"linecolor\":\"white\",\"showbackground\":true,\"ticks\":\"\",\"zerolinecolor\":\"white\"}},\"shapedefaults\":{\"line\":{\"color\":\"#2a3f5f\"}},\"ternary\":{\"aaxis\":{\"gridcolor\":\"white\",\"linecolor\":\"white\",\"ticks\":\"\"},\"baxis\":{\"gridcolor\":\"white\",\"linecolor\":\"white\",\"ticks\":\"\"},\"bgcolor\":\"#E5ECF6\",\"caxis\":{\"gridcolor\":\"white\",\"linecolor\":\"white\",\"ticks\":\"\"}},\"title\":{\"x\":0.05},\"xaxis\":{\"automargin\":true,\"gridcolor\":\"white\",\"linecolor\":\"white\",\"ticks\":\"\",\"title\":{\"standoff\":15},\"zerolinecolor\":\"white\",\"zerolinewidth\":2},\"yaxis\":{\"automargin\":true,\"gridcolor\":\"white\",\"linecolor\":\"white\",\"ticks\":\"\",\"title\":{\"standoff\":15},\"zerolinecolor\":\"white\",\"zerolinewidth\":2}}},\"legend\":{\"tracegroupgap\":0},\"margin\":{\"t\":60},\"height\":400,\"width\":400},                        {\"responsive\": true}                    ).then(function(){\n",
              "                            \n",
              "var gd = document.getElementById('523bfe0e-4776-4a1e-ae30-c9309975a156');\n",
              "var x = new MutationObserver(function (mutations, observer) {{\n",
              "        var display = window.getComputedStyle(gd).display;\n",
              "        if (!display || display === 'none') {{\n",
              "            console.log([gd, 'removed!']);\n",
              "            Plotly.purge(gd);\n",
              "            observer.disconnect();\n",
              "        }}\n",
              "}});\n",
              "\n",
              "// Listen for the removal of the full notebook cells\n",
              "var notebookContainer = gd.closest('#notebook-container');\n",
              "if (notebookContainer) {{\n",
              "    x.observe(notebookContainer, {childList: true});\n",
              "}}\n",
              "\n",
              "// Listen for the clearing of the current output cell\n",
              "var outputEl = gd.closest('.output');\n",
              "if (outputEl) {{\n",
              "    x.observe(outputEl, {childList: true});\n",
              "}}\n",
              "\n",
              "                        })                };                            </script>        </div>\n",
              "</body>\n",
              "</html>"
            ]
          },
          "metadata": {}
        }
      ],
      "source": [
        "fig = px.pie(train, names='label', width=400, height=400)\n",
        "fig.show()"
      ]
    },
    {
      "cell_type": "markdown",
      "source": [
        "# **Grouping the Data**"
      ],
      "metadata": {
        "id": "uR6DkTYSFEqN"
      }
    },
    {
      "cell_type": "code",
      "source": [
        "# checking rows that labeled as 0 (non-intellegence)\n",
        "labeled_0 = train.query(' label==0 ')\n",
        "labeled_0"
      ],
      "metadata": {
        "colab": {
          "base_uri": "https://localhost:8080/",
          "height": 991
        },
        "id": "uPLQo5rQFN6l",
        "outputId": "550b8efb-cb95-4849-cde7-91efc55a8e9b"
      },
      "execution_count": null,
      "outputs": [
        {
          "output_type": "execute_result",
          "data": {
            "text/plain": [
              "                     created_at                   id              user_id  \\\n",
              "0     2020-02-23 04:06:39+00:00  1231430140824973313            133931409   \n",
              "1     2020-01-05 01:46:46+00:00  1213637932411580417            253063316   \n",
              "2     2020-01-18 06:22:09+00:00  1218418277946396673             64318803   \n",
              "3     2020-02-22 23:38:00+00:00  1231362534717837313             17383917   \n",
              "4     2019-12-17 10:54:31+00:00  1206890412574568449           3102973556   \n",
              "...                         ...                  ...                  ...   \n",
              "1512  2020-01-06 01:39:19+00:00  1213998448371847168   975986597605748736   \n",
              "1513  2020-01-01 21:29:06+00:00  1212485925860626434             68304724   \n",
              "1514  2020-01-02 05:19:53+00:00  1212604402969636869            315639357   \n",
              "1515  2020-03-23 18:05:41+00:00  1242150538789019649  1187676813444575232   \n",
              "1517  2019-12-31 23:37:48+00:00  1212155928260182016           2874384312   \n",
              "\n",
              "                          user_name  \\\n",
              "0                  r0b1 sur1a (黄玉春)   \n",
              "1     Beradaptasi di Era Pandemi ☀️   \n",
              "2                             rywyu   \n",
              "3                         ICALIZERS   \n",
              "4                                AN   \n",
              "...                             ...   \n",
              "1512                Polsek Ngrampal   \n",
              "1513            Fahira Idris DPD RI   \n",
              "1514               arif jamali muis   \n",
              "1515                          Bugha   \n",
              "1517           Erlangga Kusjulianto   \n",
              "\n",
              "                                                    url  \\\n",
              "0     https://twitter.com/R0b1Sur1a/status/123143014...   \n",
              "1     https://twitter.com/MarikaRahman_/status/12136...   \n",
              "2     https://twitter.com/rywyu/status/1218418277946...   \n",
              "3     https://twitter.com/icalizers/status/123136253...   \n",
              "4     https://twitter.com/lokbin103/status/120689041...   \n",
              "...                                                 ...   \n",
              "1512  https://twitter.com/PNgrampal/status/121399844...   \n",
              "1513  https://twitter.com/fahiraidris/status/1212485...   \n",
              "1514  https://twitter.com/arifjamalimuis/status/1212...   \n",
              "1515  https://twitter.com/Ifulmirwanda/status/124215...   \n",
              "1517  https://twitter.com/kusjulianto/status/1212155...   \n",
              "\n",
              "                                                   text                media  \\\n",
              "0     Akhirnya sampai juga setelah menerobos banjir....  ERbrKgFU4AAnADb.jpg   \n",
              "1     Kemekes RI, IDI Banten, IBI Banten dan PPNI Ba...  ENe1HUVUEAANLFT.jpg   \n",
              "2     Dikarenakan cikini rada2 banjir tdi pagi hingg...  EOiw80RU0AcJ4CI.jpg   \n",
              "3     #sperma TT dikala warga jakarta sedang prihati...  ERatrt9UYAAtLMI.jpg   \n",
              "4     KUIS!\\n\\nJakarta banjir parah hari ini, pertan...  EL-8Z-vUcAIiIlV.jpg   \n",
              "...                                                 ...                  ...   \n",
              "1512  Banjir Bandang Brimob Jateng Bantu Perbaiki Tu...  ENj81O0UcAEGwTP.jpg   \n",
              "1513  Mohon doanya sahabat2ku untuk Musibah/ Bencana...  ENOdhJJU0AAA65K.jpg   \n",
              "1514  Tidak perlu berdebat siapa yang salah... mau p...  ENQJRCQVUAA-ytn.jpg   \n",
              "1515  Banjir, karena tidak ada resapan. \\nMundur,  k...  ET0BTxXUUAILQMq.jpg   \n",
              "1517  Pantauan ketinggian air dri pintu air karet be...  ENJxUs_UwAANyfA.jpg   \n",
              "\n",
              "      label  \n",
              "0         0  \n",
              "1         0  \n",
              "2         0  \n",
              "3         0  \n",
              "4         0  \n",
              "...     ...  \n",
              "1512      0  \n",
              "1513      0  \n",
              "1514      0  \n",
              "1515      0  \n",
              "1517      0  \n",
              "\n",
              "[1192 rows x 8 columns]"
            ],
            "text/html": [
              "\n",
              "  <div id=\"df-59e8fb98-c771-4b52-b4df-29fe1bb656ce\">\n",
              "    <div class=\"colab-df-container\">\n",
              "      <div>\n",
              "<style scoped>\n",
              "    .dataframe tbody tr th:only-of-type {\n",
              "        vertical-align: middle;\n",
              "    }\n",
              "\n",
              "    .dataframe tbody tr th {\n",
              "        vertical-align: top;\n",
              "    }\n",
              "\n",
              "    .dataframe thead th {\n",
              "        text-align: right;\n",
              "    }\n",
              "</style>\n",
              "<table border=\"1\" class=\"dataframe\">\n",
              "  <thead>\n",
              "    <tr style=\"text-align: right;\">\n",
              "      <th></th>\n",
              "      <th>created_at</th>\n",
              "      <th>id</th>\n",
              "      <th>user_id</th>\n",
              "      <th>user_name</th>\n",
              "      <th>url</th>\n",
              "      <th>text</th>\n",
              "      <th>media</th>\n",
              "      <th>label</th>\n",
              "    </tr>\n",
              "  </thead>\n",
              "  <tbody>\n",
              "    <tr>\n",
              "      <th>0</th>\n",
              "      <td>2020-02-23 04:06:39+00:00</td>\n",
              "      <td>1231430140824973313</td>\n",
              "      <td>133931409</td>\n",
              "      <td>r0b1 sur1a (黄玉春)</td>\n",
              "      <td>https://twitter.com/R0b1Sur1a/status/123143014...</td>\n",
              "      <td>Akhirnya sampai juga setelah menerobos banjir....</td>\n",
              "      <td>ERbrKgFU4AAnADb.jpg</td>\n",
              "      <td>0</td>\n",
              "    </tr>\n",
              "    <tr>\n",
              "      <th>1</th>\n",
              "      <td>2020-01-05 01:46:46+00:00</td>\n",
              "      <td>1213637932411580417</td>\n",
              "      <td>253063316</td>\n",
              "      <td>Beradaptasi di Era Pandemi ☀️</td>\n",
              "      <td>https://twitter.com/MarikaRahman_/status/12136...</td>\n",
              "      <td>Kemekes RI, IDI Banten, IBI Banten dan PPNI Ba...</td>\n",
              "      <td>ENe1HUVUEAANLFT.jpg</td>\n",
              "      <td>0</td>\n",
              "    </tr>\n",
              "    <tr>\n",
              "      <th>2</th>\n",
              "      <td>2020-01-18 06:22:09+00:00</td>\n",
              "      <td>1218418277946396673</td>\n",
              "      <td>64318803</td>\n",
              "      <td>rywyu</td>\n",
              "      <td>https://twitter.com/rywyu/status/1218418277946...</td>\n",
              "      <td>Dikarenakan cikini rada2 banjir tdi pagi hingg...</td>\n",
              "      <td>EOiw80RU0AcJ4CI.jpg</td>\n",
              "      <td>0</td>\n",
              "    </tr>\n",
              "    <tr>\n",
              "      <th>3</th>\n",
              "      <td>2020-02-22 23:38:00+00:00</td>\n",
              "      <td>1231362534717837313</td>\n",
              "      <td>17383917</td>\n",
              "      <td>ICALIZERS</td>\n",
              "      <td>https://twitter.com/icalizers/status/123136253...</td>\n",
              "      <td>#sperma TT dikala warga jakarta sedang prihati...</td>\n",
              "      <td>ERatrt9UYAAtLMI.jpg</td>\n",
              "      <td>0</td>\n",
              "    </tr>\n",
              "    <tr>\n",
              "      <th>4</th>\n",
              "      <td>2019-12-17 10:54:31+00:00</td>\n",
              "      <td>1206890412574568449</td>\n",
              "      <td>3102973556</td>\n",
              "      <td>AN</td>\n",
              "      <td>https://twitter.com/lokbin103/status/120689041...</td>\n",
              "      <td>KUIS!\\n\\nJakarta banjir parah hari ini, pertan...</td>\n",
              "      <td>EL-8Z-vUcAIiIlV.jpg</td>\n",
              "      <td>0</td>\n",
              "    </tr>\n",
              "    <tr>\n",
              "      <th>...</th>\n",
              "      <td>...</td>\n",
              "      <td>...</td>\n",
              "      <td>...</td>\n",
              "      <td>...</td>\n",
              "      <td>...</td>\n",
              "      <td>...</td>\n",
              "      <td>...</td>\n",
              "      <td>...</td>\n",
              "    </tr>\n",
              "    <tr>\n",
              "      <th>1512</th>\n",
              "      <td>2020-01-06 01:39:19+00:00</td>\n",
              "      <td>1213998448371847168</td>\n",
              "      <td>975986597605748736</td>\n",
              "      <td>Polsek Ngrampal</td>\n",
              "      <td>https://twitter.com/PNgrampal/status/121399844...</td>\n",
              "      <td>Banjir Bandang Brimob Jateng Bantu Perbaiki Tu...</td>\n",
              "      <td>ENj81O0UcAEGwTP.jpg</td>\n",
              "      <td>0</td>\n",
              "    </tr>\n",
              "    <tr>\n",
              "      <th>1513</th>\n",
              "      <td>2020-01-01 21:29:06+00:00</td>\n",
              "      <td>1212485925860626434</td>\n",
              "      <td>68304724</td>\n",
              "      <td>Fahira Idris DPD RI</td>\n",
              "      <td>https://twitter.com/fahiraidris/status/1212485...</td>\n",
              "      <td>Mohon doanya sahabat2ku untuk Musibah/ Bencana...</td>\n",
              "      <td>ENOdhJJU0AAA65K.jpg</td>\n",
              "      <td>0</td>\n",
              "    </tr>\n",
              "    <tr>\n",
              "      <th>1514</th>\n",
              "      <td>2020-01-02 05:19:53+00:00</td>\n",
              "      <td>1212604402969636869</td>\n",
              "      <td>315639357</td>\n",
              "      <td>arif jamali muis</td>\n",
              "      <td>https://twitter.com/arifjamalimuis/status/1212...</td>\n",
              "      <td>Tidak perlu berdebat siapa yang salah... mau p...</td>\n",
              "      <td>ENQJRCQVUAA-ytn.jpg</td>\n",
              "      <td>0</td>\n",
              "    </tr>\n",
              "    <tr>\n",
              "      <th>1515</th>\n",
              "      <td>2020-03-23 18:05:41+00:00</td>\n",
              "      <td>1242150538789019649</td>\n",
              "      <td>1187676813444575232</td>\n",
              "      <td>Bugha</td>\n",
              "      <td>https://twitter.com/Ifulmirwanda/status/124215...</td>\n",
              "      <td>Banjir, karena tidak ada resapan. \\nMundur,  k...</td>\n",
              "      <td>ET0BTxXUUAILQMq.jpg</td>\n",
              "      <td>0</td>\n",
              "    </tr>\n",
              "    <tr>\n",
              "      <th>1517</th>\n",
              "      <td>2019-12-31 23:37:48+00:00</td>\n",
              "      <td>1212155928260182016</td>\n",
              "      <td>2874384312</td>\n",
              "      <td>Erlangga Kusjulianto</td>\n",
              "      <td>https://twitter.com/kusjulianto/status/1212155...</td>\n",
              "      <td>Pantauan ketinggian air dri pintu air karet be...</td>\n",
              "      <td>ENJxUs_UwAANyfA.jpg</td>\n",
              "      <td>0</td>\n",
              "    </tr>\n",
              "  </tbody>\n",
              "</table>\n",
              "<p>1192 rows × 8 columns</p>\n",
              "</div>\n",
              "      <button class=\"colab-df-convert\" onclick=\"convertToInteractive('df-59e8fb98-c771-4b52-b4df-29fe1bb656ce')\"\n",
              "              title=\"Convert this dataframe to an interactive table.\"\n",
              "              style=\"display:none;\">\n",
              "        \n",
              "  <svg xmlns=\"http://www.w3.org/2000/svg\" height=\"24px\"viewBox=\"0 0 24 24\"\n",
              "       width=\"24px\">\n",
              "    <path d=\"M0 0h24v24H0V0z\" fill=\"none\"/>\n",
              "    <path d=\"M18.56 5.44l.94 2.06.94-2.06 2.06-.94-2.06-.94-.94-2.06-.94 2.06-2.06.94zm-11 1L8.5 8.5l.94-2.06 2.06-.94-2.06-.94L8.5 2.5l-.94 2.06-2.06.94zm10 10l.94 2.06.94-2.06 2.06-.94-2.06-.94-.94-2.06-.94 2.06-2.06.94z\"/><path d=\"M17.41 7.96l-1.37-1.37c-.4-.4-.92-.59-1.43-.59-.52 0-1.04.2-1.43.59L10.3 9.45l-7.72 7.72c-.78.78-.78 2.05 0 2.83L4 21.41c.39.39.9.59 1.41.59.51 0 1.02-.2 1.41-.59l7.78-7.78 2.81-2.81c.8-.78.8-2.07 0-2.86zM5.41 20L4 18.59l7.72-7.72 1.47 1.35L5.41 20z\"/>\n",
              "  </svg>\n",
              "      </button>\n",
              "      \n",
              "  <style>\n",
              "    .colab-df-container {\n",
              "      display:flex;\n",
              "      flex-wrap:wrap;\n",
              "      gap: 12px;\n",
              "    }\n",
              "\n",
              "    .colab-df-convert {\n",
              "      background-color: #E8F0FE;\n",
              "      border: none;\n",
              "      border-radius: 50%;\n",
              "      cursor: pointer;\n",
              "      display: none;\n",
              "      fill: #1967D2;\n",
              "      height: 32px;\n",
              "      padding: 0 0 0 0;\n",
              "      width: 32px;\n",
              "    }\n",
              "\n",
              "    .colab-df-convert:hover {\n",
              "      background-color: #E2EBFA;\n",
              "      box-shadow: 0px 1px 2px rgba(60, 64, 67, 0.3), 0px 1px 3px 1px rgba(60, 64, 67, 0.15);\n",
              "      fill: #174EA6;\n",
              "    }\n",
              "\n",
              "    [theme=dark] .colab-df-convert {\n",
              "      background-color: #3B4455;\n",
              "      fill: #D2E3FC;\n",
              "    }\n",
              "\n",
              "    [theme=dark] .colab-df-convert:hover {\n",
              "      background-color: #434B5C;\n",
              "      box-shadow: 0px 1px 3px 1px rgba(0, 0, 0, 0.15);\n",
              "      filter: drop-shadow(0px 1px 2px rgba(0, 0, 0, 0.3));\n",
              "      fill: #FFFFFF;\n",
              "    }\n",
              "  </style>\n",
              "\n",
              "      <script>\n",
              "        const buttonEl =\n",
              "          document.querySelector('#df-59e8fb98-c771-4b52-b4df-29fe1bb656ce button.colab-df-convert');\n",
              "        buttonEl.style.display =\n",
              "          google.colab.kernel.accessAllowed ? 'block' : 'none';\n",
              "\n",
              "        async function convertToInteractive(key) {\n",
              "          const element = document.querySelector('#df-59e8fb98-c771-4b52-b4df-29fe1bb656ce');\n",
              "          const dataTable =\n",
              "            await google.colab.kernel.invokeFunction('convertToInteractive',\n",
              "                                                     [key], {});\n",
              "          if (!dataTable) return;\n",
              "\n",
              "          const docLinkHtml = 'Like what you see? Visit the ' +\n",
              "            '<a target=\"_blank\" href=https://colab.research.google.com/notebooks/data_table.ipynb>data table notebook</a>'\n",
              "            + ' to learn more about interactive tables.';\n",
              "          element.innerHTML = '';\n",
              "          dataTable['output_type'] = 'display_data';\n",
              "          await google.colab.output.renderOutput(dataTable, element);\n",
              "          const docLink = document.createElement('div');\n",
              "          docLink.innerHTML = docLinkHtml;\n",
              "          element.appendChild(docLink);\n",
              "        }\n",
              "      </script>\n",
              "    </div>\n",
              "  </div>\n",
              "  "
            ]
          },
          "metadata": {},
          "execution_count": 636
        }
      ]
    },
    {
      "cell_type": "code",
      "source": [
        "print(\"The text: \\n %s\" % labeled_0.iloc[0, 5]+\"\\n\")\n",
        "print(\"The text: \\n %s\" % labeled_0.iloc[1, 5]+\"\\n\")\n",
        "print(\"The text: \\n %s\" % labeled_0.iloc[2, 5]+\"\\n\")\n",
        "print(\"The text: \\n %s\" % labeled_0.iloc[3, 5]+\"\\n\")\n",
        "print(\"The text: \\n %s\" % labeled_0.iloc[4, 5]+\"\\n\")"
      ],
      "metadata": {
        "colab": {
          "base_uri": "https://localhost:8080/"
        },
        "id": "bCRUyTFeE2zQ",
        "outputId": "2b523480-15d8-4a14-b6f3-be181a5b09ab"
      },
      "execution_count": null,
      "outputs": [
        {
          "output_type": "stream",
          "name": "stdout",
          "text": [
            "The text: \n",
            " Akhirnya sampai juga setelah menerobos banjir.. https://t.co/TqEUevU1rH\n",
            "\n",
            "The text: \n",
            " Kemekes RI, IDI Banten, IBI Banten dan PPNI Banten menuju daerah terisolasi putus akses banjir Lebak Banten \n",
            "\n",
            "@KemenkesRI \n",
            "@PBIDI https://t.co/ivZr5wLcxV\n",
            "\n",
            "The text: \n",
            " Dikarenakan cikini rada2 banjir tdi pagi hingga gk tau apa udh surut,\n",
            "Ku memutuskan @gofoodindonesia membantu menyelamatkan gembel2 yg ada diperut ini,\n",
            "Thnkyou buat bapak gofoodnya 😁👍 https://t.co/hjcJjm1M1k\n",
            "\n",
            "The text: \n",
            " #sperma TT dikala warga jakarta sedang prihatin #banjir 🤣🤣🤣\n",
            ".\n",
            ".\n",
            "#banjirjakarta #BanjirJakarta2020 #pulomas #jakarta https://t.co/XhxmHasr7m\n",
            "\n",
            "The text: \n",
            " KUIS!\n",
            "\n",
            "Jakarta banjir parah hari ini, pertanyaannya, siapakah yg akan disalahkan gubernur kali ini?\n",
            "\n",
            "A. Ahok\n",
            "B. Mentri PUPR\n",
            "C. Kadis\n",
            "D. Warga\n",
            "\n",
            "Jawaban dikirimkan ke \n",
            "\n",
            "PO BOX 212\n",
            "Dgn kode \"ini bukan banjir tapi cobaan\".\n",
            "\n",
            "25 pemenang mendapatkan tiket gratis jalan2 di monas. https://t.co/SQED8TcW2b\n",
            "\n"
          ]
        }
      ]
    },
    {
      "cell_type": "code",
      "source": [
        "# checking rows that labeled as 1 (intellegence)\n",
        "labeled_1 = train.query(' label==1 ')\n",
        "labeled_1"
      ],
      "metadata": {
        "colab": {
          "base_uri": "https://localhost:8080/",
          "height": 817
        },
        "id": "QCaGiX2OFUen",
        "outputId": "8a7b77a4-87fa-4114-bc83-03abbd757f41"
      },
      "execution_count": null,
      "outputs": [
        {
          "output_type": "execute_result",
          "data": {
            "text/plain": [
              "                     created_at                   id              user_id  \\\n",
              "5     2020-02-24 01:23:55+00:00  1231751577372774400  1222102181270052869   \n",
              "6     2020-02-25 01:44:48+00:00  1232119218474078209   841871718234877952   \n",
              "9     2020-02-24 23:54:25+00:00  1232091442190811136            289218381   \n",
              "18    2020-02-27 11:03:49+00:00  1232984677960388608  1014705544580354049   \n",
              "24    2020-02-24 20:58:52+00:00  1232047263792300032           2359192436   \n",
              "...                         ...                  ...                  ...   \n",
              "1475  2020-01-05 08:34:09+00:00  1213740456879640583  1146481353342373888   \n",
              "1490  2020-02-23 01:07:58+00:00  1231385173440094209             76647722   \n",
              "1503  2020-02-24 22:52:58+00:00  1232075977385136128  1229085102174375936   \n",
              "1505  2020-02-25 01:11:21+00:00  1232110804570296320            346303384   \n",
              "1516  2020-02-24 22:48:05+00:00  1232074747707441152             96935296   \n",
              "\n",
              "                 user_name                                                url  \\\n",
              "5           Rizkalovianita  https://twitter.com/rizkalovianita/status/1231...   \n",
              "6              tomblok1806  https://twitter.com/PaulusSetiohut1/status/123...   \n",
              "9                octadandy  https://twitter.com/octadandy/status/123209144...   \n",
              "18         Moeslema Wached  https://twitter.com/IMuslimah77/status/1232984...   \n",
              "24        Michel Vernandez  https://twitter.com/MichVernandez/status/12320...   \n",
              "...                    ...                                                ...   \n",
              "1475                   Me9  https://twitter.com/Me9Ten/status/121374045687...   \n",
              "1490  TMC Polda Metro Jaya  https://twitter.com/TMCPoldaMetro/status/12313...   \n",
              "1503              Hilman17  https://twitter.com/Hilman179/status/123207597...   \n",
              "1505        BNPB Indonesia  https://twitter.com/BNPB_Indonesia/status/1232...   \n",
              "1516             kurniawan  https://twitter.com/kurniawan2001/status/12320...   \n",
              "\n",
              "                                                   text                media  \\\n",
              "5     Banjir sudah 1 hari \\n@RadioElshinta @jokowi @...  ERgPhLaWoAABqfJ.jpg   \n",
              "6     Hmmmm banjir jilid 2. Belum 2 bulan th 2020 sd...  ERld4yzXUAcEyTm.jpg   \n",
              "9     06.51 Pagi Hari (25022020) - Kondisi sisa rint...  ERlElPeUUAAkJ0J.jpg   \n",
              "18    Lihat sawah yg kena banjir https://t.co/xdCkRY...  ERxw-_XUYAEu-hk.jpg   \n",
              "24    #Banjir \\nLokasi : Kelurahan Halim Perdana Kus...  ERkccdHUwAE9Th9.jpg   \n",
              "...                                                 ...                  ...   \n",
              "1475                     Banjir https://t.co/SQ1Z64a7T8  ENgSfmAUwAAOURn.jpg   \n",
              "1490  08:05 #Banjir 20-30 cm di wilayah Semper #Jaka...  ERbCQsmVUAEq7GC.jpg   \n",
              "1503  Mau berangkat kerja malah ujan terus\\n#banjir ...  ERk2j7rUEAE9st0.jpg   \n",
              "1505  Gerbang Tol Cempaka Putih tidaka dapat dilewat...  ERlWN3rU8AAsbr1.jpg   \n",
              "1516  #banjir jam 05.45 diluar rumah 20-30 cm, didlm...  ERk1c0MUcAEZhzp.jpg   \n",
              "\n",
              "      label  \n",
              "5         1  \n",
              "6         1  \n",
              "9         1  \n",
              "18        1  \n",
              "24        1  \n",
              "...     ...  \n",
              "1475      1  \n",
              "1490      1  \n",
              "1503      1  \n",
              "1505      1  \n",
              "1516      1  \n",
              "\n",
              "[326 rows x 8 columns]"
            ],
            "text/html": [
              "\n",
              "  <div id=\"df-14abe16e-c20b-42a0-9a76-4d6149214b43\">\n",
              "    <div class=\"colab-df-container\">\n",
              "      <div>\n",
              "<style scoped>\n",
              "    .dataframe tbody tr th:only-of-type {\n",
              "        vertical-align: middle;\n",
              "    }\n",
              "\n",
              "    .dataframe tbody tr th {\n",
              "        vertical-align: top;\n",
              "    }\n",
              "\n",
              "    .dataframe thead th {\n",
              "        text-align: right;\n",
              "    }\n",
              "</style>\n",
              "<table border=\"1\" class=\"dataframe\">\n",
              "  <thead>\n",
              "    <tr style=\"text-align: right;\">\n",
              "      <th></th>\n",
              "      <th>created_at</th>\n",
              "      <th>id</th>\n",
              "      <th>user_id</th>\n",
              "      <th>user_name</th>\n",
              "      <th>url</th>\n",
              "      <th>text</th>\n",
              "      <th>media</th>\n",
              "      <th>label</th>\n",
              "    </tr>\n",
              "  </thead>\n",
              "  <tbody>\n",
              "    <tr>\n",
              "      <th>5</th>\n",
              "      <td>2020-02-24 01:23:55+00:00</td>\n",
              "      <td>1231751577372774400</td>\n",
              "      <td>1222102181270052869</td>\n",
              "      <td>Rizkalovianita</td>\n",
              "      <td>https://twitter.com/rizkalovianita/status/1231...</td>\n",
              "      <td>Banjir sudah 1 hari \\n@RadioElshinta @jokowi @...</td>\n",
              "      <td>ERgPhLaWoAABqfJ.jpg</td>\n",
              "      <td>1</td>\n",
              "    </tr>\n",
              "    <tr>\n",
              "      <th>6</th>\n",
              "      <td>2020-02-25 01:44:48+00:00</td>\n",
              "      <td>1232119218474078209</td>\n",
              "      <td>841871718234877952</td>\n",
              "      <td>tomblok1806</td>\n",
              "      <td>https://twitter.com/PaulusSetiohut1/status/123...</td>\n",
              "      <td>Hmmmm banjir jilid 2. Belum 2 bulan th 2020 sd...</td>\n",
              "      <td>ERld4yzXUAcEyTm.jpg</td>\n",
              "      <td>1</td>\n",
              "    </tr>\n",
              "    <tr>\n",
              "      <th>9</th>\n",
              "      <td>2020-02-24 23:54:25+00:00</td>\n",
              "      <td>1232091442190811136</td>\n",
              "      <td>289218381</td>\n",
              "      <td>octadandy</td>\n",
              "      <td>https://twitter.com/octadandy/status/123209144...</td>\n",
              "      <td>06.51 Pagi Hari (25022020) - Kondisi sisa rint...</td>\n",
              "      <td>ERlElPeUUAAkJ0J.jpg</td>\n",
              "      <td>1</td>\n",
              "    </tr>\n",
              "    <tr>\n",
              "      <th>18</th>\n",
              "      <td>2020-02-27 11:03:49+00:00</td>\n",
              "      <td>1232984677960388608</td>\n",
              "      <td>1014705544580354049</td>\n",
              "      <td>Moeslema Wached</td>\n",
              "      <td>https://twitter.com/IMuslimah77/status/1232984...</td>\n",
              "      <td>Lihat sawah yg kena banjir https://t.co/xdCkRY...</td>\n",
              "      <td>ERxw-_XUYAEu-hk.jpg</td>\n",
              "      <td>1</td>\n",
              "    </tr>\n",
              "    <tr>\n",
              "      <th>24</th>\n",
              "      <td>2020-02-24 20:58:52+00:00</td>\n",
              "      <td>1232047263792300032</td>\n",
              "      <td>2359192436</td>\n",
              "      <td>Michel Vernandez</td>\n",
              "      <td>https://twitter.com/MichVernandez/status/12320...</td>\n",
              "      <td>#Banjir \\nLokasi : Kelurahan Halim Perdana Kus...</td>\n",
              "      <td>ERkccdHUwAE9Th9.jpg</td>\n",
              "      <td>1</td>\n",
              "    </tr>\n",
              "    <tr>\n",
              "      <th>...</th>\n",
              "      <td>...</td>\n",
              "      <td>...</td>\n",
              "      <td>...</td>\n",
              "      <td>...</td>\n",
              "      <td>...</td>\n",
              "      <td>...</td>\n",
              "      <td>...</td>\n",
              "      <td>...</td>\n",
              "    </tr>\n",
              "    <tr>\n",
              "      <th>1475</th>\n",
              "      <td>2020-01-05 08:34:09+00:00</td>\n",
              "      <td>1213740456879640583</td>\n",
              "      <td>1146481353342373888</td>\n",
              "      <td>Me9</td>\n",
              "      <td>https://twitter.com/Me9Ten/status/121374045687...</td>\n",
              "      <td>Banjir https://t.co/SQ1Z64a7T8</td>\n",
              "      <td>ENgSfmAUwAAOURn.jpg</td>\n",
              "      <td>1</td>\n",
              "    </tr>\n",
              "    <tr>\n",
              "      <th>1490</th>\n",
              "      <td>2020-02-23 01:07:58+00:00</td>\n",
              "      <td>1231385173440094209</td>\n",
              "      <td>76647722</td>\n",
              "      <td>TMC Polda Metro Jaya</td>\n",
              "      <td>https://twitter.com/TMCPoldaMetro/status/12313...</td>\n",
              "      <td>08:05 #Banjir 20-30 cm di wilayah Semper #Jaka...</td>\n",
              "      <td>ERbCQsmVUAEq7GC.jpg</td>\n",
              "      <td>1</td>\n",
              "    </tr>\n",
              "    <tr>\n",
              "      <th>1503</th>\n",
              "      <td>2020-02-24 22:52:58+00:00</td>\n",
              "      <td>1232075977385136128</td>\n",
              "      <td>1229085102174375936</td>\n",
              "      <td>Hilman17</td>\n",
              "      <td>https://twitter.com/Hilman179/status/123207597...</td>\n",
              "      <td>Mau berangkat kerja malah ujan terus\\n#banjir ...</td>\n",
              "      <td>ERk2j7rUEAE9st0.jpg</td>\n",
              "      <td>1</td>\n",
              "    </tr>\n",
              "    <tr>\n",
              "      <th>1505</th>\n",
              "      <td>2020-02-25 01:11:21+00:00</td>\n",
              "      <td>1232110804570296320</td>\n",
              "      <td>346303384</td>\n",
              "      <td>BNPB Indonesia</td>\n",
              "      <td>https://twitter.com/BNPB_Indonesia/status/1232...</td>\n",
              "      <td>Gerbang Tol Cempaka Putih tidaka dapat dilewat...</td>\n",
              "      <td>ERlWN3rU8AAsbr1.jpg</td>\n",
              "      <td>1</td>\n",
              "    </tr>\n",
              "    <tr>\n",
              "      <th>1516</th>\n",
              "      <td>2020-02-24 22:48:05+00:00</td>\n",
              "      <td>1232074747707441152</td>\n",
              "      <td>96935296</td>\n",
              "      <td>kurniawan</td>\n",
              "      <td>https://twitter.com/kurniawan2001/status/12320...</td>\n",
              "      <td>#banjir jam 05.45 diluar rumah 20-30 cm, didlm...</td>\n",
              "      <td>ERk1c0MUcAEZhzp.jpg</td>\n",
              "      <td>1</td>\n",
              "    </tr>\n",
              "  </tbody>\n",
              "</table>\n",
              "<p>326 rows × 8 columns</p>\n",
              "</div>\n",
              "      <button class=\"colab-df-convert\" onclick=\"convertToInteractive('df-14abe16e-c20b-42a0-9a76-4d6149214b43')\"\n",
              "              title=\"Convert this dataframe to an interactive table.\"\n",
              "              style=\"display:none;\">\n",
              "        \n",
              "  <svg xmlns=\"http://www.w3.org/2000/svg\" height=\"24px\"viewBox=\"0 0 24 24\"\n",
              "       width=\"24px\">\n",
              "    <path d=\"M0 0h24v24H0V0z\" fill=\"none\"/>\n",
              "    <path d=\"M18.56 5.44l.94 2.06.94-2.06 2.06-.94-2.06-.94-.94-2.06-.94 2.06-2.06.94zm-11 1L8.5 8.5l.94-2.06 2.06-.94-2.06-.94L8.5 2.5l-.94 2.06-2.06.94zm10 10l.94 2.06.94-2.06 2.06-.94-2.06-.94-.94-2.06-.94 2.06-2.06.94z\"/><path d=\"M17.41 7.96l-1.37-1.37c-.4-.4-.92-.59-1.43-.59-.52 0-1.04.2-1.43.59L10.3 9.45l-7.72 7.72c-.78.78-.78 2.05 0 2.83L4 21.41c.39.39.9.59 1.41.59.51 0 1.02-.2 1.41-.59l7.78-7.78 2.81-2.81c.8-.78.8-2.07 0-2.86zM5.41 20L4 18.59l7.72-7.72 1.47 1.35L5.41 20z\"/>\n",
              "  </svg>\n",
              "      </button>\n",
              "      \n",
              "  <style>\n",
              "    .colab-df-container {\n",
              "      display:flex;\n",
              "      flex-wrap:wrap;\n",
              "      gap: 12px;\n",
              "    }\n",
              "\n",
              "    .colab-df-convert {\n",
              "      background-color: #E8F0FE;\n",
              "      border: none;\n",
              "      border-radius: 50%;\n",
              "      cursor: pointer;\n",
              "      display: none;\n",
              "      fill: #1967D2;\n",
              "      height: 32px;\n",
              "      padding: 0 0 0 0;\n",
              "      width: 32px;\n",
              "    }\n",
              "\n",
              "    .colab-df-convert:hover {\n",
              "      background-color: #E2EBFA;\n",
              "      box-shadow: 0px 1px 2px rgba(60, 64, 67, 0.3), 0px 1px 3px 1px rgba(60, 64, 67, 0.15);\n",
              "      fill: #174EA6;\n",
              "    }\n",
              "\n",
              "    [theme=dark] .colab-df-convert {\n",
              "      background-color: #3B4455;\n",
              "      fill: #D2E3FC;\n",
              "    }\n",
              "\n",
              "    [theme=dark] .colab-df-convert:hover {\n",
              "      background-color: #434B5C;\n",
              "      box-shadow: 0px 1px 3px 1px rgba(0, 0, 0, 0.15);\n",
              "      filter: drop-shadow(0px 1px 2px rgba(0, 0, 0, 0.3));\n",
              "      fill: #FFFFFF;\n",
              "    }\n",
              "  </style>\n",
              "\n",
              "      <script>\n",
              "        const buttonEl =\n",
              "          document.querySelector('#df-14abe16e-c20b-42a0-9a76-4d6149214b43 button.colab-df-convert');\n",
              "        buttonEl.style.display =\n",
              "          google.colab.kernel.accessAllowed ? 'block' : 'none';\n",
              "\n",
              "        async function convertToInteractive(key) {\n",
              "          const element = document.querySelector('#df-14abe16e-c20b-42a0-9a76-4d6149214b43');\n",
              "          const dataTable =\n",
              "            await google.colab.kernel.invokeFunction('convertToInteractive',\n",
              "                                                     [key], {});\n",
              "          if (!dataTable) return;\n",
              "\n",
              "          const docLinkHtml = 'Like what you see? Visit the ' +\n",
              "            '<a target=\"_blank\" href=https://colab.research.google.com/notebooks/data_table.ipynb>data table notebook</a>'\n",
              "            + ' to learn more about interactive tables.';\n",
              "          element.innerHTML = '';\n",
              "          dataTable['output_type'] = 'display_data';\n",
              "          await google.colab.output.renderOutput(dataTable, element);\n",
              "          const docLink = document.createElement('div');\n",
              "          docLink.innerHTML = docLinkHtml;\n",
              "          element.appendChild(docLink);\n",
              "        }\n",
              "      </script>\n",
              "    </div>\n",
              "  </div>\n",
              "  "
            ]
          },
          "metadata": {},
          "execution_count": 638
        }
      ]
    },
    {
      "cell_type": "code",
      "source": [
        "print(\"The text: \\n %s\" % labeled_1.iloc[5, 5]+\"\\n\")\n",
        "print(\"The text: \\n %s\" % labeled_1.iloc[6, 5]+\"\\n\")\n",
        "print(\"The text: \\n %s\" % labeled_1.iloc[9, 5]+\"\\n\")\n",
        "print(\"The text: \\n %s\" % labeled_1.iloc[18, 5]+\"\\n\")\n",
        "print(\"The text: \\n %s\" % labeled_1.iloc[24, 5]+\"\\n\")"
      ],
      "metadata": {
        "colab": {
          "base_uri": "https://localhost:8080/"
        },
        "id": "EAjlPZGPFYTg",
        "outputId": "171c36d1-e557-40ae-be37-9bd61f444dbd"
      },
      "execution_count": null,
      "outputs": [
        {
          "output_type": "stream",
          "name": "stdout",
          "text": [
            "The text: \n",
            " Terakhir 17 Tahun yg lalu di kayumas pulogadung kebanjiran... bukannya kemajuan malah makin PARAH banjirnya... #jakarta #KompasUpdate #happynewyear2020 #Jokowi #AniesBaswedan #basarnas #banjir #kebanjiran https://t.co/qfC9CBMit6\n",
            "\n",
            "The text: \n",
            " #banjir depan bebek  BKB jalan Satrio https://t.co/j7zO881Ti5\n",
            "\n",
            "The text: \n",
            " listrik barusan banget nyala, terus mati lagi... banjir dalem rumah udah selutut dan masih terus naik https://t.co/wjnYnAlDpZ\n",
            "\n",
            "The text: \n",
            " Tambun Bekasi Cok #banjir https://t.co/PcirWCLh1H\n",
            "\n",
            "The text: \n",
            " Depan kantor, ga bisa ke kantor dan akhirnya nerjang banjir https://t.co/pC22cmyImT\n",
            "\n"
          ]
        }
      ]
    },
    {
      "cell_type": "markdown",
      "source": [
        "# **Data Training**"
      ],
      "metadata": {
        "id": "lwdM0IyZrxdI"
      }
    },
    {
      "cell_type": "markdown",
      "metadata": {
        "id": "APV6XtcKJYrr"
      },
      "source": [
        "## **Processing Text Data**"
      ]
    },
    {
      "cell_type": "code",
      "source": [
        "training_text = train[['id', 'text', 'label']]\n",
        "training_text"
      ],
      "metadata": {
        "colab": {
          "base_uri": "https://localhost:8080/",
          "height": 423
        },
        "id": "KQKVk1X7Fpii",
        "outputId": "94747158-987c-45ce-ac69-2dc2f44076f5"
      },
      "execution_count": null,
      "outputs": [
        {
          "output_type": "execute_result",
          "data": {
            "text/plain": [
              "                       id                                               text  \\\n",
              "0     1231430140824973313  Akhirnya sampai juga setelah menerobos banjir....   \n",
              "1     1213637932411580417  Kemekes RI, IDI Banten, IBI Banten dan PPNI Ba...   \n",
              "2     1218418277946396673  Dikarenakan cikini rada2 banjir tdi pagi hingg...   \n",
              "3     1231362534717837313  #sperma TT dikala warga jakarta sedang prihati...   \n",
              "4     1206890412574568449  KUIS!\\n\\nJakarta banjir parah hari ini, pertan...   \n",
              "...                   ...                                                ...   \n",
              "1513  1212485925860626434  Mohon doanya sahabat2ku untuk Musibah/ Bencana...   \n",
              "1514  1212604402969636869  Tidak perlu berdebat siapa yang salah... mau p...   \n",
              "1515  1242150538789019649  Banjir, karena tidak ada resapan. \\nMundur,  k...   \n",
              "1516  1232074747707441152  #banjir jam 05.45 diluar rumah 20-30 cm, didlm...   \n",
              "1517  1212155928260182016  Pantauan ketinggian air dri pintu air karet be...   \n",
              "\n",
              "      label  \n",
              "0         0  \n",
              "1         0  \n",
              "2         0  \n",
              "3         0  \n",
              "4         0  \n",
              "...     ...  \n",
              "1513      0  \n",
              "1514      0  \n",
              "1515      0  \n",
              "1516      1  \n",
              "1517      0  \n",
              "\n",
              "[1518 rows x 3 columns]"
            ],
            "text/html": [
              "\n",
              "  <div id=\"df-f30d7239-9f44-491f-94d2-e99672fbd582\">\n",
              "    <div class=\"colab-df-container\">\n",
              "      <div>\n",
              "<style scoped>\n",
              "    .dataframe tbody tr th:only-of-type {\n",
              "        vertical-align: middle;\n",
              "    }\n",
              "\n",
              "    .dataframe tbody tr th {\n",
              "        vertical-align: top;\n",
              "    }\n",
              "\n",
              "    .dataframe thead th {\n",
              "        text-align: right;\n",
              "    }\n",
              "</style>\n",
              "<table border=\"1\" class=\"dataframe\">\n",
              "  <thead>\n",
              "    <tr style=\"text-align: right;\">\n",
              "      <th></th>\n",
              "      <th>id</th>\n",
              "      <th>text</th>\n",
              "      <th>label</th>\n",
              "    </tr>\n",
              "  </thead>\n",
              "  <tbody>\n",
              "    <tr>\n",
              "      <th>0</th>\n",
              "      <td>1231430140824973313</td>\n",
              "      <td>Akhirnya sampai juga setelah menerobos banjir....</td>\n",
              "      <td>0</td>\n",
              "    </tr>\n",
              "    <tr>\n",
              "      <th>1</th>\n",
              "      <td>1213637932411580417</td>\n",
              "      <td>Kemekes RI, IDI Banten, IBI Banten dan PPNI Ba...</td>\n",
              "      <td>0</td>\n",
              "    </tr>\n",
              "    <tr>\n",
              "      <th>2</th>\n",
              "      <td>1218418277946396673</td>\n",
              "      <td>Dikarenakan cikini rada2 banjir tdi pagi hingg...</td>\n",
              "      <td>0</td>\n",
              "    </tr>\n",
              "    <tr>\n",
              "      <th>3</th>\n",
              "      <td>1231362534717837313</td>\n",
              "      <td>#sperma TT dikala warga jakarta sedang prihati...</td>\n",
              "      <td>0</td>\n",
              "    </tr>\n",
              "    <tr>\n",
              "      <th>4</th>\n",
              "      <td>1206890412574568449</td>\n",
              "      <td>KUIS!\\n\\nJakarta banjir parah hari ini, pertan...</td>\n",
              "      <td>0</td>\n",
              "    </tr>\n",
              "    <tr>\n",
              "      <th>...</th>\n",
              "      <td>...</td>\n",
              "      <td>...</td>\n",
              "      <td>...</td>\n",
              "    </tr>\n",
              "    <tr>\n",
              "      <th>1513</th>\n",
              "      <td>1212485925860626434</td>\n",
              "      <td>Mohon doanya sahabat2ku untuk Musibah/ Bencana...</td>\n",
              "      <td>0</td>\n",
              "    </tr>\n",
              "    <tr>\n",
              "      <th>1514</th>\n",
              "      <td>1212604402969636869</td>\n",
              "      <td>Tidak perlu berdebat siapa yang salah... mau p...</td>\n",
              "      <td>0</td>\n",
              "    </tr>\n",
              "    <tr>\n",
              "      <th>1515</th>\n",
              "      <td>1242150538789019649</td>\n",
              "      <td>Banjir, karena tidak ada resapan. \\nMundur,  k...</td>\n",
              "      <td>0</td>\n",
              "    </tr>\n",
              "    <tr>\n",
              "      <th>1516</th>\n",
              "      <td>1232074747707441152</td>\n",
              "      <td>#banjir jam 05.45 diluar rumah 20-30 cm, didlm...</td>\n",
              "      <td>1</td>\n",
              "    </tr>\n",
              "    <tr>\n",
              "      <th>1517</th>\n",
              "      <td>1212155928260182016</td>\n",
              "      <td>Pantauan ketinggian air dri pintu air karet be...</td>\n",
              "      <td>0</td>\n",
              "    </tr>\n",
              "  </tbody>\n",
              "</table>\n",
              "<p>1518 rows × 3 columns</p>\n",
              "</div>\n",
              "      <button class=\"colab-df-convert\" onclick=\"convertToInteractive('df-f30d7239-9f44-491f-94d2-e99672fbd582')\"\n",
              "              title=\"Convert this dataframe to an interactive table.\"\n",
              "              style=\"display:none;\">\n",
              "        \n",
              "  <svg xmlns=\"http://www.w3.org/2000/svg\" height=\"24px\"viewBox=\"0 0 24 24\"\n",
              "       width=\"24px\">\n",
              "    <path d=\"M0 0h24v24H0V0z\" fill=\"none\"/>\n",
              "    <path d=\"M18.56 5.44l.94 2.06.94-2.06 2.06-.94-2.06-.94-.94-2.06-.94 2.06-2.06.94zm-11 1L8.5 8.5l.94-2.06 2.06-.94-2.06-.94L8.5 2.5l-.94 2.06-2.06.94zm10 10l.94 2.06.94-2.06 2.06-.94-2.06-.94-.94-2.06-.94 2.06-2.06.94z\"/><path d=\"M17.41 7.96l-1.37-1.37c-.4-.4-.92-.59-1.43-.59-.52 0-1.04.2-1.43.59L10.3 9.45l-7.72 7.72c-.78.78-.78 2.05 0 2.83L4 21.41c.39.39.9.59 1.41.59.51 0 1.02-.2 1.41-.59l7.78-7.78 2.81-2.81c.8-.78.8-2.07 0-2.86zM5.41 20L4 18.59l7.72-7.72 1.47 1.35L5.41 20z\"/>\n",
              "  </svg>\n",
              "      </button>\n",
              "      \n",
              "  <style>\n",
              "    .colab-df-container {\n",
              "      display:flex;\n",
              "      flex-wrap:wrap;\n",
              "      gap: 12px;\n",
              "    }\n",
              "\n",
              "    .colab-df-convert {\n",
              "      background-color: #E8F0FE;\n",
              "      border: none;\n",
              "      border-radius: 50%;\n",
              "      cursor: pointer;\n",
              "      display: none;\n",
              "      fill: #1967D2;\n",
              "      height: 32px;\n",
              "      padding: 0 0 0 0;\n",
              "      width: 32px;\n",
              "    }\n",
              "\n",
              "    .colab-df-convert:hover {\n",
              "      background-color: #E2EBFA;\n",
              "      box-shadow: 0px 1px 2px rgba(60, 64, 67, 0.3), 0px 1px 3px 1px rgba(60, 64, 67, 0.15);\n",
              "      fill: #174EA6;\n",
              "    }\n",
              "\n",
              "    [theme=dark] .colab-df-convert {\n",
              "      background-color: #3B4455;\n",
              "      fill: #D2E3FC;\n",
              "    }\n",
              "\n",
              "    [theme=dark] .colab-df-convert:hover {\n",
              "      background-color: #434B5C;\n",
              "      box-shadow: 0px 1px 3px 1px rgba(0, 0, 0, 0.15);\n",
              "      filter: drop-shadow(0px 1px 2px rgba(0, 0, 0, 0.3));\n",
              "      fill: #FFFFFF;\n",
              "    }\n",
              "  </style>\n",
              "\n",
              "      <script>\n",
              "        const buttonEl =\n",
              "          document.querySelector('#df-f30d7239-9f44-491f-94d2-e99672fbd582 button.colab-df-convert');\n",
              "        buttonEl.style.display =\n",
              "          google.colab.kernel.accessAllowed ? 'block' : 'none';\n",
              "\n",
              "        async function convertToInteractive(key) {\n",
              "          const element = document.querySelector('#df-f30d7239-9f44-491f-94d2-e99672fbd582');\n",
              "          const dataTable =\n",
              "            await google.colab.kernel.invokeFunction('convertToInteractive',\n",
              "                                                     [key], {});\n",
              "          if (!dataTable) return;\n",
              "\n",
              "          const docLinkHtml = 'Like what you see? Visit the ' +\n",
              "            '<a target=\"_blank\" href=https://colab.research.google.com/notebooks/data_table.ipynb>data table notebook</a>'\n",
              "            + ' to learn more about interactive tables.';\n",
              "          element.innerHTML = '';\n",
              "          dataTable['output_type'] = 'display_data';\n",
              "          await google.colab.output.renderOutput(dataTable, element);\n",
              "          const docLink = document.createElement('div');\n",
              "          docLink.innerHTML = docLinkHtml;\n",
              "          element.appendChild(docLink);\n",
              "        }\n",
              "      </script>\n",
              "    </div>\n",
              "  </div>\n",
              "  "
            ]
          },
          "metadata": {},
          "execution_count": 640
        }
      ]
    },
    {
      "cell_type": "code",
      "source": [
        "# print the text\n",
        "training_text['text'].iloc[4]"
      ],
      "metadata": {
        "colab": {
          "base_uri": "https://localhost:8080/",
          "height": 70
        },
        "id": "OCGfk9JbFxXj",
        "outputId": "9085eec4-bcf5-4d43-d11f-46a9d4bb9e22"
      },
      "execution_count": null,
      "outputs": [
        {
          "output_type": "execute_result",
          "data": {
            "text/plain": [
              "'KUIS!\\n\\nJakarta banjir parah hari ini, pertanyaannya, siapakah yg akan disalahkan gubernur kali ini?\\n\\nA. Ahok\\nB. Mentri PUPR\\nC. Kadis\\nD. Warga\\n\\nJawaban dikirimkan ke \\n\\nPO BOX 212\\nDgn kode \"ini bukan banjir tapi cobaan\".\\n\\n25 pemenang mendapatkan tiket gratis jalan2 di monas. https://t.co/SQED8TcW2b'"
            ],
            "application/vnd.google.colaboratory.intrinsic+json": {
              "type": "string"
            }
          },
          "metadata": {},
          "execution_count": 641
        }
      ]
    },
    {
      "cell_type": "markdown",
      "source": [
        "### **Removing the URl's**"
      ],
      "metadata": {
        "id": "bCLFfgL9F2Eq"
      }
    },
    {
      "cell_type": "code",
      "execution_count": null,
      "metadata": {
        "id": "Hrl78EVTKD8i",
        "colab": {
          "base_uri": "https://localhost:8080/"
        },
        "outputId": "8a95d55e-bfbc-4bb0-a279-d241d98ad746"
      },
      "outputs": [
        {
          "output_type": "stream",
          "name": "stderr",
          "text": [
            "<ipython-input-642-591b7a637d08>:5: SettingWithCopyWarning:\n",
            "\n",
            "\n",
            "A value is trying to be set on a copy of a slice from a DataFrame.\n",
            "Try using .loc[row_indexer,col_indexer] = value instead\n",
            "\n",
            "See the caveats in the documentation: https://pandas.pydata.org/pandas-docs/stable/user_guide/indexing.html#returning-a-view-versus-a-copy\n",
            "\n"
          ]
        }
      ],
      "source": [
        "# Removing the last word\n",
        "def remove_urls(texts):\n",
        "  return re.sub('https?://\\S+|www\\.\\S+', '', texts)\n",
        "\n",
        "training_text['text'] = training_text['text'].apply(lambda x: remove_urls(x))"
      ]
    },
    {
      "cell_type": "code",
      "source": [
        "# print the text\n",
        "training_text['text'].iloc[4]"
      ],
      "metadata": {
        "colab": {
          "base_uri": "https://localhost:8080/",
          "height": 70
        },
        "id": "N4bo6rWWG6PG",
        "outputId": "ad3320c4-57e6-4efa-b423-bd75b441c52a"
      },
      "execution_count": null,
      "outputs": [
        {
          "output_type": "execute_result",
          "data": {
            "text/plain": [
              "'KUIS!\\n\\nJakarta banjir parah hari ini, pertanyaannya, siapakah yg akan disalahkan gubernur kali ini?\\n\\nA. Ahok\\nB. Mentri PUPR\\nC. Kadis\\nD. Warga\\n\\nJawaban dikirimkan ke \\n\\nPO BOX 212\\nDgn kode \"ini bukan banjir tapi cobaan\".\\n\\n25 pemenang mendapatkan tiket gratis jalan2 di monas. '"
            ],
            "application/vnd.google.colaboratory.intrinsic+json": {
              "type": "string"
            }
          },
          "metadata": {},
          "execution_count": 643
        }
      ]
    },
    {
      "cell_type": "markdown",
      "metadata": {
        "id": "q30H02Pl9MRx"
      },
      "source": [
        "### **Lower Casing**"
      ]
    },
    {
      "cell_type": "code",
      "execution_count": null,
      "metadata": {
        "colab": {
          "base_uri": "https://localhost:8080/"
        },
        "id": "BE9ALxMJ9UZ9",
        "outputId": "f435287a-96c6-4278-9f44-02c553153ee4"
      },
      "outputs": [
        {
          "output_type": "stream",
          "name": "stderr",
          "text": [
            "<ipython-input-644-8514aea92de0>:4: SettingWithCopyWarning:\n",
            "\n",
            "\n",
            "A value is trying to be set on a copy of a slice from a DataFrame.\n",
            "Try using .loc[row_indexer,col_indexer] = value instead\n",
            "\n",
            "See the caveats in the documentation: https://pandas.pydata.org/pandas-docs/stable/user_guide/indexing.html#returning-a-view-versus-a-copy\n",
            "\n"
          ]
        }
      ],
      "source": [
        "def lower_casing(text):\n",
        "  return text.lower()\n",
        "\n",
        "training_text['text'] = training_text['text'].apply(lambda x: lower_casing(x))"
      ]
    },
    {
      "cell_type": "code",
      "execution_count": null,
      "metadata": {
        "colab": {
          "base_uri": "https://localhost:8080/",
          "height": 70
        },
        "id": "fqeoCuCz9h15",
        "outputId": "b43be74b-e5a9-4e66-cdea-86feb1d01345"
      },
      "outputs": [
        {
          "output_type": "execute_result",
          "data": {
            "text/plain": [
              "'kuis!\\n\\njakarta banjir parah hari ini, pertanyaannya, siapakah yg akan disalahkan gubernur kali ini?\\n\\na. ahok\\nb. mentri pupr\\nc. kadis\\nd. warga\\n\\njawaban dikirimkan ke \\n\\npo box 212\\ndgn kode \"ini bukan banjir tapi cobaan\".\\n\\n25 pemenang mendapatkan tiket gratis jalan2 di monas. '"
            ],
            "application/vnd.google.colaboratory.intrinsic+json": {
              "type": "string"
            }
          },
          "metadata": {},
          "execution_count": 645
        }
      ],
      "source": [
        "# print the text\n",
        "training_text['text'].iloc[4]"
      ]
    },
    {
      "cell_type": "markdown",
      "metadata": {
        "id": "3-6QPKFrKVOd"
      },
      "source": [
        "### **Remove Punctuation**"
      ]
    },
    {
      "cell_type": "code",
      "execution_count": null,
      "metadata": {
        "colab": {
          "base_uri": "https://localhost:8080/"
        },
        "id": "u3kv9WQLKYN2",
        "outputId": "260397b9-692b-46f2-f78f-757c2b76046c"
      },
      "outputs": [
        {
          "output_type": "stream",
          "name": "stderr",
          "text": [
            "<ipython-input-646-f6c864204868>:9: SettingWithCopyWarning:\n",
            "\n",
            "\n",
            "A value is trying to be set on a copy of a slice from a DataFrame.\n",
            "Try using .loc[row_indexer,col_indexer] = value instead\n",
            "\n",
            "See the caveats in the documentation: https://pandas.pydata.org/pandas-docs/stable/user_guide/indexing.html#returning-a-view-versus-a-copy\n",
            "\n"
          ]
        }
      ],
      "source": [
        "import re\n",
        "import string\n",
        "\n",
        "PUNCTUATIONS = string.punctuation\n",
        "\n",
        "def remove_punctuation(text):\n",
        "    return text.translate(str.maketrans('', '', PUNCTUATIONS))\n",
        "\n",
        "training_text['text'] = training_text['text'].apply(lambda x: remove_punctuation(x))"
      ]
    },
    {
      "cell_type": "code",
      "execution_count": null,
      "metadata": {
        "colab": {
          "base_uri": "https://localhost:8080/",
          "height": 70
        },
        "id": "_YXpgOwKKdAu",
        "outputId": "22f5edcf-f528-42ba-c864-c75de4d59af4"
      },
      "outputs": [
        {
          "output_type": "execute_result",
          "data": {
            "text/plain": [
              "'kuis\\n\\njakarta banjir parah hari ini pertanyaannya siapakah yg akan disalahkan gubernur kali ini\\n\\na ahok\\nb mentri pupr\\nc kadis\\nd warga\\n\\njawaban dikirimkan ke \\n\\npo box 212\\ndgn kode ini bukan banjir tapi cobaan\\n\\n25 pemenang mendapatkan tiket gratis jalan2 di monas '"
            ],
            "application/vnd.google.colaboratory.intrinsic+json": {
              "type": "string"
            }
          },
          "metadata": {},
          "execution_count": 647
        }
      ],
      "source": [
        "# print the text\n",
        "training_text['text'].iloc[4]"
      ]
    },
    {
      "cell_type": "markdown",
      "metadata": {
        "id": "dM07_tpD-dnU"
      },
      "source": [
        "### **Extra Whitespaces**"
      ]
    },
    {
      "cell_type": "code",
      "execution_count": null,
      "metadata": {
        "colab": {
          "base_uri": "https://localhost:8080/"
        },
        "id": "au5EfvjH-gVi",
        "outputId": "8073973a-30d0-49a1-8d7e-265f6391f881"
      },
      "outputs": [
        {
          "output_type": "stream",
          "name": "stderr",
          "text": [
            "<ipython-input-648-c29655321ade>:4: SettingWithCopyWarning:\n",
            "\n",
            "\n",
            "A value is trying to be set on a copy of a slice from a DataFrame.\n",
            "Try using .loc[row_indexer,col_indexer] = value instead\n",
            "\n",
            "See the caveats in the documentation: https://pandas.pydata.org/pandas-docs/stable/user_guide/indexing.html#returning-a-view-versus-a-copy\n",
            "\n"
          ]
        }
      ],
      "source": [
        "def remove_extra_whitespaces(text):\n",
        "    return \" \".join(text.split())\n",
        "\n",
        "training_text['text'] = training_text['text'].apply(lambda x: remove_extra_whitespaces(x))"
      ]
    },
    {
      "cell_type": "code",
      "execution_count": null,
      "metadata": {
        "colab": {
          "base_uri": "https://localhost:8080/",
          "height": 70
        },
        "id": "BVBD3Qzs-ntM",
        "outputId": "270d8740-516d-4461-f6ad-95ea1a33d66e"
      },
      "outputs": [
        {
          "output_type": "execute_result",
          "data": {
            "text/plain": [
              "'kuis jakarta banjir parah hari ini pertanyaannya siapakah yg akan disalahkan gubernur kali ini a ahok b mentri pupr c kadis d warga jawaban dikirimkan ke po box 212 dgn kode ini bukan banjir tapi cobaan 25 pemenang mendapatkan tiket gratis jalan2 di monas'"
            ],
            "application/vnd.google.colaboratory.intrinsic+json": {
              "type": "string"
            }
          },
          "metadata": {},
          "execution_count": 649
        }
      ],
      "source": [
        "# print the text\n",
        "training_text['text'].iloc[4]"
      ]
    },
    {
      "cell_type": "markdown",
      "metadata": {
        "id": "ytm2KXn2Krs-"
      },
      "source": [
        "### **Remove Stopwords**"
      ]
    },
    {
      "cell_type": "code",
      "execution_count": null,
      "metadata": {
        "colab": {
          "base_uri": "https://localhost:8080/"
        },
        "id": "LjB7FllUKq5o",
        "outputId": "8b41381d-6222-4479-e9d6-d3da11ca1700"
      },
      "outputs": [
        {
          "output_type": "stream",
          "name": "stderr",
          "text": [
            "<ipython-input-650-142860a776ed>:11: SettingWithCopyWarning:\n",
            "\n",
            "\n",
            "A value is trying to be set on a copy of a slice from a DataFrame.\n",
            "Try using .loc[row_indexer,col_indexer] = value instead\n",
            "\n",
            "See the caveats in the documentation: https://pandas.pydata.org/pandas-docs/stable/user_guide/indexing.html#returning-a-view-versus-a-copy\n",
            "\n"
          ]
        }
      ],
      "source": [
        "from spacy.lang.id.stop_words import STOP_WORDS\n",
        "\n",
        "def remove_stopwords(text):\n",
        "    text = re.sub('[^a-zA-Z]', ' ', text)  \n",
        "    text = text.split()  \n",
        "    text = [word for word in text if word not in STOP_WORDS]\n",
        "    text = ' '.join(text)\n",
        "    \n",
        "    return text\n",
        "\n",
        "training_text['text'] = training_text['text'].apply(lambda x: remove_stopwords(x))"
      ]
    },
    {
      "cell_type": "code",
      "execution_count": null,
      "metadata": {
        "colab": {
          "base_uri": "https://localhost:8080/",
          "height": 52
        },
        "id": "T4R6_fh7K3uD",
        "outputId": "c7c41666-8ed7-4036-e40b-bc948adc6f17"
      },
      "outputs": [
        {
          "output_type": "execute_result",
          "data": {
            "text/plain": [
              "'kuis jakarta banjir parah pertanyaannya yg disalahkan gubernur kali a ahok b mentri pupr c kadis d warga dikirimkan po box dgn kode banjir cobaan pemenang tiket gratis jalan monas'"
            ],
            "application/vnd.google.colaboratory.intrinsic+json": {
              "type": "string"
            }
          },
          "metadata": {},
          "execution_count": 651
        }
      ],
      "source": [
        "# print the text\n",
        "training_text['text'].iloc[4]"
      ]
    },
    {
      "cell_type": "markdown",
      "source": [
        "### **Word Counter**"
      ],
      "metadata": {
        "id": "Zk5KQbfRQTkC"
      }
    },
    {
      "cell_type": "code",
      "source": [
        "from collections import Counter\n",
        "\n",
        "# How many unique words have this text\n",
        "def counter_word (text):\n",
        "    count = Counter()\n",
        "    for i in text.values:\n",
        "        for word in i.split():\n",
        "            count[word] += 1\n",
        "    return count"
      ],
      "metadata": {
        "id": "GX3ULIure-_9"
      },
      "execution_count": null,
      "outputs": []
    },
    {
      "cell_type": "code",
      "source": [
        "counter = counter_word(training_text['text'])\n",
        "print(\"There are %d unique words\" % (len(counter)))\n",
        "\n",
        "# show top 10 words\n",
        "list(sorted(counter.items(), key=lambda x:x[1], reverse=True))[:10]"
      ],
      "metadata": {
        "colab": {
          "base_uri": "https://localhost:8080/"
        },
        "id": "MGYA13wRfAke",
        "outputId": "adba4d11-4d8d-4a65-8410-80d1f21d42b3"
      },
      "execution_count": null,
      "outputs": [
        {
          "output_type": "stream",
          "name": "stdout",
          "text": [
            "There are 7171 unique words\n"
          ]
        },
        {
          "output_type": "execute_result",
          "data": {
            "text/plain": [
              "[('banjir', 1787),\n",
              " ('yg', 242),\n",
              " ('jakarta', 215),\n",
              " ('korban', 157),\n",
              " ('air', 143),\n",
              " ('rumah', 135),\n",
              " ('hujan', 119),\n",
              " ('warga', 114),\n",
              " ('bencana', 107),\n",
              " ('banjirjakarta', 104)]"
            ]
          },
          "metadata": {},
          "execution_count": 653
        }
      ]
    },
    {
      "cell_type": "code",
      "source": [
        "# Get the mean length of each sentences\n",
        "length = np.mean([len(x) for x in training_text.text])\n",
        "length"
      ],
      "metadata": {
        "colab": {
          "base_uri": "https://localhost:8080/"
        },
        "id": "3_-EHkiJQhuv",
        "outputId": "88c82926-4917-4130-b8aa-88e6dcd3ae33"
      },
      "execution_count": null,
      "outputs": [
        {
          "output_type": "execute_result",
          "data": {
            "text/plain": [
              "109.0171277997365"
            ]
          },
          "metadata": {},
          "execution_count": 654
        }
      ]
    },
    {
      "cell_type": "markdown",
      "metadata": {
        "id": "1n3trJ7hLa5P"
      },
      "source": [
        "## **Splitting Dataset**"
      ]
    },
    {
      "cell_type": "code",
      "source": [
        "# Stratified splitting (for testing & validation set)\n",
        "labeled_0 = training_text.query(' label==0 ')\n",
        "labeled_1 = training_text.query(' label==1 ')\n",
        "print(labeled_0.shape)\n",
        "print(labeled_1.shape)"
      ],
      "metadata": {
        "colab": {
          "base_uri": "https://localhost:8080/"
        },
        "id": "TciAiClEQj-L",
        "outputId": "2273882f-70ed-49dc-e39f-0f2999135ae5"
      },
      "execution_count": null,
      "outputs": [
        {
          "output_type": "stream",
          "name": "stdout",
          "text": [
            "(1192, 3)\n",
            "(326, 3)\n"
          ]
        }
      ]
    },
    {
      "cell_type": "code",
      "execution_count": null,
      "metadata": {
        "id": "NsILyHFpLdQ1"
      },
      "outputs": [],
      "source": [
        "training_size = round(labeled_0.shape[0] * 80/100)\n",
        "training_labeled_0 = labeled_0[0:training_size]\n",
        "validation_labeled_0 = labeled_0[training_size:]\n",
        "\n",
        "training_size = round(labeled_1.shape[0] * 80/100)\n",
        "training_labeled_1 = labeled_1[0:training_size]\n",
        "validation_labeled_1 = labeled_1[training_size:]"
      ]
    },
    {
      "cell_type": "code",
      "source": [
        "training_data = pd.concat([training_labeled_0, training_labeled_1])\n",
        "training_data"
      ],
      "metadata": {
        "colab": {
          "base_uri": "https://localhost:8080/",
          "height": 423
        },
        "id": "rEzE_B83QvD3",
        "outputId": "2eac0a77-9e11-47cc-c99d-1f299fd79f0c"
      },
      "execution_count": null,
      "outputs": [
        {
          "output_type": "execute_result",
          "data": {
            "text/plain": [
              "                       id                                               text  \\\n",
              "0     1231430140824973313                                   menerobos banjir   \n",
              "1     1213637932411580417  kemekes ri idi banten ibi banten ppni banten d...   \n",
              "2     1218418277946396673  cikini rada banjir tdi pagi gk tau udh surut k...   \n",
              "3     1231362534717837313  sperma tt dikala warga jakarta prihatin banjir...   \n",
              "4     1206890412574568449  kuis jakarta banjir parah pertanyaannya yg dis...   \n",
              "...                   ...                                                ...   \n",
              "1197  1232107114841034753  banjir jalan kodamar bypass flyover kelapa gad...   \n",
              "1207  1212188311357255681               me semangat biarlah air banjir bantu   \n",
              "1208  1231576560320180225  kawasan menteng banjir tmc polda banjir cm jl ...   \n",
              "1212  1232189028616687616  first time bgt nih ngerasain namanya banjir ba...   \n",
              "1223  1212134919951880192              makain pagi deres cm air masuk banjir   \n",
              "\n",
              "      label  \n",
              "0         0  \n",
              "1         0  \n",
              "2         0  \n",
              "3         0  \n",
              "4         0  \n",
              "...     ...  \n",
              "1197      1  \n",
              "1207      1  \n",
              "1208      1  \n",
              "1212      1  \n",
              "1223      1  \n",
              "\n",
              "[1215 rows x 3 columns]"
            ],
            "text/html": [
              "\n",
              "  <div id=\"df-0ec3dd93-f190-4c67-9bf9-fd2bb9e93eb8\">\n",
              "    <div class=\"colab-df-container\">\n",
              "      <div>\n",
              "<style scoped>\n",
              "    .dataframe tbody tr th:only-of-type {\n",
              "        vertical-align: middle;\n",
              "    }\n",
              "\n",
              "    .dataframe tbody tr th {\n",
              "        vertical-align: top;\n",
              "    }\n",
              "\n",
              "    .dataframe thead th {\n",
              "        text-align: right;\n",
              "    }\n",
              "</style>\n",
              "<table border=\"1\" class=\"dataframe\">\n",
              "  <thead>\n",
              "    <tr style=\"text-align: right;\">\n",
              "      <th></th>\n",
              "      <th>id</th>\n",
              "      <th>text</th>\n",
              "      <th>label</th>\n",
              "    </tr>\n",
              "  </thead>\n",
              "  <tbody>\n",
              "    <tr>\n",
              "      <th>0</th>\n",
              "      <td>1231430140824973313</td>\n",
              "      <td>menerobos banjir</td>\n",
              "      <td>0</td>\n",
              "    </tr>\n",
              "    <tr>\n",
              "      <th>1</th>\n",
              "      <td>1213637932411580417</td>\n",
              "      <td>kemekes ri idi banten ibi banten ppni banten d...</td>\n",
              "      <td>0</td>\n",
              "    </tr>\n",
              "    <tr>\n",
              "      <th>2</th>\n",
              "      <td>1218418277946396673</td>\n",
              "      <td>cikini rada banjir tdi pagi gk tau udh surut k...</td>\n",
              "      <td>0</td>\n",
              "    </tr>\n",
              "    <tr>\n",
              "      <th>3</th>\n",
              "      <td>1231362534717837313</td>\n",
              "      <td>sperma tt dikala warga jakarta prihatin banjir...</td>\n",
              "      <td>0</td>\n",
              "    </tr>\n",
              "    <tr>\n",
              "      <th>4</th>\n",
              "      <td>1206890412574568449</td>\n",
              "      <td>kuis jakarta banjir parah pertanyaannya yg dis...</td>\n",
              "      <td>0</td>\n",
              "    </tr>\n",
              "    <tr>\n",
              "      <th>...</th>\n",
              "      <td>...</td>\n",
              "      <td>...</td>\n",
              "      <td>...</td>\n",
              "    </tr>\n",
              "    <tr>\n",
              "      <th>1197</th>\n",
              "      <td>1232107114841034753</td>\n",
              "      <td>banjir jalan kodamar bypass flyover kelapa gad...</td>\n",
              "      <td>1</td>\n",
              "    </tr>\n",
              "    <tr>\n",
              "      <th>1207</th>\n",
              "      <td>1212188311357255681</td>\n",
              "      <td>me semangat biarlah air banjir bantu</td>\n",
              "      <td>1</td>\n",
              "    </tr>\n",
              "    <tr>\n",
              "      <th>1208</th>\n",
              "      <td>1231576560320180225</td>\n",
              "      <td>kawasan menteng banjir tmc polda banjir cm jl ...</td>\n",
              "      <td>1</td>\n",
              "    </tr>\n",
              "    <tr>\n",
              "      <th>1212</th>\n",
              "      <td>1232189028616687616</td>\n",
              "      <td>first time bgt nih ngerasain namanya banjir ba...</td>\n",
              "      <td>1</td>\n",
              "    </tr>\n",
              "    <tr>\n",
              "      <th>1223</th>\n",
              "      <td>1212134919951880192</td>\n",
              "      <td>makain pagi deres cm air masuk banjir</td>\n",
              "      <td>1</td>\n",
              "    </tr>\n",
              "  </tbody>\n",
              "</table>\n",
              "<p>1215 rows × 3 columns</p>\n",
              "</div>\n",
              "      <button class=\"colab-df-convert\" onclick=\"convertToInteractive('df-0ec3dd93-f190-4c67-9bf9-fd2bb9e93eb8')\"\n",
              "              title=\"Convert this dataframe to an interactive table.\"\n",
              "              style=\"display:none;\">\n",
              "        \n",
              "  <svg xmlns=\"http://www.w3.org/2000/svg\" height=\"24px\"viewBox=\"0 0 24 24\"\n",
              "       width=\"24px\">\n",
              "    <path d=\"M0 0h24v24H0V0z\" fill=\"none\"/>\n",
              "    <path d=\"M18.56 5.44l.94 2.06.94-2.06 2.06-.94-2.06-.94-.94-2.06-.94 2.06-2.06.94zm-11 1L8.5 8.5l.94-2.06 2.06-.94-2.06-.94L8.5 2.5l-.94 2.06-2.06.94zm10 10l.94 2.06.94-2.06 2.06-.94-2.06-.94-.94-2.06-.94 2.06-2.06.94z\"/><path d=\"M17.41 7.96l-1.37-1.37c-.4-.4-.92-.59-1.43-.59-.52 0-1.04.2-1.43.59L10.3 9.45l-7.72 7.72c-.78.78-.78 2.05 0 2.83L4 21.41c.39.39.9.59 1.41.59.51 0 1.02-.2 1.41-.59l7.78-7.78 2.81-2.81c.8-.78.8-2.07 0-2.86zM5.41 20L4 18.59l7.72-7.72 1.47 1.35L5.41 20z\"/>\n",
              "  </svg>\n",
              "      </button>\n",
              "      \n",
              "  <style>\n",
              "    .colab-df-container {\n",
              "      display:flex;\n",
              "      flex-wrap:wrap;\n",
              "      gap: 12px;\n",
              "    }\n",
              "\n",
              "    .colab-df-convert {\n",
              "      background-color: #E8F0FE;\n",
              "      border: none;\n",
              "      border-radius: 50%;\n",
              "      cursor: pointer;\n",
              "      display: none;\n",
              "      fill: #1967D2;\n",
              "      height: 32px;\n",
              "      padding: 0 0 0 0;\n",
              "      width: 32px;\n",
              "    }\n",
              "\n",
              "    .colab-df-convert:hover {\n",
              "      background-color: #E2EBFA;\n",
              "      box-shadow: 0px 1px 2px rgba(60, 64, 67, 0.3), 0px 1px 3px 1px rgba(60, 64, 67, 0.15);\n",
              "      fill: #174EA6;\n",
              "    }\n",
              "\n",
              "    [theme=dark] .colab-df-convert {\n",
              "      background-color: #3B4455;\n",
              "      fill: #D2E3FC;\n",
              "    }\n",
              "\n",
              "    [theme=dark] .colab-df-convert:hover {\n",
              "      background-color: #434B5C;\n",
              "      box-shadow: 0px 1px 3px 1px rgba(0, 0, 0, 0.15);\n",
              "      filter: drop-shadow(0px 1px 2px rgba(0, 0, 0, 0.3));\n",
              "      fill: #FFFFFF;\n",
              "    }\n",
              "  </style>\n",
              "\n",
              "      <script>\n",
              "        const buttonEl =\n",
              "          document.querySelector('#df-0ec3dd93-f190-4c67-9bf9-fd2bb9e93eb8 button.colab-df-convert');\n",
              "        buttonEl.style.display =\n",
              "          google.colab.kernel.accessAllowed ? 'block' : 'none';\n",
              "\n",
              "        async function convertToInteractive(key) {\n",
              "          const element = document.querySelector('#df-0ec3dd93-f190-4c67-9bf9-fd2bb9e93eb8');\n",
              "          const dataTable =\n",
              "            await google.colab.kernel.invokeFunction('convertToInteractive',\n",
              "                                                     [key], {});\n",
              "          if (!dataTable) return;\n",
              "\n",
              "          const docLinkHtml = 'Like what you see? Visit the ' +\n",
              "            '<a target=\"_blank\" href=https://colab.research.google.com/notebooks/data_table.ipynb>data table notebook</a>'\n",
              "            + ' to learn more about interactive tables.';\n",
              "          element.innerHTML = '';\n",
              "          dataTable['output_type'] = 'display_data';\n",
              "          await google.colab.output.renderOutput(dataTable, element);\n",
              "          const docLink = document.createElement('div');\n",
              "          docLink.innerHTML = docLinkHtml;\n",
              "          element.appendChild(docLink);\n",
              "        }\n",
              "      </script>\n",
              "    </div>\n",
              "  </div>\n",
              "  "
            ]
          },
          "metadata": {},
          "execution_count": 657
        }
      ]
    },
    {
      "cell_type": "code",
      "execution_count": null,
      "metadata": {
        "colab": {
          "base_uri": "https://localhost:8080/",
          "height": 423
        },
        "id": "aXprA56LMMOL",
        "outputId": "03cff89e-2c0f-4825-ee7f-d247fd17da9e"
      },
      "outputs": [
        {
          "output_type": "execute_result",
          "data": {
            "text/plain": [
              "                       id                                               text  \\\n",
              "1214  1213715102542680064  bpk menteri desa halimiskandarnu sdh meginstru...   \n",
              "1215  1217658100590604289  sebaran wilayah banjir petabencana dipakai bpp...   \n",
              "1216  1212220761005420545  katsoka korianka jalan tol bergelombang disala...   \n",
              "1217  1212687107086376960                         yuk membantu korban banjir   \n",
              "1218  1218026615105437697  gara anies nih hello surabayapiye kabare semog...   \n",
              "...                   ...                                                ...   \n",
              "1475  1213740456879640583                                             banjir   \n",
              "1490  1231385173440094209  banjir cm wilayah semper jakarta utara sindyanast   \n",
              "1503  1232075977385136128                        berangkat kerja ujan banjir   \n",
              "1505  1232110804570296320  gerbang tol cempaka putih tidaka dilewati kend...   \n",
              "1516  1232074747707441152  banjir jam diluar rumah cm didlm rumah sdh mas...   \n",
              "\n",
              "      label  \n",
              "1214      0  \n",
              "1215      0  \n",
              "1216      0  \n",
              "1217      0  \n",
              "1218      0  \n",
              "...     ...  \n",
              "1475      1  \n",
              "1490      1  \n",
              "1503      1  \n",
              "1505      1  \n",
              "1516      1  \n",
              "\n",
              "[303 rows x 3 columns]"
            ],
            "text/html": [
              "\n",
              "  <div id=\"df-b856db3f-2721-473d-96f3-0f149cc89368\">\n",
              "    <div class=\"colab-df-container\">\n",
              "      <div>\n",
              "<style scoped>\n",
              "    .dataframe tbody tr th:only-of-type {\n",
              "        vertical-align: middle;\n",
              "    }\n",
              "\n",
              "    .dataframe tbody tr th {\n",
              "        vertical-align: top;\n",
              "    }\n",
              "\n",
              "    .dataframe thead th {\n",
              "        text-align: right;\n",
              "    }\n",
              "</style>\n",
              "<table border=\"1\" class=\"dataframe\">\n",
              "  <thead>\n",
              "    <tr style=\"text-align: right;\">\n",
              "      <th></th>\n",
              "      <th>id</th>\n",
              "      <th>text</th>\n",
              "      <th>label</th>\n",
              "    </tr>\n",
              "  </thead>\n",
              "  <tbody>\n",
              "    <tr>\n",
              "      <th>1214</th>\n",
              "      <td>1213715102542680064</td>\n",
              "      <td>bpk menteri desa halimiskandarnu sdh meginstru...</td>\n",
              "      <td>0</td>\n",
              "    </tr>\n",
              "    <tr>\n",
              "      <th>1215</th>\n",
              "      <td>1217658100590604289</td>\n",
              "      <td>sebaran wilayah banjir petabencana dipakai bpp...</td>\n",
              "      <td>0</td>\n",
              "    </tr>\n",
              "    <tr>\n",
              "      <th>1216</th>\n",
              "      <td>1212220761005420545</td>\n",
              "      <td>katsoka korianka jalan tol bergelombang disala...</td>\n",
              "      <td>0</td>\n",
              "    </tr>\n",
              "    <tr>\n",
              "      <th>1217</th>\n",
              "      <td>1212687107086376960</td>\n",
              "      <td>yuk membantu korban banjir</td>\n",
              "      <td>0</td>\n",
              "    </tr>\n",
              "    <tr>\n",
              "      <th>1218</th>\n",
              "      <td>1218026615105437697</td>\n",
              "      <td>gara anies nih hello surabayapiye kabare semog...</td>\n",
              "      <td>0</td>\n",
              "    </tr>\n",
              "    <tr>\n",
              "      <th>...</th>\n",
              "      <td>...</td>\n",
              "      <td>...</td>\n",
              "      <td>...</td>\n",
              "    </tr>\n",
              "    <tr>\n",
              "      <th>1475</th>\n",
              "      <td>1213740456879640583</td>\n",
              "      <td>banjir</td>\n",
              "      <td>1</td>\n",
              "    </tr>\n",
              "    <tr>\n",
              "      <th>1490</th>\n",
              "      <td>1231385173440094209</td>\n",
              "      <td>banjir cm wilayah semper jakarta utara sindyanast</td>\n",
              "      <td>1</td>\n",
              "    </tr>\n",
              "    <tr>\n",
              "      <th>1503</th>\n",
              "      <td>1232075977385136128</td>\n",
              "      <td>berangkat kerja ujan banjir</td>\n",
              "      <td>1</td>\n",
              "    </tr>\n",
              "    <tr>\n",
              "      <th>1505</th>\n",
              "      <td>1232110804570296320</td>\n",
              "      <td>gerbang tol cempaka putih tidaka dilewati kend...</td>\n",
              "      <td>1</td>\n",
              "    </tr>\n",
              "    <tr>\n",
              "      <th>1516</th>\n",
              "      <td>1232074747707441152</td>\n",
              "      <td>banjir jam diluar rumah cm didlm rumah sdh mas...</td>\n",
              "      <td>1</td>\n",
              "    </tr>\n",
              "  </tbody>\n",
              "</table>\n",
              "<p>303 rows × 3 columns</p>\n",
              "</div>\n",
              "      <button class=\"colab-df-convert\" onclick=\"convertToInteractive('df-b856db3f-2721-473d-96f3-0f149cc89368')\"\n",
              "              title=\"Convert this dataframe to an interactive table.\"\n",
              "              style=\"display:none;\">\n",
              "        \n",
              "  <svg xmlns=\"http://www.w3.org/2000/svg\" height=\"24px\"viewBox=\"0 0 24 24\"\n",
              "       width=\"24px\">\n",
              "    <path d=\"M0 0h24v24H0V0z\" fill=\"none\"/>\n",
              "    <path d=\"M18.56 5.44l.94 2.06.94-2.06 2.06-.94-2.06-.94-.94-2.06-.94 2.06-2.06.94zm-11 1L8.5 8.5l.94-2.06 2.06-.94-2.06-.94L8.5 2.5l-.94 2.06-2.06.94zm10 10l.94 2.06.94-2.06 2.06-.94-2.06-.94-.94-2.06-.94 2.06-2.06.94z\"/><path d=\"M17.41 7.96l-1.37-1.37c-.4-.4-.92-.59-1.43-.59-.52 0-1.04.2-1.43.59L10.3 9.45l-7.72 7.72c-.78.78-.78 2.05 0 2.83L4 21.41c.39.39.9.59 1.41.59.51 0 1.02-.2 1.41-.59l7.78-7.78 2.81-2.81c.8-.78.8-2.07 0-2.86zM5.41 20L4 18.59l7.72-7.72 1.47 1.35L5.41 20z\"/>\n",
              "  </svg>\n",
              "      </button>\n",
              "      \n",
              "  <style>\n",
              "    .colab-df-container {\n",
              "      display:flex;\n",
              "      flex-wrap:wrap;\n",
              "      gap: 12px;\n",
              "    }\n",
              "\n",
              "    .colab-df-convert {\n",
              "      background-color: #E8F0FE;\n",
              "      border: none;\n",
              "      border-radius: 50%;\n",
              "      cursor: pointer;\n",
              "      display: none;\n",
              "      fill: #1967D2;\n",
              "      height: 32px;\n",
              "      padding: 0 0 0 0;\n",
              "      width: 32px;\n",
              "    }\n",
              "\n",
              "    .colab-df-convert:hover {\n",
              "      background-color: #E2EBFA;\n",
              "      box-shadow: 0px 1px 2px rgba(60, 64, 67, 0.3), 0px 1px 3px 1px rgba(60, 64, 67, 0.15);\n",
              "      fill: #174EA6;\n",
              "    }\n",
              "\n",
              "    [theme=dark] .colab-df-convert {\n",
              "      background-color: #3B4455;\n",
              "      fill: #D2E3FC;\n",
              "    }\n",
              "\n",
              "    [theme=dark] .colab-df-convert:hover {\n",
              "      background-color: #434B5C;\n",
              "      box-shadow: 0px 1px 3px 1px rgba(0, 0, 0, 0.15);\n",
              "      filter: drop-shadow(0px 1px 2px rgba(0, 0, 0, 0.3));\n",
              "      fill: #FFFFFF;\n",
              "    }\n",
              "  </style>\n",
              "\n",
              "      <script>\n",
              "        const buttonEl =\n",
              "          document.querySelector('#df-b856db3f-2721-473d-96f3-0f149cc89368 button.colab-df-convert');\n",
              "        buttonEl.style.display =\n",
              "          google.colab.kernel.accessAllowed ? 'block' : 'none';\n",
              "\n",
              "        async function convertToInteractive(key) {\n",
              "          const element = document.querySelector('#df-b856db3f-2721-473d-96f3-0f149cc89368');\n",
              "          const dataTable =\n",
              "            await google.colab.kernel.invokeFunction('convertToInteractive',\n",
              "                                                     [key], {});\n",
              "          if (!dataTable) return;\n",
              "\n",
              "          const docLinkHtml = 'Like what you see? Visit the ' +\n",
              "            '<a target=\"_blank\" href=https://colab.research.google.com/notebooks/data_table.ipynb>data table notebook</a>'\n",
              "            + ' to learn more about interactive tables.';\n",
              "          element.innerHTML = '';\n",
              "          dataTable['output_type'] = 'display_data';\n",
              "          await google.colab.output.renderOutput(dataTable, element);\n",
              "          const docLink = document.createElement('div');\n",
              "          docLink.innerHTML = docLinkHtml;\n",
              "          element.appendChild(docLink);\n",
              "        }\n",
              "      </script>\n",
              "    </div>\n",
              "  </div>\n",
              "  "
            ]
          },
          "metadata": {},
          "execution_count": 658
        }
      ],
      "source": [
        "validation_data = pd.concat([validation_labeled_0, validation_labeled_1])\n",
        "validation_data"
      ]
    },
    {
      "cell_type": "code",
      "source": [
        "# Shuffling dataset\n",
        "training_data = training_data.sample(frac=1)\n",
        "validation_data = validation_data.sample(frac=1)\n",
        "print(training_data.shape)\n",
        "print(validation_data.shape)"
      ],
      "metadata": {
        "colab": {
          "base_uri": "https://localhost:8080/"
        },
        "id": "aBW-3qMVQ0O-",
        "outputId": "aaaeb42f-0fa8-4e21-c912-4eaa3259f31b"
      },
      "execution_count": null,
      "outputs": [
        {
          "output_type": "stream",
          "name": "stdout",
          "text": [
            "(1215, 3)\n",
            "(303, 3)\n"
          ]
        }
      ]
    },
    {
      "cell_type": "markdown",
      "metadata": {
        "id": "0zEwxeV6MSx-"
      },
      "source": [
        "## **Tokenizing Texts**"
      ]
    },
    {
      "cell_type": "code",
      "source": [
        "training_sentences = training_data.text\n",
        "training_labels = training_data.label\n",
        "\n",
        "validation_sentences = validation_data.text\n",
        "validation_labels = validation_data.label"
      ],
      "metadata": {
        "id": "00LVLnToSW7L"
      },
      "execution_count": null,
      "outputs": []
    },
    {
      "cell_type": "code",
      "execution_count": null,
      "metadata": {
        "id": "BinCDqxTMMxx"
      },
      "outputs": [],
      "source": [
        "# Setting the parameters use for embedding\n",
        "vocab_size = len(counter)\n",
        "max_length = 95\n",
        "trunc_type='post'\n",
        "padding_type='post'\n",
        "oov_token = \"<XXX>\"\n",
        "embedding_dim = 64\n",
        "lstm_dim = 32"
      ]
    },
    {
      "cell_type": "code",
      "execution_count": null,
      "metadata": {
        "id": "nAgIBQDfMY62"
      },
      "outputs": [],
      "source": [
        "# Initialize the Tokenizer class\n",
        "tokenizer = Tokenizer(num_words=vocab_size, oov_token=oov_token)\n",
        "\n",
        "# Generate the word index dictionary\n",
        "tokenizer.fit_on_texts(training_sentences)\n",
        "word_index = tokenizer.word_index\n",
        "\n",
        "# Generate and pad the training sequences\n",
        "training_sequences = tokenizer.texts_to_sequences(training_sentences)\n",
        "training_padded = pad_sequences(training_sequences, maxlen=max_length, padding=padding_type, truncating=trunc_type)\n",
        "\n",
        "# Generate and pad the testing sequences\n",
        "validation_sequences = tokenizer.texts_to_sequences(validation_sentences)\n",
        "validation_padded = pad_sequences(validation_sequences, maxlen=max_length, padding=padding_type, truncating=trunc_type)\n",
        "\n",
        "# Convert the labels lists into numpy arrays\n",
        "training_labels = np.array(training_labels)\n",
        "validation_labels = np.array(validation_labels)"
      ]
    },
    {
      "cell_type": "code",
      "execution_count": null,
      "metadata": {
        "colab": {
          "base_uri": "https://localhost:8080/"
        },
        "id": "YzRN730EO2EV",
        "outputId": "e97b5c03-3e11-40a2-9ba7-ceb0dceb1c3b"
      },
      "outputs": [
        {
          "output_type": "stream",
          "name": "stdout",
          "text": [
            "training padded: 1215\n",
            "testing padded: 303\n",
            "\n",
            "training labels: 1215\n",
            "validation labels: 303\n"
          ]
        }
      ],
      "source": [
        "print('training padded:', len(training_padded))\n",
        "print('testing padded:', len(validation_padded))\n",
        "print()\n",
        "print('training labels:', len(training_labels))\n",
        "print('validation labels:', len(validation_labels))"
      ]
    },
    {
      "cell_type": "markdown",
      "metadata": {
        "id": "ct4wsAs3Meas"
      },
      "source": [
        "# **Build and Compile Model**"
      ]
    },
    {
      "cell_type": "code",
      "source": [
        "# Create the LSTM model\n",
        "text_model = tf.keras.Sequential([\n",
        "    tf.keras.layers.Embedding(vocab_size, embedding_dim, input_length=max_length),\n",
        "    tf.keras.layers.Bidirectional(tf.keras.layers.LSTM(lstm_dim)),\n",
        "    tf.keras.layers.Dense(64, activation='relu'),\n",
        "    tf.keras.layers.Dense(32, activation='relu'),\n",
        "    tf.keras.layers.Dense(2, activation='softmax')\n",
        "])\n",
        "\n",
        "# Compile the model\n",
        "text_model.compile(loss='sparse_categorical_crossentropy',optimizer='adam',metrics=['accuracy'])\n",
        "\n",
        "# Print the model summary\n",
        "text_model.summary()"
      ],
      "metadata": {
        "id": "bGwHTerWeYw7",
        "colab": {
          "base_uri": "https://localhost:8080/"
        },
        "outputId": "201bd87d-0bc0-45f9-81b1-9e9c301218fa"
      },
      "execution_count": null,
      "outputs": [
        {
          "output_type": "stream",
          "name": "stdout",
          "text": [
            "Model: \"sequential_41\"\n",
            "_________________________________________________________________\n",
            " Layer (type)                Output Shape              Param #   \n",
            "=================================================================\n",
            " embedding_41 (Embedding)    (None, 95, 64)            458944    \n",
            "                                                                 \n",
            " bidirectional_41 (Bidirecti  (None, 64)               24832     \n",
            " onal)                                                           \n",
            "                                                                 \n",
            " dense_123 (Dense)           (None, 64)                4160      \n",
            "                                                                 \n",
            " dense_124 (Dense)           (None, 32)                2080      \n",
            "                                                                 \n",
            " dense_125 (Dense)           (None, 2)                 66        \n",
            "                                                                 \n",
            "=================================================================\n",
            "Total params: 490,082\n",
            "Trainable params: 490,082\n",
            "Non-trainable params: 0\n",
            "_________________________________________________________________\n"
          ]
        }
      ]
    },
    {
      "cell_type": "code",
      "source": [
        "# Setting the training parameters\n",
        "NUM_EPOCHS = 30\n",
        "earlystopping = tf.keras.callbacks.EarlyStopping(monitor =\"val_loss\", \n",
        "                                        mode =\"min\", patience = 5, \n",
        "                                        restore_best_weights = True)"
      ],
      "metadata": {
        "id": "Tlu_YhFjo7NH"
      },
      "execution_count": null,
      "outputs": []
    },
    {
      "cell_type": "code",
      "source": [
        "# Train the model\n",
        "history = text_model.fit(training_padded, training_labels, epochs=NUM_EPOCHS, validation_data=(validation_padded, validation_labels), callbacks=[earlystopping])"
      ],
      "metadata": {
        "colab": {
          "base_uri": "https://localhost:8080/"
        },
        "id": "jS3MlCzQiDOq",
        "outputId": "1d1ac7cc-98e7-4ef0-9464-365a33e9bd1e"
      },
      "execution_count": null,
      "outputs": [
        {
          "output_type": "stream",
          "name": "stdout",
          "text": [
            "Epoch 1/30\n",
            "38/38 [==============================] - 10s 158ms/step - loss: 0.5633 - accuracy: 0.7819 - val_loss: 0.5226 - val_accuracy: 0.7855\n",
            "Epoch 2/30\n",
            "38/38 [==============================] - 3s 72ms/step - loss: 0.4201 - accuracy: 0.8041 - val_loss: 0.4358 - val_accuracy: 0.8152\n",
            "Epoch 3/30\n",
            "38/38 [==============================] - 3s 77ms/step - loss: 0.1764 - accuracy: 0.9366 - val_loss: 0.4303 - val_accuracy: 0.8152\n",
            "Epoch 4/30\n",
            "38/38 [==============================] - 2s 50ms/step - loss: 0.0643 - accuracy: 0.9819 - val_loss: 0.5317 - val_accuracy: 0.8317\n",
            "Epoch 5/30\n",
            "38/38 [==============================] - 2s 43ms/step - loss: 0.0311 - accuracy: 0.9852 - val_loss: 0.6526 - val_accuracy: 0.8416\n",
            "Epoch 6/30\n",
            "38/38 [==============================] - 3s 75ms/step - loss: 0.0225 - accuracy: 0.9934 - val_loss: 0.6076 - val_accuracy: 0.8482\n",
            "Epoch 7/30\n",
            "38/38 [==============================] - 3s 63ms/step - loss: 0.0158 - accuracy: 0.9942 - val_loss: 0.6828 - val_accuracy: 0.8482\n",
            "Epoch 8/30\n",
            "38/38 [==============================] - 1s 28ms/step - loss: 0.0109 - accuracy: 0.9967 - val_loss: 0.7227 - val_accuracy: 0.8383\n"
          ]
        }
      ]
    },
    {
      "cell_type": "code",
      "execution_count": null,
      "metadata": {
        "id": "bbkH6G1smLwR"
      },
      "outputs": [],
      "source": [
        "import matplotlib.pyplot as plt\n",
        "\n",
        "# Plot Utility\n",
        "def plot_graphs(history, string):\n",
        "  plt.plot(history.history[string])\n",
        "  plt.plot(history.history['val_'+string])\n",
        "  plt.xlabel(\"Epochs\")\n",
        "  plt.ylabel(string)\n",
        "  plt.legend([string, 'val_'+string])\n",
        "  plt.show()"
      ]
    },
    {
      "cell_type": "code",
      "execution_count": null,
      "metadata": {
        "colab": {
          "base_uri": "https://localhost:8080/",
          "height": 285
        },
        "id": "ccBBSnYumNFg",
        "outputId": "2052c051-d587-4541-d10c-c183bc8403df"
      },
      "outputs": [
        {
          "output_type": "display_data",
          "data": {
            "text/plain": [
              "<Figure size 432x288 with 1 Axes>"
            ],
            "image/png": "[encoded data removed]"
          },
          "metadata": {}
        }
      ],
      "source": [
        "# Plot the accuracy history\n",
        "plot_graphs(history, 'accuracy')"
      ]
    },
    {
      "cell_type": "code",
      "execution_count": null,
      "metadata": {
        "colab": {
          "base_uri": "https://localhost:8080/",
          "height": 285
        },
        "id": "20CirqKrmOE7",
        "outputId": "b3ce9217-2549-4357-a604-d7c1029daa77"
      },
      "outputs": [
        {
          "output_type": "display_data",
          "data": {
            "text/plain": [
              "<Figure size 432x288 with 1 Axes>"
            ],
            "image/png": "[encoded data removed]"
          },
          "metadata": {}
        }
      ],
      "source": [
        "# Plot the loss history\n",
        "plot_graphs(history, 'loss')"
      ]
    },
    {
      "cell_type": "markdown",
      "metadata": {
        "id": "CKzR4S-3mTWh"
      },
      "source": [
        "# **Model Evaluation**"
      ]
    },
    {
      "cell_type": "code",
      "execution_count": null,
      "metadata": {
        "colab": {
          "base_uri": "https://localhost:8080/"
        },
        "id": "WU4sRD72mRkB",
        "outputId": "c6a862a8-f3fe-4f3c-e99a-371cd56a6bfc"
      },
      "outputs": [
        {
          "output_type": "stream",
          "name": "stdout",
          "text": [
            "10/10 [==============================] - 1s 5ms/step\n"
          ]
        },
        {
          "output_type": "execute_result",
          "data": {
            "text/plain": [
              "array([0, 0, 0, 1, 0, 1, 0, 0, 0, 0, 0, 0, 0, 0, 0, 0, 1, 0, 0, 0, 0, 1,\n",
              "       1, 0, 0, 0, 0, 0, 1, 1, 0, 0, 1, 0, 0, 0, 0, 0, 0, 0, 0, 0, 0, 1,\n",
              "       1, 0, 1, 0, 1, 0, 0, 0, 1, 0, 0, 0, 0, 0, 0, 0, 0, 0, 0, 0, 0, 0,\n",
              "       0, 0, 0, 0, 1, 0, 0, 0, 1, 0, 0, 0, 0, 0, 0, 1, 0, 1, 1, 0, 0, 0,\n",
              "       0, 0, 0, 0, 0, 1, 0, 0, 0, 0, 1, 0, 0, 1, 0, 0, 0, 0, 0, 0, 0, 0,\n",
              "       0, 1, 1, 0, 1, 0, 0, 0, 0, 0, 0, 0, 0, 0, 0, 0, 1, 1, 0, 0, 0, 0,\n",
              "       0, 0, 0, 0, 0, 0, 0, 0, 1, 0, 0, 1, 0, 0, 0, 1, 0, 0, 0, 1, 0, 1,\n",
              "       0, 0, 0, 0, 0, 0, 0, 0, 0, 0, 1, 1, 0, 0, 0, 0, 0, 0, 0, 0, 0, 1,\n",
              "       1, 0, 0, 0, 0, 0, 0, 0, 0, 1, 1, 1, 0, 0, 1, 0, 0, 0, 0, 0, 0, 0,\n",
              "       0, 1, 0, 0, 0, 1, 0, 0, 0, 1, 0, 0, 0, 0, 0, 0, 0, 0, 0, 1, 1, 0,\n",
              "       1, 0, 0, 0, 0, 0, 0, 0, 0, 1, 0, 0, 1, 0, 1, 0, 0, 1, 0, 1, 0, 0,\n",
              "       1, 0, 0, 0, 0, 0, 1, 0, 0, 0, 0, 0, 1, 1, 1, 0, 0, 0, 0, 0, 0, 0,\n",
              "       0, 0, 1, 1, 1, 1, 0, 0, 1, 0, 0, 0, 0, 0, 0, 0, 1, 0, 0, 0, 1, 1,\n",
              "       1, 0, 0, 1, 0, 0, 0, 0, 0, 1, 0, 0, 0, 0, 0, 1, 0])"
            ]
          },
          "metadata": {},
          "execution_count": 727
        }
      ],
      "source": [
        "predictions = text_model.predict(validation_padded)\n",
        "predictions_classes = np.argmax(predictions,axis=1)\n",
        "predictions_classes"
      ]
    },
    {
      "cell_type": "code",
      "execution_count": null,
      "metadata": {
        "id": "O2Dcwtv0mVJP"
      },
      "outputs": [],
      "source": [
        "from sklearn.metrics import classification_report,confusion_matrix\n",
        "\n",
        "# Showing Confusion Matrix\n",
        "def plot_cm(y_true, y_pred, title, figsize=(5,4)):\n",
        "    cm = confusion_matrix(y_true, y_pred, labels=np.unique(y_true))\n",
        "    cm_sum = np.sum(cm, axis=1, keepdims=True)\n",
        "    cm_perc = cm / cm_sum.astype(float) * 100\n",
        "    annot = np.empty_like(cm).astype(str)\n",
        "    nrows, ncols = cm.shape\n",
        "    for i in range(nrows):\n",
        "        for j in range(ncols):\n",
        "            c = cm[i, j]\n",
        "            p = cm_perc[i, j]\n",
        "            if i == j:\n",
        "                s = cm_sum[i]\n",
        "                annot[i, j] = '%.1f%%\\n%d/%d' % (p, c, s)\n",
        "            elif c == 0:\n",
        "                annot[i, j] = ''\n",
        "            else:\n",
        "                annot[i, j] = '%.1f%%\\n%d' % (p, c)\n",
        "    cm = pd.DataFrame(cm, index=np.unique(y_true), columns=np.unique(y_true))\n",
        "    cm.index.name = 'Actual'\n",
        "    cm.columns.name = 'Predicted'\n",
        "    fig, ax = plt.subplots(figsize=figsize)\n",
        "    plt.title(title)\n",
        "    sns.heatmap(cm, cmap= \"YlGnBu\", annot=annot, fmt='', ax=ax)"
      ]
    },
    {
      "cell_type": "code",
      "execution_count": null,
      "metadata": {
        "colab": {
          "base_uri": "https://localhost:8080/",
          "height": 464
        },
        "id": "fhnbsEFemWsh",
        "outputId": "b490e423-7873-44ac-e92f-e0d304b18291"
      },
      "outputs": [
        {
          "output_type": "display_data",
          "data": {
            "text/plain": [
              "<Figure size 504x504 with 2 Axes>"
            ],
            "image/png": "[encoded data removed]"
          },
          "metadata": {}
        }
      ],
      "source": [
        "# Showing Confusion Matrix\n",
        "plot_cm(validation_labels,predictions_classes, 'Confusion matrix of Tweets', figsize=(7,7))"
      ]
    },
    {
      "cell_type": "code",
      "execution_count": null,
      "metadata": {
        "colab": {
          "base_uri": "https://localhost:8080/"
        },
        "id": "9exNuegImYAe",
        "outputId": "1f4d341f-21dd-4659-99d6-b7f2abdb0e37"
      },
      "outputs": [
        {
          "output_type": "stream",
          "name": "stdout",
          "text": [
            "              precision    recall  f1-score   support\n",
            "\n",
            "           0       0.89      0.88      0.88       238\n",
            "           1       0.57      0.58      0.58        65\n",
            "\n",
            "    accuracy                           0.82       303\n",
            "   macro avg       0.73      0.73      0.73       303\n",
            "weighted avg       0.82      0.82      0.82       303\n",
            "\n"
          ]
        }
      ],
      "source": [
        "print(classification_report(validation_labels, predictions_classes))"
      ]
    },
    {
      "cell_type": "code",
      "execution_count": null,
      "metadata": {
        "colab": {
          "base_uri": "https://localhost:8080/"
        },
        "id": "vDxuCiIBmaEj",
        "outputId": "611a4008-d6b4-4824-cfa3-01fe113c8373"
      },
      "outputs": [
        {
          "output_type": "execute_result",
          "data": {
            "text/plain": [
              "0.816191745756854"
            ]
          },
          "metadata": {},
          "execution_count": 731
        }
      ],
      "source": [
        "from sklearn import metrics\n",
        "\n",
        "metrics.f1_score(validation_labels, predictions_classes, average='weighted')"
      ]
    },
    {
      "cell_type": "markdown",
      "source": [
        "# **Data Testing**"
      ],
      "metadata": {
        "id": "u4SYWorzsHl1"
      }
    },
    {
      "cell_type": "markdown",
      "metadata": {
        "id": "b9FpOS8DmkDC"
      },
      "source": [
        "## **Processing Text Data**"
      ]
    },
    {
      "cell_type": "code",
      "execution_count": null,
      "metadata": {
        "colab": {
          "base_uri": "https://localhost:8080/",
          "height": 973
        },
        "id": "yhLuQhhZmbTF",
        "outputId": "1767da4e-9b56-4f41-9244-9ccd5f5b6e34"
      },
      "outputs": [
        {
          "output_type": "display_data",
          "data": {
            "text/plain": [
              "                     created_at                   id              user_id  \\\n",
              "0     2020-01-04 04:01:24+00:00  1213309429254250496           3278019654   \n",
              "1     2020-01-12 03:14:24+00:00  1216196702647939072  1110443183379382272   \n",
              "2     2020-01-12 09:51:05+00:00  1216296533735309312            335900262   \n",
              "3     2020-03-02 07:48:31+00:00  1234385081482956800           3278019654   \n",
              "4     2020-01-08 10:15:55+00:00  1214853229567041537  1186660471580921856   \n",
              "...                         ...                  ...                  ...   \n",
              "1006  2020-01-01 13:55:32+00:00  1212371781350084608             53922892   \n",
              "1007  2020-02-24 22:49:41+00:00  1232075152042541056           3169526630   \n",
              "1008  2020-01-04 04:25:47+00:00  1213315563595845633  1182146749629992960   \n",
              "1009  2020-01-03 05:35:44+00:00  1212970781610663936             50899901   \n",
              "1010  2020-02-24 16:07:00+00:00  1231973813132365825            343994180   \n",
              "\n",
              "               user_name                                                url  \\\n",
              "0        Dinas LH Cakung  https://twitter.com/DinsihCakung/status/121330...   \n",
              "1        Nunung Iskandar  https://twitter.com/IskandarNunung/status/1216...   \n",
              "2     🇲🇾.N i e s a a .🇲🇾  https://twitter.com/Cik_AnaaNiesaa/status/1216...   \n",
              "3        Dinas LH Cakung  https://twitter.com/DinsihCakung/status/123438...   \n",
              "4       BEM STMIK WIDURI  https://twitter.com/bem_stmikwiduri/status/121...   \n",
              "...                  ...                                                ...   \n",
              "1006   Cyril Raoul Hakim  https://twitter.com/chicohakim/status/12123717...   \n",
              "1007                yaya  https://twitter.com/Arnia_Adnarnia/status/1232...   \n",
              "1008        rizkihidayat  https://twitter.com/rizkihi85048374/status/121...   \n",
              "1009              (◕ᴗ◕✿)  https://twitter.com/sher0690/status/1212970781...   \n",
              "1010        DIDIKJATMIKO  https://twitter.com/kakdidik13/status/12319738...   \n",
              "\n",
              "                                                   text                media  \n",
              "0     Giat pengangkutan sampah pasca banjir Rw 02 Ke...  ENaKfJ8VUAIUjb2.jpg  \n",
              "1     Giat gotong-royong membersihkan jalan te kena ...  EODMcc8UEAA-7g_.jpg  \n",
              "2     Terima kasih, tuan hamba. Tetap di sisi hamba ...  EOEnPtTUcAEsJXb.jpg  \n",
              "3     pengambilan toilet portable tuntas pasca banji...  ESFqrKNU8AAip-t.jpg  \n",
              "4     [PRESS RELEASE]\\nPra Kampus Widuri Peduli Benc...  ENwGelmUEAEa6Kq.jpg  \n",
              "...                                                 ...                  ...  \n",
              "1006  Pengendalian Banjir memang identik dengan ‘ker...  ENM1siHUYAElpR_.jpg  \n",
              "1007  Buaran jakarta timur bisa buat berenang.\\nLebi...  ERk1zdoUEAAa3_j.jpg  \n",
              "1008  Banjir d prov. Riau,,Polisi Siaga,, \\n#RiauPed...  ENaQCGvUEAEbXUW.jpg  \n",
              "1009  ada kolam di alsut kmrn kena banjir 😳 https://...  ENVWe93VUAE_AGg.jpg  \n",
              "1010  Hai tweeps, @BankBCA kemarin habis gelar acara...  ERjZoI1XUAE5A39.jpg  \n",
              "\n",
              "[1011 rows x 7 columns]"
            ],
            "text/html": [
              "\n",
              "  <div id=\"df-b756cc7c-03f6-4052-850a-5275fb4b0118\">\n",
              "    <div class=\"colab-df-container\">\n",
              "      <div>\n",
              "<style scoped>\n",
              "    .dataframe tbody tr th:only-of-type {\n",
              "        vertical-align: middle;\n",
              "    }\n",
              "\n",
              "    .dataframe tbody tr th {\n",
              "        vertical-align: top;\n",
              "    }\n",
              "\n",
              "    .dataframe thead th {\n",
              "        text-align: right;\n",
              "    }\n",
              "</style>\n",
              "<table border=\"1\" class=\"dataframe\">\n",
              "  <thead>\n",
              "    <tr style=\"text-align: right;\">\n",
              "      <th></th>\n",
              "      <th>created_at</th>\n",
              "      <th>id</th>\n",
              "      <th>user_id</th>\n",
              "      <th>user_name</th>\n",
              "      <th>url</th>\n",
              "      <th>text</th>\n",
              "      <th>media</th>\n",
              "    </tr>\n",
              "  </thead>\n",
              "  <tbody>\n",
              "    <tr>\n",
              "      <th>0</th>\n",
              "      <td>2020-01-04 04:01:24+00:00</td>\n",
              "      <td>1213309429254250496</td>\n",
              "      <td>3278019654</td>\n",
              "      <td>Dinas LH Cakung</td>\n",
              "      <td>https://twitter.com/DinsihCakung/status/121330...</td>\n",
              "      <td>Giat pengangkutan sampah pasca banjir Rw 02 Ke...</td>\n",
              "      <td>ENaKfJ8VUAIUjb2.jpg</td>\n",
              "    </tr>\n",
              "    <tr>\n",
              "      <th>1</th>\n",
              "      <td>2020-01-12 03:14:24+00:00</td>\n",
              "      <td>1216196702647939072</td>\n",
              "      <td>1110443183379382272</td>\n",
              "      <td>Nunung Iskandar</td>\n",
              "      <td>https://twitter.com/IskandarNunung/status/1216...</td>\n",
              "      <td>Giat gotong-royong membersihkan jalan te kena ...</td>\n",
              "      <td>EODMcc8UEAA-7g_.jpg</td>\n",
              "    </tr>\n",
              "    <tr>\n",
              "      <th>2</th>\n",
              "      <td>2020-01-12 09:51:05+00:00</td>\n",
              "      <td>1216296533735309312</td>\n",
              "      <td>335900262</td>\n",
              "      <td>🇲🇾.N i e s a a .🇲🇾</td>\n",
              "      <td>https://twitter.com/Cik_AnaaNiesaa/status/1216...</td>\n",
              "      <td>Terima kasih, tuan hamba. Tetap di sisi hamba ...</td>\n",
              "      <td>EOEnPtTUcAEsJXb.jpg</td>\n",
              "    </tr>\n",
              "    <tr>\n",
              "      <th>3</th>\n",
              "      <td>2020-03-02 07:48:31+00:00</td>\n",
              "      <td>1234385081482956800</td>\n",
              "      <td>3278019654</td>\n",
              "      <td>Dinas LH Cakung</td>\n",
              "      <td>https://twitter.com/DinsihCakung/status/123438...</td>\n",
              "      <td>pengambilan toilet portable tuntas pasca banji...</td>\n",
              "      <td>ESFqrKNU8AAip-t.jpg</td>\n",
              "    </tr>\n",
              "    <tr>\n",
              "      <th>4</th>\n",
              "      <td>2020-01-08 10:15:55+00:00</td>\n",
              "      <td>1214853229567041537</td>\n",
              "      <td>1186660471580921856</td>\n",
              "      <td>BEM STMIK WIDURI</td>\n",
              "      <td>https://twitter.com/bem_stmikwiduri/status/121...</td>\n",
              "      <td>[PRESS RELEASE]\\nPra Kampus Widuri Peduli Benc...</td>\n",
              "      <td>ENwGelmUEAEa6Kq.jpg</td>\n",
              "    </tr>\n",
              "    <tr>\n",
              "      <th>...</th>\n",
              "      <td>...</td>\n",
              "      <td>...</td>\n",
              "      <td>...</td>\n",
              "      <td>...</td>\n",
              "      <td>...</td>\n",
              "      <td>...</td>\n",
              "      <td>...</td>\n",
              "    </tr>\n",
              "    <tr>\n",
              "      <th>1006</th>\n",
              "      <td>2020-01-01 13:55:32+00:00</td>\n",
              "      <td>1212371781350084608</td>\n",
              "      <td>53922892</td>\n",
              "      <td>Cyril Raoul Hakim</td>\n",
              "      <td>https://twitter.com/chicohakim/status/12123717...</td>\n",
              "      <td>Pengendalian Banjir memang identik dengan ‘ker...</td>\n",
              "      <td>ENM1siHUYAElpR_.jpg</td>\n",
              "    </tr>\n",
              "    <tr>\n",
              "      <th>1007</th>\n",
              "      <td>2020-02-24 22:49:41+00:00</td>\n",
              "      <td>1232075152042541056</td>\n",
              "      <td>3169526630</td>\n",
              "      <td>yaya</td>\n",
              "      <td>https://twitter.com/Arnia_Adnarnia/status/1232...</td>\n",
              "      <td>Buaran jakarta timur bisa buat berenang.\\nLebi...</td>\n",
              "      <td>ERk1zdoUEAAa3_j.jpg</td>\n",
              "    </tr>\n",
              "    <tr>\n",
              "      <th>1008</th>\n",
              "      <td>2020-01-04 04:25:47+00:00</td>\n",
              "      <td>1213315563595845633</td>\n",
              "      <td>1182146749629992960</td>\n",
              "      <td>rizkihidayat</td>\n",
              "      <td>https://twitter.com/rizkihi85048374/status/121...</td>\n",
              "      <td>Banjir d prov. Riau,,Polisi Siaga,, \\n#RiauPed...</td>\n",
              "      <td>ENaQCGvUEAEbXUW.jpg</td>\n",
              "    </tr>\n",
              "    <tr>\n",
              "      <th>1009</th>\n",
              "      <td>2020-01-03 05:35:44+00:00</td>\n",
              "      <td>1212970781610663936</td>\n",
              "      <td>50899901</td>\n",
              "      <td>(◕ᴗ◕✿)</td>\n",
              "      <td>https://twitter.com/sher0690/status/1212970781...</td>\n",
              "      <td>ada kolam di alsut kmrn kena banjir 😳 https://...</td>\n",
              "      <td>ENVWe93VUAE_AGg.jpg</td>\n",
              "    </tr>\n",
              "    <tr>\n",
              "      <th>1010</th>\n",
              "      <td>2020-02-24 16:07:00+00:00</td>\n",
              "      <td>1231973813132365825</td>\n",
              "      <td>343994180</td>\n",
              "      <td>DIDIKJATMIKO</td>\n",
              "      <td>https://twitter.com/kakdidik13/status/12319738...</td>\n",
              "      <td>Hai tweeps, @BankBCA kemarin habis gelar acara...</td>\n",
              "      <td>ERjZoI1XUAE5A39.jpg</td>\n",
              "    </tr>\n",
              "  </tbody>\n",
              "</table>\n",
              "<p>1011 rows × 7 columns</p>\n",
              "</div>\n",
              "      <button class=\"colab-df-convert\" onclick=\"convertToInteractive('df-b756cc7c-03f6-4052-850a-5275fb4b0118')\"\n",
              "              title=\"Convert this dataframe to an interactive table.\"\n",
              "              style=\"display:none;\">\n",
              "        \n",
              "  <svg xmlns=\"http://www.w3.org/2000/svg\" height=\"24px\"viewBox=\"0 0 24 24\"\n",
              "       width=\"24px\">\n",
              "    <path d=\"M0 0h24v24H0V0z\" fill=\"none\"/>\n",
              "    <path d=\"M18.56 5.44l.94 2.06.94-2.06 2.06-.94-2.06-.94-.94-2.06-.94 2.06-2.06.94zm-11 1L8.5 8.5l.94-2.06 2.06-.94-2.06-.94L8.5 2.5l-.94 2.06-2.06.94zm10 10l.94 2.06.94-2.06 2.06-.94-2.06-.94-.94-2.06-.94 2.06-2.06.94z\"/><path d=\"M17.41 7.96l-1.37-1.37c-.4-.4-.92-.59-1.43-.59-.52 0-1.04.2-1.43.59L10.3 9.45l-7.72 7.72c-.78.78-.78 2.05 0 2.83L4 21.41c.39.39.9.59 1.41.59.51 0 1.02-.2 1.41-.59l7.78-7.78 2.81-2.81c.8-.78.8-2.07 0-2.86zM5.41 20L4 18.59l7.72-7.72 1.47 1.35L5.41 20z\"/>\n",
              "  </svg>\n",
              "      </button>\n",
              "      \n",
              "  <style>\n",
              "    .colab-df-container {\n",
              "      display:flex;\n",
              "      flex-wrap:wrap;\n",
              "      gap: 12px;\n",
              "    }\n",
              "\n",
              "    .colab-df-convert {\n",
              "      background-color: #E8F0FE;\n",
              "      border: none;\n",
              "      border-radius: 50%;\n",
              "      cursor: pointer;\n",
              "      display: none;\n",
              "      fill: #1967D2;\n",
              "      height: 32px;\n",
              "      padding: 0 0 0 0;\n",
              "      width: 32px;\n",
              "    }\n",
              "\n",
              "    .colab-df-convert:hover {\n",
              "      background-color: #E2EBFA;\n",
              "      box-shadow: 0px 1px 2px rgba(60, 64, 67, 0.3), 0px 1px 3px 1px rgba(60, 64, 67, 0.15);\n",
              "      fill: #174EA6;\n",
              "    }\n",
              "\n",
              "    [theme=dark] .colab-df-convert {\n",
              "      background-color: #3B4455;\n",
              "      fill: #D2E3FC;\n",
              "    }\n",
              "\n",
              "    [theme=dark] .colab-df-convert:hover {\n",
              "      background-color: #434B5C;\n",
              "      box-shadow: 0px 1px 3px 1px rgba(0, 0, 0, 0.15);\n",
              "      filter: drop-shadow(0px 1px 2px rgba(0, 0, 0, 0.3));\n",
              "      fill: #FFFFFF;\n",
              "    }\n",
              "  </style>\n",
              "\n",
              "      <script>\n",
              "        const buttonEl =\n",
              "          document.querySelector('#df-b756cc7c-03f6-4052-850a-5275fb4b0118 button.colab-df-convert');\n",
              "        buttonEl.style.display =\n",
              "          google.colab.kernel.accessAllowed ? 'block' : 'none';\n",
              "\n",
              "        async function convertToInteractive(key) {\n",
              "          const element = document.querySelector('#df-b756cc7c-03f6-4052-850a-5275fb4b0118');\n",
              "          const dataTable =\n",
              "            await google.colab.kernel.invokeFunction('convertToInteractive',\n",
              "                                                     [key], {});\n",
              "          if (!dataTable) return;\n",
              "\n",
              "          const docLinkHtml = 'Like what you see? Visit the ' +\n",
              "            '<a target=\"_blank\" href=https://colab.research.google.com/notebooks/data_table.ipynb>data table notebook</a>'\n",
              "            + ' to learn more about interactive tables.';\n",
              "          element.innerHTML = '';\n",
              "          dataTable['output_type'] = 'display_data';\n",
              "          await google.colab.output.renderOutput(dataTable, element);\n",
              "          const docLink = document.createElement('div');\n",
              "          docLink.innerHTML = docLinkHtml;\n",
              "          element.appendChild(docLink);\n",
              "        }\n",
              "      </script>\n",
              "    </div>\n",
              "  </div>\n",
              "  "
            ]
          },
          "metadata": {}
        }
      ],
      "source": [
        "display(test)"
      ]
    },
    {
      "cell_type": "code",
      "source": [
        "testing_text = test[['id', 'text']]\n",
        "testing_text"
      ],
      "metadata": {
        "colab": {
          "base_uri": "https://localhost:8080/",
          "height": 423
        },
        "id": "RkN8WmgZquh_",
        "outputId": "8f47bdb0-b7bd-461f-ed9f-db1a8c5da515"
      },
      "execution_count": null,
      "outputs": [
        {
          "output_type": "execute_result",
          "data": {
            "text/plain": [
              "                       id                                               text\n",
              "0     1213309429254250496  Giat pengangkutan sampah pasca banjir Rw 02 Ke...\n",
              "1     1216196702647939072  Giat gotong-royong membersihkan jalan te kena ...\n",
              "2     1216296533735309312  Terima kasih, tuan hamba. Tetap di sisi hamba ...\n",
              "3     1234385081482956800  pengambilan toilet portable tuntas pasca banji...\n",
              "4     1214853229567041537  [PRESS RELEASE]\\nPra Kampus Widuri Peduli Benc...\n",
              "...                   ...                                                ...\n",
              "1006  1212371781350084608  Pengendalian Banjir memang identik dengan ‘ker...\n",
              "1007  1232075152042541056  Buaran jakarta timur bisa buat berenang.\\nLebi...\n",
              "1008  1213315563595845633  Banjir d prov. Riau,,Polisi Siaga,, \\n#RiauPed...\n",
              "1009  1212970781610663936  ada kolam di alsut kmrn kena banjir 😳 https://...\n",
              "1010  1231973813132365825  Hai tweeps, @BankBCA kemarin habis gelar acara...\n",
              "\n",
              "[1011 rows x 2 columns]"
            ],
            "text/html": [
              "\n",
              "  <div id=\"df-23af2af3-384d-44d8-8b1e-fddd47aaeb35\">\n",
              "    <div class=\"colab-df-container\">\n",
              "      <div>\n",
              "<style scoped>\n",
              "    .dataframe tbody tr th:only-of-type {\n",
              "        vertical-align: middle;\n",
              "    }\n",
              "\n",
              "    .dataframe tbody tr th {\n",
              "        vertical-align: top;\n",
              "    }\n",
              "\n",
              "    .dataframe thead th {\n",
              "        text-align: right;\n",
              "    }\n",
              "</style>\n",
              "<table border=\"1\" class=\"dataframe\">\n",
              "  <thead>\n",
              "    <tr style=\"text-align: right;\">\n",
              "      <th></th>\n",
              "      <th>id</th>\n",
              "      <th>text</th>\n",
              "    </tr>\n",
              "  </thead>\n",
              "  <tbody>\n",
              "    <tr>\n",
              "      <th>0</th>\n",
              "      <td>1213309429254250496</td>\n",
              "      <td>Giat pengangkutan sampah pasca banjir Rw 02 Ke...</td>\n",
              "    </tr>\n",
              "    <tr>\n",
              "      <th>1</th>\n",
              "      <td>1216196702647939072</td>\n",
              "      <td>Giat gotong-royong membersihkan jalan te kena ...</td>\n",
              "    </tr>\n",
              "    <tr>\n",
              "      <th>2</th>\n",
              "      <td>1216296533735309312</td>\n",
              "      <td>Terima kasih, tuan hamba. Tetap di sisi hamba ...</td>\n",
              "    </tr>\n",
              "    <tr>\n",
              "      <th>3</th>\n",
              "      <td>1234385081482956800</td>\n",
              "      <td>pengambilan toilet portable tuntas pasca banji...</td>\n",
              "    </tr>\n",
              "    <tr>\n",
              "      <th>4</th>\n",
              "      <td>1214853229567041537</td>\n",
              "      <td>[PRESS RELEASE]\\nPra Kampus Widuri Peduli Benc...</td>\n",
              "    </tr>\n",
              "    <tr>\n",
              "      <th>...</th>\n",
              "      <td>...</td>\n",
              "      <td>...</td>\n",
              "    </tr>\n",
              "    <tr>\n",
              "      <th>1006</th>\n",
              "      <td>1212371781350084608</td>\n",
              "      <td>Pengendalian Banjir memang identik dengan ‘ker...</td>\n",
              "    </tr>\n",
              "    <tr>\n",
              "      <th>1007</th>\n",
              "      <td>1232075152042541056</td>\n",
              "      <td>Buaran jakarta timur bisa buat berenang.\\nLebi...</td>\n",
              "    </tr>\n",
              "    <tr>\n",
              "      <th>1008</th>\n",
              "      <td>1213315563595845633</td>\n",
              "      <td>Banjir d prov. Riau,,Polisi Siaga,, \\n#RiauPed...</td>\n",
              "    </tr>\n",
              "    <tr>\n",
              "      <th>1009</th>\n",
              "      <td>1212970781610663936</td>\n",
              "      <td>ada kolam di alsut kmrn kena banjir 😳 https://...</td>\n",
              "    </tr>\n",
              "    <tr>\n",
              "      <th>1010</th>\n",
              "      <td>1231973813132365825</td>\n",
              "      <td>Hai tweeps, @BankBCA kemarin habis gelar acara...</td>\n",
              "    </tr>\n",
              "  </tbody>\n",
              "</table>\n",
              "<p>1011 rows × 2 columns</p>\n",
              "</div>\n",
              "      <button class=\"colab-df-convert\" onclick=\"convertToInteractive('df-23af2af3-384d-44d8-8b1e-fddd47aaeb35')\"\n",
              "              title=\"Convert this dataframe to an interactive table.\"\n",
              "              style=\"display:none;\">\n",
              "        \n",
              "  <svg xmlns=\"http://www.w3.org/2000/svg\" height=\"24px\"viewBox=\"0 0 24 24\"\n",
              "       width=\"24px\">\n",
              "    <path d=\"M0 0h24v24H0V0z\" fill=\"none\"/>\n",
              "    <path d=\"M18.56 5.44l.94 2.06.94-2.06 2.06-.94-2.06-.94-.94-2.06-.94 2.06-2.06.94zm-11 1L8.5 8.5l.94-2.06 2.06-.94-2.06-.94L8.5 2.5l-.94 2.06-2.06.94zm10 10l.94 2.06.94-2.06 2.06-.94-2.06-.94-.94-2.06-.94 2.06-2.06.94z\"/><path d=\"M17.41 7.96l-1.37-1.37c-.4-.4-.92-.59-1.43-.59-.52 0-1.04.2-1.43.59L10.3 9.45l-7.72 7.72c-.78.78-.78 2.05 0 2.83L4 21.41c.39.39.9.59 1.41.59.51 0 1.02-.2 1.41-.59l7.78-7.78 2.81-2.81c.8-.78.8-2.07 0-2.86zM5.41 20L4 18.59l7.72-7.72 1.47 1.35L5.41 20z\"/>\n",
              "  </svg>\n",
              "      </button>\n",
              "      \n",
              "  <style>\n",
              "    .colab-df-container {\n",
              "      display:flex;\n",
              "      flex-wrap:wrap;\n",
              "      gap: 12px;\n",
              "    }\n",
              "\n",
              "    .colab-df-convert {\n",
              "      background-color: #E8F0FE;\n",
              "      border: none;\n",
              "      border-radius: 50%;\n",
              "      cursor: pointer;\n",
              "      display: none;\n",
              "      fill: #1967D2;\n",
              "      height: 32px;\n",
              "      padding: 0 0 0 0;\n",
              "      width: 32px;\n",
              "    }\n",
              "\n",
              "    .colab-df-convert:hover {\n",
              "      background-color: #E2EBFA;\n",
              "      box-shadow: 0px 1px 2px rgba(60, 64, 67, 0.3), 0px 1px 3px 1px rgba(60, 64, 67, 0.15);\n",
              "      fill: #174EA6;\n",
              "    }\n",
              "\n",
              "    [theme=dark] .colab-df-convert {\n",
              "      background-color: #3B4455;\n",
              "      fill: #D2E3FC;\n",
              "    }\n",
              "\n",
              "    [theme=dark] .colab-df-convert:hover {\n",
              "      background-color: #434B5C;\n",
              "      box-shadow: 0px 1px 3px 1px rgba(0, 0, 0, 0.15);\n",
              "      filter: drop-shadow(0px 1px 2px rgba(0, 0, 0, 0.3));\n",
              "      fill: #FFFFFF;\n",
              "    }\n",
              "  </style>\n",
              "\n",
              "      <script>\n",
              "        const buttonEl =\n",
              "          document.querySelector('#df-23af2af3-384d-44d8-8b1e-fddd47aaeb35 button.colab-df-convert');\n",
              "        buttonEl.style.display =\n",
              "          google.colab.kernel.accessAllowed ? 'block' : 'none';\n",
              "\n",
              "        async function convertToInteractive(key) {\n",
              "          const element = document.querySelector('#df-23af2af3-384d-44d8-8b1e-fddd47aaeb35');\n",
              "          const dataTable =\n",
              "            await google.colab.kernel.invokeFunction('convertToInteractive',\n",
              "                                                     [key], {});\n",
              "          if (!dataTable) return;\n",
              "\n",
              "          const docLinkHtml = 'Like what you see? Visit the ' +\n",
              "            '<a target=\"_blank\" href=https://colab.research.google.com/notebooks/data_table.ipynb>data table notebook</a>'\n",
              "            + ' to learn more about interactive tables.';\n",
              "          element.innerHTML = '';\n",
              "          dataTable['output_type'] = 'display_data';\n",
              "          await google.colab.output.renderOutput(dataTable, element);\n",
              "          const docLink = document.createElement('div');\n",
              "          docLink.innerHTML = docLinkHtml;\n",
              "          element.appendChild(docLink);\n",
              "        }\n",
              "      </script>\n",
              "    </div>\n",
              "  </div>\n",
              "  "
            ]
          },
          "metadata": {},
          "execution_count": 733
        }
      ]
    },
    {
      "cell_type": "code",
      "execution_count": null,
      "metadata": {
        "colab": {
          "base_uri": "https://localhost:8080/"
        },
        "id": "57qJbSY2nCLX",
        "outputId": "73f6ffdd-7888-43d2-cdfe-8ae2c3d4d474"
      },
      "outputs": [
        {
          "output_type": "stream",
          "name": "stderr",
          "text": [
            "<ipython-input-734-16d16edef249>:1: SettingWithCopyWarning:\n",
            "\n",
            "\n",
            "A value is trying to be set on a copy of a slice from a DataFrame.\n",
            "Try using .loc[row_indexer,col_indexer] = value instead\n",
            "\n",
            "See the caveats in the documentation: https://pandas.pydata.org/pandas-docs/stable/user_guide/indexing.html#returning-a-view-versus-a-copy\n",
            "\n",
            "<ipython-input-734-16d16edef249>:2: SettingWithCopyWarning:\n",
            "\n",
            "\n",
            "A value is trying to be set on a copy of a slice from a DataFrame.\n",
            "Try using .loc[row_indexer,col_indexer] = value instead\n",
            "\n",
            "See the caveats in the documentation: https://pandas.pydata.org/pandas-docs/stable/user_guide/indexing.html#returning-a-view-versus-a-copy\n",
            "\n",
            "<ipython-input-734-16d16edef249>:3: SettingWithCopyWarning:\n",
            "\n",
            "\n",
            "A value is trying to be set on a copy of a slice from a DataFrame.\n",
            "Try using .loc[row_indexer,col_indexer] = value instead\n",
            "\n",
            "See the caveats in the documentation: https://pandas.pydata.org/pandas-docs/stable/user_guide/indexing.html#returning-a-view-versus-a-copy\n",
            "\n",
            "<ipython-input-734-16d16edef249>:4: SettingWithCopyWarning:\n",
            "\n",
            "\n",
            "A value is trying to be set on a copy of a slice from a DataFrame.\n",
            "Try using .loc[row_indexer,col_indexer] = value instead\n",
            "\n",
            "See the caveats in the documentation: https://pandas.pydata.org/pandas-docs/stable/user_guide/indexing.html#returning-a-view-versus-a-copy\n",
            "\n",
            "<ipython-input-734-16d16edef249>:5: SettingWithCopyWarning:\n",
            "\n",
            "\n",
            "A value is trying to be set on a copy of a slice from a DataFrame.\n",
            "Try using .loc[row_indexer,col_indexer] = value instead\n",
            "\n",
            "See the caveats in the documentation: https://pandas.pydata.org/pandas-docs/stable/user_guide/indexing.html#returning-a-view-versus-a-copy\n",
            "\n"
          ]
        }
      ],
      "source": [
        "testing_text['text'] = testing_text['text'].apply(lambda x: remove_urls(x))\n",
        "testing_text['text'] = testing_text['text'].apply(lambda x: lower_casing(x))\n",
        "testing_text['text'] = testing_text['text'].apply(lambda x: remove_punctuation(x))\n",
        "testing_text['text'] = testing_text['text'].apply(lambda x: remove_extra_whitespaces(x))\n",
        "testing_text['text'] = testing_text['text'].apply(lambda x: remove_stopwords(x))"
      ]
    },
    {
      "cell_type": "code",
      "source": [
        "testing_text['text'].iloc[0]"
      ],
      "metadata": {
        "colab": {
          "base_uri": "https://localhost:8080/",
          "height": 70
        },
        "id": "hXRU4P_EsOsL",
        "outputId": "7e1a115b-ac5f-474d-c497-8d169d196a05"
      },
      "execution_count": null,
      "outputs": [
        {
          "output_type": "execute_result",
          "data": {
            "text/plain": [
              "'giat pengangkutan sampah pasca banjir rw kelcakung timur keccakungsabtu januari aniesbaswedan herwansyah yogiikhwan dinaslhdki setiomargono ppdlksudinlhjaktim pasukanorangedlh dinaslhdki jktbebassampah gogreen welovejakarta bersihbisakok'"
            ],
            "application/vnd.google.colaboratory.intrinsic+json": {
              "type": "string"
            }
          },
          "metadata": {},
          "execution_count": 735
        }
      ]
    },
    {
      "cell_type": "markdown",
      "source": [
        "## **Tokenizing Texts**"
      ],
      "metadata": {
        "id": "TNpXQ4fJsavK"
      }
    },
    {
      "cell_type": "code",
      "execution_count": null,
      "metadata": {
        "id": "mWKn4bDrmpJE"
      },
      "outputs": [],
      "source": [
        "# Generate and pad the testing sequences\n",
        "testing_sequences = tokenizer.texts_to_sequences(testing_text['text'])\n",
        "testing_padded = pad_sequences(testing_sequences, maxlen=max_length, padding=padding_type, truncating=trunc_type)"
      ]
    },
    {
      "cell_type": "markdown",
      "source": [
        "# **Predicting Data Testing**"
      ],
      "metadata": {
        "id": "KnN2M5eUsm21"
      }
    },
    {
      "cell_type": "code",
      "execution_count": null,
      "metadata": {
        "colab": {
          "base_uri": "https://localhost:8080/"
        },
        "id": "1-vLZewEnblH",
        "outputId": "2eb6386f-ad42-44be-ad03-ee8e9e440144"
      },
      "outputs": [
        {
          "output_type": "stream",
          "name": "stdout",
          "text": [
            "32/32 [==============================] - 0s 7ms/step\n"
          ]
        }
      ],
      "source": [
        "predictions = text_model.predict(testing_padded)"
      ]
    },
    {
      "cell_type": "code",
      "execution_count": null,
      "metadata": {
        "colab": {
          "base_uri": "https://localhost:8080/"
        },
        "id": "ZnTqDglInfRa",
        "outputId": "083c3abc-01bb-437d-e7fe-7620758e21bf"
      },
      "outputs": [
        {
          "output_type": "stream",
          "name": "stdout",
          "text": [
            "[0 0 0 0 0 0 1 0 0 0 1 0 1 1 0 0 0 0 1 0 0 0 0 0 0 0 0 0 0 0 0 0 0 0 0 0 0\n",
            " 0 0 0 0 0 0 0 0 1 0 0 1 0 1 0 1 0 0 0 0 1 0 0 0 0 0 0 1 0 1 1 0 0 0 0 0 1\n",
            " 0 0 0 0 1 0 0 1 0 0 0 1 1 1 1 0 0 1 1 1 0 0 0 0 0 0 1 1 0 1 0 0 0 0 0 0 0\n",
            " 0 0 0 1 0 0 0 0 0 0 0 0 0 0 0 0 0 0 0 0 0 0 0 1 1 1 1 0 0 0 0 0 1 0 0 0 0\n",
            " 1 0 0 0 0 0 1 0 0 0 0 0 0 0 1 1 0 0 1 0 0 0 0 0 0 0 0 0 0 0 1 0 0 0 0 1 0\n",
            " 0 0 0 0 1 0 0 0 0 1 1 0 0 0 1 0 0 1 0 0 0 0 0 0 0 0 0 0 1 0 0 1 1 1 1 0 0\n",
            " 0 0 0 0 0 0 0 1 0 0 0 0 0 0 0 1 0 0 0 0 0 1 1 1 0 0 0 0 1 0 0 0 1 0 0 0 0\n",
            " 1 0 0 0 1 0 0 0 0 1 0 0 1 0 0 0 0 0 0 0 1 0 0 0 0 0 0 0 0 1 0 0 0 0 0 0 1\n",
            " 1 0 0 0 0 0 0 0 0 0 0 0 0 1 1 1 0 1 0 0 0 0 0 0 0 0 0 0 0 1 0 1 0 0 0 0 0\n",
            " 1 0 0 1 0 0 0 0 0 0 0 0 0 0 0 0 0 0 0 0 0 0 0 0 0 0 0 0 0 0 0 0 0 0 0 0 1\n",
            " 0 0 0 0 0 0 0 0 0 0 0 0 0 1 0 0 0 1 0 0 0 0 1 0 0 0 0 1 0 0 0 0 1 1 0 1 0\n",
            " 1 0 0 0 1 0 0 1 1 0 0 0 0 0 0 0 0 0 0 1 0 0 1 0 0 0 0 0 0 1 0 1 0 0 0 0 0\n",
            " 1 0 0 0 0 0 0 1 0 0 0 0 0 0 0 0 0 1 0 0 1 0 0 0 0 0 0 0 0 0 0 0 0 1 0 0 0\n",
            " 0 0 0 0 0 0 0 0 0 0 1 0 0 0 0 0 1 0 0 0 0 0 1 0 0 0 1 0 0 0 0 0 0 0 0 1 0\n",
            " 0 0 0 0 0 0 0 0 0 0 0 0 0 1 0 0 0 1 0 0 0 0 0 0 0 0 0 0 0 1 0 0 0 1 0 0 0\n",
            " 0 1 0 0 0 0 0 0 0 0 0 0 0 1 0 1 0 0 1 0 0 0 0 0 0 0 0 1 0 0 1 0 0 0 0 0 1\n",
            " 0 0 0 0 0 0 0 0 0 0 0 1 0 0 0 1 0 1 0 1 0 0 1 0 0 0 0 0 0 0 0 1 1 0 0 0 0\n",
            " 0 0 0 0 0 0 0 0 0 0 1 0 0 0 0 0 0 0 0 0 0 0 1 0 1 1 0 0 0 0 0 0 0 1 0 0 0\n",
            " 1 0 0 0 1 0 0 0 0 0 0 1 0 0 0 1 0 0 1 1 0 0 0 0 0 0 1 0 1 1 0 0 0 0 0 1 1\n",
            " 0 0 1 0 1 1 1 0 0 0 0 1 1 0 0 0 1 0 0 0 0 0 0 0 0 1 0 0 0 0 0 0 1 0 1 1 1\n",
            " 0 0 1 0 0 0 0 1 0 1 1 0 0 0 0 0 1 0 0 0 0 0 0 0 0 0 0 0 1 0 0 0 0 0 0 0 0\n",
            " 0 0 1 0 0 0 0 0 0 0 0 0 0 0 0 0 1 0 0 1 0 0 1 0 0 0 0 1 0 0 0 0 0 0 0 0 1\n",
            " 0 1 0 0 0 1 0 1 1 0 1 1 1 0 0 0 0 1 0 0 1 0 0 0 0 0 0 1 0 0 1 0 1 0 0 0 0\n",
            " 0 0 0 1 0 0 0 0 0 0 0 0 0 0 0 1 1 1 0 0 0 1 0 0 0 0 1 0 0 0 0 1 0 0 0 0 0\n",
            " 0 0 0 1 1 1 1 0 0 1 0 1 0 1 0 0 1 0 0 0 0 0 0 0 0 0 0 0 0 0 0 0 0 1 0 0 0\n",
            " 0 0 0 0 0 1 0 1 0 0 1 0 0 0 1 1 0 0 0 0 1 0 0 0 0 1 0 0 0 0 0 0 0 1 0 0 0\n",
            " 0 0 0 0 0 0 0 0 0 1 0 0 1 1 0 0 0 0 0 0 0 0 1 0 0 0 0 0 0 0 0 0 0 0 1 0 1\n",
            " 0 0 1 0 1 0 1 0 1 0 0 0]\n"
          ]
        }
      ],
      "source": [
        "predictions_classes = np.argmax(predictions, axis=1)\n",
        "with np.printoptions(threshold=np.inf):\n",
        "    print(predictions_classes)"
      ]
    },
    {
      "cell_type": "markdown",
      "source": [
        "# **Converting Result to DataFrame Submission**"
      ],
      "metadata": {
        "id": "ud_0Ftnvs1nz"
      }
    },
    {
      "cell_type": "code",
      "execution_count": null,
      "metadata": {
        "id": "R9rfhJsCnld8"
      },
      "outputs": [],
      "source": [
        "result_df = pd.DataFrame({'id': test['id'],\n",
        "                       'label': predictions_classes,\n",
        "                       })"
      ]
    },
    {
      "cell_type": "code",
      "execution_count": null,
      "metadata": {
        "colab": {
          "base_uri": "https://localhost:8080/",
          "height": 423
        },
        "id": "xd1Jwc27noCD",
        "outputId": "fc5e9bbe-29af-4267-b416-67468b126ef1"
      },
      "outputs": [
        {
          "output_type": "execute_result",
          "data": {
            "text/plain": [
              "                       id  label\n",
              "0     1213309429254250496      0\n",
              "1     1216196702647939072      0\n",
              "2     1216296533735309312      0\n",
              "3     1234385081482956800      0\n",
              "4     1214853229567041537      0\n",
              "...                   ...    ...\n",
              "1006  1212371781350084608      0\n",
              "1007  1232075152042541056      1\n",
              "1008  1213315563595845633      0\n",
              "1009  1212970781610663936      0\n",
              "1010  1231973813132365825      0\n",
              "\n",
              "[1011 rows x 2 columns]"
            ],
            "text/html": [
              "\n",
              "  <div id=\"df-a3de2423-adae-4a55-a954-b2031b2db534\">\n",
              "    <div class=\"colab-df-container\">\n",
              "      <div>\n",
              "<style scoped>\n",
              "    .dataframe tbody tr th:only-of-type {\n",
              "        vertical-align: middle;\n",
              "    }\n",
              "\n",
              "    .dataframe tbody tr th {\n",
              "        vertical-align: top;\n",
              "    }\n",
              "\n",
              "    .dataframe thead th {\n",
              "        text-align: right;\n",
              "    }\n",
              "</style>\n",
              "<table border=\"1\" class=\"dataframe\">\n",
              "  <thead>\n",
              "    <tr style=\"text-align: right;\">\n",
              "      <th></th>\n",
              "      <th>id</th>\n",
              "      <th>label</th>\n",
              "    </tr>\n",
              "  </thead>\n",
              "  <tbody>\n",
              "    <tr>\n",
              "      <th>0</th>\n",
              "      <td>1213309429254250496</td>\n",
              "      <td>0</td>\n",
              "    </tr>\n",
              "    <tr>\n",
              "      <th>1</th>\n",
              "      <td>1216196702647939072</td>\n",
              "      <td>0</td>\n",
              "    </tr>\n",
              "    <tr>\n",
              "      <th>2</th>\n",
              "      <td>1216296533735309312</td>\n",
              "      <td>0</td>\n",
              "    </tr>\n",
              "    <tr>\n",
              "      <th>3</th>\n",
              "      <td>1234385081482956800</td>\n",
              "      <td>0</td>\n",
              "    </tr>\n",
              "    <tr>\n",
              "      <th>4</th>\n",
              "      <td>1214853229567041537</td>\n",
              "      <td>0</td>\n",
              "    </tr>\n",
              "    <tr>\n",
              "      <th>...</th>\n",
              "      <td>...</td>\n",
              "      <td>...</td>\n",
              "    </tr>\n",
              "    <tr>\n",
              "      <th>1006</th>\n",
              "      <td>1212371781350084608</td>\n",
              "      <td>0</td>\n",
              "    </tr>\n",
              "    <tr>\n",
              "      <th>1007</th>\n",
              "      <td>1232075152042541056</td>\n",
              "      <td>1</td>\n",
              "    </tr>\n",
              "    <tr>\n",
              "      <th>1008</th>\n",
              "      <td>1213315563595845633</td>\n",
              "      <td>0</td>\n",
              "    </tr>\n",
              "    <tr>\n",
              "      <th>1009</th>\n",
              "      <td>1212970781610663936</td>\n",
              "      <td>0</td>\n",
              "    </tr>\n",
              "    <tr>\n",
              "      <th>1010</th>\n",
              "      <td>1231973813132365825</td>\n",
              "      <td>0</td>\n",
              "    </tr>\n",
              "  </tbody>\n",
              "</table>\n",
              "<p>1011 rows × 2 columns</p>\n",
              "</div>\n",
              "      <button class=\"colab-df-convert\" onclick=\"convertToInteractive('df-a3de2423-adae-4a55-a954-b2031b2db534')\"\n",
              "              title=\"Convert this dataframe to an interactive table.\"\n",
              "              style=\"display:none;\">\n",
              "        \n",
              "  <svg xmlns=\"http://www.w3.org/2000/svg\" height=\"24px\"viewBox=\"0 0 24 24\"\n",
              "       width=\"24px\">\n",
              "    <path d=\"M0 0h24v24H0V0z\" fill=\"none\"/>\n",
              "    <path d=\"M18.56 5.44l.94 2.06.94-2.06 2.06-.94-2.06-.94-.94-2.06-.94 2.06-2.06.94zm-11 1L8.5 8.5l.94-2.06 2.06-.94-2.06-.94L8.5 2.5l-.94 2.06-2.06.94zm10 10l.94 2.06.94-2.06 2.06-.94-2.06-.94-.94-2.06-.94 2.06-2.06.94z\"/><path d=\"M17.41 7.96l-1.37-1.37c-.4-.4-.92-.59-1.43-.59-.52 0-1.04.2-1.43.59L10.3 9.45l-7.72 7.72c-.78.78-.78 2.05 0 2.83L4 21.41c.39.39.9.59 1.41.59.51 0 1.02-.2 1.41-.59l7.78-7.78 2.81-2.81c.8-.78.8-2.07 0-2.86zM5.41 20L4 18.59l7.72-7.72 1.47 1.35L5.41 20z\"/>\n",
              "  </svg>\n",
              "      </button>\n",
              "      \n",
              "  <style>\n",
              "    .colab-df-container {\n",
              "      display:flex;\n",
              "      flex-wrap:wrap;\n",
              "      gap: 12px;\n",
              "    }\n",
              "\n",
              "    .colab-df-convert {\n",
              "      background-color: #E8F0FE;\n",
              "      border: none;\n",
              "      border-radius: 50%;\n",
              "      cursor: pointer;\n",
              "      display: none;\n",
              "      fill: #1967D2;\n",
              "      height: 32px;\n",
              "      padding: 0 0 0 0;\n",
              "      width: 32px;\n",
              "    }\n",
              "\n",
              "    .colab-df-convert:hover {\n",
              "      background-color: #E2EBFA;\n",
              "      box-shadow: 0px 1px 2px rgba(60, 64, 67, 0.3), 0px 1px 3px 1px rgba(60, 64, 67, 0.15);\n",
              "      fill: #174EA6;\n",
              "    }\n",
              "\n",
              "    [theme=dark] .colab-df-convert {\n",
              "      background-color: #3B4455;\n",
              "      fill: #D2E3FC;\n",
              "    }\n",
              "\n",
              "    [theme=dark] .colab-df-convert:hover {\n",
              "      background-color: #434B5C;\n",
              "      box-shadow: 0px 1px 3px 1px rgba(0, 0, 0, 0.15);\n",
              "      filter: drop-shadow(0px 1px 2px rgba(0, 0, 0, 0.3));\n",
              "      fill: #FFFFFF;\n",
              "    }\n",
              "  </style>\n",
              "\n",
              "      <script>\n",
              "        const buttonEl =\n",
              "          document.querySelector('#df-a3de2423-adae-4a55-a954-b2031b2db534 button.colab-df-convert');\n",
              "        buttonEl.style.display =\n",
              "          google.colab.kernel.accessAllowed ? 'block' : 'none';\n",
              "\n",
              "        async function convertToInteractive(key) {\n",
              "          const element = document.querySelector('#df-a3de2423-adae-4a55-a954-b2031b2db534');\n",
              "          const dataTable =\n",
              "            await google.colab.kernel.invokeFunction('convertToInteractive',\n",
              "                                                     [key], {});\n",
              "          if (!dataTable) return;\n",
              "\n",
              "          const docLinkHtml = 'Like what you see? Visit the ' +\n",
              "            '<a target=\"_blank\" href=https://colab.research.google.com/notebooks/data_table.ipynb>data table notebook</a>'\n",
              "            + ' to learn more about interactive tables.';\n",
              "          element.innerHTML = '';\n",
              "          dataTable['output_type'] = 'display_data';\n",
              "          await google.colab.output.renderOutput(dataTable, element);\n",
              "          const docLink = document.createElement('div');\n",
              "          docLink.innerHTML = docLinkHtml;\n",
              "          element.appendChild(docLink);\n",
              "        }\n",
              "      </script>\n",
              "    </div>\n",
              "  </div>\n",
              "  "
            ]
          },
          "metadata": {},
          "execution_count": 741
        }
      ],
      "source": [
        "result_df"
      ]
    },
    {
      "cell_type": "code",
      "execution_count": null,
      "metadata": {
        "id": "nmab8lTTnqN-",
        "colab": {
          "base_uri": "https://localhost:8080/"
        },
        "outputId": "71985832-5eae-4d44-9188-881d475d0de3"
      },
      "outputs": [
        {
          "output_type": "execute_result",
          "data": {
            "text/plain": [
              "0    809\n",
              "1    202\n",
              "Name: label, dtype: int64"
            ]
          },
          "metadata": {},
          "execution_count": 742
        }
      ],
      "source": [
        "result_df.label.value_counts()"
      ]
    },
    {
      "cell_type": "code",
      "source": [
        "from google.colab import files\n",
        "result_df.to_csv(\"final_submission_nlp.csv\", index=False, header=True)\n",
        "files.download('final_submission_nlp.csv')"
      ],
      "metadata": {
        "colab": {
          "base_uri": "https://localhost:8080/",
          "height": 17
        },
        "id": "yaSHwwGFtD43",
        "outputId": "330b71fb-45ae-490c-f4b5-c986fbd77647"
      },
      "execution_count": null,
      "outputs": [
        {
          "output_type": "display_data",
          "data": {
            "text/plain": [
              "<IPython.core.display.Javascript object>"
            ],
            "application/javascript": [
              "\n",
              "    async function download(id, filename, size) {\n",
              "      if (!google.colab.kernel.accessAllowed) {\n",
              "        return;\n",
              "      }\n",
              "      const div = document.createElement('div');\n",
              "      const label = document.createElement('label');\n",
              "      label.textContent = `Downloading \"${filename}\": `;\n",
              "      div.appendChild(label);\n",
              "      const progress = document.createElement('progress');\n",
              "      progress.max = size;\n",
              "      div.appendChild(progress);\n",
              "      document.body.appendChild(div);\n",
              "\n",
              "      const buffers = [];\n",
              "      let downloaded = 0;\n",
              "\n",
              "      const channel = await google.colab.kernel.comms.open(id);\n",
              "      // Send a message to notify the kernel that we're ready.\n",
              "      channel.send({})\n",
              "\n",
              "      for await (const message of channel.messages) {\n",
              "        // Send a message to notify the kernel that we're ready.\n",
              "        channel.send({})\n",
              "        if (message.buffers) {\n",
              "          for (const buffer of message.buffers) {\n",
              "            buffers.push(buffer);\n",
              "            downloaded += buffer.byteLength;\n",
              "            progress.value = downloaded;\n",
              "          }\n",
              "        }\n",
              "      }\n",
              "      const blob = new Blob(buffers, {type: 'application/binary'});\n",
              "      const a = document.createElement('a');\n",
              "      a.href = window.URL.createObjectURL(blob);\n",
              "      a.download = filename;\n",
              "      div.appendChild(a);\n",
              "      a.click();\n",
              "      div.remove();\n",
              "    }\n",
              "  "
            ]
          },
          "metadata": {}
        },
        {
          "output_type": "display_data",
          "data": {
            "text/plain": [
              "<IPython.core.display.Javascript object>"
            ],
            "application/javascript": [
              "download(\"download_f90866c3-d58f-42d4-b065-96be23272c3e\", \"final_submission_nlp.csv\", 22251)"
            ]
          },
          "metadata": {}
        }
      ]
    }
  ],
  "metadata": {
    "colab": {
      "collapsed_sections": [
        "CKzR4S-3mTWh",
        "b9FpOS8DmkDC"
      ],
      "provenance": [],
      "toc_visible": true,
      "include_colab_link": true
    },
    "kernelspec": {
      "display_name": "Python 3",
      "name": "python3"
    },
    "language_info": {
      "name": "python"
    },
    "accelerator": "GPU",
    "gpuClass": "standard"
  },
  "nbformat": 4,
  "nbformat_minor": 0
}