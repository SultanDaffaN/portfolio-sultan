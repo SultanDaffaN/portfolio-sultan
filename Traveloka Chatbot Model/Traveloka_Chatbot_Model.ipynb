{
  "nbformat": 4,
  "nbformat_minor": 0,
  "metadata": {
    "colab": {
      "provenance": [],
      "toc_visible": true,
      "include_colab_link": true
    },
    "kernelspec": {
      "name": "python3",
      "display_name": "Python 3"
    },
    "language_info": {
      "name": "python"
    }
  },
  "cells": [
    {
      "cell_type": "markdown",
      "metadata": {
        "id": "view-in-github",
        "colab_type": "text"
      },
      "source": [
        "<a href=\"https://colab.research.google.com/github/SultanDaffaN/portfolio-sultan/blob/main/Traveloka%20Chatbot%20Model/Traveloka_Chatbot_Model.ipynb\" target=\"_parent\"><img src=\"https://colab.research.google.com/assets/colab-badge.svg\" alt=\"Open In Colab\"/></a>"
      ]
    },
    {
      "cell_type": "markdown",
      "source": [
        "# **Import Libraries**"
      ],
      "metadata": {
        "id": "vCuCebLB6tBU"
      }
    },
    {
      "cell_type": "code",
      "execution_count": null,
      "metadata": {
        "id": "085gQCw9VNdP",
        "colab": {
          "base_uri": "https://localhost:8080/"
        },
        "outputId": "70ce0ce0-2168-4570-a65d-367ef9302199"
      },
      "outputs": [
        {
          "output_type": "stream",
          "name": "stderr",
          "text": [
            "[nltk_data] Downloading package stopwords to /root/nltk_data...\n",
            "[nltk_data]   Package stopwords is already up-to-date!\n"
          ]
        }
      ],
      "source": [
        "import io\n",
        "import csv\n",
        "import tensorflow as tf\n",
        "import numpy as np\n",
        "from tensorflow.keras.preprocessing.text import Tokenizer\n",
        "from tensorflow.keras.preprocessing.sequence import pad_sequences\n",
        "import string\n",
        "from sklearn.metrics import classification_report,confusion_matrix\n",
        "from tensorflow import keras\n",
        "import matplotlib.pyplot as plt\n",
        "import nltk\n",
        "nltk.download('stopwords')\n",
        "from nltk.corpus import stopwords\n",
        "STOPWORDS = set(stopwords.words('english'))"
      ]
    },
    {
      "cell_type": "markdown",
      "source": [
        "# **Setting the Params**"
      ],
      "metadata": {
        "id": "wxwyrNBt7Wrs"
      }
    },
    {
      "cell_type": "code",
      "source": [
        "NUM_WORDS = 500\n",
        "EMBEDDING_DIM = 16\n",
        "MAXLEN = 15\n",
        "PADDING = 'post'\n",
        "OOV_TOKEN = \"<OOV>\"\n",
        "TRAINING_SPLIT = .8"
      ],
      "metadata": {
        "id": "On9JDYswcMWI"
      },
      "execution_count": null,
      "outputs": []
    },
    {
      "cell_type": "markdown",
      "source": [
        "# **Reading the File**"
      ],
      "metadata": {
        "id": "Y4ThDtsh8eRy"
      }
    },
    {
      "cell_type": "code",
      "source": [
        "# import our chat-bot intents file\n",
        "import json\n",
        "with open('intents.json') as json_data:\n",
        "    json_object = json.load(json_data)"
      ],
      "metadata": {
        "id": "6jPWrJRMcSi8"
      },
      "execution_count": null,
      "outputs": []
    },
    {
      "cell_type": "code",
      "source": [
        "sentences = []\n",
        "labels = []\n",
        "uniqueLabels = []\n",
        "\n",
        "for data in json_object['intents']:\n",
        "  for pattern in data['patterns']:\n",
        "    sentences.append(pattern)\n",
        "    labels.append(data['tag'])\n",
        "  if data['tag'] not in uniqueLabels:\n",
        "    uniqueLabels.append(data['tag'])\n",
        "  \n",
        "\n",
        "\n",
        "for i in range(5):\n",
        "  print('label: ', labels[i])\n",
        "  print('pattern: ', sentences[i])\n",
        "  print()\n",
        "\n",
        "print('Total Unique Label:', len(uniqueLabels))"
      ],
      "metadata": {
        "id": "7OjKk_M5c_hH",
        "colab": {
          "base_uri": "https://localhost:8080/"
        },
        "outputId": "5c2131db-69df-4dce-e2cb-4f272980cf1a"
      },
      "execution_count": null,
      "outputs": [
        {
          "output_type": "stream",
          "name": "stdout",
          "text": [
            "label:  opsi\n",
            "pattern:  How you could help me?\n",
            "\n",
            "label:  opsi\n",
            "pattern:  What you can do?\n",
            "\n",
            "label:  opsi\n",
            "pattern:  What help you provide?\n",
            "\n",
            "label:  opsi\n",
            "pattern:  How you can be helpful?\n",
            "\n",
            "label:  opsi\n",
            "pattern:  What support is offered\n",
            "\n",
            "Total Unique Label: 51\n"
          ]
        }
      ]
    },
    {
      "cell_type": "markdown",
      "source": [
        "# **Preprocessing Texts**"
      ],
      "metadata": {
        "id": "SLKVjw2z8m6D"
      }
    },
    {
      "cell_type": "markdown",
      "source": [
        "## **Lowering Texts**"
      ],
      "metadata": {
        "id": "Jnkck8gy8sWe"
      }
    },
    {
      "cell_type": "code",
      "source": [
        "# Lowering text\n",
        "def lowering_texts(sentences):\n",
        "  sentences_temp = []\n",
        "  for sentence in sentences:\n",
        "    sentences_temp.append(sentence.lower())\n",
        "\n",
        "  sentences_temp\n",
        "  return sentences_temp\n",
        "\n",
        "sentences = lowering_texts(sentences)\n",
        "sentences[:10]"
      ],
      "metadata": {
        "colab": {
          "base_uri": "https://localhost:8080/"
        },
        "id": "2ol1sqv58wNy",
        "outputId": "de34959e-8b66-4ac0-845e-a0963a15f015"
      },
      "execution_count": null,
      "outputs": [
        {
          "output_type": "execute_result",
          "data": {
            "text/plain": [
              "['how you could help me?',\n",
              " 'what you can do?',\n",
              " 'what help you provide?',\n",
              " 'how you can be helpful?',\n",
              " 'what support is offered',\n",
              " 'how to pay booking in indomaret',\n",
              " 'how to pay booking in alfamart',\n",
              " 'can i pay booking in indomaret',\n",
              " 'can i pay booking in alfamart',\n",
              " 'i want to pay booking in indomaret']"
            ]
          },
          "metadata": {},
          "execution_count": 164
        }
      ]
    },
    {
      "cell_type": "markdown",
      "source": [
        "## **Remove Punctuations**"
      ],
      "metadata": {
        "id": "8xUckGD9908y"
      }
    },
    {
      "cell_type": "code",
      "source": [
        "PUNCTUATIONS = string.punctuation\n",
        "\n",
        "# Remove punctuation\n",
        "def remove_punctuation(text):\n",
        "    return text.translate(str.maketrans('', '', PUNCTUATIONS))\n",
        "\n",
        "sentences = [remove_punctuation(sentence) for sentence in sentences]\n",
        "sentences[:10]"
      ],
      "metadata": {
        "colab": {
          "base_uri": "https://localhost:8080/"
        },
        "id": "pcWWJdJg-FFl",
        "outputId": "873f19bc-4809-48a5-8632-e23667063575"
      },
      "execution_count": null,
      "outputs": [
        {
          "output_type": "execute_result",
          "data": {
            "text/plain": [
              "['how you could help me',\n",
              " 'what you can do',\n",
              " 'what help you provide',\n",
              " 'how you can be helpful',\n",
              " 'what support is offered',\n",
              " 'how to pay booking in indomaret',\n",
              " 'how to pay booking in alfamart',\n",
              " 'can i pay booking in indomaret',\n",
              " 'can i pay booking in alfamart',\n",
              " 'i want to pay booking in indomaret']"
            ]
          },
          "metadata": {},
          "execution_count": 165
        }
      ]
    },
    {
      "cell_type": "markdown",
      "source": [
        "## **Removing Stopwords**"
      ],
      "metadata": {
        "id": "pMXlG3F2IUYx"
      }
    },
    {
      "cell_type": "code",
      "source": [
        "# Filtering using stopwords\n",
        "def remove_stopwords(sentences):\n",
        "  sentences_temp = []\n",
        "  for sentence in sentences:\n",
        "    for word in STOPWORDS:\n",
        "      token = ' ' + word + ' '\n",
        "      sentence = sentence.replace(token, ' ')\n",
        "      sentence = sentence.replace(' ', ' ')\n",
        "    sentences_temp.append(sentence)\n",
        "\n",
        "  return sentences_temp\n",
        "\n",
        "sentences = remove_stopwords(sentences)\n",
        "sentences[:10]"
      ],
      "metadata": {
        "id": "2N0r2lGsyYCH",
        "colab": {
          "base_uri": "https://localhost:8080/"
        },
        "outputId": "f08c9778-5972-4432-8be2-23c3d8204545"
      },
      "execution_count": null,
      "outputs": [
        {
          "output_type": "execute_result",
          "data": {
            "text/plain": [
              "['how could help me',\n",
              " 'what do',\n",
              " 'what help provide',\n",
              " 'how helpful',\n",
              " 'what support offered',\n",
              " 'how pay booking indomaret',\n",
              " 'how pay booking alfamart',\n",
              " 'can pay booking indomaret',\n",
              " 'can pay booking alfamart',\n",
              " 'i want pay booking indomaret']"
            ]
          },
          "metadata": {},
          "execution_count": 166
        }
      ]
    },
    {
      "cell_type": "markdown",
      "source": [
        "# **Splitting Data**"
      ],
      "metadata": {
        "id": "vO8yKLDgAQOX"
      }
    },
    {
      "cell_type": "code",
      "source": [
        "import random\n",
        "\n",
        "def train_val_split(sentences, labels, training_split):\n",
        "    ### START CODE HERE\n",
        "    sentLabels = list(zip(sentences, labels))\n",
        "    random.Random(5).shuffle(sentLabels)\n",
        "    sentences, labels = list(zip(*sentLabels)) \n",
        "    # Compute the number of sentences that will be used for training (should be an integer)\n",
        "    train_size = int(len(sentences) * training_split)\n",
        "\n",
        "    # Split the sentences and labels into train/validation splits\n",
        "    train_sentences = sentences[:train_size]\n",
        "    train_labels = labels[:train_size]\n",
        "\n",
        "    validation_sentences = sentences[train_size:]\n",
        "    validation_labels = labels[train_size:]\n",
        "    \n",
        "    ### END CODE HERE\n",
        "    \n",
        "    return train_sentences, validation_sentences, train_labels, validation_labels"
      ],
      "metadata": {
        "id": "QqHtm5vUhoHF"
      },
      "execution_count": null,
      "outputs": []
    },
    {
      "cell_type": "code",
      "source": [
        "# Test your function\n",
        "train_sentences, val_sentences, train_labels, val_labels = train_val_split(sentences, labels, TRAINING_SPLIT)\n",
        "\n",
        "print(f\"There are {len(train_sentences)} sentences for training.\\n\")\n",
        "print(f\"There are {len(train_labels)} labels for training.\\n\")\n",
        "print(f\"There are {len(val_sentences)} sentences for validation.\\n\")\n",
        "print(f\"There are {len(val_labels)} labels for validation.\")"
      ],
      "metadata": {
        "colab": {
          "base_uri": "https://localhost:8080/"
        },
        "id": "VBcxnZb3hsVY",
        "outputId": "17c3ddfb-14ed-4f2f-b22f-02a8252fed96"
      },
      "execution_count": null,
      "outputs": [
        {
          "output_type": "stream",
          "name": "stdout",
          "text": [
            "There are 242 sentences for training.\n",
            "\n",
            "There are 242 labels for training.\n",
            "\n",
            "There are 61 sentences for validation.\n",
            "\n",
            "There are 61 labels for validation.\n"
          ]
        }
      ]
    },
    {
      "cell_type": "markdown",
      "source": [
        "# **Tokenizing and Padding Sentences**"
      ],
      "metadata": {
        "id": "TomaiWkWAWhK"
      }
    },
    {
      "cell_type": "code",
      "source": [
        "# FUNCTION: fit_tokenizer\n",
        "def fit_tokenizer(train_sentences, num_words, oov_token):\n",
        "    \"\"\"\n",
        "    Instantiates the Tokenizer class on the training sentences\n",
        "    \n",
        "    Args:\n",
        "        train_sentences (list of string): lower-cased sentences without stopwords to be used for training\n",
        "        num_words (int) - number of words to keep when tokenizing\n",
        "        oov_token (string) - symbol for the out-of-vocabulary token\n",
        "    \n",
        "    Returns:\n",
        "        tokenizer (object): an instance of the Tokenizer class containing the word-index dictionary\n",
        "    \"\"\"\n",
        "    \n",
        "    ### START CODE HERE\n",
        "    \n",
        "    # Instantiate the Tokenizer class, passing in the correct values for num_words and oov_token\n",
        "    tokenizer = Tokenizer(num_words=num_words, oov_token=oov_token)\n",
        "    \n",
        "    # Fit the tokenizer to the training sentences\n",
        "    tokenizer.fit_on_texts(train_sentences)\n",
        "    \n",
        "    ### END CODE HERE\n",
        "    \n",
        "    return tokenizer"
      ],
      "metadata": {
        "id": "wyKSmywOhtzy"
      },
      "execution_count": null,
      "outputs": []
    },
    {
      "cell_type": "code",
      "source": [
        "# Test your function\n",
        "tokenizer = fit_tokenizer(train_sentences, NUM_WORDS, OOV_TOKEN)\n",
        "word_index = tokenizer.word_index\n",
        "\n",
        "print(f\"Vocabulary contains {len(word_index)} words\\n\")\n",
        "print(\"<OOV> token included in vocabulary\" if \"<OOV>\" in word_index else \"<OOV> token NOT included in vocabulary\")\n",
        "print(word_index)"
      ],
      "metadata": {
        "colab": {
          "base_uri": "https://localhost:8080/"
        },
        "id": "smqhnxFChvbo",
        "outputId": "9aea2d05-2107-4f1a-e5fd-0a36f5f1aa6e"
      },
      "execution_count": null,
      "outputs": [
        {
          "output_type": "stream",
          "name": "stdout",
          "text": [
            "Vocabulary contains 189 words\n",
            "\n",
            "<OOV> token included in vocabulary\n",
            "{'<OOV>': 1, 'how': 2, 'i': 3, 'booking': 4, 'hotel': 5, 'want': 6, 'eats': 7, 'pay': 8, 'what': 9, 'traveloka': 10, 'payment': 11, 'can': 12, 'voucher': 13, 'book': 14, 'flight': 15, 'account': 16, 'ticket': 17, 'train': 18, 'check': 19, 'refund': 20, 'installments': 21, 'get': 22, 'know': 23, 'reschedule': 24, 'cancel': 25, 'redeem': 26, 'where': 27, 'dont': 28, 'status': 29, 'paid': 30, 'coupon': 31, 'request': 32, 'solve': 33, 'find': 34, 'latest': 35, 'promos': 36, 'methods': 37, 'steps': 38, 'error': 39, 'wrong': 40, 'travel': 41, 'havent': 42, 'add': 43, 'is': 44, 'email': 45, 'expiration': 46, 'date': 47, 'transaction': 48, 'qr': 49, 'code': 50, 'travelokapay': 51, 'password': 52, 'reset': 53, 'villa': 54, 'why': 55, 'restaurant': 56, 'got': 57, 'select': 58, 'seat': 59, 'business': 60, 'otp': 61, 'verification': 62, 'received': 63, 'indomaret': 64, 'deactivate': 65, 'unlock': 66, 'my': 67, 'apartment': 68, 'use': 69, 'unknown': 70, 'kai': 71, 'extra': 72, 'baggage': 73, 'redemption': 74, 'reimbursement': 75, 'long': 76, 'take': 77, 'confirm': 78, 'apply': 79, 'obtain': 80, 'cannot': 81, 'bank': 82, 'it': 83, 'scan': 84, 'available': 85, 'cant': 86, 'download': 87, 'alfamart': 88, 'rejected': 89, 'device': 90, 'already': 91, 'claim': 92, 'activate': 93, 'price': 94, 'alerts': 95, 'amount': 96, 'when': 97, 'resend': 98, 'confirmation': 99, 'mobile': 100, 'number': 101, 'method': 102, 'reroute': 103, 'name': 104, 'credit': 105, 'card': 106, 'fail': 107, 'eticket': 108, 'traveling': 109, 'process': 110, 'purchase': 111, 'wanna': 112, 'delete': 113, 'do': 114, 'days': 115, 'must': 116, 'wait': 117, 'transfer': 118, 'register': 119, 'erase': 120, 'regulations': 121, 'merge': 122, 'change': 123, 'reimburse': 124, 'top': 125, 'failed': 126, 'fee': 127, 'verify': 128, 'vouher': 129, 'helpful': 130, 'locked': 131, 'travelokas': 132, 'villas': 133, 'apartments': 134, 'worth': 135, 'cancelling': 136, 'requests': 137, 'electronic': 138, 'does': 139, 'scanner': 140, 'installment': 141, 'the': 142, 'info': 143, 'meet': 144, 'requirements': 145, 'meaning': 146, 'reject': 147, 'many': 148, 'unsuccessful': 149, 'whats': 150, 'make': 151, 'confirmed': 152, 'claiming': 153, 'bigger': 154, 'wrongly': 155, 'receive': 156, 'even': 157, 'though': 158, 'mail': 159, 'made': 160, 'see': 161, 'ways': 162, 'rejection': 163, 'e': 164, 'using': 165, 'regarding': 166, 'accounts': 167, 'duration': 168, 'rules': 169, 'successful': 170, 'difference': 171, 'access': 172, 'paying': 173, 'supported': 174, 'tell': 175, 'ive': 176, 'show': 177, 'related': 178, 'something': 179, 'argue': 180, 'search': 181, 'merging': 182, 'support': 183, 'offered': 184, 'forgot': 185, 'said': 186, 'compatible': 187, 'tickets': 188, 'for': 189}\n"
          ]
        }
      ]
    },
    {
      "cell_type": "code",
      "source": [
        "# GRADED FUNCTION: seq_and_pad\n",
        "def seq_and_pad(sentences, tokenizer, padding, maxlen):\n",
        "    \"\"\"\n",
        "    Generates an array of token sequences and pads them to the same length\n",
        "    \n",
        "    Args:\n",
        "        sentences (list of string): list of sentences to tokenize and pad\n",
        "        tokenizer (object): Tokenizer instance containing the word-index dictionary\n",
        "        padding (string): type of padding to use\n",
        "        maxlen (int): maximum length of the token sequence\n",
        "    \n",
        "    Returns:\n",
        "        padded_sequences (array of int): tokenized sentences padded to the same length\n",
        "    \"\"\"    \n",
        "    ### START CODE HERE\n",
        "       \n",
        "    # Convert sentences to sequences\n",
        "    sequences = tokenizer.texts_to_sequences(sentences)\n",
        "    \n",
        "    # Pad the sequences using the correct padding and maxlen\n",
        "    padded_sequences = pad_sequences(sequences, maxlen=maxlen, padding=padding)\n",
        "    \n",
        "    ### END CODE HERE\n",
        "    \n",
        "    return padded_sequences"
      ],
      "metadata": {
        "id": "WMpIyMvahw06"
      },
      "execution_count": null,
      "outputs": []
    },
    {
      "cell_type": "code",
      "source": [
        "# Test your function\n",
        "train_padded_seq = seq_and_pad(train_sentences, tokenizer, PADDING, MAXLEN)\n",
        "val_padded_seq = seq_and_pad(val_sentences, tokenizer, PADDING, MAXLEN)\n",
        "\n",
        "print(f\"Padded training sequences have shape: {train_padded_seq.shape}\\n\")\n",
        "print(f\"Padded validation sequences have shape: {val_padded_seq.shape}\")\n",
        "\n",
        "print(f\"First padded sequence of train:\\n {train_padded_seq[0]}\")\n",
        "print(f\"First padded sequence of val:\\n {val_padded_seq[0]}\")"
      ],
      "metadata": {
        "colab": {
          "base_uri": "https://localhost:8080/"
        },
        "id": "4gDz5z0qhyWn",
        "outputId": "6fc2fa2a-26ac-41c2-8c24-c024f06f6b70"
      },
      "execution_count": null,
      "outputs": [
        {
          "output_type": "stream",
          "name": "stdout",
          "text": [
            "Padded training sequences have shape: (242, 15)\n",
            "\n",
            "Padded validation sequences have shape: (61, 15)\n",
            "First padded sequence of train:\n",
            " [  2  76  77 128  16   0   0   0   0   0   0   0   0   0   0]\n",
            "First padded sequence of val:\n",
            " [  3 112  23 132  82  16   0   0   0   0   0   0   0   0   0]\n"
          ]
        }
      ]
    },
    {
      "cell_type": "markdown",
      "source": [
        "# **Tokenizing Labels**"
      ],
      "metadata": {
        "id": "ibI_RkxoAhzD"
      }
    },
    {
      "cell_type": "code",
      "source": [
        "# GRADED FUNCTION: tokenize_labels\n",
        "def tokenize_labels(all_labels, split_labels):\n",
        "    \"\"\"\n",
        "    Tokenizes the labels\n",
        "    \n",
        "    Args:\n",
        "        all_labels (list of string): labels to generate the word-index from\n",
        "        split_labels (list of string): labels to tokenize\n",
        "    \n",
        "    Returns:\n",
        "        label_seq_np (array of int): tokenized labels\n",
        "    \"\"\"\n",
        "    ### START CODE HERE\n",
        "    \n",
        "    # Instantiate the Tokenizer (no additional arguments needed)\n",
        "    label_tokenizer = Tokenizer()\n",
        "    \n",
        "    # Fit the tokenizer on all the labels\n",
        "    label_tokenizer.fit_on_texts(all_labels)\n",
        "    \n",
        "    # Convert labels to sequences\n",
        "    label_seq = label_tokenizer.texts_to_sequences(split_labels)\n",
        "    \n",
        "    # Convert sequences to a numpy array. Don't forget to substact 1 from every entry in the array!\n",
        "    label_seq_np = np.array(label_seq) - 1\n",
        "   \n",
        "    \n",
        "    ### END CODE HERE\n",
        "    \n",
        "    return label_seq_np"
      ],
      "metadata": {
        "id": "5rUYLfGnhzmG"
      },
      "execution_count": null,
      "outputs": []
    },
    {
      "cell_type": "code",
      "source": [
        "# Test your function\n",
        "train_label_seq = tokenize_labels(uniqueLabels, train_labels)\n",
        "val_label_seq = tokenize_labels(uniqueLabels, val_labels)\n",
        "\n",
        "print(f\"First 5 labels of the training set should look like this:\\n{train_label_seq[:5]}\\n\")\n",
        "print(f\"First 5 labels of the validation set should look like this:\\n{val_label_seq[:5]}\\n\")\n",
        "print(f\"Tokenized labels of the training set have shape: {train_label_seq.shape}\\n\")\n",
        "print(f\"Tokenized labels of the validation set have shape: {val_label_seq.shape}\\n\")\n",
        "\n",
        "print(f\"uniqueLabels: \\n {uniqueLabels}\\n\")\n",
        "print(f\"First 5 Labels before tokenize: \\n{train_labels[:5]}\\n\")\n",
        "print(f\"First 5 Labels before tokenize: \\n{val_labels[:5]}\\n\")"
      ],
      "metadata": {
        "colab": {
          "base_uri": "https://localhost:8080/"
        },
        "id": "ESSA5QQrh1IW",
        "outputId": "59bea29c-ce41-400c-dc09-83ff16423b4c"
      },
      "execution_count": null,
      "outputs": [
        {
          "output_type": "stream",
          "name": "stdout",
          "text": [
            "First 5 labels of the training set should look like this:\n",
            "[[39]\n",
            " [45]\n",
            " [ 4]\n",
            " [18]\n",
            " [ 3]]\n",
            "\n",
            "First 5 labels of the validation set should look like this:\n",
            "[[11]\n",
            " [41]\n",
            " [12]\n",
            " [27]\n",
            " [26]]\n",
            "\n",
            "Tokenized labels of the training set have shape: (242, 1)\n",
            "\n",
            "Tokenized labels of the validation set have shape: (61, 1)\n",
            "\n",
            "uniqueLabels: \n",
            " ['opsi', 'payBookingIndoAlfa', 'scanQRCode', 'confirmationPayment', 'findPromos', 'payInstallments', 'deactivateAccount', 'unknownPasswordReset', 'addEmailHp', 'payBooking', 'checkPaymentStatus', 'travelokaBankAccount', 'unsuccessfulTransaction', 'resendOTP', 'unlockAccount', 'paidWrongAmount', 'eatsVoucherExpirationDate', 'eatsRefundDurationProcess', 'redeemEatsVoucher', 'restaurantRejectsEatsVoucher', 'eatsVoucherErrorRedemption', 'BookFlight', 'ActivateFlightPriceAlerts', 'PaySelectSeat', 'ReschedulingFlightHotelBooking', 'BookFlightHotel', 'confirmingTrainBooking', 'CancelAndGetRefundTrainBooking', 'TrainETicket', 'RescheduleRerouteTrainBooking', 'kaiTravelRegulationUpdate', 'rescheduleHotelBooking', 'cannotCheckInHotel', 'bookAHotel', 'cancelAndGetRefundHotel', 'villaAndApartemen', 'BookingVillaAndApartment', 'registerAccessTravelokaPay', 'paymentSupportedTravelokaPay', 'verificationStatus', 'haventReceiveTicketButPaid', 'wrongTransferTraveloka', 'purchaseExtraBaggage', 'claimingBusinessTravelReimbursement', 'mergeAccounts', 'refundRequestInInstallments', 'travelokaCoupon', 'howToObtainTravelokaCoupon', 'availablePaymentMethods', 'cantDownloadTraveloka', 'cancelInstallmentsRequests']\n",
            "\n",
            "First 5 Labels before tokenize: \n",
            "('verificationStatus', 'refundRequestInInstallments', 'findPromos', 'redeemEatsVoucher', 'confirmationPayment')\n",
            "\n",
            "First 5 Labels before tokenize: \n",
            "('travelokaBankAccount', 'wrongTransferTraveloka', 'unsuccessfulTransaction', 'CancelAndGetRefundTrainBooking', 'confirmingTrainBooking')\n",
            "\n"
          ]
        }
      ]
    },
    {
      "cell_type": "markdown",
      "source": [
        "# **Creating the Model**"
      ],
      "metadata": {
        "id": "QYJI5TYOAlG_"
      }
    },
    {
      "cell_type": "code",
      "source": [
        "# GRADED FUNCTION: create_model\n",
        "def create_model(num_words, embedding_dim, maxlen):\n",
        "    \"\"\"\n",
        "    Creates a text classifier model\n",
        "    \n",
        "    Args:\n",
        "        num_words (int): size of the vocabulary for the Embedding layer input\n",
        "        embedding_dim (int): dimensionality of the Embedding layer output\n",
        "        maxlen (int): length of the input sequences\n",
        "    \n",
        "    Returns:\n",
        "        model (tf.keras Model): the text classifier model\n",
        "    \"\"\"\n",
        "    \n",
        "    tf.random.set_seed(123)\n",
        "    \n",
        "    ### START CODE HERE\n",
        "    \n",
        "    model = tf.keras.Sequential([ \n",
        "        tf.keras.layers.Embedding(num_words, 64, input_length=maxlen),\n",
        "        tf.keras.layers.Conv1D(filters=512, kernel_size=6, activation='relu'),\n",
        "        tf.keras.layers.GlobalMaxPooling1D(),\n",
        "        tf.keras.layers.Dropout(.6),\n",
        "        tf.keras.layers.Dense(32, activation='relu'),\n",
        "        tf.keras.layers.Dense(len(uniqueLabels), activation='softmax')\n",
        "    ])\n",
        "    opt = tf.keras.optimizers.Adam()\n",
        "    model.compile(loss='sparse_categorical_crossentropy',\n",
        "                  optimizer=opt,\n",
        "                  metrics=['accuracy']) \n",
        "\n",
        "    ### END CODE HERE\n",
        "\n",
        "    return model\n"
      ],
      "metadata": {
        "id": "5mBYgj49h2xX"
      },
      "execution_count": null,
      "outputs": []
    },
    {
      "cell_type": "code",
      "source": [
        "from keras import callbacks\n",
        "earlystopping = callbacks.EarlyStopping(monitor =\"val_loss\", \n",
        "                                        mode =\"min\", patience = 5, \n",
        "                                        restore_best_weights = True)"
      ],
      "metadata": {
        "id": "F7DrXhziDRJ1"
      },
      "execution_count": null,
      "outputs": []
    },
    {
      "cell_type": "code",
      "source": [
        "model = create_model(NUM_WORDS, EMBEDDING_DIM, MAXLEN)\n",
        "\n",
        "history = model.fit(train_padded_seq, train_label_seq, epochs=120, validation_data=(val_padded_seq, val_label_seq), callbacks=[earlystopping])"
      ],
      "metadata": {
        "colab": {
          "base_uri": "https://localhost:8080/"
        },
        "id": "eh7qA9tT9Dei",
        "outputId": "218281e4-acb2-4345-9777-f7476dba4ca2"
      },
      "execution_count": null,
      "outputs": [
        {
          "output_type": "stream",
          "name": "stdout",
          "text": [
            "Epoch 1/120\n",
            "8/8 [==============================] - 1s 59ms/step - loss: 3.9285 - accuracy: 0.0124 - val_loss: 3.9312 - val_accuracy: 0.0164\n",
            "Epoch 2/120\n",
            "8/8 [==============================] - 0s 35ms/step - loss: 3.9058 - accuracy: 0.0537 - val_loss: 3.9276 - val_accuracy: 0.0492\n",
            "Epoch 3/120\n",
            "8/8 [==============================] - 0s 57ms/step - loss: 3.8805 - accuracy: 0.0744 - val_loss: 3.9099 - val_accuracy: 0.0820\n",
            "Epoch 4/120\n",
            "8/8 [==============================] - 0s 58ms/step - loss: 3.8416 - accuracy: 0.1157 - val_loss: 3.8879 - val_accuracy: 0.1148\n",
            "Epoch 5/120\n",
            "8/8 [==============================] - 0s 57ms/step - loss: 3.7815 - accuracy: 0.1736 - val_loss: 3.8484 - val_accuracy: 0.1475\n",
            "Epoch 6/120\n",
            "8/8 [==============================] - 0s 51ms/step - loss: 3.7051 - accuracy: 0.2025 - val_loss: 3.7976 - val_accuracy: 0.1475\n",
            "Epoch 7/120\n",
            "8/8 [==============================] - 0s 53ms/step - loss: 3.5712 - accuracy: 0.2355 - val_loss: 3.7232 - val_accuracy: 0.1311\n",
            "Epoch 8/120\n",
            "8/8 [==============================] - 0s 55ms/step - loss: 3.4107 - accuracy: 0.2397 - val_loss: 3.6313 - val_accuracy: 0.1475\n",
            "Epoch 9/120\n",
            "8/8 [==============================] - 0s 51ms/step - loss: 3.2270 - accuracy: 0.3058 - val_loss: 3.4910 - val_accuracy: 0.1803\n",
            "Epoch 10/120\n",
            "8/8 [==============================] - 0s 33ms/step - loss: 2.9803 - accuracy: 0.3471 - val_loss: 3.3346 - val_accuracy: 0.2295\n",
            "Epoch 11/120\n",
            "8/8 [==============================] - 0s 34ms/step - loss: 2.7254 - accuracy: 0.4256 - val_loss: 3.1321 - val_accuracy: 0.2951\n",
            "Epoch 12/120\n",
            "8/8 [==============================] - 0s 36ms/step - loss: 2.4379 - accuracy: 0.5000 - val_loss: 2.9178 - val_accuracy: 0.3279\n",
            "Epoch 13/120\n",
            "8/8 [==============================] - 0s 35ms/step - loss: 2.1306 - accuracy: 0.5785 - val_loss: 2.6490 - val_accuracy: 0.4754\n",
            "Epoch 14/120\n",
            "8/8 [==============================] - 0s 36ms/step - loss: 1.8152 - accuracy: 0.6818 - val_loss: 2.3593 - val_accuracy: 0.5082\n",
            "Epoch 15/120\n",
            "8/8 [==============================] - 0s 33ms/step - loss: 1.5077 - accuracy: 0.7521 - val_loss: 2.0650 - val_accuracy: 0.5738\n",
            "Epoch 16/120\n",
            "8/8 [==============================] - 0s 33ms/step - loss: 1.2319 - accuracy: 0.8058 - val_loss: 1.8031 - val_accuracy: 0.6557\n",
            "Epoch 17/120\n",
            "8/8 [==============================] - 0s 32ms/step - loss: 0.9728 - accuracy: 0.8719 - val_loss: 1.5193 - val_accuracy: 0.7049\n",
            "Epoch 18/120\n",
            "8/8 [==============================] - 0s 35ms/step - loss: 0.8056 - accuracy: 0.8843 - val_loss: 1.3311 - val_accuracy: 0.7049\n",
            "Epoch 19/120\n",
            "8/8 [==============================] - 0s 34ms/step - loss: 0.6765 - accuracy: 0.8884 - val_loss: 1.1315 - val_accuracy: 0.7213\n",
            "Epoch 20/120\n",
            "8/8 [==============================] - 0s 35ms/step - loss: 0.5569 - accuracy: 0.9298 - val_loss: 0.9683 - val_accuracy: 0.7705\n",
            "Epoch 21/120\n",
            "8/8 [==============================] - 0s 33ms/step - loss: 0.4422 - accuracy: 0.9380 - val_loss: 0.8385 - val_accuracy: 0.8033\n",
            "Epoch 22/120\n",
            "8/8 [==============================] - 0s 35ms/step - loss: 0.3871 - accuracy: 0.9380 - val_loss: 0.7739 - val_accuracy: 0.8197\n",
            "Epoch 23/120\n",
            "8/8 [==============================] - 0s 33ms/step - loss: 0.3017 - accuracy: 0.9587 - val_loss: 0.7231 - val_accuracy: 0.8525\n",
            "Epoch 24/120\n",
            "8/8 [==============================] - 0s 32ms/step - loss: 0.2580 - accuracy: 0.9628 - val_loss: 0.6571 - val_accuracy: 0.8852\n",
            "Epoch 25/120\n",
            "8/8 [==============================] - 0s 35ms/step - loss: 0.2305 - accuracy: 0.9876 - val_loss: 0.5704 - val_accuracy: 0.9016\n",
            "Epoch 26/120\n",
            "8/8 [==============================] - 0s 33ms/step - loss: 0.2042 - accuracy: 0.9669 - val_loss: 0.5226 - val_accuracy: 0.8852\n",
            "Epoch 27/120\n",
            "8/8 [==============================] - 0s 33ms/step - loss: 0.1845 - accuracy: 0.9752 - val_loss: 0.5129 - val_accuracy: 0.8689\n",
            "Epoch 28/120\n",
            "8/8 [==============================] - 0s 33ms/step - loss: 0.1638 - accuracy: 0.9876 - val_loss: 0.4787 - val_accuracy: 0.8852\n",
            "Epoch 29/120\n",
            "8/8 [==============================] - 0s 37ms/step - loss: 0.1623 - accuracy: 0.9669 - val_loss: 0.4240 - val_accuracy: 0.9180\n",
            "Epoch 30/120\n",
            "8/8 [==============================] - 0s 34ms/step - loss: 0.1110 - accuracy: 0.9917 - val_loss: 0.4217 - val_accuracy: 0.8852\n",
            "Epoch 31/120\n",
            "8/8 [==============================] - 0s 35ms/step - loss: 0.1141 - accuracy: 0.9917 - val_loss: 0.4250 - val_accuracy: 0.9016\n",
            "Epoch 32/120\n",
            "8/8 [==============================] - 0s 33ms/step - loss: 0.0885 - accuracy: 1.0000 - val_loss: 0.4147 - val_accuracy: 0.9016\n",
            "Epoch 33/120\n",
            "8/8 [==============================] - 0s 35ms/step - loss: 0.0862 - accuracy: 0.9917 - val_loss: 0.4199 - val_accuracy: 0.8852\n",
            "Epoch 34/120\n",
            "8/8 [==============================] - 0s 35ms/step - loss: 0.0740 - accuracy: 0.9917 - val_loss: 0.4023 - val_accuracy: 0.9344\n",
            "Epoch 35/120\n",
            "8/8 [==============================] - 0s 33ms/step - loss: 0.0622 - accuracy: 0.9959 - val_loss: 0.3795 - val_accuracy: 0.9344\n",
            "Epoch 36/120\n",
            "8/8 [==============================] - 0s 33ms/step - loss: 0.0783 - accuracy: 0.9959 - val_loss: 0.3626 - val_accuracy: 0.9344\n",
            "Epoch 37/120\n",
            "8/8 [==============================] - 0s 34ms/step - loss: 0.0548 - accuracy: 1.0000 - val_loss: 0.3812 - val_accuracy: 0.9180\n",
            "Epoch 38/120\n",
            "8/8 [==============================] - 0s 33ms/step - loss: 0.0674 - accuracy: 0.9917 - val_loss: 0.3436 - val_accuracy: 0.9180\n",
            "Epoch 39/120\n",
            "8/8 [==============================] - 0s 33ms/step - loss: 0.0535 - accuracy: 0.9959 - val_loss: 0.3083 - val_accuracy: 0.9508\n",
            "Epoch 40/120\n",
            "8/8 [==============================] - 0s 35ms/step - loss: 0.0575 - accuracy: 0.9917 - val_loss: 0.3228 - val_accuracy: 0.9180\n",
            "Epoch 41/120\n",
            "8/8 [==============================] - 0s 34ms/step - loss: 0.0577 - accuracy: 1.0000 - val_loss: 0.3334 - val_accuracy: 0.9180\n",
            "Epoch 42/120\n",
            "8/8 [==============================] - 0s 32ms/step - loss: 0.0401 - accuracy: 1.0000 - val_loss: 0.3368 - val_accuracy: 0.9180\n",
            "Epoch 43/120\n",
            "8/8 [==============================] - 0s 34ms/step - loss: 0.0406 - accuracy: 1.0000 - val_loss: 0.3259 - val_accuracy: 0.9344\n",
            "Epoch 44/120\n",
            "8/8 [==============================] - 0s 36ms/step - loss: 0.0436 - accuracy: 0.9917 - val_loss: 0.3243 - val_accuracy: 0.9344\n"
          ]
        }
      ]
    },
    {
      "cell_type": "markdown",
      "source": [
        "# **Evaluate the Model**"
      ],
      "metadata": {
        "id": "OrM3fTPxBzDy"
      }
    },
    {
      "cell_type": "code",
      "source": [
        "predictions = model.predict(val_padded_seq)\n",
        "predictions_classes = np.argmax(predictions,axis=1)\n",
        "predictions_classes"
      ],
      "metadata": {
        "colab": {
          "base_uri": "https://localhost:8080/"
        },
        "id": "ZwoEUVpCCeF8",
        "outputId": "fdf48a0a-92ff-428c-c432-fa3c4856ecc2"
      },
      "execution_count": null,
      "outputs": [
        {
          "output_type": "stream",
          "name": "stdout",
          "text": [
            "2/2 [==============================] - 0s 9ms/step\n"
          ]
        },
        {
          "output_type": "execute_result",
          "data": {
            "text/plain": [
              "array([11, 41, 12, 27, 26, 42, 45, 22, 22, 32, 11, 41,  2, 20, 10, 44, 33,\n",
              "       28,  1, 22, 30, 14, 46, 15, 14, 24, 21, 12, 12, 47, 15,  0, 38, 10,\n",
              "        9, 35, 10,  5, 11, 30, 13, 21, 33, 15,  1, 49,  8, 46, 29, 20, 38,\n",
              "       29,  8, 11,  3, 19, 37,  2, 44, 28, 19])"
            ]
          },
          "metadata": {},
          "execution_count": 178
        }
      ]
    },
    {
      "cell_type": "code",
      "source": [
        "print(classification_report(val_label_seq, predictions_classes))"
      ],
      "metadata": {
        "colab": {
          "base_uri": "https://localhost:8080/"
        },
        "id": "yw53qBlPB4Cq",
        "outputId": "7088e07f-eba3-475d-e697-2549d7415a12"
      },
      "execution_count": null,
      "outputs": [
        {
          "output_type": "stream",
          "name": "stdout",
          "text": [
            "              precision    recall  f1-score   support\n",
            "\n",
            "           0       1.00      0.50      0.67         2\n",
            "           1       1.00      1.00      1.00         2\n",
            "           2       1.00      1.00      1.00         2\n",
            "           3       1.00      1.00      1.00         1\n",
            "           5       1.00      1.00      1.00         1\n",
            "           8       1.00      1.00      1.00         2\n",
            "           9       1.00      1.00      1.00         1\n",
            "          10       1.00      1.00      1.00         3\n",
            "          11       1.00      1.00      1.00         4\n",
            "          12       1.00      1.00      1.00         3\n",
            "          13       1.00      1.00      1.00         1\n",
            "          14       1.00      1.00      1.00         2\n",
            "          15       1.00      1.00      1.00         3\n",
            "          18       0.00      0.00      0.00         1\n",
            "          19       1.00      1.00      1.00         2\n",
            "          20       0.50      1.00      0.67         1\n",
            "          21       1.00      1.00      1.00         2\n",
            "          22       1.00      1.00      1.00         3\n",
            "          24       1.00      1.00      1.00         1\n",
            "          26       1.00      1.00      1.00         1\n",
            "          27       1.00      1.00      1.00         1\n",
            "          28       1.00      1.00      1.00         2\n",
            "          29       1.00      1.00      1.00         2\n",
            "          30       1.00      1.00      1.00         2\n",
            "          32       1.00      0.50      0.67         2\n",
            "          33       0.50      1.00      0.67         1\n",
            "          35       1.00      1.00      1.00         1\n",
            "          37       1.00      1.00      1.00         1\n",
            "          38       0.50      1.00      0.67         1\n",
            "          41       1.00      1.00      1.00         2\n",
            "          42       1.00      1.00      1.00         1\n",
            "          44       1.00      1.00      1.00         2\n",
            "          45       1.00      1.00      1.00         1\n",
            "          46       1.00      1.00      1.00         2\n",
            "          47       1.00      1.00      1.00         1\n",
            "          49       1.00      1.00      1.00         1\n",
            "\n",
            "    accuracy                           0.95        61\n",
            "   macro avg       0.93      0.94      0.93        61\n",
            "weighted avg       0.96      0.95      0.95        61\n",
            "\n"
          ]
        },
        {
          "output_type": "stream",
          "name": "stderr",
          "text": [
            "/usr/local/lib/python3.8/dist-packages/sklearn/metrics/_classification.py:1318: UndefinedMetricWarning: Precision and F-score are ill-defined and being set to 0.0 in labels with no predicted samples. Use `zero_division` parameter to control this behavior.\n",
            "  _warn_prf(average, modifier, msg_start, len(result))\n",
            "/usr/local/lib/python3.8/dist-packages/sklearn/metrics/_classification.py:1318: UndefinedMetricWarning: Precision and F-score are ill-defined and being set to 0.0 in labels with no predicted samples. Use `zero_division` parameter to control this behavior.\n",
            "  _warn_prf(average, modifier, msg_start, len(result))\n",
            "/usr/local/lib/python3.8/dist-packages/sklearn/metrics/_classification.py:1318: UndefinedMetricWarning: Precision and F-score are ill-defined and being set to 0.0 in labels with no predicted samples. Use `zero_division` parameter to control this behavior.\n",
            "  _warn_prf(average, modifier, msg_start, len(result))\n"
          ]
        }
      ]
    },
    {
      "cell_type": "markdown",
      "source": [
        "# **Predicting Some Sentences**"
      ],
      "metadata": {
        "id": "_rnqvsaEAscU"
      }
    },
    {
      "cell_type": "code",
      "source": [
        "def predict_model(sentence):\n",
        "  sentence_seq_pad = seq_and_pad(sentence, tokenizer, PADDING, MAXLEN)\n",
        "  prediction = model.predict(sentence_seq_pad)\n",
        "  percentage = {}\n",
        "  for i in range(len(prediction[0])):\n",
        "    percentage[uniqueLabels[i]] = prediction[0][i] \n",
        "  \n",
        "  percentage = sorted(percentage.items(), key = lambda kv:(kv[1], kv[0]), reverse=True)\n",
        "\n",
        "  print(f\"sentence: {sentence[0]} \\n\")\n",
        "  print(f\"sentence yang telah di olah: \\n{sentence_seq_pad}\\n\")\n",
        "  #print(f\"Prediksi model: \\n {prediction[0]}\\n\")\n",
        "  print(f\"5 Prediksi Teratas: \\n {percentage[:5]}\\n\")\n",
        "  print(f\"Prediksi Label: {uniqueLabels[np.argmax(prediction[0])]} \\n \\n \\n\")"
      ],
      "metadata": {
        "id": "fEzqkUcMh6US"
      },
      "execution_count": null,
      "outputs": []
    },
    {
      "cell_type": "code",
      "source": [
        "predict_model(['transaction did not success'])\n",
        "predict_model(['my account is locked'])\n",
        "predict_model(['idk how to book a hotel'])\n",
        "predict_model(['want to cancel train booking'])\n",
        "predict_model(['book a train using e-ticket'])\n",
        "predict_model(['what do you know?'])\n",
        "predict_model(['I wanna add phone number'])\n",
        "predict_model(['I want get coupon from traveloka'])"
      ],
      "metadata": {
        "colab": {
          "base_uri": "https://localhost:8080/"
        },
        "id": "u94uN8jAh81z",
        "outputId": "206ff3eb-0876-427e-acec-58b6c9fbb931"
      },
      "execution_count": null,
      "outputs": [
        {
          "output_type": "stream",
          "name": "stdout",
          "text": [
            "1/1 [==============================] - 0s 22ms/step\n",
            "sentence: transaction did not success \n",
            "\n",
            "sentence yang telah di olah: \n",
            "[[48  1  1  1  0  0  0  0  0  0  0  0  0  0  0]]\n",
            "\n",
            "5 Prediksi Teratas: \n",
            " [('wrongTransferTraveloka', 0.18871388), ('opsi', 0.14030842), ('paymentSupportedTravelokaPay', 0.12818703), ('TrainETicket', 0.046058554), ('unsuccessfulTransaction', 0.04513929)]\n",
            "\n",
            "Prediksi Label: wrongTransferTraveloka \n",
            " \n",
            " \n",
            "\n",
            "1/1 [==============================] - 0s 22ms/step\n",
            "sentence: my account is locked \n",
            "\n",
            "sentence yang telah di olah: \n",
            "[[ 67  16  44 131   0   0   0   0   0   0   0   0   0   0   0]]\n",
            "\n",
            "5 Prediksi Teratas: \n",
            " [('unlockAccount', 0.8493431), ('mergeAccounts', 0.040861107), ('deactivateAccount', 0.031897034), ('refundRequestInInstallments', 0.015756892), ('paymentSupportedTravelokaPay', 0.014899393)]\n",
            "\n",
            "Prediksi Label: unlockAccount \n",
            " \n",
            " \n",
            "\n",
            "1/1 [==============================] - 0s 23ms/step\n",
            "sentence: idk how to book a hotel \n",
            "\n",
            "sentence yang telah di olah: \n",
            "[[ 1  2  1 14  1  5  0  0  0  0  0  0  0  0  0]]\n",
            "\n",
            "5 Prediksi Teratas: \n",
            " [('BookFlightHotel', 0.4454709), ('bookAHotel', 0.38997808), ('BookingVillaAndApartment', 0.050238494), ('cannotCheckInHotel', 0.050150547), ('opsi', 0.039628014)]\n",
            "\n",
            "Prediksi Label: BookFlightHotel \n",
            " \n",
            " \n",
            "\n",
            "1/1 [==============================] - 0s 21ms/step\n",
            "sentence: want to cancel train booking \n",
            "\n",
            "sentence yang telah di olah: \n",
            "[[ 6  1 25 18  4  0  0  0  0  0  0  0  0  0  0]]\n",
            "\n",
            "5 Prediksi Teratas: \n",
            " [('RescheduleRerouteTrainBooking', 0.43397668), ('cancelAndGetRefundHotel', 0.26511908), ('CancelAndGetRefundTrainBooking', 0.16716667), ('TrainETicket', 0.0743003), ('payBooking', 0.02599256)]\n",
            "\n",
            "Prediksi Label: RescheduleRerouteTrainBooking \n",
            " \n",
            " \n",
            "\n",
            "1/1 [==============================] - 0s 20ms/step\n",
            "sentence: book a train using e-ticket \n",
            "\n",
            "sentence yang telah di olah: \n",
            "[[ 14   1  18 165 164  17   0   0   0   0   0   0   0   0   0]]\n",
            "\n",
            "5 Prediksi Teratas: \n",
            " [('TrainETicket', 0.6845559), ('RescheduleRerouteTrainBooking', 0.11553132), ('CancelAndGetRefundTrainBooking', 0.105044015), ('confirmingTrainBooking', 0.044558626), ('PaySelectSeat', 0.006231891)]\n",
            "\n",
            "Prediksi Label: TrainETicket \n",
            " \n",
            " \n",
            "\n",
            "1/1 [==============================] - 0s 25ms/step\n",
            "sentence: what do you know? \n",
            "\n",
            "sentence yang telah di olah: \n",
            "[[  9 114   1  23   0   0   0   0   0   0   0   0   0   0   0]]\n",
            "\n",
            "5 Prediksi Teratas: \n",
            " [('opsi', 0.47233936), ('wrongTransferTraveloka', 0.20638964), ('paymentSupportedTravelokaPay', 0.0661612), ('BookFlightHotel', 0.05602928), ('travelokaCoupon', 0.044322226)]\n",
            "\n",
            "Prediksi Label: opsi \n",
            " \n",
            " \n",
            "\n",
            "1/1 [==============================] - 0s 19ms/step\n",
            "sentence: I wanna add phone number \n",
            "\n",
            "sentence yang telah di olah: \n",
            "[[  3 112  43   1 101   0   0   0   0   0   0   0   0   0   0]]\n",
            "\n",
            "5 Prediksi Teratas: \n",
            " [('addEmailHp', 0.827285), ('payInstallments', 0.03925762), ('paymentSupportedTravelokaPay', 0.02194627), ('registerAccessTravelokaPay', 0.019478928), ('cantDownloadTraveloka', 0.01804493)]\n",
            "\n",
            "Prediksi Label: addEmailHp \n",
            " \n",
            " \n",
            "\n",
            "1/1 [==============================] - 0s 20ms/step\n",
            "sentence: I want get coupon from traveloka \n",
            "\n",
            "sentence yang telah di olah: \n",
            "[[ 3  6 22 31  1 10  0  0  0  0  0  0  0  0  0]]\n",
            "\n",
            "5 Prediksi Teratas: \n",
            " [('howToObtainTravelokaCoupon', 0.6032023), ('travelokaCoupon', 0.13921304), ('paymentSupportedTravelokaPay', 0.06768796), ('wrongTransferTraveloka', 0.035488546), ('redeemEatsVoucher', 0.034202494)]\n",
            "\n",
            "Prediksi Label: howToObtainTravelokaCoupon \n",
            " \n",
            " \n",
            "\n"
          ]
        }
      ]
    },
    {
      "cell_type": "code",
      "source": [
        "def plot_graphs(history, metric):\n",
        "    plt.plot(history.history[metric])\n",
        "    plt.plot(history.history[f'val_{metric}'])\n",
        "    plt.xlabel(\"Epochs\")\n",
        "    plt.ylabel(metric)\n",
        "    plt.legend([metric, f'val_{metric}'])\n",
        "    plt.show()\n",
        "    \n",
        "plot_graphs(history, \"accuracy\")\n",
        "plot_graphs(history, \"loss\")"
      ],
      "metadata": {
        "colab": {
          "base_uri": "https://localhost:8080/",
          "height": 541
        },
        "id": "WsrE0EF_h-IH",
        "outputId": "c5ef2dbb-11b4-42a4-80fe-8960ed9fa412"
      },
      "execution_count": null,
      "outputs": [
        {
          "output_type": "display_data",
          "data": {
            "text/plain": [
              "<Figure size 432x288 with 1 Axes>"
            ],
            "image/png": "[encoded data removed]"
          },
          "metadata": {
            "needs_background": "light"
          }
        },
        {
          "output_type": "display_data",
          "data": {
            "text/plain": [
              "<Figure size 432x288 with 1 Axes>"
            ],
            "image/png": "[encoded data removed]"
          },
          "metadata": {
            "needs_background": "light"
          }
        }
      ]
    },
    {
      "cell_type": "markdown",
      "source": [
        "# **Saving the Tokenizer and the Model**"
      ],
      "metadata": {
        "id": "Ze6cR9fHAwRG"
      }
    },
    {
      "cell_type": "code",
      "source": [
        "# Saving model and Tokenizer\n",
        "import pickle\n",
        "\n",
        "def saving_tokenizer_model(tokenizer, model):\n",
        "  # Saving Tokenizer\n",
        "  with open('tokenizer.pickle', 'wb') as handle:\n",
        "      pickle.dump(tokenizer, handle, protocol=pickle.HIGHEST_PROTOCOL)\n",
        "\n",
        "  # Saving Model\n",
        "  keras_model_path = './chatbot-model.h5'\n",
        "  model.save(keras_model_path)\n",
        "\n",
        "  "
      ],
      "metadata": {
        "id": "ohTbznm5mFSc"
      },
      "execution_count": null,
      "outputs": []
    },
    {
      "cell_type": "code",
      "source": [
        "saving_tokenizer_model(tokenizer, model)"
      ],
      "metadata": {
        "id": "Ulqef7w4my4I"
      },
      "execution_count": null,
      "outputs": []
    },
    {
      "cell_type": "markdown",
      "source": [
        "# **Loading the Tokenizer and the Model**"
      ],
      "metadata": {
        "id": "dcXHQxPjA1mn"
      }
    },
    {
      "cell_type": "code",
      "source": [
        "# Loading Tokenizer and Model\n",
        "def load_tokenizer_model(tokenizer_file, model_file):\n",
        "  # loading tokenizer\n",
        "  with open(tokenizer_file, 'rb') as handle:\n",
        "      tokenizer = pickle.load(handle)\n",
        "\n",
        "  model = keras.models.load_model(model_file)\n",
        "\n",
        "  return tokenizer, model"
      ],
      "metadata": {
        "id": "nf-1u4dIm9w4"
      },
      "execution_count": null,
      "outputs": []
    },
    {
      "cell_type": "code",
      "source": [
        "tokenizer_load, model_load = load_tokenizer_model('tokenizer.pickle','chatbot-model.h5')"
      ],
      "metadata": {
        "id": "luRIXkjCosQh"
      },
      "execution_count": null,
      "outputs": []
    },
    {
      "cell_type": "markdown",
      "source": [
        "# **Predicting Sentences using The Load Model**"
      ],
      "metadata": {
        "id": "zyqiYfXJA8GA"
      }
    },
    {
      "cell_type": "code",
      "source": [
        "def predict_model_load(sentence, model,tokenizer, PADDING, MAXLEN):\n",
        "  sentence_seq_pad = seq_and_pad(sentence, tokenizer, PADDING, MAXLEN)\n",
        "  prediction = model.predict(sentence_seq_pad)\n",
        "  labels = uniqueLabels\n",
        "  percentage = {}\n",
        "  for i in range(len(prediction[0])):\n",
        "    percentage[labels[i]] = prediction[0][i] \n",
        "  \n",
        "  percentage = sorted(percentage.items(), key = lambda kv:(kv[1], kv[0]), reverse=True)\n",
        "\n",
        "  print(f\"sentence: {sentence[0]} \\n\")\n",
        "  print(f\"sentence yang telah di olah: \\n{sentence_seq_pad}\\n\")\n",
        "  #print(f\"Prediksi model: \\n {prediction[0]}\\n\")\n",
        "  print(f\"5 Prediksi Teratas: \\n {percentage[:5]}\\n\")\n",
        "  print(f\"Prediksi Label: {labels[np.argmax(prediction[0])]} \\n \\n \\n\")"
      ],
      "metadata": {
        "id": "2DlgX5lB97m7"
      },
      "execution_count": null,
      "outputs": []
    },
    {
      "cell_type": "code",
      "source": [
        "# Coba Menggunakan tokenizer load dan model load\n",
        "predict_model_load(['I want to deactivate my account'], model_load, tokenizer_load, 'post', 15)"
      ],
      "metadata": {
        "colab": {
          "base_uri": "https://localhost:8080/"
        },
        "id": "ZvhC8kFNpORO",
        "outputId": "490673b7-0047-469c-95aa-98f036ddd1a7"
      },
      "execution_count": null,
      "outputs": [
        {
          "output_type": "stream",
          "name": "stdout",
          "text": [
            "1/1 [==============================] - 0s 22ms/step\n",
            "sentence: I want to deactivate my account \n",
            "\n",
            "sentence yang telah di olah: \n",
            "[[ 3  6  1 65 67 16  0  0  0  0  0  0  0  0  0]]\n",
            "\n",
            "5 Prediksi Teratas: \n",
            " [('deactivateAccount', 0.5696074), ('unlockAccount', 0.3732964), ('payBookingIndoAlfa', 0.017691499), ('registerAccessTravelokaPay', 0.012142715), ('RescheduleRerouteTrainBooking', 0.004046761)]\n",
            "\n",
            "Prediksi Label: deactivateAccount \n",
            " \n",
            " \n",
            "\n"
          ]
        }
      ]
    }
  ]
}